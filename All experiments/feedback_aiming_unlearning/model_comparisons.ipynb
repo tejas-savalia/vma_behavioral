{
 "cells": [
  {
   "cell_type": "code",
   "execution_count": 5,
   "metadata": {},
   "outputs": [],
   "source": [
    "import numpy as np\n",
    "import pandas as pd\n",
    "# import matplotlib.pyplot as plt\n",
    "# import seaborn as sns\n",
    "import scipy.stats as stat"
   ]
  },
  {
   "cell_type": "code",
   "execution_count": 6,
   "metadata": {},
   "outputs": [],
   "source": [
    "single_fits = pd.read_csv('model_results/single_fit_initerror_results.csv').drop('Unnamed: 0', axis = 1).reset_index().drop('index', axis = 1)\n",
    "dual_fits = pd.read_csv('model_results/dual_fit_initerror_results.csv').drop('Unnamed: 0', axis = 1).reset_index().drop('index', axis = 1)\n"
   ]
  },
  {
   "cell_type": "code",
   "execution_count": 7,
   "metadata": {},
   "outputs": [],
   "source": [
    "single_fits['AIC'] = 2*single_fits['gof'] + 2*2\n",
    "dual_fits['AIC'] = 2*dual_fits['gof'] + 2*4\n",
    "\n",
    "single_fits['BIC'] = 2*single_fits['gof'] + np.log(64*7)*2\n",
    "dual_fits['BIC'] = 2*dual_fits['gof'] + np.log(64*7)*4\n"
   ]
  },
  {
   "cell_type": "code",
   "execution_count": 8,
   "metadata": {},
   "outputs": [],
   "source": [
    "single_fits.loc[single_fits['p_id']%2 == 0, 'Rotation'] = 'Sudden'\n",
    "single_fits.loc[single_fits['p_id']%2 == 1, 'Rotation'] = 'Gradual'\n",
    "\n",
    "single_fits.loc[single_fits['p_id']%4 == 0, 'Emphasis'] = 'Accuracy'\n",
    "single_fits.loc[single_fits['p_id']%4 == 1, 'Emphasis'] = 'Accuracy'\n",
    "single_fits.loc[single_fits['p_id']%4 == 2, 'Emphasis'] = 'Speed'\n",
    "single_fits.loc[single_fits['p_id']%4 == 3, 'Emphasis'] = 'Speed'\n",
    "\n",
    "\n",
    "dual_fits.loc[dual_fits['p_id']%2 == 0, 'Rotation'] = 'Sudden'\n",
    "dual_fits.loc[dual_fits['p_id']%2 == 1, 'Rotation'] = 'Gradual'\n",
    "\n",
    "dual_fits.loc[dual_fits['p_id']%4 == 0, 'Emphasis'] = 'Accuracy'\n",
    "dual_fits.loc[dual_fits['p_id']%4 == 1, 'Emphasis'] = 'Accuracy'\n",
    "dual_fits.loc[dual_fits['p_id']%4 == 2, 'Emphasis'] = 'Speed'\n",
    "dual_fits.loc[dual_fits['p_id']%4 == 3, 'Emphasis'] = 'Speed'\n",
    "\n",
    "\n",
    "single_fits['Condition'] = single_fits['Rotation'] + ' ' + single_fits['Emphasis']"
   ]
  },
  {
   "cell_type": "code",
   "execution_count": 9,
   "metadata": {},
   "outputs": [
    {
     "data": {
      "text/plain": [
       "Gradual Accuracy    16\n",
       "Sudden Speed        16\n",
       "Gradual Speed       15\n",
       "Sudden Accuracy     15\n",
       "Name: Condition, dtype: int64"
      ]
     },
     "execution_count": 9,
     "metadata": {},
     "output_type": "execute_result"
    }
   ],
   "source": [
    "single_fits['Condition'].value_counts()"
   ]
  },
  {
   "cell_type": "code",
   "execution_count": 10,
   "metadata": {},
   "outputs": [
    {
     "data": {
      "text/plain": [
       "Sudden Speed        11\n",
       "Sudden Accuracy     11\n",
       "Gradual Accuracy     5\n",
       "Name: Condition, dtype: int64"
      ]
     },
     "execution_count": 10,
     "metadata": {},
     "output_type": "execute_result"
    }
   ],
   "source": [
    "single_fits.loc[single_fits['AIC'] > dual_fits['AIC'], 'Condition'].value_counts()"
   ]
  },
  {
   "cell_type": "code",
   "execution_count": 21,
   "metadata": {},
   "outputs": [
    {
     "data": {
      "text/plain": [
       "Power_divergenceResult(statistic=9.787878787878787, pvalue=0.020458032341203716)"
      ]
     },
     "execution_count": 21,
     "metadata": {},
     "output_type": "execute_result"
    }
   ],
   "source": [
    "stat.chisquare([13, 12, 6, 2])"
   ]
  },
  {
   "cell_type": "code",
   "execution_count": 12,
   "metadata": {},
   "outputs": [
    {
     "data": {
      "text/plain": [
       "Sudden Speed        11\n",
       "Sudden Accuracy      9\n",
       "Gradual Accuracy     4\n",
       "Name: Condition, dtype: int64"
      ]
     },
     "execution_count": 12,
     "metadata": {},
     "output_type": "execute_result"
    }
   ],
   "source": [
    "single_fits.loc[single_fits['BIC'] >= dual_fits['BIC'], 'Condition'].value_counts()"
   ]
  },
  {
   "cell_type": "code",
   "execution_count": 29,
   "metadata": {},
   "outputs": [
    {
     "data": {
      "text/plain": [
       "array([ 7.05028997e+00,  3.29691829e-12,  1.84763486e-05,  1.28941246e+00,\n",
       "        8.06092387e+00,  5.89306412e+01,  7.65876662e-05,  3.04190879e+01,\n",
       "        4.40607536e-04,  2.02116999e+01,  8.92028543e-05, -6.38451513e-02,\n",
       "        2.27121107e-01,  1.24971326e+01,  8.88174625e-05,  2.98886045e+00,\n",
       "        4.32489380e-04,  1.28919862e+01,  4.72031246e-04,  9.25945472e+00,\n",
       "       -9.25044333e-01,  1.75006079e+01,  0.00000000e+00,  4.09945645e+01,\n",
       "        3.70012270e-04,  4.70459476e+01,  1.38077634e-04,  3.00188270e+01,\n",
       "        8.13302232e-05,  3.37084942e+01,  1.18046909e-04,  5.50027507e+00,\n",
       "        1.09199520e-01,  4.69790596e+01, -1.45626205e-05,  7.71237199e-04,\n",
       "        3.26501564e+00,  5.19199923e+01, -1.17591009e+00,  5.70027234e+01,\n",
       "        2.51034605e-04,  1.78372954e+01,  7.16470848e-04,  5.84798143e+01,\n",
       "       -1.17700076e-01,  4.09889107e-01,  8.96533550e-05,  2.52237520e+01,\n",
       "        3.61272481e-04,  4.46848641e+01,  3.35211705e-05,  5.33090141e+01,\n",
       "        1.19815143e+01,  0.00000000e+00, -1.39540930e+00,  1.37559182e+00,\n",
       "        9.84509922e+00,  9.94163446e-01, -1.10389194e+00,  4.22405512e+01,\n",
       "       -6.06770738e-01,  5.43423084e-11])"
      ]
     },
     "execution_count": 29,
     "metadata": {},
     "output_type": "execute_result"
    }
   ],
   "source": [
    "single_fits['gof'].values - dual_fits['gof'].values"
   ]
  },
  {
   "cell_type": "code",
   "execution_count": 41,
   "metadata": {},
   "outputs": [],
   "source": [
    "single_fits['LR_ratio'] = 2* (single_fits['gof'].values - dual_fits['gof'].values)"
   ]
  },
  {
   "cell_type": "code",
   "execution_count": 42,
   "metadata": {},
   "outputs": [],
   "source": [
    "single_fits['chi2'] = stat.chi2.sf(single_fits['LR_ratio'], 2)"
   ]
  },
  {
   "cell_type": "code",
   "execution_count": 43,
   "metadata": {},
   "outputs": [
    {
     "data": {
      "text/plain": [
       "Sudden Speed        11\n",
       "Sudden Accuracy     10\n",
       "Gradual Accuracy     5\n",
       "Name: Condition, dtype: int64"
      ]
     },
     "execution_count": 43,
     "metadata": {},
     "output_type": "execute_result"
    }
   ],
   "source": [
    "single_fits.loc[single_fits['chi2'] < 0.05, 'Condition'].value_counts()"
   ]
  },
  {
   "cell_type": "code",
   "execution_count": 13,
   "metadata": {},
   "outputs": [
    {
     "data": {
      "text/plain": [
       "0.6"
      ]
     },
     "execution_count": 13,
     "metadata": {},
     "output_type": "execute_result"
    }
   ],
   "source": [
    "9/15"
   ]
  },
  {
   "attachments": {},
   "cell_type": "markdown",
   "metadata": {},
   "source": [
    "# Cross Validation Comparisons"
   ]
  },
  {
   "cell_type": "code",
   "execution_count": 55,
   "metadata": {},
   "outputs": [],
   "source": [
    "single_fits = pd.read_csv('model_results/single_fit_initerror_results_cv.csv')\n",
    "dual_fits = pd.read_csv('model_results/dual_fit_initerror_results_cv.csv')\n",
    "\n",
    "single_fits.loc[single_fits['p_id']%2 == 0, 'Rotation'] = 'Sudden'\n",
    "single_fits.loc[single_fits['p_id']%2 == 1, 'Rotation'] = 'Gradual'\n",
    "\n",
    "single_fits.loc[single_fits['p_id']%4 == 0, 'Emphasis'] = 'Accuracy'\n",
    "single_fits.loc[single_fits['p_id']%4 == 1, 'Emphasis'] = 'Accuracy'\n",
    "single_fits.loc[single_fits['p_id']%4 == 2, 'Emphasis'] = 'Speed'\n",
    "single_fits.loc[single_fits['p_id']%4 == 3, 'Emphasis'] = 'Speed'\n",
    "\n",
    "\n",
    "dual_fits.loc[dual_fits['p_id']%2 == 0, 'Rotation'] = 'Sudden'\n",
    "dual_fits.loc[dual_fits['p_id']%2 == 1, 'Rotation'] = 'Gradual'\n",
    "\n",
    "dual_fits.loc[dual_fits['p_id']%4 == 0, 'Emphasis'] = 'Accuracy'\n",
    "dual_fits.loc[dual_fits['p_id']%4 == 1, 'Emphasis'] = 'Accuracy'\n",
    "dual_fits.loc[dual_fits['p_id']%4 == 2, 'Emphasis'] = 'Speed'\n",
    "dual_fits.loc[dual_fits['p_id']%4 == 3, 'Emphasis'] = 'Speed'\n",
    "\n",
    "\n",
    "single_fits['Condition'] = single_fits['Rotation'] + ' ' + single_fits['Emphasis']"
   ]
  },
  {
   "cell_type": "code",
   "execution_count": 56,
   "metadata": {},
   "outputs": [],
   "source": [
    "dual_fits['dual win'] = (single_fits['test gof'].values > dual_fits['test gof'].values).astype(int)"
   ]
  },
  {
   "cell_type": "code",
   "execution_count": 57,
   "metadata": {},
   "outputs": [],
   "source": [
    "def compute_wins(dual_fits):\n",
    "    # Drop column: 'Unnamed: 0'\n",
    "    # dual_fits = dual_fits.drop(columns=['Unnamed: 0'])\n",
    "    # Performed 1 aggregation grouped on columns: 'p_id', 'Rotation' and 2 other columns\n",
    "    dual_fits = dual_fits.groupby(['p_id', 'Rotation', 'Emphasis', 'dual win']).agg(dualwin_count=('dual win', 'count')).reset_index()\n",
    "    # Filter rows based on column: 'dual win'\n",
    "    dual_fits = dual_fits[dual_fits['dual win'] == 1]\n",
    "    return dual_fits\n",
    "\n",
    "dual_fits_wins = compute_wins(dual_fits.copy())\n",
    "dual_fits_wins['Condition'] = dual_fits_wins['Rotation'] + ' ' + dual_fits_wins['Emphasis']"
   ]
  },
  {
   "cell_type": "code",
   "execution_count": 60,
   "metadata": {},
   "outputs": [
    {
     "data": {
      "text/plain": [
       "Sudden Speed        13\n",
       "Sudden Accuracy     12\n",
       "Gradual Accuracy     6\n",
       "Gradual Speed        2\n",
       "Name: Condition, dtype: int64"
      ]
     },
     "execution_count": 60,
     "metadata": {},
     "output_type": "execute_result"
    }
   ],
   "source": [
    "dual_fits_wins.loc[dual_fits_wins['dualwin_count'] > 58, 'Condition'].value_counts()"
   ]
  },
  {
   "cell_type": "code",
   "execution_count": 63,
   "metadata": {},
   "outputs": [
    {
     "data": {
      "text/plain": [
       "0.13333333333333333"
      ]
     },
     "execution_count": 63,
     "metadata": {},
     "output_type": "execute_result"
    }
   ],
   "source": [
    "2/15"
   ]
  },
  {
   "cell_type": "code",
   "execution_count": 27,
   "metadata": {},
   "outputs": [
    {
     "data": {
      "text/plain": [
       "Gradual Accuracy    16\n",
       "Sudden Speed        16\n",
       "Gradual Speed       15\n",
       "Sudden Accuracy     15\n",
       "Name: Condition, dtype: int64"
      ]
     },
     "execution_count": 27,
     "metadata": {},
     "output_type": "execute_result"
    }
   ],
   "source": [
    "dual_fits_wins.Condition.value_counts()"
   ]
  },
  {
   "cell_type": "code",
   "execution_count": 17,
   "metadata": {},
   "outputs": [
    {
     "data": {
      "text/plain": [
       "0.13333333333333333"
      ]
     },
     "execution_count": 17,
     "metadata": {},
     "output_type": "execute_result"
    }
   ],
   "source": [
    "2/15"
   ]
  }
 ],
 "metadata": {
  "kernelspec": {
   "display_name": "vma",
   "language": "python",
   "name": "python3"
  },
  "language_info": {
   "codemirror_mode": {
    "name": "ipython",
    "version": 3
   },
   "file_extension": ".py",
   "mimetype": "text/x-python",
   "name": "python",
   "nbconvert_exporter": "python",
   "pygments_lexer": "ipython3",
   "version": "3.11.2"
  },
  "orig_nbformat": 4
 },
 "nbformat": 4,
 "nbformat_minor": 2
}
