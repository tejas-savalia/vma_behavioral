{
 "cells": [
  {
   "cell_type": "code",
   "execution_count": 5,
   "metadata": {},
   "outputs": [],
   "source": [
    "import numpy as np\n",
    "import pandas as pd\n",
    "import matplotlib.pyplot as plt\n",
    "# import seaborn as sns\n",
    "import scipy.stats as stat\n",
    "import statsmodels.stats.proportion as proportion"
   ]
  },
  {
   "cell_type": "code",
   "execution_count": 6,
   "metadata": {},
   "outputs": [],
   "source": [
    "def model_comp_pvals(N, frequencies):\n",
    "    pNull=np.sum(frequencies)/(np.sum(N))\n",
    "    pFull=frequencies/N\n",
    "    LikelyNull = np.prod(stat.binom.pmf(frequencies,N,pNull))\n",
    "    LikelyFull = np.prod(stat.binom.pmf(frequencies,N,pFull))\n",
    "\n",
    "    chi_sq = -2 * np.log(LikelyNull/LikelyFull)\n",
    "#     print(chi_sq)\n",
    "    return chi_sq, 1-stat.chi2.cdf(chi_sq, 3, )   #% goodness of fit for Full vs Null (whehter there are differences between conditions)\n",
    "\n",
    "#     pEffect=[.75 .75 .75 .25];  #% power to detect three dual state and one single state (87% power with N=15)\n"
   ]
  },
  {
   "cell_type": "code",
   "execution_count": 7,
   "metadata": {},
   "outputs": [],
   "source": [
    "single_fits = pd.read_csv('model_results/single_fit_avgerror_results.csv').drop('Unnamed: 0', axis = 1).reset_index().drop('index', axis = 1)\n",
    "dual_fits = pd.read_csv('model_results/dual_fit_avgerror_results.csv').drop('Unnamed: 0', axis = 1).reset_index().drop('index', axis = 1)\n"
   ]
  },
  {
   "cell_type": "code",
   "execution_count": 8,
   "metadata": {},
   "outputs": [
    {
     "data": {
      "text/html": [
       "<div>\n",
       "<style scoped>\n",
       "    .dataframe tbody tr th:only-of-type {\n",
       "        vertical-align: middle;\n",
       "    }\n",
       "\n",
       "    .dataframe tbody tr th {\n",
       "        vertical-align: top;\n",
       "    }\n",
       "\n",
       "    .dataframe thead th {\n",
       "        text-align: right;\n",
       "    }\n",
       "</style>\n",
       "<table border=\"1\" class=\"dataframe\">\n",
       "  <thead>\n",
       "    <tr style=\"text-align: right;\">\n",
       "      <th></th>\n",
       "      <th>p_id</th>\n",
       "      <th>gof</th>\n",
       "      <th>As</th>\n",
       "      <th>Bs</th>\n",
       "      <th>Af</th>\n",
       "      <th>Bf</th>\n",
       "      <th>Eps</th>\n",
       "    </tr>\n",
       "  </thead>\n",
       "  <tbody>\n",
       "    <tr>\n",
       "      <th>20</th>\n",
       "      <td>661</td>\n",
       "      <td>79.444114</td>\n",
       "      <td>0.994821</td>\n",
       "      <td>0.038655</td>\n",
       "      <td>0.0</td>\n",
       "      <td>0.226142</td>\n",
       "      <td>0.273948</td>\n",
       "    </tr>\n",
       "  </tbody>\n",
       "</table>\n",
       "</div>"
      ],
      "text/plain": [
       "    p_id        gof        As        Bs   Af        Bf       Eps\n",
       "20   661  79.444114  0.994821  0.038655  0.0  0.226142  0.273948"
      ]
     },
     "execution_count": 8,
     "metadata": {},
     "output_type": "execute_result"
    }
   ],
   "source": [
    "pid = 661\n",
    "dual_fits.loc[dual_fits['p_id'] == pid] \n",
    "# single_fits.loc[single_fits['p_id'] == pid]\n"
   ]
  },
  {
   "cell_type": "code",
   "execution_count": 19,
   "metadata": {},
   "outputs": [],
   "source": [
    "single_fits['AIC'] = 2*single_fits['gof']*640 + 2*2\n",
    "dual_fits['AIC'] = 2*dual_fits['gof']*640 + 2*4\n",
    "\n",
    "single_fits['BIC'] = 2*single_fits['gof']*640 + np.log(64*7)*2\n",
    "dual_fits['BIC'] = 2*dual_fits['gof']*640 + np.log(64*7)*4\n",
    "\n",
    "\n",
    "single_fits['AIC'] = 2*single_fits['gof'] + 2*2\n",
    "dual_fits['AIC'] = 2*dual_fits['gof'] + 2*4\n",
    "\n",
    "single_fits['BIC'] = 2*single_fits['gof'] + np.log(64*7)*2\n",
    "dual_fits['BIC'] = 2*dual_fits['gof'] + np.log(64*7)*4"
   ]
  },
  {
   "cell_type": "code",
   "execution_count": 10,
   "metadata": {},
   "outputs": [],
   "source": [
    "single_fits.loc[single_fits['p_id']%2 == 0, 'Rotation'] = 'Sudden'\n",
    "single_fits.loc[single_fits['p_id']%2 == 1, 'Rotation'] = 'Gradual'\n",
    "\n",
    "single_fits.loc[single_fits['p_id']%4 == 0, 'Emphasis'] = 'Accuracy'\n",
    "single_fits.loc[single_fits['p_id']%4 == 1, 'Emphasis'] = 'Accuracy'\n",
    "single_fits.loc[single_fits['p_id']%4 == 2, 'Emphasis'] = 'Speed'\n",
    "single_fits.loc[single_fits['p_id']%4 == 3, 'Emphasis'] = 'Speed'\n",
    "\n",
    "\n",
    "dual_fits.loc[dual_fits['p_id']%2 == 0, 'Rotation'] = 'Sudden'\n",
    "dual_fits.loc[dual_fits['p_id']%2 == 1, 'Rotation'] = 'Gradual'\n",
    "\n",
    "dual_fits.loc[dual_fits['p_id']%4 == 0, 'Emphasis'] = 'Accuracy'\n",
    "dual_fits.loc[dual_fits['p_id']%4 == 1, 'Emphasis'] = 'Accuracy'\n",
    "dual_fits.loc[dual_fits['p_id']%4 == 2, 'Emphasis'] = 'Speed'\n",
    "dual_fits.loc[dual_fits['p_id']%4 == 3, 'Emphasis'] = 'Speed'\n",
    "\n",
    "\n",
    "single_fits['Condition'] = single_fits['Rotation'] + ' ' + single_fits['Emphasis']"
   ]
  },
  {
   "cell_type": "code",
   "execution_count": 11,
   "metadata": {},
   "outputs": [
    {
     "data": {
      "text/plain": [
       "Gradual Accuracy    16\n",
       "Sudden Speed        16\n",
       "Gradual Speed       15\n",
       "Sudden Accuracy     15\n",
       "Name: Condition, dtype: int64"
      ]
     },
     "execution_count": 11,
     "metadata": {},
     "output_type": "execute_result"
    }
   ],
   "source": [
    "single_fits['Condition'].value_counts()"
   ]
  },
  {
   "cell_type": "code",
   "execution_count": 17,
   "metadata": {},
   "outputs": [
    {
     "data": {
      "text/plain": [
       "Gradual Accuracy    13\n",
       "Sudden Accuracy     12\n",
       "Sudden Speed         9\n",
       "Gradual Speed        1\n",
       "Name: Condition, dtype: int64"
      ]
     },
     "execution_count": 17,
     "metadata": {},
     "output_type": "execute_result"
    }
   ],
   "source": [
    "single_fits.loc[single_fits['AIC'] > dual_fits['AIC'], 'Condition'].value_counts()"
   ]
  },
  {
   "cell_type": "code",
   "execution_count": 14,
   "metadata": {},
   "outputs": [
    {
     "data": {
      "text/plain": [
       "(25.182598448602874, 1.4140924660344112e-05)"
      ]
     },
     "execution_count": 14,
     "metadata": {},
     "output_type": "execute_result"
    }
   ],
   "source": [
    "model_comp_pvals(np.array([16, 16, 15, 15]), np.array([13, 9, 12, 1]))"
   ]
  },
  {
   "cell_type": "code",
   "execution_count": 20,
   "metadata": {},
   "outputs": [
    {
     "data": {
      "text/plain": [
       "Sudden Accuracy     12\n",
       "Gradual Accuracy    10\n",
       "Sudden Speed         9\n",
       "Gradual Speed        1\n",
       "Name: Condition, dtype: int64"
      ]
     },
     "execution_count": 20,
     "metadata": {},
     "output_type": "execute_result"
    }
   ],
   "source": [
    "single_fits.loc[single_fits['BIC'] > dual_fits['BIC'], 'Condition'].value_counts()"
   ]
  },
  {
   "cell_type": "code",
   "execution_count": 21,
   "metadata": {},
   "outputs": [
    {
     "data": {
      "text/plain": [
       "(23.390386918256635, 3.348124725410795e-05)"
      ]
     },
     "execution_count": 21,
     "metadata": {},
     "output_type": "execute_result"
    }
   ],
   "source": [
    "model_comp_pvals(np.array([16, 16, 15, 15]), np.array([10, 12, 12, 1]))"
   ]
  },
  {
   "cell_type": "code",
   "execution_count": 120,
   "metadata": {},
   "outputs": [
    {
     "data": {
      "text/plain": [
       "Gradual Speed       3\n",
       "Sudden Speed        3\n",
       "Gradual Accuracy    1\n",
       "Name: Condition, dtype: int64"
      ]
     },
     "execution_count": 120,
     "metadata": {},
     "output_type": "execute_result"
    }
   ],
   "source": [
    "single_fits.loc[(single_fits['gof'].values < dual_fits['gof'].values), 'Condition'].value_counts()\n"
   ]
  },
  {
   "cell_type": "code",
   "execution_count": 22,
   "metadata": {},
   "outputs": [
    {
     "data": {
      "text/plain": [
       "(array([ 4.,  2.,  0.,  0.,  0.,  0.,  0.,  0., 45., 11.]),\n",
       " array([-905.21897665, -792.77483662, -680.33069659, -567.88655657,\n",
       "        -455.44241654, -342.99827651, -230.55413649, -118.10999646,\n",
       "          -5.66585643,  106.77828359,  219.22242362]),\n",
       " <BarContainer object of 10 artists>)"
      ]
     },
     "execution_count": 22,
     "metadata": {},
     "output_type": "execute_result"
    },
    {
     "data": {
      "image/png": "[encoded data removed]",
      "text/plain": [
       "<Figure size 640x480 with 1 Axes>"
      ]
     },
     "metadata": {},
     "output_type": "display_data"
    }
   ],
   "source": [
    "plt.hist(single_fits['gof'].values - dual_fits['gof'].values)"
   ]
  },
  {
   "cell_type": "code",
   "execution_count": 24,
   "metadata": {},
   "outputs": [],
   "source": [
    "# single_fits['LR_ratio'] = 2* (single_fits['gof'].values - dual_fits['gof'].values)*640\n",
    "single_fits['LR_ratio'] = 2* (single_fits['gof'].values - dual_fits['gof'].values)*640"
   ]
  },
  {
   "cell_type": "code",
   "execution_count": 25,
   "metadata": {},
   "outputs": [],
   "source": [
    "single_fits['chi2'] = stat.chi2.sf(single_fits['LR_ratio'], 2)"
   ]
  },
  {
   "cell_type": "code",
   "execution_count": 26,
   "metadata": {},
   "outputs": [
    {
     "data": {
      "text/plain": [
       "Gradual Accuracy    14\n",
       "Sudden Accuracy     12\n",
       "Sudden Speed         9\n",
       "Gradual Speed        4\n",
       "Name: Condition, dtype: int64"
      ]
     },
     "execution_count": 26,
     "metadata": {},
     "output_type": "execute_result"
    }
   ],
   "source": [
    "single_fits.loc[single_fits['chi2'] < 0.05, 'Condition'].value_counts()"
   ]
  },
  {
   "cell_type": "code",
   "execution_count": 27,
   "metadata": {},
   "outputs": [
    {
     "data": {
      "text/plain": [
       "(22.833940450483855, 4.373274502622593e-05)"
      ]
     },
     "execution_count": 27,
     "metadata": {},
     "output_type": "execute_result"
    }
   ],
   "source": [
    "model_comp_pvals(np.array([16, 16, 15, 15]), np.array([9, 14, 12, 2]))"
   ]
  },
  {
   "attachments": {},
   "cell_type": "markdown",
   "metadata": {},
   "source": [
    "# Cross Validation Comparisons"
   ]
  },
  {
   "cell_type": "code",
   "execution_count": 28,
   "metadata": {},
   "outputs": [],
   "source": [
    "single_fits = pd.read_csv('model_results/single_fit_avgerror_results_cv.csv')\n",
    "dual_fits = pd.read_csv('model_results/dual_fit_avgerror_results_cv.csv')\n",
    "\n",
    "single_fits.loc[single_fits['p_id']%2 == 0, 'Rotation'] = 'Sudden'\n",
    "single_fits.loc[single_fits['p_id']%2 == 1, 'Rotation'] = 'Gradual'\n",
    "\n",
    "single_fits.loc[single_fits['p_id']%4 == 0, 'Emphasis'] = 'Accuracy'\n",
    "single_fits.loc[single_fits['p_id']%4 == 1, 'Emphasis'] = 'Accuracy'\n",
    "single_fits.loc[single_fits['p_id']%4 == 2, 'Emphasis'] = 'Speed'\n",
    "single_fits.loc[single_fits['p_id']%4 == 3, 'Emphasis'] = 'Speed'\n",
    "\n",
    "\n",
    "dual_fits.loc[dual_fits['p_id']%2 == 0, 'Rotation'] = 'Sudden'\n",
    "dual_fits.loc[dual_fits['p_id']%2 == 1, 'Rotation'] = 'Gradual'\n",
    "\n",
    "dual_fits.loc[dual_fits['p_id']%4 == 0, 'Emphasis'] = 'Accuracy'\n",
    "dual_fits.loc[dual_fits['p_id']%4 == 1, 'Emphasis'] = 'Accuracy'\n",
    "dual_fits.loc[dual_fits['p_id']%4 == 2, 'Emphasis'] = 'Speed'\n",
    "dual_fits.loc[dual_fits['p_id']%4 == 3, 'Emphasis'] = 'Speed'\n",
    "\n",
    "\n",
    "single_fits['Condition'] = single_fits['Rotation'] + ' ' + single_fits['Emphasis']"
   ]
  },
  {
   "cell_type": "code",
   "execution_count": 29,
   "metadata": {},
   "outputs": [],
   "source": [
    "dual_fits['dual win'] = (single_fits['test gof'].values > dual_fits['test gof'].values).astype(int)"
   ]
  },
  {
   "cell_type": "code",
   "execution_count": 30,
   "metadata": {},
   "outputs": [],
   "source": [
    "def compute_wins(dual_fits):\n",
    "    # Drop column: 'Unnamed: 0'\n",
    "    # dual_fits = dual_fits.drop(columns=['Unnamed: 0'])\n",
    "    # Performed 1 aggregation grouped on columns: 'p_id', 'Rotation' and 2 other columns\n",
    "    dual_fits = dual_fits.groupby(['p_id', 'Rotation', 'Emphasis', 'dual win']).agg(dualwin_count=('dual win', 'count')).reset_index()\n",
    "    # Filter rows based on column: 'dual win'\n",
    "    dual_fits = dual_fits[dual_fits['dual win'] == 1]\n",
    "    return dual_fits\n",
    "\n",
    "dual_fits_wins = compute_wins(dual_fits.copy())\n",
    "dual_fits_wins['Condition'] = dual_fits_wins['Rotation'] + ' ' + dual_fits_wins['Emphasis']"
   ]
  },
  {
   "cell_type": "code",
   "execution_count": 31,
   "metadata": {},
   "outputs": [
    {
     "data": {
      "text/plain": [
       "Sudden Accuracy     10\n",
       "Sudden Speed         9\n",
       "Gradual Accuracy     4\n",
       "Name: Condition, dtype: int64"
      ]
     },
     "execution_count": 31,
     "metadata": {},
     "output_type": "execute_result"
    }
   ],
   "source": [
    "dual_fits_wins.loc[dual_fits_wins['dualwin_count'] > 57, 'Condition'].value_counts()"
   ]
  },
  {
   "cell_type": "code",
   "execution_count": 32,
   "metadata": {},
   "outputs": [
    {
     "data": {
      "text/plain": [
       "(21.276588018292927, 9.22304426396181e-05)"
      ]
     },
     "execution_count": 32,
     "metadata": {},
     "output_type": "execute_result"
    }
   ],
   "source": [
    "model_comp_pvals(np.array([16, 16, 15, 15]), np.array([9, 10, 4, 0]))"
   ]
  },
  {
   "cell_type": "code",
   "execution_count": 106,
   "metadata": {},
   "outputs": [
    {
     "data": {
      "text/plain": [
       "(array([  60., 3960., 1351.,  441.,  149.,   96.,   41.,   78.,   19.,\n",
       "           5.]),\n",
       " array([-0.0747763 , -0.01012634,  0.05452362,  0.11917358,  0.18382353,\n",
       "         0.24847349,  0.31312345,  0.37777341,  0.44242337,  0.50707332,\n",
       "         0.57172328]),\n",
       " <BarContainer object of 10 artists>)"
      ]
     },
     "execution_count": 106,
     "metadata": {},
     "output_type": "execute_result"
    },
    {
     "data": {
      "image/png": "[encoded data removed]",
      "text/plain": [
       "<Figure size 640x480 with 1 Axes>"
      ]
     },
     "metadata": {},
     "output_type": "display_data"
    }
   ],
   "source": [
    "plt.hist(single_fits['gof'].values - dual_fits['gof'].values)"
   ]
  },
  {
   "cell_type": "code",
   "execution_count": 322,
   "metadata": {},
   "outputs": [
    {
     "data": {
      "text/plain": [
       "(26.068430335097002,\n",
       " 9.227884240020834e-06,\n",
       " (array([[14.,  2.],\n",
       "         [ 6.,  9.],\n",
       "         [13.,  2.],\n",
       "         [ 2., 14.]]),\n",
       "  array([[9.03225806, 6.96774194],\n",
       "         [8.46774194, 6.53225806],\n",
       "         [8.46774194, 6.53225806],\n",
       "         [9.03225806, 6.96774194]])))"
      ]
     },
     "execution_count": 322,
     "metadata": {},
     "output_type": "execute_result"
    }
   ],
   "source": [
    "proportion.proportions_chisquare([14, 6, 13, 2], [16, 15, 15, 16])"
   ]
  },
  {
   "attachments": {},
   "cell_type": "markdown",
   "metadata": {},
   "source": [
    "2/15"
   ]
  },
  {
   "attachments": {},
   "cell_type": "markdown",
   "metadata": {},
   "source": [
    "# Assessing Model fits visually"
   ]
  },
  {
   "cell_type": "code",
   "execution_count": 245,
   "metadata": {},
   "outputs": [
    {
     "data": {
      "text/html": [
       "<div>\n",
       "<style scoped>\n",
       "    .dataframe tbody tr th:only-of-type {\n",
       "        vertical-align: middle;\n",
       "    }\n",
       "\n",
       "    .dataframe tbody tr th {\n",
       "        vertical-align: top;\n",
       "    }\n",
       "\n",
       "    .dataframe thead th {\n",
       "        text-align: right;\n",
       "    }\n",
       "</style>\n",
       "<table border=\"1\" class=\"dataframe\">\n",
       "  <thead>\n",
       "    <tr style=\"text-align: right;\">\n",
       "      <th></th>\n",
       "      <th>p_id</th>\n",
       "      <th>Rotation</th>\n",
       "      <th>Emphasis</th>\n",
       "      <th>phase</th>\n",
       "      <th>trial no</th>\n",
       "      <th>block no</th>\n",
       "      <th>avg errors</th>\n",
       "      <th>init errors</th>\n",
       "      <th>init signed errors</th>\n",
       "    </tr>\n",
       "  </thead>\n",
       "  <tbody>\n",
       "    <tr>\n",
       "      <th>0</th>\n",
       "      <td>641</td>\n",
       "      <td>Gradual</td>\n",
       "      <td>Accuracy</td>\n",
       "      <td>Learning</td>\n",
       "      <td>128</td>\n",
       "      <td>2</td>\n",
       "      <td>0.477032</td>\n",
       "      <td>0.321386</td>\n",
       "      <td>0.321386</td>\n",
       "    </tr>\n",
       "    <tr>\n",
       "      <th>1</th>\n",
       "      <td>641</td>\n",
       "      <td>Gradual</td>\n",
       "      <td>Accuracy</td>\n",
       "      <td>Learning</td>\n",
       "      <td>129</td>\n",
       "      <td>2</td>\n",
       "      <td>0.260190</td>\n",
       "      <td>0.263982</td>\n",
       "      <td>0.263982</td>\n",
       "    </tr>\n",
       "    <tr>\n",
       "      <th>2</th>\n",
       "      <td>641</td>\n",
       "      <td>Gradual</td>\n",
       "      <td>Accuracy</td>\n",
       "      <td>Learning</td>\n",
       "      <td>130</td>\n",
       "      <td>2</td>\n",
       "      <td>0.515701</td>\n",
       "      <td>2.879004</td>\n",
       "      <td>-2.879004</td>\n",
       "    </tr>\n",
       "    <tr>\n",
       "      <th>3</th>\n",
       "      <td>641</td>\n",
       "      <td>Gradual</td>\n",
       "      <td>Accuracy</td>\n",
       "      <td>Learning</td>\n",
       "      <td>131</td>\n",
       "      <td>2</td>\n",
       "      <td>0.341964</td>\n",
       "      <td>0.117537</td>\n",
       "      <td>0.117537</td>\n",
       "    </tr>\n",
       "    <tr>\n",
       "      <th>4</th>\n",
       "      <td>641</td>\n",
       "      <td>Gradual</td>\n",
       "      <td>Accuracy</td>\n",
       "      <td>Learning</td>\n",
       "      <td>132</td>\n",
       "      <td>2</td>\n",
       "      <td>0.150074</td>\n",
       "      <td>0.045506</td>\n",
       "      <td>0.045506</td>\n",
       "    </tr>\n",
       "    <tr>\n",
       "      <th>...</th>\n",
       "      <td>...</td>\n",
       "      <td>...</td>\n",
       "      <td>...</td>\n",
       "      <td>...</td>\n",
       "      <td>...</td>\n",
       "      <td>...</td>\n",
       "      <td>...</td>\n",
       "      <td>...</td>\n",
       "      <td>...</td>\n",
       "    </tr>\n",
       "    <tr>\n",
       "      <th>35707</th>\n",
       "      <td>702</td>\n",
       "      <td>Sudden</td>\n",
       "      <td>Speed</td>\n",
       "      <td>Relearning</td>\n",
       "      <td>699</td>\n",
       "      <td>10</td>\n",
       "      <td>0.402465</td>\n",
       "      <td>1.203681</td>\n",
       "      <td>-1.203681</td>\n",
       "    </tr>\n",
       "    <tr>\n",
       "      <th>35708</th>\n",
       "      <td>702</td>\n",
       "      <td>Sudden</td>\n",
       "      <td>Speed</td>\n",
       "      <td>Relearning</td>\n",
       "      <td>700</td>\n",
       "      <td>10</td>\n",
       "      <td>0.827459</td>\n",
       "      <td>0.704598</td>\n",
       "      <td>0.704598</td>\n",
       "    </tr>\n",
       "    <tr>\n",
       "      <th>35709</th>\n",
       "      <td>702</td>\n",
       "      <td>Sudden</td>\n",
       "      <td>Speed</td>\n",
       "      <td>Relearning</td>\n",
       "      <td>701</td>\n",
       "      <td>10</td>\n",
       "      <td>0.827459</td>\n",
       "      <td>0.704598</td>\n",
       "      <td>0.704598</td>\n",
       "    </tr>\n",
       "    <tr>\n",
       "      <th>35710</th>\n",
       "      <td>702</td>\n",
       "      <td>Sudden</td>\n",
       "      <td>Speed</td>\n",
       "      <td>Relearning</td>\n",
       "      <td>702</td>\n",
       "      <td>10</td>\n",
       "      <td>0.715479</td>\n",
       "      <td>1.933589</td>\n",
       "      <td>1.933589</td>\n",
       "    </tr>\n",
       "    <tr>\n",
       "      <th>35711</th>\n",
       "      <td>702</td>\n",
       "      <td>Sudden</td>\n",
       "      <td>Speed</td>\n",
       "      <td>Relearning</td>\n",
       "      <td>703</td>\n",
       "      <td>10</td>\n",
       "      <td>0.649281</td>\n",
       "      <td>2.421472</td>\n",
       "      <td>2.421472</td>\n",
       "    </tr>\n",
       "  </tbody>\n",
       "</table>\n",
       "<p>35712 rows × 9 columns</p>\n",
       "</div>"
      ],
      "text/plain": [
       "       p_id Rotation  Emphasis       phase  trial no  block no  avg errors  \\\n",
       "0       641  Gradual  Accuracy    Learning       128         2    0.477032   \n",
       "1       641  Gradual  Accuracy    Learning       129         2    0.260190   \n",
       "2       641  Gradual  Accuracy    Learning       130         2    0.515701   \n",
       "3       641  Gradual  Accuracy    Learning       131         2    0.341964   \n",
       "4       641  Gradual  Accuracy    Learning       132         2    0.150074   \n",
       "...     ...      ...       ...         ...       ...       ...         ...   \n",
       "35707   702   Sudden     Speed  Relearning       699        10    0.402465   \n",
       "35708   702   Sudden     Speed  Relearning       700        10    0.827459   \n",
       "35709   702   Sudden     Speed  Relearning       701        10    0.827459   \n",
       "35710   702   Sudden     Speed  Relearning       702        10    0.715479   \n",
       "35711   702   Sudden     Speed  Relearning       703        10    0.649281   \n",
       "\n",
       "       init errors  init signed errors  \n",
       "0         0.321386            0.321386  \n",
       "1         0.263982            0.263982  \n",
       "2         2.879004           -2.879004  \n",
       "3         0.117537            0.117537  \n",
       "4         0.045506            0.045506  \n",
       "...            ...                 ...  \n",
       "35707     1.203681           -1.203681  \n",
       "35708     0.704598            0.704598  \n",
       "35709     0.704598            0.704598  \n",
       "35710     1.933589            1.933589  \n",
       "35711     2.421472            2.421472  \n",
       "\n",
       "[35712 rows x 9 columns]"
      ]
     },
     "execution_count": 245,
     "metadata": {},
     "output_type": "execute_result"
    }
   ],
   "source": [
    "from model_fit_functions import *\n",
    "df = pd.read_csv('df_allphases.csv')\n",
    "df = df.loc[df['block no'] > 1].reset_index().drop('index', axis = 1)\n",
    "df"
   ]
  },
  {
   "cell_type": "code",
   "execution_count": 253,
   "metadata": {},
   "outputs": [],
   "source": [
    "pid = 662\n",
    "A = single_fits.loc[single_fits['p_id'] == pid, 'A'].values[0]\n",
    "B = single_fits.loc[single_fits['p_id'] == pid, 'B'].values[0]\n",
    "As = dual_fits.loc[dual_fits['p_id'] == pid, 'As'].values[0]\n",
    "Bs = dual_fits.loc[dual_fits['p_id'] == pid, 'Bs'].values[0]\n",
    "Af = dual_fits.loc[dual_fits['p_id'] == pid, 'Af'].values[0]\n",
    "Bf = dual_fits.loc[dual_fits['p_id'] == pid, 'Bf'].values[0]\n",
    "data = df.loc[df['p_id'] == pid, 'init signed errors'].values"
   ]
  },
  {
   "cell_type": "code",
   "execution_count": 258,
   "metadata": {},
   "outputs": [
    {
     "data": {
      "text/plain": [
       "[<matplotlib.lines.Line2D at 0x2b13325fcd0>]"
      ]
     },
     "execution_count": 258,
     "metadata": {},
     "output_type": "execute_result"
    },
    {
     "data": {
      "image/png": "[encoded data removed]",
      "text/plain": [
       "<Figure size 432x288 with 1 Axes>"
      ]
     },
     "metadata": {
      "needs_background": "light"
     },
     "output_type": "display_data"
    }
   ],
   "source": [
    "# plt.plot(single_state_model(A, B, len(data), 'Sudden'))\n",
    "# plt.plot(dual_state_model(As, Bs, Af, Bf, len(data), 'Sudden'))\n",
    "plt.plot(data)"
   ]
  },
  {
   "cell_type": "code",
   "execution_count": 262,
   "metadata": {},
   "outputs": [
    {
     "data": {
      "text/plain": [
       "[<matplotlib.lines.Line2D at 0x2b133001490>]"
      ]
     },
     "execution_count": 262,
     "metadata": {},
     "output_type": "execute_result"
    },
    {
     "data": {
      "image/png": "[encoded data removed]",
      "text/plain": [
       "<Figure size 432x288 with 1 Axes>"
      ]
     },
     "metadata": {
      "needs_background": "light"
     },
     "output_type": "display_data"
    }
   ],
   "source": [
    "plt.plot(single_state_model(A, B, len(data), 'Sudden'))\n"
   ]
  }
 ],
 "metadata": {
  "kernelspec": {
   "display_name": "vma",
   "language": "python",
   "name": "python3"
  },
  "language_info": {
   "codemirror_mode": {
    "name": "ipython",
    "version": 3
   },
   "file_extension": ".py",
   "mimetype": "text/x-python",
   "name": "python",
   "nbconvert_exporter": "python",
   "pygments_lexer": "ipython3",
   "version": "3.11.4"
  },
  "orig_nbformat": 4
 },
 "nbformat": 4,
 "nbformat_minor": 2
}
