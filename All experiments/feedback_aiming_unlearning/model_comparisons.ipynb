{
 "cells": [
  {
   "cell_type": "code",
   "execution_count": 1,
   "metadata": {},
   "outputs": [],
   "source": [
    "import numpy as np\n",
    "import pandas as pd\n",
    "import matplotlib.pyplot as plt\n",
    "# import seaborn as sns\n",
    "import scipy.stats as stat\n",
    "# import statsmodels.stats.proportion as proportion"
   ]
  },
  {
   "cell_type": "code",
   "execution_count": 2,
   "metadata": {},
   "outputs": [],
   "source": [
    "def model_comp_pvals(N, frequencies):\n",
    "    pNull=np.sum(frequencies)/(np.sum(N))\n",
    "    pFull=frequencies/N\n",
    "    LikelyNull = np.prod(stat.binom.pmf(frequencies,N,pNull))\n",
    "    LikelyFull = np.prod(stat.binom.pmf(frequencies,N,pFull))\n",
    "\n",
    "    chi_sq = -2 * np.log(LikelyNull/LikelyFull)\n",
    "#     print(chi_sq)\n",
    "    return chi_sq, 1-stat.chi2.cdf(chi_sq, 3, )   #% goodness of fit for Full vs Null (whehter there are differences between conditions)\n",
    "\n",
    "#     pEffect=[.75 .75 .75 .25];  #% power to detect three dual state and one single state (87% power with N=15)\n"
   ]
  },
  {
   "cell_type": "code",
   "execution_count": 3,
   "metadata": {},
   "outputs": [],
   "source": [
    "single_fits = pd.read_csv('model_results/single_fit_avgsmootherror_learn_results.csv').drop('Unnamed: 0', axis = 1).reset_index().drop('index', axis = 1)\n",
    "dual_fits = pd.read_csv('model_results/dual_fit_avgsmootherror_learn_results.csv').drop('Unnamed: 0', axis = 1).reset_index().drop('index', axis = 1)\n"
   ]
  },
  {
   "cell_type": "code",
   "execution_count": 4,
   "metadata": {},
   "outputs": [
    {
     "data": {
      "text/html": [
       "<div>\n",
       "<style scoped>\n",
       "    .dataframe tbody tr th:only-of-type {\n",
       "        vertical-align: middle;\n",
       "    }\n",
       "\n",
       "    .dataframe tbody tr th {\n",
       "        vertical-align: top;\n",
       "    }\n",
       "\n",
       "    .dataframe thead th {\n",
       "        text-align: right;\n",
       "    }\n",
       "</style>\n",
       "<table border=\"1\" class=\"dataframe\">\n",
       "  <thead>\n",
       "    <tr style=\"text-align: right;\">\n",
       "      <th></th>\n",
       "      <th>p_id</th>\n",
       "      <th>gof</th>\n",
       "      <th>As</th>\n",
       "      <th>Bs</th>\n",
       "      <th>Af</th>\n",
       "      <th>Bf</th>\n",
       "      <th>Eps</th>\n",
       "    </tr>\n",
       "  </thead>\n",
       "  <tbody>\n",
       "    <tr>\n",
       "      <th>20</th>\n",
       "      <td>661</td>\n",
       "      <td>-1.231159</td>\n",
       "      <td>0.996265</td>\n",
       "      <td>0.014792</td>\n",
       "      <td>0.241782</td>\n",
       "      <td>0.070868</td>\n",
       "      <td>0.070644</td>\n",
       "    </tr>\n",
       "  </tbody>\n",
       "</table>\n",
       "</div>"
      ],
      "text/plain": [
       "    p_id       gof        As        Bs        Af        Bf       Eps\n",
       "20   661 -1.231159  0.996265  0.014792  0.241782  0.070868  0.070644"
      ]
     },
     "execution_count": 4,
     "metadata": {},
     "output_type": "execute_result"
    }
   ],
   "source": [
    "pid = 661\n",
    "dual_fits.loc[dual_fits['p_id'] == pid] \n",
    "# single_fits.loc[single_fits['p_id'] == pid]\n"
   ]
  },
  {
   "cell_type": "code",
   "execution_count": null,
   "metadata": {},
   "outputs": [],
   "source": []
  },
  {
   "cell_type": "code",
   "execution_count": 5,
   "metadata": {},
   "outputs": [],
   "source": [
    "single_fits['AIC'] = 2*single_fits['gof']*448 + 2*2\n",
    "dual_fits['AIC'] = 2*dual_fits['gof']*448 + 2*4\n",
    "\n",
    "single_fits['BIC'] = 2*single_fits['gof']*448 + np.log(64*7)*2\n",
    "dual_fits['BIC'] = 2*dual_fits['gof']*448 + np.log(64*7)*4\n",
    "\n",
    "\n",
    "# single_fits['AIC'] = 2*single_fits['gof'] + 2*2\n",
    "# dual_fits['AIC'] = 2*dual_fits['gof'] + 2*4\n",
    "\n",
    "# single_fits['BIC'] = 2*single_fits['gof'] + np.log(64*7)*2\n",
    "# dual_fits['BIC'] = 2*dual_fits['gof'] + np.log(64*7)*4"
   ]
  },
  {
   "cell_type": "code",
   "execution_count": 6,
   "metadata": {},
   "outputs": [],
   "source": [
    "single_fits.loc[single_fits['p_id']%2 == 0, 'Rotation'] = 'Sudden'\n",
    "single_fits.loc[single_fits['p_id']%2 == 1, 'Rotation'] = 'Gradual'\n",
    "\n",
    "single_fits.loc[single_fits['p_id']%4 == 0, 'Emphasis'] = 'Accuracy'\n",
    "single_fits.loc[single_fits['p_id']%4 == 1, 'Emphasis'] = 'Accuracy'\n",
    "single_fits.loc[single_fits['p_id']%4 == 2, 'Emphasis'] = 'Speed'\n",
    "single_fits.loc[single_fits['p_id']%4 == 3, 'Emphasis'] = 'Speed'\n",
    "\n",
    "\n",
    "dual_fits.loc[dual_fits['p_id']%2 == 0, 'Rotation'] = 'Sudden'\n",
    "dual_fits.loc[dual_fits['p_id']%2 == 1, 'Rotation'] = 'Gradual'\n",
    "\n",
    "dual_fits.loc[dual_fits['p_id']%4 == 0, 'Emphasis'] = 'Accuracy'\n",
    "dual_fits.loc[dual_fits['p_id']%4 == 1, 'Emphasis'] = 'Accuracy'\n",
    "dual_fits.loc[dual_fits['p_id']%4 == 2, 'Emphasis'] = 'Speed'\n",
    "dual_fits.loc[dual_fits['p_id']%4 == 3, 'Emphasis'] = 'Speed'\n",
    "\n",
    "\n",
    "single_fits['Condition'] = single_fits['Rotation'] + ' ' + single_fits['Emphasis']"
   ]
  },
  {
   "cell_type": "code",
   "execution_count": 7,
   "metadata": {},
   "outputs": [
    {
     "data": {
      "text/html": [
       "<div>\n",
       "<style scoped>\n",
       "    .dataframe tbody tr th:only-of-type {\n",
       "        vertical-align: middle;\n",
       "    }\n",
       "\n",
       "    .dataframe tbody tr th {\n",
       "        vertical-align: top;\n",
       "    }\n",
       "\n",
       "    .dataframe thead th {\n",
       "        text-align: right;\n",
       "    }\n",
       "</style>\n",
       "<table border=\"1\" class=\"dataframe\">\n",
       "  <thead>\n",
       "    <tr style=\"text-align: right;\">\n",
       "      <th></th>\n",
       "      <th>p_id</th>\n",
       "      <th>gof</th>\n",
       "      <th>As</th>\n",
       "      <th>Bs</th>\n",
       "      <th>Af</th>\n",
       "      <th>Bf</th>\n",
       "      <th>Eps</th>\n",
       "      <th>AIC</th>\n",
       "      <th>BIC</th>\n",
       "      <th>Rotation</th>\n",
       "      <th>Emphasis</th>\n",
       "    </tr>\n",
       "  </thead>\n",
       "  <tbody>\n",
       "    <tr>\n",
       "      <th>0</th>\n",
       "      <td>641</td>\n",
       "      <td>-1.299804</td>\n",
       "      <td>0.998289</td>\n",
       "      <td>0.014784</td>\n",
       "      <td>8.969843e-01</td>\n",
       "      <td>0.054205</td>\n",
       "      <td>0.065958</td>\n",
       "      <td>-1156.624331</td>\n",
       "      <td>-1140.205158</td>\n",
       "      <td>Gradual</td>\n",
       "      <td>Accuracy</td>\n",
       "    </tr>\n",
       "    <tr>\n",
       "      <th>1</th>\n",
       "      <td>642</td>\n",
       "      <td>-0.847004</td>\n",
       "      <td>1.000000</td>\n",
       "      <td>0.000820</td>\n",
       "      <td>2.108940e-01</td>\n",
       "      <td>0.325475</td>\n",
       "      <td>0.103735</td>\n",
       "      <td>-750.915598</td>\n",
       "      <td>-734.496425</td>\n",
       "      <td>Sudden</td>\n",
       "      <td>Speed</td>\n",
       "    </tr>\n",
       "    <tr>\n",
       "      <th>2</th>\n",
       "      <td>643</td>\n",
       "      <td>0.288959</td>\n",
       "      <td>1.000000</td>\n",
       "      <td>0.000161</td>\n",
       "      <td>1.000000e+00</td>\n",
       "      <td>0.003051</td>\n",
       "      <td>0.323007</td>\n",
       "      <td>266.907017</td>\n",
       "      <td>283.326190</td>\n",
       "      <td>Gradual</td>\n",
       "      <td>Speed</td>\n",
       "    </tr>\n",
       "    <tr>\n",
       "      <th>3</th>\n",
       "      <td>644</td>\n",
       "      <td>-1.133671</td>\n",
       "      <td>0.996847</td>\n",
       "      <td>0.007339</td>\n",
       "      <td>7.270928e-01</td>\n",
       "      <td>0.172001</td>\n",
       "      <td>0.077878</td>\n",
       "      <td>-1007.769546</td>\n",
       "      <td>-991.350373</td>\n",
       "      <td>Sudden</td>\n",
       "      <td>Accuracy</td>\n",
       "    </tr>\n",
       "    <tr>\n",
       "      <th>4</th>\n",
       "      <td>645</td>\n",
       "      <td>-0.808461</td>\n",
       "      <td>0.996738</td>\n",
       "      <td>0.011608</td>\n",
       "      <td>4.780760e-07</td>\n",
       "      <td>0.131386</td>\n",
       "      <td>0.107809</td>\n",
       "      <td>-716.381446</td>\n",
       "      <td>-699.962273</td>\n",
       "      <td>Gradual</td>\n",
       "      <td>Accuracy</td>\n",
       "    </tr>\n",
       "    <tr>\n",
       "      <th>...</th>\n",
       "      <td>...</td>\n",
       "      <td>...</td>\n",
       "      <td>...</td>\n",
       "      <td>...</td>\n",
       "      <td>...</td>\n",
       "      <td>...</td>\n",
       "      <td>...</td>\n",
       "      <td>...</td>\n",
       "      <td>...</td>\n",
       "      <td>...</td>\n",
       "      <td>...</td>\n",
       "    </tr>\n",
       "    <tr>\n",
       "      <th>57</th>\n",
       "      <td>698</td>\n",
       "      <td>-0.744539</td>\n",
       "      <td>1.000000</td>\n",
       "      <td>0.003947</td>\n",
       "      <td>2.389406e-01</td>\n",
       "      <td>0.314667</td>\n",
       "      <td>0.114925</td>\n",
       "      <td>-659.106817</td>\n",
       "      <td>-642.687644</td>\n",
       "      <td>Sudden</td>\n",
       "      <td>Speed</td>\n",
       "    </tr>\n",
       "    <tr>\n",
       "      <th>58</th>\n",
       "      <td>699</td>\n",
       "      <td>-0.730221</td>\n",
       "      <td>0.991722</td>\n",
       "      <td>0.014461</td>\n",
       "      <td>1.030265e-04</td>\n",
       "      <td>0.014461</td>\n",
       "      <td>0.116580</td>\n",
       "      <td>-646.278291</td>\n",
       "      <td>-629.859118</td>\n",
       "      <td>Gradual</td>\n",
       "      <td>Speed</td>\n",
       "    </tr>\n",
       "    <tr>\n",
       "      <th>59</th>\n",
       "      <td>700</td>\n",
       "      <td>-1.281840</td>\n",
       "      <td>0.998296</td>\n",
       "      <td>0.008740</td>\n",
       "      <td>2.280266e-01</td>\n",
       "      <td>0.424543</td>\n",
       "      <td>0.067153</td>\n",
       "      <td>-1140.528466</td>\n",
       "      <td>-1124.109293</td>\n",
       "      <td>Sudden</td>\n",
       "      <td>Accuracy</td>\n",
       "    </tr>\n",
       "    <tr>\n",
       "      <th>60</th>\n",
       "      <td>701</td>\n",
       "      <td>-1.055656</td>\n",
       "      <td>1.000000</td>\n",
       "      <td>0.000315</td>\n",
       "      <td>9.997007e-01</td>\n",
       "      <td>0.009157</td>\n",
       "      <td>0.084160</td>\n",
       "      <td>-937.867455</td>\n",
       "      <td>-921.448282</td>\n",
       "      <td>Gradual</td>\n",
       "      <td>Accuracy</td>\n",
       "    </tr>\n",
       "    <tr>\n",
       "      <th>61</th>\n",
       "      <td>702</td>\n",
       "      <td>-1.061642</td>\n",
       "      <td>0.991023</td>\n",
       "      <td>0.002735</td>\n",
       "      <td>7.271527e-01</td>\n",
       "      <td>0.113625</td>\n",
       "      <td>0.083695</td>\n",
       "      <td>-943.230799</td>\n",
       "      <td>-926.811626</td>\n",
       "      <td>Sudden</td>\n",
       "      <td>Speed</td>\n",
       "    </tr>\n",
       "  </tbody>\n",
       "</table>\n",
       "<p>62 rows × 11 columns</p>\n",
       "</div>"
      ],
      "text/plain": [
       "    p_id       gof        As        Bs            Af        Bf       Eps  \\\n",
       "0    641 -1.299804  0.998289  0.014784  8.969843e-01  0.054205  0.065958   \n",
       "1    642 -0.847004  1.000000  0.000820  2.108940e-01  0.325475  0.103735   \n",
       "2    643  0.288959  1.000000  0.000161  1.000000e+00  0.003051  0.323007   \n",
       "3    644 -1.133671  0.996847  0.007339  7.270928e-01  0.172001  0.077878   \n",
       "4    645 -0.808461  0.996738  0.011608  4.780760e-07  0.131386  0.107809   \n",
       "..   ...       ...       ...       ...           ...       ...       ...   \n",
       "57   698 -0.744539  1.000000  0.003947  2.389406e-01  0.314667  0.114925   \n",
       "58   699 -0.730221  0.991722  0.014461  1.030265e-04  0.014461  0.116580   \n",
       "59   700 -1.281840  0.998296  0.008740  2.280266e-01  0.424543  0.067153   \n",
       "60   701 -1.055656  1.000000  0.000315  9.997007e-01  0.009157  0.084160   \n",
       "61   702 -1.061642  0.991023  0.002735  7.271527e-01  0.113625  0.083695   \n",
       "\n",
       "            AIC          BIC Rotation  Emphasis  \n",
       "0  -1156.624331 -1140.205158  Gradual  Accuracy  \n",
       "1   -750.915598  -734.496425   Sudden     Speed  \n",
       "2    266.907017   283.326190  Gradual     Speed  \n",
       "3  -1007.769546  -991.350373   Sudden  Accuracy  \n",
       "4   -716.381446  -699.962273  Gradual  Accuracy  \n",
       "..          ...          ...      ...       ...  \n",
       "57  -659.106817  -642.687644   Sudden     Speed  \n",
       "58  -646.278291  -629.859118  Gradual     Speed  \n",
       "59 -1140.528466 -1124.109293   Sudden  Accuracy  \n",
       "60  -937.867455  -921.448282  Gradual  Accuracy  \n",
       "61  -943.230799  -926.811626   Sudden     Speed  \n",
       "\n",
       "[62 rows x 11 columns]"
      ]
     },
     "execution_count": 7,
     "metadata": {},
     "output_type": "execute_result"
    }
   ],
   "source": [
    "dual_fits"
   ]
  },
  {
   "cell_type": "code",
   "execution_count": 157,
   "metadata": {},
   "outputs": [
    {
     "data": {
      "text/html": [
       "<div>\n",
       "<style scoped>\n",
       "    .dataframe tbody tr th:only-of-type {\n",
       "        vertical-align: middle;\n",
       "    }\n",
       "\n",
       "    .dataframe tbody tr th {\n",
       "        vertical-align: top;\n",
       "    }\n",
       "\n",
       "    .dataframe thead th {\n",
       "        text-align: right;\n",
       "    }\n",
       "</style>\n",
       "<table border=\"1\" class=\"dataframe\">\n",
       "  <thead>\n",
       "    <tr style=\"text-align: right;\">\n",
       "      <th></th>\n",
       "      <th>p_id</th>\n",
       "      <th>gof</th>\n",
       "      <th>A</th>\n",
       "      <th>B</th>\n",
       "      <th>Eps</th>\n",
       "      <th>AIC</th>\n",
       "      <th>BIC</th>\n",
       "      <th>Rotation</th>\n",
       "      <th>Emphasis</th>\n",
       "      <th>Condition</th>\n",
       "    </tr>\n",
       "  </thead>\n",
       "  <tbody>\n",
       "    <tr>\n",
       "      <th>12</th>\n",
       "      <td>653</td>\n",
       "      <td>-0.503933</td>\n",
       "      <td>0.991641</td>\n",
       "      <td>0.023525</td>\n",
       "      <td>0.146176</td>\n",
       "      <td>-447.523789</td>\n",
       "      <td>-439.314202</td>\n",
       "      <td>Gradual</td>\n",
       "      <td>Accuracy</td>\n",
       "      <td>Gradual Accuracy</td>\n",
       "    </tr>\n",
       "  </tbody>\n",
       "</table>\n",
       "</div>"
      ],
      "text/plain": [
       "    p_id       gof         A         B       Eps         AIC         BIC  \\\n",
       "12   653 -0.503933  0.991641  0.023525  0.146176 -447.523789 -439.314202   \n",
       "\n",
       "   Rotation  Emphasis         Condition  \n",
       "12  Gradual  Accuracy  Gradual Accuracy  "
      ]
     },
     "execution_count": 157,
     "metadata": {},
     "output_type": "execute_result"
    }
   ],
   "source": [
    "single_fits[single_fits['p_id'] == 653]"
   ]
  },
  {
   "cell_type": "code",
   "execution_count": 159,
   "metadata": {},
   "outputs": [
    {
     "data": {
      "text/html": [
       "<div>\n",
       "<style scoped>\n",
       "    .dataframe tbody tr th:only-of-type {\n",
       "        vertical-align: middle;\n",
       "    }\n",
       "\n",
       "    .dataframe tbody tr th {\n",
       "        vertical-align: top;\n",
       "    }\n",
       "\n",
       "    .dataframe thead th {\n",
       "        text-align: right;\n",
       "    }\n",
       "</style>\n",
       "<table border=\"1\" class=\"dataframe\">\n",
       "  <thead>\n",
       "    <tr style=\"text-align: right;\">\n",
       "      <th></th>\n",
       "      <th>p_id</th>\n",
       "      <th>gof</th>\n",
       "      <th>As</th>\n",
       "      <th>Bs</th>\n",
       "      <th>Af</th>\n",
       "      <th>Bf</th>\n",
       "      <th>Eps</th>\n",
       "      <th>AIC</th>\n",
       "      <th>BIC</th>\n",
       "      <th>Rotation</th>\n",
       "      <th>Emphasis</th>\n",
       "    </tr>\n",
       "  </thead>\n",
       "  <tbody>\n",
       "    <tr>\n",
       "      <th>12</th>\n",
       "      <td>653</td>\n",
       "      <td>-0.900709</td>\n",
       "      <td>0.997216</td>\n",
       "      <td>0.009364</td>\n",
       "      <td>0.983148</td>\n",
       "      <td>0.01349</td>\n",
       "      <td>0.098311</td>\n",
       "      <td>-799.035511</td>\n",
       "      <td>-782.616339</td>\n",
       "      <td>Gradual</td>\n",
       "      <td>Accuracy</td>\n",
       "    </tr>\n",
       "  </tbody>\n",
       "</table>\n",
       "</div>"
      ],
      "text/plain": [
       "    p_id       gof        As        Bs        Af       Bf       Eps  \\\n",
       "12   653 -0.900709  0.997216  0.009364  0.983148  0.01349  0.098311   \n",
       "\n",
       "           AIC         BIC Rotation  Emphasis  \n",
       "12 -799.035511 -782.616339  Gradual  Accuracy  "
      ]
     },
     "execution_count": 159,
     "metadata": {},
     "output_type": "execute_result"
    }
   ],
   "source": [
    "dual_fits[dual_fits['p_id'] == 653]"
   ]
  },
  {
   "cell_type": "code",
   "execution_count": 160,
   "metadata": {},
   "outputs": [
    {
     "data": {
      "text/plain": [
       "0"
      ]
     },
     "execution_count": 160,
     "metadata": {},
     "output_type": "execute_result"
    }
   ],
   "source": [
    "sum(dual_fits['Bs'] > dual_fits['Bf'])"
   ]
  },
  {
   "cell_type": "code",
   "execution_count": 161,
   "metadata": {},
   "outputs": [
    {
     "data": {
      "text/plain": [
       "Gradual Accuracy    16\n",
       "Sudden Speed        16\n",
       "Gradual Speed       15\n",
       "Sudden Accuracy     15\n",
       "Name: Condition, dtype: int64"
      ]
     },
     "execution_count": 161,
     "metadata": {},
     "output_type": "execute_result"
    }
   ],
   "source": [
    "single_fits['Condition'].value_counts()"
   ]
  },
  {
   "cell_type": "code",
   "execution_count": 162,
   "metadata": {},
   "outputs": [
    {
     "data": {
      "text/plain": [
       "Gradual Accuracy    16\n",
       "Sudden Speed        16\n",
       "Gradual Speed       15\n",
       "Sudden Accuracy     15\n",
       "Name: Condition, dtype: int64"
      ]
     },
     "execution_count": 162,
     "metadata": {},
     "output_type": "execute_result"
    }
   ],
   "source": [
    "single_fits.loc[single_fits['AIC'] > dual_fits['AIC'], 'Condition'].value_counts()"
   ]
  },
  {
   "cell_type": "code",
   "execution_count": 163,
   "metadata": {},
   "outputs": [
    {
     "data": {
      "text/plain": [
       "(17.61172583860489, 0.0005288597222199432)"
      ]
     },
     "execution_count": 163,
     "metadata": {},
     "output_type": "execute_result"
    }
   ],
   "source": [
    "model_comp_pvals(np.array([16, 16, 15, 15]), np.array([8, 16, 10, 14]))"
   ]
  },
  {
   "cell_type": "code",
   "execution_count": 164,
   "metadata": {},
   "outputs": [
    {
     "data": {
      "text/plain": [
       "Gradual Accuracy    16\n",
       "Sudden Speed        16\n",
       "Gradual Speed       15\n",
       "Sudden Accuracy     15\n",
       "Name: Condition, dtype: int64"
      ]
     },
     "execution_count": 164,
     "metadata": {},
     "output_type": "execute_result"
    }
   ],
   "source": [
    "single_fits.loc[single_fits['BIC'] > dual_fits['BIC'], 'Condition'].value_counts()"
   ]
  },
  {
   "cell_type": "code",
   "execution_count": 165,
   "metadata": {},
   "outputs": [
    {
     "data": {
      "text/plain": [
       "(16.798233580514545, 0.0007775787274861834)"
      ]
     },
     "execution_count": 165,
     "metadata": {},
     "output_type": "execute_result"
    }
   ],
   "source": [
    "model_comp_pvals(np.array([16, 16, 15, 15]), np.array([16, 7, 10, 12]))"
   ]
  },
  {
   "cell_type": "code",
   "execution_count": 166,
   "metadata": {},
   "outputs": [
    {
     "data": {
      "text/plain": [
       "Series([], Name: Condition, dtype: int64)"
      ]
     },
     "execution_count": 166,
     "metadata": {},
     "output_type": "execute_result"
    }
   ],
   "source": [
    "single_fits.loc[(single_fits['gof'].values < dual_fits['gof'].values), 'Condition'].value_counts()\n"
   ]
  },
  {
   "cell_type": "code",
   "execution_count": 167,
   "metadata": {},
   "outputs": [
    {
     "data": {
      "text/plain": [
       "(array([5., 9., 7., 7., 8., 7., 6., 7., 4., 2.]),\n",
       " array([0.02436994, 0.09872343, 0.17307692, 0.24743041, 0.3217839 ,\n",
       "        0.39613739, 0.47049088, 0.54484437, 0.61919786, 0.69355135,\n",
       "        0.76790484]),\n",
       " <BarContainer object of 10 artists>)"
      ]
     },
     "execution_count": 167,
     "metadata": {},
     "output_type": "execute_result"
    },
    {
     "data": {
      "image/png": "[encoded data removed]",
      "text/plain": [
       "<Figure size 640x480 with 1 Axes>"
      ]
     },
     "metadata": {},
     "output_type": "display_data"
    }
   ],
   "source": [
    "plt.hist(single_fits['gof'].values - dual_fits['gof'].values)"
   ]
  },
  {
   "cell_type": "code",
   "execution_count": 168,
   "metadata": {},
   "outputs": [],
   "source": [
    "# single_fits['LR_ratio'] = 2* (single_fits['gof'].values - dual_fits['gof'].values)*640\n",
    "single_fits['LR_ratio'] = 2* (single_fits['gof'].values - dual_fits['gof'].values)*448"
   ]
  },
  {
   "cell_type": "code",
   "execution_count": 169,
   "metadata": {},
   "outputs": [],
   "source": [
    "single_fits['chi2'] = stat.chi2.sf(single_fits['LR_ratio'], 2)"
   ]
  },
  {
   "cell_type": "code",
   "execution_count": 170,
   "metadata": {},
   "outputs": [
    {
     "data": {
      "text/plain": [
       "Gradual Accuracy    16\n",
       "Sudden Speed        16\n",
       "Gradual Speed       15\n",
       "Sudden Accuracy     15\n",
       "Name: Condition, dtype: int64"
      ]
     },
     "execution_count": 170,
     "metadata": {},
     "output_type": "execute_result"
    }
   ],
   "source": [
    "single_fits.loc[single_fits['chi2'] < 0.05, 'Condition'].value_counts()"
   ]
  },
  {
   "cell_type": "code",
   "execution_count": 136,
   "metadata": {},
   "outputs": [
    {
     "data": {
      "text/plain": [
       "(35.85364079334426, 8.041371701850153e-08)"
      ]
     },
     "execution_count": 136,
     "metadata": {},
     "output_type": "execute_result"
    }
   ],
   "source": [
    "model_comp_pvals(np.array([16, 16, 15, 15]), np.array([16, 14, 12, 2]))"
   ]
  },
  {
   "attachments": {},
   "cell_type": "markdown",
   "metadata": {},
   "source": [
    "# Cross Validation Comparisons"
   ]
  },
  {
   "cell_type": "code",
   "execution_count": 171,
   "metadata": {},
   "outputs": [],
   "source": [
    "single_fits = pd.read_csv('model_results/single_fit_avgsmootherror_learn_results_cv.csv')\n",
    "dual_fits = pd.read_csv('model_results/dual_fit_avgsmootherror_learn_results_cv.csv')\n",
    "\n",
    "single_fits.loc[single_fits['p_id']%2 == 0, 'Rotation'] = 'Sudden'\n",
    "single_fits.loc[single_fits['p_id']%2 == 1, 'Rotation'] = 'Gradual'\n",
    "\n",
    "single_fits.loc[single_fits['p_id']%4 == 0, 'Emphasis'] = 'Accuracy'\n",
    "single_fits.loc[single_fits['p_id']%4 == 1, 'Emphasis'] = 'Accuracy'\n",
    "single_fits.loc[single_fits['p_id']%4 == 2, 'Emphasis'] = 'Speed'\n",
    "single_fits.loc[single_fits['p_id']%4 == 3, 'Emphasis'] = 'Speed'\n",
    "\n",
    "\n",
    "dual_fits.loc[dual_fits['p_id']%2 == 0, 'Rotation'] = 'Sudden'\n",
    "dual_fits.loc[dual_fits['p_id']%2 == 1, 'Rotation'] = 'Gradual'\n",
    "\n",
    "dual_fits.loc[dual_fits['p_id']%4 == 0, 'Emphasis'] = 'Accuracy'\n",
    "dual_fits.loc[dual_fits['p_id']%4 == 1, 'Emphasis'] = 'Accuracy'\n",
    "dual_fits.loc[dual_fits['p_id']%4 == 2, 'Emphasis'] = 'Speed'\n",
    "dual_fits.loc[dual_fits['p_id']%4 == 3, 'Emphasis'] = 'Speed'\n",
    "\n",
    "\n",
    "single_fits['Condition'] = single_fits['Rotation'] + ' ' + single_fits['Emphasis']"
   ]
  },
  {
   "cell_type": "code",
   "execution_count": 172,
   "metadata": {},
   "outputs": [],
   "source": [
    "dual_fits['dual win'] = (single_fits['test gof'].values >= dual_fits['test gof'].values).astype(int)"
   ]
  },
  {
   "cell_type": "code",
   "execution_count": 173,
   "metadata": {},
   "outputs": [],
   "source": [
    "def compute_wins(dual_fits):\n",
    "    # Drop column: 'Unnamed: 0'\n",
    "    # dual_fits = dual_fits.drop(columns=['Unnamed: 0'])\n",
    "    # Performed 1 aggregation grouped on columns: 'p_id', 'Rotation' and 2 other columns\n",
    "    dual_fits = dual_fits.groupby(['p_id', 'Rotation', 'Emphasis', 'dual win']).agg(dualwin_count=('dual win', 'count')).reset_index()\n",
    "    # Filter rows based on column: 'dual win'\n",
    "    dual_fits = dual_fits[dual_fits['dual win'] == 1]\n",
    "    return dual_fits\n",
    "\n",
    "dual_fits_wins = compute_wins(dual_fits.copy())\n",
    "dual_fits_wins['Condition'] = dual_fits_wins['Rotation'] + ' ' + dual_fits_wins['Emphasis']"
   ]
  },
  {
   "cell_type": "code",
   "execution_count": 174,
   "metadata": {},
   "outputs": [
    {
     "data": {
      "text/plain": [
       "Gradual Accuracy    16\n",
       "Sudden Speed        16\n",
       "Gradual Speed       15\n",
       "Sudden Accuracy     15\n",
       "Name: Condition, dtype: int64"
      ]
     },
     "execution_count": 174,
     "metadata": {},
     "output_type": "execute_result"
    }
   ],
   "source": [
    "dual_fits_wins.loc[dual_fits_wins['dualwin_count'] > 58, 'Condition'].value_counts()"
   ]
  },
  {
   "cell_type": "code",
   "execution_count": 95,
   "metadata": {},
   "outputs": [
    {
     "data": {
      "text/plain": [
       "(7.169513848495249, 0.06668662927877589)"
      ]
     },
     "execution_count": 95,
     "metadata": {},
     "output_type": "execute_result"
    }
   ],
   "source": [
    "model_comp_pvals(np.array([16, 16, 15, 15]), np.array([15, 16, 15, 12]))"
   ]
  },
  {
   "cell_type": "code",
   "execution_count": 26,
   "metadata": {},
   "outputs": [
    {
     "data": {
      "text/plain": [
       "(array([ 205., 2620., 1758., 1061.,  370.,   84.,   52.,   31.,   16.,\n",
       "           3.]),\n",
       " array([-0.05622616, -0.01540979,  0.02540658,  0.06622296,  0.10703933,\n",
       "         0.1478557 ,  0.18867208,  0.22948845,  0.27030482,  0.3111212 ,\n",
       "         0.35193757]),\n",
       " <BarContainer object of 10 artists>)"
      ]
     },
     "execution_count": 26,
     "metadata": {},
     "output_type": "execute_result"
    },
    {
     "data": {
      "image/png": "[encoded data removed]",
      "text/plain": [
       "<Figure size 640x480 with 1 Axes>"
      ]
     },
     "metadata": {},
     "output_type": "display_data"
    }
   ],
   "source": [
    "plt.hist(single_fits['gof'].values - dual_fits['gof'].values)"
   ]
  },
  {
   "cell_type": "code",
   "execution_count": null,
   "metadata": {},
   "outputs": [],
   "source": []
  },
  {
   "attachments": {},
   "cell_type": "markdown",
   "metadata": {},
   "source": [
    "2/15"
   ]
  },
  {
   "attachments": {},
   "cell_type": "markdown",
   "metadata": {},
   "source": [
    "# Assessing Model fits visually"
   ]
  },
  {
   "cell_type": "code",
   "execution_count": 8,
   "metadata": {},
   "outputs": [],
   "source": [
    "# from model_fit_functions import *\n",
    "df = pd.read_csv('df_allphases.csv')\n",
    "df = df.loc[df['block'] >= 1].reset_index().drop('index', axis = 1)\n",
    "# df"
   ]
  },
  {
   "cell_type": "code",
   "execution_count": 17,
   "metadata": {},
   "outputs": [
    {
     "data": {
      "text/plain": [
       "[<matplotlib.lines.Line2D at 0x252c45bd1d0>]"
      ]
     },
     "execution_count": 17,
     "metadata": {},
     "output_type": "execute_result"
    },
    {
     "data": {
      "image/png": "[encoded data removed]",
      "text/plain": [
       "<Figure size 640x480 with 1 Axes>"
      ]
     },
     "metadata": {},
     "output_type": "display_data"
    }
   ],
   "source": [
    "from model_fit_functions import *\n",
    "pid = 647\n",
    "ptype = df.loc[df['p_id'] == pid, 'Rotation'].unique()\n",
    "\n",
    "A = single_fits.loc[single_fits['p_id'] == pid, 'A'].values[0]\n",
    "B = single_fits.loc[single_fits['p_id'] == pid, 'B'].values[0]\n",
    "As = dual_fits.loc[dual_fits['p_id'] == pid, 'As'].values[0]\n",
    "Bs = dual_fits.loc[dual_fits['p_id'] == pid, 'Bs'].values[0]\n",
    "Af = dual_fits.loc[dual_fits['p_id'] == pid, 'Af'].values[0]\n",
    "Bf = dual_fits.loc[dual_fits['p_id'] == pid, 'Bf'].values[0]\n",
    "data = df.loc[df['p_id'] == pid, 'avg errors'].values\n",
    "\n",
    "plt.plot(data)\n",
    "plt.plot(single_state_model(A, B, len(data), ptype))\n",
    "plt.plot(dual_state_model(As, Bs, Af, Bf, len(data), ptype))\n"
   ]
  },
  {
   "cell_type": "code",
   "execution_count": 18,
   "metadata": {},
   "outputs": [
    {
     "data": {
      "text/plain": [
       "(   p_id       gof    A         B       Eps        AIC        BIC Rotation  \\\n",
       " 6   647 -0.077413  1.0  0.002583  0.223958 -65.362057 -57.152471  Gradual   \n",
       " \n",
       "   Emphasis      Condition  \n",
       " 6    Speed  Gradual Speed  ,\n",
       "    p_id       gof   As        Bs   Af        Bf       Eps         AIC  \\\n",
       " 6   647 -0.145229  1.0  0.001182  1.0  0.001508  0.209253 -122.125563   \n",
       " \n",
       "          BIC Rotation Emphasis  \n",
       " 6 -105.70639  Gradual    Speed  )"
      ]
     },
     "execution_count": 18,
     "metadata": {},
     "output_type": "execute_result"
    }
   ],
   "source": [
    "single_fits[single_fits.p_id == pid], dual_fits[dual_fits.p_id == pid]"
   ]
  },
  {
   "cell_type": "code",
   "execution_count": null,
   "metadata": {},
   "outputs": [
    {
     "data": {
      "text/plain": [
       "1.0471975511965976"
      ]
     },
     "execution_count": 10,
     "metadata": {},
     "output_type": "execute_result"
    }
   ],
   "source": [
    "np.pi/3"
   ]
  },
  {
   "cell_type": "code",
   "execution_count": 38,
   "metadata": {},
   "outputs": [
    {
     "data": {
      "text/plain": [
       "[<matplotlib.lines.Line2D at 0x24bd275c950>]"
      ]
     },
     "execution_count": 38,
     "metadata": {},
     "output_type": "execute_result"
    },
    {
     "data": {
      "image/png": "[encoded data removed]",
      "text/plain": [
       "<Figure size 640x480 with 1 Axes>"
      ]
     },
     "metadata": {},
     "output_type": "display_data"
    }
   ],
   "source": []
  },
  {
   "cell_type": "code",
   "execution_count": 262,
   "metadata": {},
   "outputs": [
    {
     "data": {
      "text/plain": [
       "[<matplotlib.lines.Line2D at 0x2b133001490>]"
      ]
     },
     "execution_count": 262,
     "metadata": {},
     "output_type": "execute_result"
    },
    {
     "data": {
      "image/png": "[encoded data removed]",
      "text/plain": [
       "<Figure size 432x288 with 1 Axes>"
      ]
     },
     "metadata": {
      "needs_background": "light"
     },
     "output_type": "display_data"
    }
   ],
   "source": [
    "plt.plot(single_state_model(A, B, len(data), 'Sudden'))\n"
   ]
  }
 ],
 "metadata": {
  "kernelspec": {
   "display_name": "vma",
   "language": "python",
   "name": "python3"
  },
  "language_info": {
   "codemirror_mode": {
    "name": "ipython",
    "version": 3
   },
   "file_extension": ".py",
   "mimetype": "text/x-python",
   "name": "python",
   "nbconvert_exporter": "python",
   "pygments_lexer": "ipython3",
   "version": "3.11.3"
  },
  "orig_nbformat": 4
 },
 "nbformat": 4,
 "nbformat_minor": 2
}
