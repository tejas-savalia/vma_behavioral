{
 "cells": [
  {
   "cell_type": "code",
   "execution_count": 1,
   "metadata": {},
   "outputs": [],
   "source": [
    "import numpy as np\n",
    "import pandas as pd\n",
    "import matplotlib.pyplot as plt\n",
    "import seaborn as sns\n",
    "import scipy.stats as stat\n",
    "# import statsmodels.stats.proportion as proportion"
   ]
  },
  {
   "cell_type": "code",
   "execution_count": 2,
   "metadata": {},
   "outputs": [],
   "source": [
    "def model_comp_pvals(N, frequencies):\n",
    "    pNull=np.sum(frequencies)/(np.sum(N))\n",
    "    pFull=frequencies/N\n",
    "    LikelyNull = np.prod(stat.binom.pmf(frequencies,N,pNull))\n",
    "    LikelyFull = np.prod(stat.binom.pmf(frequencies,N,pFull))\n",
    "\n",
    "    chi_sq = -2 * np.log(LikelyNull/LikelyFull)\n",
    "#     print(chi_sq)\n",
    "    return chi_sq, 1-stat.chi2.cdf(chi_sq, 3, )   #% goodness of fit for Full vs Null (whehter there are differences between conditions)\n",
    "\n",
    "#     pEffect=[.75 .75 .75 .25];  #% power to detect three dual state and one single state (87% power with N=15)\n"
   ]
  },
  {
   "cell_type": "code",
   "execution_count": 3,
   "metadata": {},
   "outputs": [],
   "source": [
    "single_fits = pd.read_csv('model_results/single_fit_avgsmootherror_learn_results.csv').drop('Unnamed: 0', axis = 1).reset_index().drop('index', axis = 1)\n",
    "dual_fits = pd.read_csv('model_results/dual_fit_avgsmootherror_learn_results.csv').drop('Unnamed: 0', axis = 1).reset_index().drop('index', axis = 1)\n"
   ]
  },
  {
   "cell_type": "code",
   "execution_count": 14,
   "metadata": {},
   "outputs": [
    {
     "data": {
      "text/plain": [
       "Text(0.5, 1.0, 'Dual State')"
      ]
     },
     "execution_count": 14,
     "metadata": {},
     "output_type": "execute_result"
    },
    {
     "data": {
      "image/png": "[encoded data removed]",
      "text/plain": [
       "<Figure size 640x480 with 1 Axes>"
      ]
     },
     "metadata": {},
     "output_type": "display_data"
    }
   ],
   "source": [
    "eps_measure = dual_fits['Eps']\n",
    "plt.hist(eps_measure)\n",
    "plt.axvline(x = np.median(eps_measure), ls = '--', color = 'black')\n",
    "plt.title('Dual State')"
   ]
  },
  {
   "cell_type": "code",
   "execution_count": null,
   "metadata": {},
   "outputs": [],
   "source": []
  },
  {
   "cell_type": "code",
   "execution_count": 25,
   "metadata": {},
   "outputs": [
    {
     "data": {
      "text/html": [
       "<div>\n",
       "<style scoped>\n",
       "    .dataframe tbody tr th:only-of-type {\n",
       "        vertical-align: middle;\n",
       "    }\n",
       "\n",
       "    .dataframe tbody tr th {\n",
       "        vertical-align: top;\n",
       "    }\n",
       "\n",
       "    .dataframe thead th {\n",
       "        text-align: right;\n",
       "    }\n",
       "</style>\n",
       "<table border=\"1\" class=\"dataframe\">\n",
       "  <thead>\n",
       "    <tr style=\"text-align: right;\">\n",
       "      <th></th>\n",
       "      <th>p_id</th>\n",
       "      <th>gof</th>\n",
       "      <th>A</th>\n",
       "      <th>B</th>\n",
       "      <th>Eps</th>\n",
       "    </tr>\n",
       "  </thead>\n",
       "  <tbody>\n",
       "    <tr>\n",
       "      <th>0</th>\n",
       "      <td>641</td>\n",
       "      <td>-568.615785</td>\n",
       "      <td>0.996673</td>\n",
       "      <td>0.021021</td>\n",
       "      <td>0.068008</td>\n",
       "    </tr>\n",
       "    <tr>\n",
       "      <th>1</th>\n",
       "      <td>642</td>\n",
       "      <td>-299.740737</td>\n",
       "      <td>0.450878</td>\n",
       "      <td>0.328436</td>\n",
       "      <td>0.123934</td>\n",
       "    </tr>\n",
       "    <tr>\n",
       "      <th>2</th>\n",
       "      <td>643</td>\n",
       "      <td>129.453504</td>\n",
       "      <td>1.000000</td>\n",
       "      <td>0.003212</td>\n",
       "      <td>0.323033</td>\n",
       "    </tr>\n",
       "    <tr>\n",
       "      <th>3</th>\n",
       "      <td>644</td>\n",
       "      <td>-302.854612</td>\n",
       "      <td>0.989230</td>\n",
       "      <td>0.022957</td>\n",
       "      <td>0.123073</td>\n",
       "    </tr>\n",
       "    <tr>\n",
       "      <th>4</th>\n",
       "      <td>645</td>\n",
       "      <td>-360.718708</td>\n",
       "      <td>0.996467</td>\n",
       "      <td>0.012669</td>\n",
       "      <td>0.108174</td>\n",
       "    </tr>\n",
       "    <tr>\n",
       "      <th>...</th>\n",
       "      <td>...</td>\n",
       "      <td>...</td>\n",
       "      <td>...</td>\n",
       "      <td>...</td>\n",
       "      <td>...</td>\n",
       "    </tr>\n",
       "    <tr>\n",
       "      <th>57</th>\n",
       "      <td>698</td>\n",
       "      <td>-166.578332</td>\n",
       "      <td>0.997373</td>\n",
       "      <td>0.007383</td>\n",
       "      <td>0.166839</td>\n",
       "    </tr>\n",
       "    <tr>\n",
       "      <th>58</th>\n",
       "      <td>699</td>\n",
       "      <td>-328.295931</td>\n",
       "      <td>0.991345</td>\n",
       "      <td>0.015086</td>\n",
       "      <td>0.116273</td>\n",
       "    </tr>\n",
       "    <tr>\n",
       "      <th>59</th>\n",
       "      <td>700</td>\n",
       "      <td>-274.317933</td>\n",
       "      <td>0.996115</td>\n",
       "      <td>0.014185</td>\n",
       "      <td>0.131169</td>\n",
       "    </tr>\n",
       "    <tr>\n",
       "      <th>60</th>\n",
       "      <td>701</td>\n",
       "      <td>-472.935123</td>\n",
       "      <td>0.999706</td>\n",
       "      <td>0.009481</td>\n",
       "      <td>0.084205</td>\n",
       "    </tr>\n",
       "    <tr>\n",
       "      <th>61</th>\n",
       "      <td>702</td>\n",
       "      <td>-401.385670</td>\n",
       "      <td>0.880611</td>\n",
       "      <td>0.077755</td>\n",
       "      <td>0.098776</td>\n",
       "    </tr>\n",
       "  </tbody>\n",
       "</table>\n",
       "<p>62 rows × 5 columns</p>\n",
       "</div>"
      ],
      "text/plain": [
       "    p_id         gof         A         B       Eps\n",
       "0    641 -568.615785  0.996673  0.021021  0.068008\n",
       "1    642 -299.740737  0.450878  0.328436  0.123934\n",
       "2    643  129.453504  1.000000  0.003212  0.323033\n",
       "3    644 -302.854612  0.989230  0.022957  0.123073\n",
       "4    645 -360.718708  0.996467  0.012669  0.108174\n",
       "..   ...         ...       ...       ...       ...\n",
       "57   698 -166.578332  0.997373  0.007383  0.166839\n",
       "58   699 -328.295931  0.991345  0.015086  0.116273\n",
       "59   700 -274.317933  0.996115  0.014185  0.131169\n",
       "60   701 -472.935123  0.999706  0.009481  0.084205\n",
       "61   702 -401.385670  0.880611  0.077755  0.098776\n",
       "\n",
       "[62 rows x 5 columns]"
      ]
     },
     "execution_count": 25,
     "metadata": {},
     "output_type": "execute_result"
    }
   ],
   "source": []
  },
  {
   "cell_type": "code",
   "execution_count": 74,
   "metadata": {},
   "outputs": [],
   "source": [
    "# single_fits['AIC'] = 2*single_fits['gof']*448 + 2*2\n",
    "# dual_fits['AIC'] = 2*dual_fits['gof']*448 + 2*4\n",
    "\n",
    "# single_fits['BIC'] = 2*single_fits['gof']*448 + np.log(64*7)*2\n",
    "# dual_fits['BIC'] = 2*dual_fits['gof']*448 + np.log(64*7)*4\n",
    "\n",
    "\n",
    "single_fits['AIC'] = 2*single_fits['gof'] + 2*2\n",
    "dual_fits['AIC'] = 2*dual_fits['gof'] + 2*4\n",
    "\n",
    "single_fits['BIC'] = 2*single_fits['gof'] + np.log(64*7)*2\n",
    "dual_fits['BIC'] = 2*dual_fits['gof'] + np.log(64*7)*4"
   ]
  },
  {
   "cell_type": "code",
   "execution_count": 33,
   "metadata": {},
   "outputs": [],
   "source": [
    "single_fits.loc[single_fits['p_id']%2 == 0, 'Rotation'] = 'Sudden'\n",
    "single_fits.loc[single_fits['p_id']%2 == 1, 'Rotation'] = 'Gradual'\n",
    "\n",
    "single_fits.loc[single_fits['p_id']%4 == 0, 'Emphasis'] = 'Accuracy'\n",
    "single_fits.loc[single_fits['p_id']%4 == 1, 'Emphasis'] = 'Accuracy'\n",
    "single_fits.loc[single_fits['p_id']%4 == 2, 'Emphasis'] = 'Speed'\n",
    "single_fits.loc[single_fits['p_id']%4 == 3, 'Emphasis'] = 'Speed'\n",
    "\n",
    "\n",
    "dual_fits.loc[dual_fits['p_id']%2 == 0, 'Rotation'] = 'Sudden'\n",
    "dual_fits.loc[dual_fits['p_id']%2 == 1, 'Rotation'] = 'Gradual'\n",
    "\n",
    "dual_fits.loc[dual_fits['p_id']%4 == 0, 'Emphasis'] = 'Accuracy'\n",
    "dual_fits.loc[dual_fits['p_id']%4 == 1, 'Emphasis'] = 'Accuracy'\n",
    "dual_fits.loc[dual_fits['p_id']%4 == 2, 'Emphasis'] = 'Speed'\n",
    "dual_fits.loc[dual_fits['p_id']%4 == 3, 'Emphasis'] = 'Speed'\n",
    "\n",
    "\n",
    "single_fits['Condition'] = single_fits['Rotation'] + ' ' + single_fits['Emphasis']"
   ]
  },
  {
   "cell_type": "code",
   "execution_count": 51,
   "metadata": {},
   "outputs": [
    {
     "data": {
      "text/html": [
       "<div>\n",
       "<style scoped>\n",
       "    .dataframe tbody tr th:only-of-type {\n",
       "        vertical-align: middle;\n",
       "    }\n",
       "\n",
       "    .dataframe tbody tr th {\n",
       "        vertical-align: top;\n",
       "    }\n",
       "\n",
       "    .dataframe thead th {\n",
       "        text-align: right;\n",
       "    }\n",
       "</style>\n",
       "<table border=\"1\" class=\"dataframe\">\n",
       "  <thead>\n",
       "    <tr style=\"text-align: right;\">\n",
       "      <th></th>\n",
       "      <th>p_id</th>\n",
       "      <th>gof</th>\n",
       "      <th>As</th>\n",
       "      <th>Bs</th>\n",
       "      <th>Af</th>\n",
       "      <th>Bf</th>\n",
       "      <th>Eps</th>\n",
       "      <th>AIC</th>\n",
       "      <th>BIC</th>\n",
       "      <th>Rotation</th>\n",
       "      <th>Emphasis</th>\n",
       "    </tr>\n",
       "  </thead>\n",
       "  <tbody>\n",
       "    <tr>\n",
       "      <th>0</th>\n",
       "      <td>641</td>\n",
       "      <td>-582.312166</td>\n",
       "      <td>0.998290</td>\n",
       "      <td>0.014782</td>\n",
       "      <td>0.897008</td>\n",
       "      <td>0.054225</td>\n",
       "      <td>0.065956</td>\n",
       "      <td>-1156.624332</td>\n",
       "      <td>-1140.205159</td>\n",
       "      <td>Gradual</td>\n",
       "      <td>Accuracy</td>\n",
       "    </tr>\n",
       "    <tr>\n",
       "      <th>1</th>\n",
       "      <td>642</td>\n",
       "      <td>-379.457799</td>\n",
       "      <td>1.000000</td>\n",
       "      <td>0.000820</td>\n",
       "      <td>0.210892</td>\n",
       "      <td>0.325486</td>\n",
       "      <td>0.103732</td>\n",
       "      <td>-750.915599</td>\n",
       "      <td>-734.496426</td>\n",
       "      <td>Sudden</td>\n",
       "      <td>Speed</td>\n",
       "    </tr>\n",
       "    <tr>\n",
       "      <th>2</th>\n",
       "      <td>643</td>\n",
       "      <td>129.453509</td>\n",
       "      <td>1.000000</td>\n",
       "      <td>0.001497</td>\n",
       "      <td>1.000000</td>\n",
       "      <td>0.001715</td>\n",
       "      <td>0.323008</td>\n",
       "      <td>266.907017</td>\n",
       "      <td>283.326190</td>\n",
       "      <td>Gradual</td>\n",
       "      <td>Speed</td>\n",
       "    </tr>\n",
       "    <tr>\n",
       "      <th>3</th>\n",
       "      <td>644</td>\n",
       "      <td>-507.884773</td>\n",
       "      <td>0.996847</td>\n",
       "      <td>0.007339</td>\n",
       "      <td>0.727113</td>\n",
       "      <td>0.171990</td>\n",
       "      <td>0.077878</td>\n",
       "      <td>-1007.769546</td>\n",
       "      <td>-991.350373</td>\n",
       "      <td>Sudden</td>\n",
       "      <td>Accuracy</td>\n",
       "    </tr>\n",
       "    <tr>\n",
       "      <th>4</th>\n",
       "      <td>645</td>\n",
       "      <td>-362.190723</td>\n",
       "      <td>0.996738</td>\n",
       "      <td>0.011608</td>\n",
       "      <td>0.000000</td>\n",
       "      <td>0.131432</td>\n",
       "      <td>0.107808</td>\n",
       "      <td>-716.381446</td>\n",
       "      <td>-699.962273</td>\n",
       "      <td>Gradual</td>\n",
       "      <td>Accuracy</td>\n",
       "    </tr>\n",
       "    <tr>\n",
       "      <th>...</th>\n",
       "      <td>...</td>\n",
       "      <td>...</td>\n",
       "      <td>...</td>\n",
       "      <td>...</td>\n",
       "      <td>...</td>\n",
       "      <td>...</td>\n",
       "      <td>...</td>\n",
       "      <td>...</td>\n",
       "      <td>...</td>\n",
       "      <td>...</td>\n",
       "      <td>...</td>\n",
       "    </tr>\n",
       "    <tr>\n",
       "      <th>57</th>\n",
       "      <td>698</td>\n",
       "      <td>-333.553408</td>\n",
       "      <td>1.000000</td>\n",
       "      <td>0.003947</td>\n",
       "      <td>0.238895</td>\n",
       "      <td>0.314688</td>\n",
       "      <td>0.114924</td>\n",
       "      <td>-659.106817</td>\n",
       "      <td>-642.687644</td>\n",
       "      <td>Sudden</td>\n",
       "      <td>Speed</td>\n",
       "    </tr>\n",
       "    <tr>\n",
       "      <th>58</th>\n",
       "      <td>699</td>\n",
       "      <td>-328.295907</td>\n",
       "      <td>1.000000</td>\n",
       "      <td>0.000000</td>\n",
       "      <td>0.991347</td>\n",
       "      <td>0.015083</td>\n",
       "      <td>0.116308</td>\n",
       "      <td>-648.591814</td>\n",
       "      <td>-632.172641</td>\n",
       "      <td>Gradual</td>\n",
       "      <td>Speed</td>\n",
       "    </tr>\n",
       "    <tr>\n",
       "      <th>59</th>\n",
       "      <td>700</td>\n",
       "      <td>-574.264233</td>\n",
       "      <td>0.998296</td>\n",
       "      <td>0.008740</td>\n",
       "      <td>0.228008</td>\n",
       "      <td>0.424547</td>\n",
       "      <td>0.067154</td>\n",
       "      <td>-1140.528466</td>\n",
       "      <td>-1124.109293</td>\n",
       "      <td>Sudden</td>\n",
       "      <td>Accuracy</td>\n",
       "    </tr>\n",
       "    <tr>\n",
       "      <th>60</th>\n",
       "      <td>701</td>\n",
       "      <td>-472.935110</td>\n",
       "      <td>1.000000</td>\n",
       "      <td>0.000000</td>\n",
       "      <td>0.999706</td>\n",
       "      <td>0.009481</td>\n",
       "      <td>0.084210</td>\n",
       "      <td>-937.870219</td>\n",
       "      <td>-921.451046</td>\n",
       "      <td>Gradual</td>\n",
       "      <td>Accuracy</td>\n",
       "    </tr>\n",
       "    <tr>\n",
       "      <th>61</th>\n",
       "      <td>702</td>\n",
       "      <td>-475.615400</td>\n",
       "      <td>0.991019</td>\n",
       "      <td>0.002736</td>\n",
       "      <td>0.727115</td>\n",
       "      <td>0.113628</td>\n",
       "      <td>0.083694</td>\n",
       "      <td>-943.230800</td>\n",
       "      <td>-926.811627</td>\n",
       "      <td>Sudden</td>\n",
       "      <td>Speed</td>\n",
       "    </tr>\n",
       "  </tbody>\n",
       "</table>\n",
       "<p>62 rows × 11 columns</p>\n",
       "</div>"
      ],
      "text/plain": [
       "    p_id         gof        As        Bs        Af        Bf       Eps  \\\n",
       "0    641 -582.312166  0.998290  0.014782  0.897008  0.054225  0.065956   \n",
       "1    642 -379.457799  1.000000  0.000820  0.210892  0.325486  0.103732   \n",
       "2    643  129.453509  1.000000  0.001497  1.000000  0.001715  0.323008   \n",
       "3    644 -507.884773  0.996847  0.007339  0.727113  0.171990  0.077878   \n",
       "4    645 -362.190723  0.996738  0.011608  0.000000  0.131432  0.107808   \n",
       "..   ...         ...       ...       ...       ...       ...       ...   \n",
       "57   698 -333.553408  1.000000  0.003947  0.238895  0.314688  0.114924   \n",
       "58   699 -328.295907  1.000000  0.000000  0.991347  0.015083  0.116308   \n",
       "59   700 -574.264233  0.998296  0.008740  0.228008  0.424547  0.067154   \n",
       "60   701 -472.935110  1.000000  0.000000  0.999706  0.009481  0.084210   \n",
       "61   702 -475.615400  0.991019  0.002736  0.727115  0.113628  0.083694   \n",
       "\n",
       "            AIC          BIC Rotation  Emphasis  \n",
       "0  -1156.624332 -1140.205159  Gradual  Accuracy  \n",
       "1   -750.915599  -734.496426   Sudden     Speed  \n",
       "2    266.907017   283.326190  Gradual     Speed  \n",
       "3  -1007.769546  -991.350373   Sudden  Accuracy  \n",
       "4   -716.381446  -699.962273  Gradual  Accuracy  \n",
       "..          ...          ...      ...       ...  \n",
       "57  -659.106817  -642.687644   Sudden     Speed  \n",
       "58  -648.591814  -632.172641  Gradual     Speed  \n",
       "59 -1140.528466 -1124.109293   Sudden  Accuracy  \n",
       "60  -937.870219  -921.451046  Gradual  Accuracy  \n",
       "61  -943.230800  -926.811627   Sudden     Speed  \n",
       "\n",
       "[62 rows x 11 columns]"
      ]
     },
     "execution_count": 51,
     "metadata": {},
     "output_type": "execute_result"
    }
   ],
   "source": [
    "dual_fits"
   ]
  },
  {
   "cell_type": "code",
   "execution_count": 52,
   "metadata": {},
   "outputs": [
    {
     "data": {
      "text/html": [
       "<div>\n",
       "<style scoped>\n",
       "    .dataframe tbody tr th:only-of-type {\n",
       "        vertical-align: middle;\n",
       "    }\n",
       "\n",
       "    .dataframe tbody tr th {\n",
       "        vertical-align: top;\n",
       "    }\n",
       "\n",
       "    .dataframe thead th {\n",
       "        text-align: right;\n",
       "    }\n",
       "</style>\n",
       "<table border=\"1\" class=\"dataframe\">\n",
       "  <thead>\n",
       "    <tr style=\"text-align: right;\">\n",
       "      <th></th>\n",
       "      <th>p_id</th>\n",
       "      <th>gof</th>\n",
       "      <th>A</th>\n",
       "      <th>B</th>\n",
       "      <th>Eps</th>\n",
       "      <th>AIC</th>\n",
       "      <th>BIC</th>\n",
       "      <th>Rotation</th>\n",
       "      <th>Emphasis</th>\n",
       "      <th>Condition</th>\n",
       "    </tr>\n",
       "  </thead>\n",
       "  <tbody>\n",
       "    <tr>\n",
       "      <th>12</th>\n",
       "      <td>653</td>\n",
       "      <td>-403.174898</td>\n",
       "      <td>0.994407</td>\n",
       "      <td>0.018768</td>\n",
       "      <td>0.098382</td>\n",
       "      <td>-802.349796</td>\n",
       "      <td>-794.14021</td>\n",
       "      <td>Gradual</td>\n",
       "      <td>Accuracy</td>\n",
       "      <td>Gradual Accuracy</td>\n",
       "    </tr>\n",
       "  </tbody>\n",
       "</table>\n",
       "</div>"
      ],
      "text/plain": [
       "    p_id         gof         A         B       Eps         AIC        BIC  \\\n",
       "12   653 -403.174898  0.994407  0.018768  0.098382 -802.349796 -794.14021   \n",
       "\n",
       "   Rotation  Emphasis         Condition  \n",
       "12  Gradual  Accuracy  Gradual Accuracy  "
      ]
     },
     "execution_count": 52,
     "metadata": {},
     "output_type": "execute_result"
    }
   ],
   "source": [
    "single_fits[single_fits['p_id'] == 653]"
   ]
  },
  {
   "cell_type": "code",
   "execution_count": 53,
   "metadata": {},
   "outputs": [
    {
     "data": {
      "text/html": [
       "<div>\n",
       "<style scoped>\n",
       "    .dataframe tbody tr th:only-of-type {\n",
       "        vertical-align: middle;\n",
       "    }\n",
       "\n",
       "    .dataframe tbody tr th {\n",
       "        vertical-align: top;\n",
       "    }\n",
       "\n",
       "    .dataframe thead th {\n",
       "        text-align: right;\n",
       "    }\n",
       "</style>\n",
       "<table border=\"1\" class=\"dataframe\">\n",
       "  <thead>\n",
       "    <tr style=\"text-align: right;\">\n",
       "      <th></th>\n",
       "      <th>p_id</th>\n",
       "      <th>gof</th>\n",
       "      <th>As</th>\n",
       "      <th>Bs</th>\n",
       "      <th>Af</th>\n",
       "      <th>Bf</th>\n",
       "      <th>Eps</th>\n",
       "      <th>AIC</th>\n",
       "      <th>BIC</th>\n",
       "      <th>Rotation</th>\n",
       "      <th>Emphasis</th>\n",
       "    </tr>\n",
       "  </thead>\n",
       "  <tbody>\n",
       "    <tr>\n",
       "      <th>12</th>\n",
       "      <td>653</td>\n",
       "      <td>-403.521925</td>\n",
       "      <td>0.997144</td>\n",
       "      <td>0.009758</td>\n",
       "      <td>0.982025</td>\n",
       "      <td>0.013267</td>\n",
       "      <td>0.098308</td>\n",
       "      <td>-799.043851</td>\n",
       "      <td>-782.624678</td>\n",
       "      <td>Gradual</td>\n",
       "      <td>Accuracy</td>\n",
       "    </tr>\n",
       "  </tbody>\n",
       "</table>\n",
       "</div>"
      ],
      "text/plain": [
       "    p_id         gof        As        Bs        Af        Bf       Eps  \\\n",
       "12   653 -403.521925  0.997144  0.009758  0.982025  0.013267  0.098308   \n",
       "\n",
       "           AIC         BIC Rotation  Emphasis  \n",
       "12 -799.043851 -782.624678  Gradual  Accuracy  "
      ]
     },
     "execution_count": 53,
     "metadata": {},
     "output_type": "execute_result"
    }
   ],
   "source": [
    "dual_fits[dual_fits['p_id'] == 653]"
   ]
  },
  {
   "cell_type": "code",
   "execution_count": 54,
   "metadata": {},
   "outputs": [
    {
     "data": {
      "text/plain": [
       "0"
      ]
     },
     "execution_count": 54,
     "metadata": {},
     "output_type": "execute_result"
    }
   ],
   "source": [
    "sum(dual_fits['Bs'] > dual_fits['Bf'])"
   ]
  },
  {
   "cell_type": "code",
   "execution_count": 56,
   "metadata": {},
   "outputs": [
    {
     "data": {
      "text/plain": [
       "Gradual Accuracy    16\n",
       "Sudden Speed        16\n",
       "Gradual Speed       15\n",
       "Sudden Accuracy     15\n",
       "Name: Condition, dtype: int64"
      ]
     },
     "execution_count": 56,
     "metadata": {},
     "output_type": "execute_result"
    }
   ],
   "source": [
    "single_fits['Condition'].value_counts()"
   ]
  },
  {
   "cell_type": "code",
   "execution_count": 57,
   "metadata": {},
   "outputs": [
    {
     "data": {
      "text/plain": [
       "Sudden Speed        16\n",
       "Sudden Accuracy     15\n",
       "Gradual Accuracy     6\n",
       "Gradual Speed        1\n",
       "Name: Condition, dtype: int64"
      ]
     },
     "execution_count": 57,
     "metadata": {},
     "output_type": "execute_result"
    }
   ],
   "source": [
    "single_fits.loc[single_fits['AIC'] > dual_fits['AIC'], 'Condition'].value_counts()"
   ]
  },
  {
   "cell_type": "code",
   "execution_count": 93,
   "metadata": {},
   "outputs": [
    {
     "data": {
      "text/plain": [
       "(54.243607324790155, 9.955480884116241e-12)"
      ]
     },
     "execution_count": 93,
     "metadata": {},
     "output_type": "execute_result"
    }
   ],
   "source": [
    "model_comp_pvals(np.array([16, 16, 15, 15]), np.array([6, 16, 15, 1]))"
   ]
  },
  {
   "cell_type": "code",
   "execution_count": 58,
   "metadata": {},
   "outputs": [
    {
     "data": {
      "text/plain": [
       "Sudden Speed        16\n",
       "Sudden Accuracy     15\n",
       "Gradual Accuracy     2\n",
       "Name: Condition, dtype: int64"
      ]
     },
     "execution_count": 58,
     "metadata": {},
     "output_type": "execute_result"
    }
   ],
   "source": [
    "single_fits.loc[single_fits['BIC'] > dual_fits['BIC'], 'Condition'].value_counts()"
   ]
  },
  {
   "cell_type": "code",
   "execution_count": 94,
   "metadata": {},
   "outputs": [
    {
     "data": {
      "text/plain": [
       "(73.6353613893822, 6.661338147750939e-16)"
      ]
     },
     "execution_count": 94,
     "metadata": {},
     "output_type": "execute_result"
    }
   ],
   "source": [
    "model_comp_pvals(np.array([16, 16, 15, 15]), np.array([16, 2, 15, 0]))"
   ]
  },
  {
   "cell_type": "code",
   "execution_count": 59,
   "metadata": {},
   "outputs": [
    {
     "data": {
      "text/plain": [
       "Gradual Speed       14\n",
       "Gradual Accuracy     6\n",
       "Name: Condition, dtype: int64"
      ]
     },
     "execution_count": 59,
     "metadata": {},
     "output_type": "execute_result"
    }
   ],
   "source": [
    "single_fits.loc[(single_fits['gof'].values < dual_fits['gof'].values), 'Condition'].value_counts()\n"
   ]
  },
  {
   "cell_type": "code",
   "execution_count": 60,
   "metadata": {},
   "outputs": [
    {
     "data": {
      "text/plain": [
       "(array([32.,  4.,  4.,  3.,  3.,  3.,  2.,  6.,  3.,  2.]),\n",
       " array([-1.54764725e-02,  2.99807011e+01,  5.99768787e+01,  8.99730564e+01,\n",
       "         1.19969234e+02,  1.49965412e+02,  1.79961589e+02,  2.09957767e+02,\n",
       "         2.39953944e+02,  2.69950122e+02,  2.99946300e+02]),\n",
       " <BarContainer object of 10 artists>)"
      ]
     },
     "execution_count": 60,
     "metadata": {},
     "output_type": "execute_result"
    },
    {
     "data": {
      "image/png": "[encoded data removed]",
      "text/plain": [
       "<Figure size 640x480 with 1 Axes>"
      ]
     },
     "metadata": {},
     "output_type": "display_data"
    }
   ],
   "source": [
    "plt.hist(single_fits['gof'].values - dual_fits['gof'].values)"
   ]
  },
  {
   "cell_type": "code",
   "execution_count": 62,
   "metadata": {},
   "outputs": [],
   "source": [
    "# single_fits['LR_ratio'] = 2* (single_fits['gof'].values - dual_fits['gof'].values)*640\n",
    "single_fits['LR_ratio'] = 2* (single_fits['gof'].values - dual_fits['gof'].values)"
   ]
  },
  {
   "cell_type": "code",
   "execution_count": 63,
   "metadata": {},
   "outputs": [],
   "source": [
    "single_fits['chi2'] = stat.chi2.sf(single_fits['LR_ratio'], 2)"
   ]
  },
  {
   "cell_type": "code",
   "execution_count": 64,
   "metadata": {},
   "outputs": [
    {
     "data": {
      "text/plain": [
       "Sudden Speed        16\n",
       "Sudden Accuracy     15\n",
       "Gradual Accuracy     6\n",
       "Gradual Speed        1\n",
       "Name: Condition, dtype: int64"
      ]
     },
     "execution_count": 64,
     "metadata": {},
     "output_type": "execute_result"
    }
   ],
   "source": [
    "single_fits.loc[single_fits['chi2'] < 0.05, 'Condition'].value_counts()"
   ]
  },
  {
   "cell_type": "code",
   "execution_count": 95,
   "metadata": {},
   "outputs": [
    {
     "data": {
      "text/plain": [
       "(54.243607324790155, 9.955480884116241e-12)"
      ]
     },
     "execution_count": 95,
     "metadata": {},
     "output_type": "execute_result"
    }
   ],
   "source": [
    "model_comp_pvals(np.array([16, 16, 15, 15]), np.array([6, 16, 15, 1]))"
   ]
  },
  {
   "attachments": {},
   "cell_type": "markdown",
   "metadata": {},
   "source": [
    "# Cross Validation Comparisons"
   ]
  },
  {
   "cell_type": "code",
   "execution_count": 65,
   "metadata": {},
   "outputs": [],
   "source": [
    "single_fits = pd.read_csv('model_results/single_fit_avgsmootherror_learn_results_cv.csv')\n",
    "dual_fits = pd.read_csv('model_results/dual_fit_avgsmootherror_learn_results_cv.csv')\n",
    "\n",
    "single_fits.loc[single_fits['p_id']%2 == 0, 'Rotation'] = 'Sudden'\n",
    "single_fits.loc[single_fits['p_id']%2 == 1, 'Rotation'] = 'Gradual'\n",
    "\n",
    "single_fits.loc[single_fits['p_id']%4 == 0, 'Emphasis'] = 'Accuracy'\n",
    "single_fits.loc[single_fits['p_id']%4 == 1, 'Emphasis'] = 'Accuracy'\n",
    "single_fits.loc[single_fits['p_id']%4 == 2, 'Emphasis'] = 'Speed'\n",
    "single_fits.loc[single_fits['p_id']%4 == 3, 'Emphasis'] = 'Speed'\n",
    "\n",
    "\n",
    "dual_fits.loc[dual_fits['p_id']%2 == 0, 'Rotation'] = 'Sudden'\n",
    "dual_fits.loc[dual_fits['p_id']%2 == 1, 'Rotation'] = 'Gradual'\n",
    "\n",
    "dual_fits.loc[dual_fits['p_id']%4 == 0, 'Emphasis'] = 'Accuracy'\n",
    "dual_fits.loc[dual_fits['p_id']%4 == 1, 'Emphasis'] = 'Accuracy'\n",
    "dual_fits.loc[dual_fits['p_id']%4 == 2, 'Emphasis'] = 'Speed'\n",
    "dual_fits.loc[dual_fits['p_id']%4 == 3, 'Emphasis'] = 'Speed'\n",
    "\n",
    "\n",
    "single_fits['Condition'] = single_fits['Rotation'] + ' ' + single_fits['Emphasis']"
   ]
  },
  {
   "cell_type": "code",
   "execution_count": 66,
   "metadata": {},
   "outputs": [],
   "source": [
    "dual_fits['dual win'] = (single_fits['test gof'].values >= dual_fits['test gof'].values).astype(int)"
   ]
  },
  {
   "cell_type": "code",
   "execution_count": 67,
   "metadata": {},
   "outputs": [],
   "source": [
    "def compute_wins(dual_fits):\n",
    "    # Drop column: 'Unnamed: 0'\n",
    "    # dual_fits = dual_fits.drop(columns=['Unnamed: 0'])\n",
    "    # Performed 1 aggregation grouped on columns: 'p_id', 'Rotation' and 2 other columns\n",
    "    dual_fits = dual_fits.groupby(['p_id', 'Rotation', 'Emphasis', 'dual win']).agg(dualwin_count=('dual win', 'count')).reset_index()\n",
    "    # Filter rows based on column: 'dual win'\n",
    "    dual_fits = dual_fits[dual_fits['dual win'] == 1]\n",
    "    return dual_fits\n",
    "\n",
    "dual_fits_wins = compute_wins(dual_fits.copy())\n",
    "dual_fits_wins['Condition'] = dual_fits_wins['Rotation'] + ' ' + dual_fits_wins['Emphasis']"
   ]
  },
  {
   "cell_type": "code",
   "execution_count": 69,
   "metadata": {},
   "outputs": [
    {
     "data": {
      "text/plain": [
       "Sudden Speed        15\n",
       "Sudden Accuracy     15\n",
       "Gradual Accuracy     8\n",
       "Gradual Speed        3\n",
       "Name: Condition, dtype: int64"
      ]
     },
     "execution_count": 69,
     "metadata": {},
     "output_type": "execute_result"
    }
   ],
   "source": [
    "dual_fits_wins.loc[dual_fits_wins['dualwin_count'] > 57, 'Condition'].value_counts()"
   ]
  },
  {
   "cell_type": "code",
   "execution_count": 96,
   "metadata": {},
   "outputs": [
    {
     "data": {
      "text/plain": [
       "(34.70769632878377, 1.4043798390872553e-07)"
      ]
     },
     "execution_count": 96,
     "metadata": {},
     "output_type": "execute_result"
    }
   ],
   "source": [
    "model_comp_pvals(np.array([16, 16, 15, 15]), np.array([8, 15, 15, 3]))"
   ]
  },
  {
   "cell_type": "code",
   "execution_count": 70,
   "metadata": {},
   "outputs": [
    {
     "data": {
      "text/plain": [
       "(array([3279.,  448.,  391.,  434.,  292.,  245.,  466.,  454.,  108.,\n",
       "          83.]),\n",
       " array([-1.98949339e-01,  2.99858520e+01,  6.01706534e+01,  9.03554547e+01,\n",
       "         1.20540256e+02,  1.50725057e+02,  1.80909859e+02,  2.11094660e+02,\n",
       "         2.41279461e+02,  2.71464263e+02,  3.01649064e+02]),\n",
       " <BarContainer object of 10 artists>)"
      ]
     },
     "execution_count": 70,
     "metadata": {},
     "output_type": "execute_result"
    },
    {
     "data": {
      "image/png": "[encoded data removed]",
      "text/plain": [
       "<Figure size 640x480 with 1 Axes>"
      ]
     },
     "metadata": {},
     "output_type": "display_data"
    }
   ],
   "source": [
    "plt.hist(single_fits['gof'].values - dual_fits['gof'].values)"
   ]
  },
  {
   "cell_type": "code",
   "execution_count": null,
   "metadata": {},
   "outputs": [],
   "source": []
  },
  {
   "attachments": {},
   "cell_type": "markdown",
   "metadata": {},
   "source": [
    "2/15"
   ]
  },
  {
   "attachments": {},
   "cell_type": "markdown",
   "metadata": {},
   "source": [
    "# Assessing Model fits visually"
   ]
  },
  {
   "cell_type": "code",
   "execution_count": 21,
   "metadata": {},
   "outputs": [],
   "source": [
    "# from model_fit_functions import *\n",
    "df = pd.read_csv('df_allphases.csv')\n",
    "df = df.loc[((df['block'] >= 1) & (df['block'] <= 7))].reset_index().drop('index', axis = 1)\n",
    "# df"
   ]
  },
  {
   "cell_type": "code",
   "execution_count": 145,
   "metadata": {},
   "outputs": [],
   "source": [
    "from model_fit_functions import *\n",
    "pid = 643\n",
    "def model_fits(pid):\n",
    "    ptype = df.loc[df['p_id'] == pid, 'Rotation'].unique()\n",
    "\n",
    "    A = single_fits.loc[single_fits['p_id'] == pid, 'A'].values[0]\n",
    "    B = single_fits.loc[single_fits['p_id'] == pid, 'B'].values[0]\n",
    "    As = dual_fits.loc[dual_fits['p_id'] == pid, 'As'].values[0]\n",
    "    Bs = dual_fits.loc[dual_fits['p_id'] == pid, 'Bs'].values[0]\n",
    "    Af = dual_fits.loc[dual_fits['p_id'] == pid, 'Af'].values[0]\n",
    "    Bf = dual_fits.loc[dual_fits['p_id'] == pid, 'Bf'].values[0]\n",
    "    data = df.loc[df['p_id'] == pid, 'avg smooth errors'].values\n",
    "    s = single_state_model(A, B, len(data), ptype)\n",
    "    d = dual_state_model(As, Bs, Af, Bf, len(data), ptype)\n",
    "    return (data, s, d)\n",
    "# d, s, du = model_fits(644)\n",
    "# plt.plot(d)\n",
    "# plt.plot(s)\n",
    "# plt.plot(du)\n"
   ]
  },
  {
   "cell_type": "code",
   "execution_count": 170,
   "metadata": {},
   "outputs": [
    {
     "name": "stdout",
     "output_type": "stream",
     "text": [
      "0\n"
     ]
    }
   ],
   "source": [
    "data = []\n",
    "single_state = []\n",
    "dual_state = []\n",
    "print(len(dual_state))\n",
    "for pid in df['p_id'].unique():\n",
    "    ptype = df.loc[df['p_id'] == pid, 'Rotation'].unique()\n",
    "    if ptype == 'Gradual':\n",
    "        continue\n",
    "    d, s, du = model_fits(pid)\n",
    "    data.append(d)\n",
    "    single_state.append(s)\n",
    "    dual_state.append(du)    \n",
    "    # print(len(np.ravel(dual_state)))\n"
   ]
  },
  {
   "cell_type": "code",
   "execution_count": 168,
   "metadata": {},
   "outputs": [
    {
     "data": {
      "text/plain": [
       "Text(0.5, 1.0, 'Dual State Predictions')"
      ]
     },
     "execution_count": 168,
     "metadata": {},
     "output_type": "execute_result"
    },
    {
     "data": {
      "image/png": "[encoded data removed]",
      "text/plain": [
       "<Figure size 640x480 with 1 Axes>"
      ]
     },
     "metadata": {},
     "output_type": "display_data"
    }
   ],
   "source": [
    "plt.hist(np.ravel(dual_state))\n",
    "plt.axvline(x = np.median(np.ravel(dual_state)), ls = '--', color = 'black')\n",
    "plt.title('Dual State Predictions')"
   ]
  },
  {
   "cell_type": "code",
   "execution_count": 171,
   "metadata": {},
   "outputs": [
    {
     "data": {
      "text/plain": [
       "Text(0.5, 1.0, 'Dual State Predictions')"
      ]
     },
     "execution_count": 171,
     "metadata": {},
     "output_type": "execute_result"
    },
    {
     "data": {
      "image/png": "[encoded data removed]",
      "text/plain": [
       "<Figure size 640x480 with 1 Axes>"
      ]
     },
     "metadata": {},
     "output_type": "display_data"
    }
   ],
   "source": [
    "plt.hist(np.ravel(dual_state))\n",
    "plt.axvline(x = np.median(np.ravel(dual_state)), ls = '--', color = 'black')\n",
    "plt.title('Dual State Predictions')"
   ]
  },
  {
   "cell_type": "code",
   "execution_count": 169,
   "metadata": {},
   "outputs": [
    {
     "data": {
      "text/plain": [
       "Text(0.5, 1.0, 'Single State Predictions')"
      ]
     },
     "execution_count": 169,
     "metadata": {},
     "output_type": "execute_result"
    },
    {
     "data": {
      "image/png": "[encoded data removed]",
      "text/plain": [
       "<Figure size 640x480 with 1 Axes>"
      ]
     },
     "metadata": {},
     "output_type": "display_data"
    }
   ],
   "source": [
    "plt.hist(np.delete(np.ravel(single_state), np.ravel(single_state) > 1.3))\n",
    "plt.axvline(x = np.median(np.ravel(single_state)), ls = '--', color = 'black')\n",
    "plt.title('Single State Predictions')"
   ]
  },
  {
   "cell_type": "code",
   "execution_count": 172,
   "metadata": {},
   "outputs": [
    {
     "data": {
      "text/plain": [
       "Text(0.5, 1.0, 'Single State Predictions')"
      ]
     },
     "execution_count": 172,
     "metadata": {},
     "output_type": "execute_result"
    },
    {
     "data": {
      "image/png": "[encoded data removed]",
      "text/plain": [
       "<Figure size 640x480 with 1 Axes>"
      ]
     },
     "metadata": {},
     "output_type": "display_data"
    }
   ],
   "source": [
    "plt.hist(np.delete(np.ravel(single_state), np.ravel(single_state) > 1.3))\n",
    "plt.axvline(x = np.median(np.ravel(single_state)), ls = '--', color = 'black')\n",
    "plt.title('Single State Predictions')"
   ]
  },
  {
   "cell_type": "code",
   "execution_count": 165,
   "metadata": {},
   "outputs": [
    {
     "data": {
      "text/plain": [
       "(array([  31., 2944., 3381., 3147., 1080.,  825., 1714.,  287.,  236.,\n",
       "         212.]),\n",
       " array([0.        , 0.10471976, 0.20943951, 0.31415927, 0.41887902,\n",
       "        0.52359878, 0.62831853, 0.73303829, 0.83775804, 0.9424778 ,\n",
       "        1.04719755]),\n",
       " <BarContainer object of 10 artists>)"
      ]
     },
     "execution_count": 165,
     "metadata": {},
     "output_type": "execute_result"
    },
    {
     "data": {
      "image/png": "[encoded data removed]",
      "text/plain": [
       "<Figure size 640x480 with 1 Axes>"
      ]
     },
     "metadata": {},
     "output_type": "display_data"
    }
   ],
   "source": []
  },
  {
   "cell_type": "code",
   "execution_count": null,
   "metadata": {},
   "outputs": [],
   "source": []
  },
  {
   "cell_type": "code",
   "execution_count": null,
   "metadata": {},
   "outputs": [],
   "source": []
  },
  {
   "cell_type": "code",
   "execution_count": null,
   "metadata": {},
   "outputs": [],
   "source": []
  },
  {
   "cell_type": "code",
   "execution_count": 7,
   "metadata": {},
   "outputs": [
    {
     "data": {
      "text/plain": [
       "(   p_id         gof         A         B       Eps\n",
       " 5   646 -189.147641  0.991379  0.049439  0.158631,\n",
       "    p_id         gof   As        Bs        Af        Bf       Eps\n",
       " 5   646 -352.481897  1.0  0.010752  0.956345  0.065784  0.110153)"
      ]
     },
     "execution_count": 7,
     "metadata": {},
     "output_type": "execute_result"
    }
   ],
   "source": [
    "single_fits[single_fits.p_id == pid], dual_fits[dual_fits.p_id == pid]"
   ]
  },
  {
   "cell_type": "code",
   "execution_count": 24,
   "metadata": {},
   "outputs": [
    {
     "data": {
      "text/plain": [
       "4.48"
      ]
     },
     "execution_count": 24,
     "metadata": {},
     "output_type": "execute_result"
    }
   ],
   "source": [
    "448*(.01)"
   ]
  },
  {
   "cell_type": "code",
   "execution_count": null,
   "metadata": {},
   "outputs": [
    {
     "data": {
      "text/plain": [
       "1.0471975511965976"
      ]
     },
     "execution_count": 10,
     "metadata": {},
     "output_type": "execute_result"
    }
   ],
   "source": [
    "np.pi/3"
   ]
  },
  {
   "cell_type": "code",
   "execution_count": 19,
   "metadata": {},
   "outputs": [],
   "source": [
    "def calc_relearn_likelihood(params, data, model, p_type, fit_type = 'regular', train_indices = None):\n",
    "    if model == 'single state':\n",
    "        model_pred = single_state_model(params[0], params[1], len(data), p_type)[512:]\n",
    "    else:\n",
    "        model_pred = dual_state_model(params[0], params[1], params[2], params[3], len(data), p_type)[512:]\n",
    "\n",
    "    log_lik = np.sum(stat.norm.logpdf(data[512:], model_pred, params[-1]))\n",
    "    # print(params)\n",
    "    return -log_lik"
   ]
  },
  {
   "cell_type": "code",
   "execution_count": 20,
   "metadata": {},
   "outputs": [],
   "source": [
    "relearn_ll_ss = []\n",
    "relearn_ll_ds = []\n",
    "\n",
    "for pid in df['p_id'].unique():\n",
    "    ptype = df.loc[df['p_id'] == pid, 'Rotation'].unique()\n",
    "\n",
    "    A = single_fits.loc[single_fits['p_id'] == pid, 'A'].values[0]\n",
    "    B = single_fits.loc[single_fits['p_id'] == pid, 'B'].values[0]\n",
    "    Eps_ss = single_fits.loc[single_fits['p_id'] == pid, 'Eps'].values[0]\n",
    "\n",
    "    As = dual_fits.loc[dual_fits['p_id'] == pid, 'As'].values[0]\n",
    "    Bs = dual_fits.loc[dual_fits['p_id'] == pid, 'Bs'].values[0]\n",
    "    Af = dual_fits.loc[dual_fits['p_id'] == pid, 'Af'].values[0]\n",
    "    Bf = dual_fits.loc[dual_fits['p_id'] == pid, 'Bf'].values[0]\n",
    "    Eps_ds = dual_fits.loc[dual_fits['p_id'] == pid, 'Eps'].values[0]\n",
    "\n",
    "    data = df.loc[df['p_id'] == pid, 'avg errors'].values\n",
    "    single_fits.loc[single_fits['p_id'] == pid, 'relearn_ll_ss'] = calc_relearn_likelihood([A, B, Eps_ss], data, 'single state', ptype)\n",
    "    dual_fits.loc[dual_fits['p_id'] == pid, 'relearn_ll_ds'] = calc_relearn_likelihood([As, Bs, Af, Bf, Eps_ds], data, 'dual state', ptype)\n",
    "\n",
    "    # relearn_ll_ds.append(calc_relearn_likelihood([As, Bs, Af, Bf, Eps_ss], data, 'dual state', ptype))"
   ]
  },
  {
   "cell_type": "code",
   "execution_count": 21,
   "metadata": {},
   "outputs": [
    {
     "data": {
      "text/plain": [
       "Gradual Accuracy    13\n",
       "Sudden Speed        10\n",
       "Gradual Speed        9\n",
       "Sudden Accuracy      9\n",
       "Name: Condition, dtype: int64"
      ]
     },
     "execution_count": 21,
     "metadata": {},
     "output_type": "execute_result"
    }
   ],
   "source": [
    "single_fits.loc[single_fits['relearn_ll_ss'] > dual_fits['relearn_ll_ds'], 'Condition'].value_counts()"
   ]
  },
  {
   "cell_type": "code",
   "execution_count": 92,
   "metadata": {},
   "outputs": [
    {
     "data": {
      "text/plain": [
       "(2.3886061641791474, 0.49575910576591375)"
      ]
     },
     "execution_count": 92,
     "metadata": {},
     "output_type": "execute_result"
    }
   ],
   "source": [
    "model_comp_pvals(np.array([16, 16, 15, 15]), np.array([13, 10, 9, 9]))"
   ]
  },
  {
   "cell_type": "code",
   "execution_count": null,
   "metadata": {},
   "outputs": [],
   "source": []
  },
  {
   "cell_type": "code",
   "execution_count": null,
   "metadata": {},
   "outputs": [],
   "source": []
  },
  {
   "cell_type": "code",
   "execution_count": null,
   "metadata": {},
   "outputs": [],
   "source": []
  },
  {
   "cell_type": "markdown",
   "metadata": {},
   "source": [
    "# Learning X Retention plots"
   ]
  },
  {
   "cell_type": "code",
   "execution_count": 31,
   "metadata": {},
   "outputs": [],
   "source": [
    "single_fits['A x B'] = single_fits['A'] * single_fits['B']\n",
    "dual_fits['As x Bs'] = dual_fits['As'] * dual_fits['Bs']\n",
    "dual_fits['Af x Bf'] = dual_fits['Af'] * dual_fits['Bf']\n",
    "\n"
   ]
  },
  {
   "cell_type": "code",
   "execution_count": 36,
   "metadata": {},
   "outputs": [],
   "source": [
    "single_fits['Single State'] = single_fits['A x B']\n",
    "single_fits['Fast State'] = dual_fits['Af x Bf']\n",
    "single_fits['Slow State'] = dual_fits['As x Bs']\n",
    "learn_times_reten = single_fits[['p_id', 'Condition', 'Single State', 'Fast State', 'Slow State']]\n"
   ]
  },
  {
   "cell_type": "code",
   "execution_count": 38,
   "metadata": {},
   "outputs": [],
   "source": [
    "learn_times_reten['sub_avg'] = learn_times_reten[['Single State', 'Fast State', 'Slow State']].mean(axis = 1)"
   ]
  },
  {
   "cell_type": "code",
   "execution_count": 51,
   "metadata": {},
   "outputs": [],
   "source": [
    "learn_times_reten['Single State'] = learn_times_reten['Single State'] - learn_times_reten['sub_avg'] + np.mean(learn_times_reten['sub_avg'].values)\n",
    "learn_times_reten['Fast State'] = learn_times_reten['Fast State'] - learn_times_reten['sub_avg'] + np.mean(learn_times_reten['sub_avg'].values)\n",
    "learn_times_reten['Slow State'] = learn_times_reten['Slow State'] - learn_times_reten['sub_avg'] + np.mean(learn_times_reten['sub_avg'].values)\n"
   ]
  },
  {
   "cell_type": "code",
   "execution_count": 52,
   "metadata": {},
   "outputs": [],
   "source": [
    "learn_times_reten_melt = learn_times_reten.melt(id_vars=['p_id', 'Condition'], value_name='improvement factor', value_vars=['Single State', 'Fast State', 'Slow State'], var_name='Model')\n"
   ]
  },
  {
   "cell_type": "code",
   "execution_count": 60,
   "metadata": {},
   "outputs": [
    {
     "data": {
      "text/plain": [
       "<seaborn.axisgrid.FacetGrid at 0x1d788f34ed0>"
      ]
     },
     "execution_count": 60,
     "metadata": {},
     "output_type": "execute_result"
    },
    {
     "data": {
      "image/png": "[encoded data removed]",
      "text/plain": [
       "<Figure size 633.875x500 with 1 Axes>"
      ]
     },
     "metadata": {},
     "output_type": "display_data"
    }
   ],
   "source": [
    "g = sns.catplot(x = 'Condition', y = 'improvement factor', hue = 'Model', \n",
    "            data = learn_times_reten_melt, \n",
    "            kind = 'bar', capsize = .2, order = ['Sudden Speed', 'Sudden Accuracy', 'Gradual Speed', 'Gradual Accuracy']\n",
    "            )\n",
    "g.set_xticklabels(['Sudden \\n Speed', 'Sudden \\n Accuracy', 'Gradual \\n Speed', 'Gradual \\n Accuracy'])\n",
    "g.set_xlabels('')\n",
    "g.set_ylabels('Learning x Retention')"
   ]
  },
  {
   "cell_type": "code",
   "execution_count": null,
   "metadata": {},
   "outputs": [],
   "source": []
  },
  {
   "cell_type": "code",
   "execution_count": 75,
   "metadata": {},
   "outputs": [
    {
     "data": {
      "text/plain": [
       "Ttest_indResult(statistic=2.427839487974701, pvalue=0.018205704440240954)"
      ]
     },
     "execution_count": 75,
     "metadata": {},
     "output_type": "execute_result"
    }
   ],
   "source": [
    "oth_ss = learn_times_reten.loc[learn_times_reten['Condition'] == 'Gradual Speed', 'Slow State'].values\n",
    "oth_fs = learn_times_reten.loc[learn_times_reten['Condition'] != 'Gradual Speed', 'Slow State'].values\n",
    "\n",
    "stat.ttest_ind(oth_ss, oth_fs)"
   ]
  },
  {
   "cell_type": "code",
   "execution_count": null,
   "metadata": {},
   "outputs": [],
   "source": []
  },
  {
   "cell_type": "code",
   "execution_count": null,
   "metadata": {},
   "outputs": [],
   "source": []
  },
  {
   "cell_type": "code",
   "execution_count": null,
   "metadata": {},
   "outputs": [],
   "source": []
  },
  {
   "cell_type": "code",
   "execution_count": null,
   "metadata": {},
   "outputs": [],
   "source": []
  }
 ],
 "metadata": {
  "kernelspec": {
   "display_name": "vma",
   "language": "python",
   "name": "python3"
  },
  "language_info": {
   "codemirror_mode": {
    "name": "ipython",
    "version": 3
   },
   "file_extension": ".py",
   "mimetype": "text/x-python",
   "name": "python",
   "nbconvert_exporter": "python",
   "pygments_lexer": "ipython3",
   "version": "3.11.4"
  },
  "orig_nbformat": 4
 },
 "nbformat": 4,
 "nbformat_minor": 2
}
