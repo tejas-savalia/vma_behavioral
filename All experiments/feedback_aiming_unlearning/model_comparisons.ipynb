{
 "cells": [
  {
   "cell_type": "code",
   "execution_count": 1,
   "metadata": {},
   "outputs": [],
   "source": [
    "import numpy as np\n",
    "import pandas as pd\n",
    "import matplotlib.pyplot as plt\n",
    "# import seaborn as sns\n",
    "import scipy.stats as stat\n",
    "# import statsmodels.stats.proportion as proportion"
   ]
  },
  {
   "cell_type": "code",
   "execution_count": 2,
   "metadata": {},
   "outputs": [],
   "source": [
    "def model_comp_pvals(N, frequencies):\n",
    "    pNull=np.sum(frequencies)/(np.sum(N))\n",
    "    pFull=frequencies/N\n",
    "    LikelyNull = np.prod(stat.binom.pmf(frequencies,N,pNull))\n",
    "    LikelyFull = np.prod(stat.binom.pmf(frequencies,N,pFull))\n",
    "\n",
    "    chi_sq = -2 * np.log(LikelyNull/LikelyFull)\n",
    "#     print(chi_sq)\n",
    "    return chi_sq, 1-stat.chi2.cdf(chi_sq, 3, )   #% goodness of fit for Full vs Null (whehter there are differences between conditions)\n",
    "\n",
    "#     pEffect=[.75 .75 .75 .25];  #% power to detect three dual state and one single state (87% power with N=15)\n"
   ]
  },
  {
   "cell_type": "code",
   "execution_count": 3,
   "metadata": {},
   "outputs": [],
   "source": [
    "single_fits = pd.read_csv('model_results/single_fit_avgerror_learn_results.csv').drop('Unnamed: 0', axis = 1).reset_index().drop('index', axis = 1)\n",
    "dual_fits = pd.read_csv('model_results/dual_fit_avgerror_learn_results.csv').drop('Unnamed: 0', axis = 1).reset_index().drop('index', axis = 1)\n"
   ]
  },
  {
   "cell_type": "code",
   "execution_count": 4,
   "metadata": {},
   "outputs": [
    {
     "data": {
      "text/html": [
       "<div>\n",
       "<style scoped>\n",
       "    .dataframe tbody tr th:only-of-type {\n",
       "        vertical-align: middle;\n",
       "    }\n",
       "\n",
       "    .dataframe tbody tr th {\n",
       "        vertical-align: top;\n",
       "    }\n",
       "\n",
       "    .dataframe thead th {\n",
       "        text-align: right;\n",
       "    }\n",
       "</style>\n",
       "<table border=\"1\" class=\"dataframe\">\n",
       "  <thead>\n",
       "    <tr style=\"text-align: right;\">\n",
       "      <th></th>\n",
       "      <th>p_id</th>\n",
       "      <th>gof</th>\n",
       "      <th>As</th>\n",
       "      <th>Bs</th>\n",
       "      <th>Af</th>\n",
       "      <th>Bf</th>\n",
       "      <th>Eps</th>\n",
       "    </tr>\n",
       "  </thead>\n",
       "  <tbody>\n",
       "    <tr>\n",
       "      <th>20</th>\n",
       "      <td>661</td>\n",
       "      <td>-0.813289</td>\n",
       "      <td>0.996276</td>\n",
       "      <td>0.014737</td>\n",
       "      <td>0.027891</td>\n",
       "      <td>0.097509</td>\n",
       "      <td>0.107289</td>\n",
       "    </tr>\n",
       "  </tbody>\n",
       "</table>\n",
       "</div>"
      ],
      "text/plain": [
       "    p_id       gof        As        Bs        Af        Bf       Eps\n",
       "20   661 -0.813289  0.996276  0.014737  0.027891  0.097509  0.107289"
      ]
     },
     "execution_count": 4,
     "metadata": {},
     "output_type": "execute_result"
    }
   ],
   "source": [
    "pid = 661\n",
    "dual_fits.loc[dual_fits['p_id'] == pid] \n",
    "# single_fits.loc[single_fits['p_id'] == pid]\n"
   ]
  },
  {
   "cell_type": "code",
   "execution_count": null,
   "metadata": {},
   "outputs": [],
   "source": []
  },
  {
   "cell_type": "code",
   "execution_count": 5,
   "metadata": {},
   "outputs": [],
   "source": [
    "single_fits['AIC'] = 2*single_fits['gof']*448 + 2*2\n",
    "dual_fits['AIC'] = 2*dual_fits['gof']*448 + 2*4\n",
    "\n",
    "single_fits['BIC'] = 2*single_fits['gof']*448 + np.log(64*7)*2\n",
    "dual_fits['BIC'] = 2*dual_fits['gof']*448 + np.log(64*7)*4\n",
    "\n",
    "\n",
    "# single_fits['AIC'] = 2*single_fits['gof'] + 2*2\n",
    "# dual_fits['AIC'] = 2*dual_fits['gof'] + 2*4\n",
    "\n",
    "# single_fits['BIC'] = 2*single_fits['gof'] + np.log(64*7)*2\n",
    "# dual_fits['BIC'] = 2*dual_fits['gof'] + np.log(64*7)*4"
   ]
  },
  {
   "cell_type": "code",
   "execution_count": 6,
   "metadata": {},
   "outputs": [],
   "source": [
    "single_fits.loc[single_fits['p_id']%2 == 0, 'Rotation'] = 'Sudden'\n",
    "single_fits.loc[single_fits['p_id']%2 == 1, 'Rotation'] = 'Gradual'\n",
    "\n",
    "single_fits.loc[single_fits['p_id']%4 == 0, 'Emphasis'] = 'Accuracy'\n",
    "single_fits.loc[single_fits['p_id']%4 == 1, 'Emphasis'] = 'Accuracy'\n",
    "single_fits.loc[single_fits['p_id']%4 == 2, 'Emphasis'] = 'Speed'\n",
    "single_fits.loc[single_fits['p_id']%4 == 3, 'Emphasis'] = 'Speed'\n",
    "\n",
    "\n",
    "dual_fits.loc[dual_fits['p_id']%2 == 0, 'Rotation'] = 'Sudden'\n",
    "dual_fits.loc[dual_fits['p_id']%2 == 1, 'Rotation'] = 'Gradual'\n",
    "\n",
    "dual_fits.loc[dual_fits['p_id']%4 == 0, 'Emphasis'] = 'Accuracy'\n",
    "dual_fits.loc[dual_fits['p_id']%4 == 1, 'Emphasis'] = 'Accuracy'\n",
    "dual_fits.loc[dual_fits['p_id']%4 == 2, 'Emphasis'] = 'Speed'\n",
    "dual_fits.loc[dual_fits['p_id']%4 == 3, 'Emphasis'] = 'Speed'\n",
    "\n",
    "\n",
    "single_fits['Condition'] = single_fits['Rotation'] + ' ' + single_fits['Emphasis']"
   ]
  },
  {
   "cell_type": "code",
   "execution_count": 148,
   "metadata": {},
   "outputs": [
    {
     "data": {
      "text/html": [
       "<div>\n",
       "<style scoped>\n",
       "    .dataframe tbody tr th:only-of-type {\n",
       "        vertical-align: middle;\n",
       "    }\n",
       "\n",
       "    .dataframe tbody tr th {\n",
       "        vertical-align: top;\n",
       "    }\n",
       "\n",
       "    .dataframe thead th {\n",
       "        text-align: right;\n",
       "    }\n",
       "</style>\n",
       "<table border=\"1\" class=\"dataframe\">\n",
       "  <thead>\n",
       "    <tr style=\"text-align: right;\">\n",
       "      <th></th>\n",
       "      <th>p_id</th>\n",
       "      <th>gof</th>\n",
       "      <th>As</th>\n",
       "      <th>Bs</th>\n",
       "      <th>Af</th>\n",
       "      <th>Bf</th>\n",
       "      <th>Eps</th>\n",
       "      <th>AIC</th>\n",
       "      <th>BIC</th>\n",
       "      <th>Rotation</th>\n",
       "      <th>Emphasis</th>\n",
       "    </tr>\n",
       "  </thead>\n",
       "  <tbody>\n",
       "    <tr>\n",
       "      <th>0</th>\n",
       "      <td>641</td>\n",
       "      <td>-0.536986</td>\n",
       "      <td>0.998321</td>\n",
       "      <td>0.014620</td>\n",
       "      <td>0.898813</td>\n",
       "      <td>0.055831</td>\n",
       "      <td>0.141434</td>\n",
       "      <td>-473.139732</td>\n",
       "      <td>-456.720559</td>\n",
       "      <td>Gradual</td>\n",
       "      <td>Accuracy</td>\n",
       "    </tr>\n",
       "    <tr>\n",
       "      <th>1</th>\n",
       "      <td>642</td>\n",
       "      <td>-0.234639</td>\n",
       "      <td>1.000000</td>\n",
       "      <td>0.000808</td>\n",
       "      <td>0.024233</td>\n",
       "      <td>0.406407</td>\n",
       "      <td>0.191366</td>\n",
       "      <td>-202.236474</td>\n",
       "      <td>-185.817301</td>\n",
       "      <td>Sudden</td>\n",
       "      <td>Speed</td>\n",
       "    </tr>\n",
       "    <tr>\n",
       "      <th>2</th>\n",
       "      <td>643</td>\n",
       "      <td>0.507552</td>\n",
       "      <td>1.000000</td>\n",
       "      <td>0.003201</td>\n",
       "      <td>0.000000</td>\n",
       "      <td>0.003201</td>\n",
       "      <td>0.401958</td>\n",
       "      <td>462.766932</td>\n",
       "      <td>479.186105</td>\n",
       "      <td>Gradual</td>\n",
       "      <td>Speed</td>\n",
       "    </tr>\n",
       "    <tr>\n",
       "      <th>3</th>\n",
       "      <td>644</td>\n",
       "      <td>-0.398891</td>\n",
       "      <td>0.996522</td>\n",
       "      <td>0.007859</td>\n",
       "      <td>0.308617</td>\n",
       "      <td>0.412885</td>\n",
       "      <td>0.162378</td>\n",
       "      <td>-349.406525</td>\n",
       "      <td>-332.987352</td>\n",
       "      <td>Sudden</td>\n",
       "      <td>Accuracy</td>\n",
       "    </tr>\n",
       "    <tr>\n",
       "      <th>4</th>\n",
       "      <td>645</td>\n",
       "      <td>-0.649462</td>\n",
       "      <td>0.996766</td>\n",
       "      <td>0.011500</td>\n",
       "      <td>0.000000</td>\n",
       "      <td>0.145164</td>\n",
       "      <td>0.126388</td>\n",
       "      <td>-573.917562</td>\n",
       "      <td>-557.498389</td>\n",
       "      <td>Gradual</td>\n",
       "      <td>Accuracy</td>\n",
       "    </tr>\n",
       "    <tr>\n",
       "      <th>...</th>\n",
       "      <td>...</td>\n",
       "      <td>...</td>\n",
       "      <td>...</td>\n",
       "      <td>...</td>\n",
       "      <td>...</td>\n",
       "      <td>...</td>\n",
       "      <td>...</td>\n",
       "      <td>...</td>\n",
       "      <td>...</td>\n",
       "      <td>...</td>\n",
       "      <td>...</td>\n",
       "    </tr>\n",
       "    <tr>\n",
       "      <th>57</th>\n",
       "      <td>698</td>\n",
       "      <td>-0.033572</td>\n",
       "      <td>1.000000</td>\n",
       "      <td>0.003938</td>\n",
       "      <td>0.224445</td>\n",
       "      <td>0.324261</td>\n",
       "      <td>0.233982</td>\n",
       "      <td>-22.080787</td>\n",
       "      <td>-5.661614</td>\n",
       "      <td>Sudden</td>\n",
       "      <td>Speed</td>\n",
       "    </tr>\n",
       "    <tr>\n",
       "      <th>58</th>\n",
       "      <td>699</td>\n",
       "      <td>-0.133380</td>\n",
       "      <td>1.000000</td>\n",
       "      <td>0.000237</td>\n",
       "      <td>0.987658</td>\n",
       "      <td>0.018938</td>\n",
       "      <td>0.211723</td>\n",
       "      <td>-111.508475</td>\n",
       "      <td>-95.089302</td>\n",
       "      <td>Gradual</td>\n",
       "      <td>Speed</td>\n",
       "    </tr>\n",
       "    <tr>\n",
       "      <th>59</th>\n",
       "      <td>700</td>\n",
       "      <td>-0.708889</td>\n",
       "      <td>0.998270</td>\n",
       "      <td>0.008774</td>\n",
       "      <td>0.182922</td>\n",
       "      <td>0.448027</td>\n",
       "      <td>0.119095</td>\n",
       "      <td>-627.164491</td>\n",
       "      <td>-610.745318</td>\n",
       "      <td>Sudden</td>\n",
       "      <td>Accuracy</td>\n",
       "    </tr>\n",
       "    <tr>\n",
       "      <th>60</th>\n",
       "      <td>701</td>\n",
       "      <td>-0.294832</td>\n",
       "      <td>0.999816</td>\n",
       "      <td>0.009297</td>\n",
       "      <td>0.000000</td>\n",
       "      <td>0.010809</td>\n",
       "      <td>0.180186</td>\n",
       "      <td>-256.169607</td>\n",
       "      <td>-239.750434</td>\n",
       "      <td>Gradual</td>\n",
       "      <td>Accuracy</td>\n",
       "    </tr>\n",
       "    <tr>\n",
       "      <th>61</th>\n",
       "      <td>702</td>\n",
       "      <td>-0.259338</td>\n",
       "      <td>0.990728</td>\n",
       "      <td>0.002759</td>\n",
       "      <td>0.608885</td>\n",
       "      <td>0.163949</td>\n",
       "      <td>0.186695</td>\n",
       "      <td>-224.366635</td>\n",
       "      <td>-207.947462</td>\n",
       "      <td>Sudden</td>\n",
       "      <td>Speed</td>\n",
       "    </tr>\n",
       "  </tbody>\n",
       "</table>\n",
       "<p>62 rows × 11 columns</p>\n",
       "</div>"
      ],
      "text/plain": [
       "    p_id       gof        As        Bs        Af        Bf       Eps  \\\n",
       "0    641 -0.536986  0.998321  0.014620  0.898813  0.055831  0.141434   \n",
       "1    642 -0.234639  1.000000  0.000808  0.024233  0.406407  0.191366   \n",
       "2    643  0.507552  1.000000  0.003201  0.000000  0.003201  0.401958   \n",
       "3    644 -0.398891  0.996522  0.007859  0.308617  0.412885  0.162378   \n",
       "4    645 -0.649462  0.996766  0.011500  0.000000  0.145164  0.126388   \n",
       "..   ...       ...       ...       ...       ...       ...       ...   \n",
       "57   698 -0.033572  1.000000  0.003938  0.224445  0.324261  0.233982   \n",
       "58   699 -0.133380  1.000000  0.000237  0.987658  0.018938  0.211723   \n",
       "59   700 -0.708889  0.998270  0.008774  0.182922  0.448027  0.119095   \n",
       "60   701 -0.294832  0.999816  0.009297  0.000000  0.010809  0.180186   \n",
       "61   702 -0.259338  0.990728  0.002759  0.608885  0.163949  0.186695   \n",
       "\n",
       "           AIC         BIC Rotation  Emphasis  \n",
       "0  -473.139732 -456.720559  Gradual  Accuracy  \n",
       "1  -202.236474 -185.817301   Sudden     Speed  \n",
       "2   462.766932  479.186105  Gradual     Speed  \n",
       "3  -349.406525 -332.987352   Sudden  Accuracy  \n",
       "4  -573.917562 -557.498389  Gradual  Accuracy  \n",
       "..         ...         ...      ...       ...  \n",
       "57  -22.080787   -5.661614   Sudden     Speed  \n",
       "58 -111.508475  -95.089302  Gradual     Speed  \n",
       "59 -627.164491 -610.745318   Sudden  Accuracy  \n",
       "60 -256.169607 -239.750434  Gradual  Accuracy  \n",
       "61 -224.366635 -207.947462   Sudden     Speed  \n",
       "\n",
       "[62 rows x 11 columns]"
      ]
     },
     "execution_count": 148,
     "metadata": {},
     "output_type": "execute_result"
    }
   ],
   "source": [
    "dual_fits"
   ]
  },
  {
   "cell_type": "code",
   "execution_count": 151,
   "metadata": {},
   "outputs": [
    {
     "data": {
      "text/html": [
       "<div>\n",
       "<style scoped>\n",
       "    .dataframe tbody tr th:only-of-type {\n",
       "        vertical-align: middle;\n",
       "    }\n",
       "\n",
       "    .dataframe tbody tr th {\n",
       "        vertical-align: top;\n",
       "    }\n",
       "\n",
       "    .dataframe thead th {\n",
       "        text-align: right;\n",
       "    }\n",
       "</style>\n",
       "<table border=\"1\" class=\"dataframe\">\n",
       "  <thead>\n",
       "    <tr style=\"text-align: right;\">\n",
       "      <th></th>\n",
       "      <th>p_id</th>\n",
       "      <th>gof</th>\n",
       "      <th>A</th>\n",
       "      <th>B</th>\n",
       "      <th>Eps</th>\n",
       "      <th>AIC</th>\n",
       "      <th>BIC</th>\n",
       "      <th>Rotation</th>\n",
       "      <th>Emphasis</th>\n",
       "      <th>Condition</th>\n",
       "    </tr>\n",
       "  </thead>\n",
       "  <tbody>\n",
       "    <tr>\n",
       "      <th>12</th>\n",
       "      <td>653</td>\n",
       "      <td>-0.111602</td>\n",
       "      <td>0.991979</td>\n",
       "      <td>0.022982</td>\n",
       "      <td>0.216416</td>\n",
       "      <td>-95.994973</td>\n",
       "      <td>-87.785386</td>\n",
       "      <td>Gradual</td>\n",
       "      <td>Accuracy</td>\n",
       "      <td>Gradual Accuracy</td>\n",
       "    </tr>\n",
       "  </tbody>\n",
       "</table>\n",
       "</div>"
      ],
      "text/plain": [
       "    p_id       gof         A         B       Eps        AIC        BIC  \\\n",
       "12   653 -0.111602  0.991979  0.022982  0.216416 -95.994973 -87.785386   \n",
       "\n",
       "   Rotation  Emphasis         Condition  \n",
       "12  Gradual  Accuracy  Gradual Accuracy  "
      ]
     },
     "execution_count": 151,
     "metadata": {},
     "output_type": "execute_result"
    }
   ],
   "source": [
    "single_fits[single_fits['p_id'] == 653]"
   ]
  },
  {
   "cell_type": "code",
   "execution_count": 150,
   "metadata": {},
   "outputs": [
    {
     "data": {
      "text/html": [
       "<div>\n",
       "<style scoped>\n",
       "    .dataframe tbody tr th:only-of-type {\n",
       "        vertical-align: middle;\n",
       "    }\n",
       "\n",
       "    .dataframe tbody tr th {\n",
       "        vertical-align: top;\n",
       "    }\n",
       "\n",
       "    .dataframe thead th {\n",
       "        text-align: right;\n",
       "    }\n",
       "</style>\n",
       "<table border=\"1\" class=\"dataframe\">\n",
       "  <thead>\n",
       "    <tr style=\"text-align: right;\">\n",
       "      <th></th>\n",
       "      <th>p_id</th>\n",
       "      <th>gof</th>\n",
       "      <th>As</th>\n",
       "      <th>Bs</th>\n",
       "      <th>Af</th>\n",
       "      <th>Bf</th>\n",
       "      <th>Eps</th>\n",
       "      <th>AIC</th>\n",
       "      <th>BIC</th>\n",
       "      <th>Rotation</th>\n",
       "      <th>Emphasis</th>\n",
       "    </tr>\n",
       "  </thead>\n",
       "  <tbody>\n",
       "    <tr>\n",
       "      <th>10</th>\n",
       "      <td>651</td>\n",
       "      <td>0.428472</td>\n",
       "      <td>1.0</td>\n",
       "      <td>0.001366</td>\n",
       "      <td>0.0</td>\n",
       "      <td>0.001386</td>\n",
       "      <td>0.371399</td>\n",
       "      <td>391.91126</td>\n",
       "      <td>408.330433</td>\n",
       "      <td>Gradual</td>\n",
       "      <td>Speed</td>\n",
       "    </tr>\n",
       "  </tbody>\n",
       "</table>\n",
       "</div>"
      ],
      "text/plain": [
       "    p_id       gof   As        Bs   Af        Bf       Eps        AIC  \\\n",
       "10   651  0.428472  1.0  0.001366  0.0  0.001386  0.371399  391.91126   \n",
       "\n",
       "           BIC Rotation Emphasis  \n",
       "10  408.330433  Gradual    Speed  "
      ]
     },
     "execution_count": 150,
     "metadata": {},
     "output_type": "execute_result"
    }
   ],
   "source": [
    "dual_fits[dual_fits['p_id'] == 651]"
   ]
  },
  {
   "cell_type": "code",
   "execution_count": 130,
   "metadata": {},
   "outputs": [
    {
     "data": {
      "text/plain": [
       "2"
      ]
     },
     "execution_count": 130,
     "metadata": {},
     "output_type": "execute_result"
    }
   ],
   "source": [
    "sum(dual_fits['Bs'] > dual_fits['Bf'])"
   ]
  },
  {
   "cell_type": "code",
   "execution_count": 127,
   "metadata": {},
   "outputs": [
    {
     "data": {
      "text/plain": [
       "Gradual Accuracy    16\n",
       "Sudden Speed        16\n",
       "Gradual Speed       15\n",
       "Sudden Accuracy     15\n",
       "Name: Condition, dtype: int64"
      ]
     },
     "execution_count": 127,
     "metadata": {},
     "output_type": "execute_result"
    }
   ],
   "source": [
    "single_fits['Condition'].value_counts()"
   ]
  },
  {
   "cell_type": "code",
   "execution_count": 128,
   "metadata": {},
   "outputs": [
    {
     "data": {
      "text/plain": [
       "Gradual Accuracy    16\n",
       "Sudden Speed        16\n",
       "Gradual Speed       15\n",
       "Sudden Accuracy     15\n",
       "Name: Condition, dtype: int64"
      ]
     },
     "execution_count": 128,
     "metadata": {},
     "output_type": "execute_result"
    }
   ],
   "source": [
    "single_fits.loc[single_fits['AIC'] > dual_fits['AIC'], 'Condition'].value_counts()"
   ]
  },
  {
   "cell_type": "code",
   "execution_count": 102,
   "metadata": {},
   "outputs": [
    {
     "data": {
      "text/plain": [
       "(17.61172583860489, 0.0005288597222199432)"
      ]
     },
     "execution_count": 102,
     "metadata": {},
     "output_type": "execute_result"
    }
   ],
   "source": [
    "model_comp_pvals(np.array([16, 16, 15, 15]), np.array([8, 16, 10, 14]))"
   ]
  },
  {
   "cell_type": "code",
   "execution_count": 131,
   "metadata": {},
   "outputs": [
    {
     "data": {
      "text/plain": [
       "Gradual Accuracy    16\n",
       "Sudden Speed        16\n",
       "Sudden Accuracy     15\n",
       "Gradual Speed       14\n",
       "Name: Condition, dtype: int64"
      ]
     },
     "execution_count": 131,
     "metadata": {},
     "output_type": "execute_result"
    }
   ],
   "source": [
    "single_fits.loc[single_fits['BIC'] > dual_fits['BIC'], 'Condition'].value_counts()"
   ]
  },
  {
   "cell_type": "code",
   "execution_count": 104,
   "metadata": {},
   "outputs": [
    {
     "data": {
      "text/plain": [
       "(16.798233580514545, 0.0007775787274861834)"
      ]
     },
     "execution_count": 104,
     "metadata": {},
     "output_type": "execute_result"
    }
   ],
   "source": [
    "model_comp_pvals(np.array([16, 16, 15, 15]), np.array([16, 7, 10, 12]))"
   ]
  },
  {
   "cell_type": "code",
   "execution_count": 105,
   "metadata": {},
   "outputs": [
    {
     "data": {
      "text/plain": [
       "Series([], Name: Condition, dtype: int64)"
      ]
     },
     "execution_count": 105,
     "metadata": {},
     "output_type": "execute_result"
    }
   ],
   "source": [
    "single_fits.loc[(single_fits['gof'].values < dual_fits['gof'].values), 'Condition'].value_counts()\n"
   ]
  },
  {
   "cell_type": "code",
   "execution_count": 132,
   "metadata": {},
   "outputs": [
    {
     "data": {
      "text/plain": [
       "(array([11., 14.,  7.,  8.,  8.,  6.,  3.,  4.,  0.,  1.]),\n",
       " array([0.01060221, 0.04810569, 0.08560916, 0.12311264, 0.16061612,\n",
       "        0.1981196 , 0.23562308, 0.27312655, 0.31063003, 0.34813351,\n",
       "        0.38563699]),\n",
       " <BarContainer object of 10 artists>)"
      ]
     },
     "execution_count": 132,
     "metadata": {},
     "output_type": "execute_result"
    },
    {
     "data": {
      "image/png": "[encoded data removed]",
      "text/plain": [
       "<Figure size 640x480 with 1 Axes>"
      ]
     },
     "metadata": {},
     "output_type": "display_data"
    }
   ],
   "source": [
    "plt.hist(single_fits['gof'].values - dual_fits['gof'].values)"
   ]
  },
  {
   "cell_type": "code",
   "execution_count": 133,
   "metadata": {},
   "outputs": [],
   "source": [
    "# single_fits['LR_ratio'] = 2* (single_fits['gof'].values - dual_fits['gof'].values)*640\n",
    "single_fits['LR_ratio'] = 2* (single_fits['gof'].values - dual_fits['gof'].values)*448"
   ]
  },
  {
   "cell_type": "code",
   "execution_count": 134,
   "metadata": {},
   "outputs": [],
   "source": [
    "single_fits['chi2'] = stat.chi2.sf(single_fits['LR_ratio'], 2)"
   ]
  },
  {
   "cell_type": "code",
   "execution_count": 135,
   "metadata": {},
   "outputs": [
    {
     "data": {
      "text/plain": [
       "Gradual Accuracy    16\n",
       "Sudden Speed        16\n",
       "Gradual Speed       15\n",
       "Sudden Accuracy     15\n",
       "Name: Condition, dtype: int64"
      ]
     },
     "execution_count": 135,
     "metadata": {},
     "output_type": "execute_result"
    }
   ],
   "source": [
    "single_fits.loc[single_fits['chi2'] < 0.05, 'Condition'].value_counts()"
   ]
  },
  {
   "cell_type": "code",
   "execution_count": 136,
   "metadata": {},
   "outputs": [
    {
     "data": {
      "text/plain": [
       "(35.85364079334426, 8.041371701850153e-08)"
      ]
     },
     "execution_count": 136,
     "metadata": {},
     "output_type": "execute_result"
    }
   ],
   "source": [
    "model_comp_pvals(np.array([16, 16, 15, 15]), np.array([16, 14, 12, 2]))"
   ]
  },
  {
   "attachments": {},
   "cell_type": "markdown",
   "metadata": {},
   "source": [
    "# Cross Validation Comparisons"
   ]
  },
  {
   "cell_type": "code",
   "execution_count": 137,
   "metadata": {},
   "outputs": [],
   "source": [
    "single_fits = pd.read_csv('model_results/single_fit_avgerror_learn_results_cv.csv')\n",
    "dual_fits = pd.read_csv('model_results/dual_fit_avgerror_learn_results_cv.csv')\n",
    "\n",
    "single_fits.loc[single_fits['p_id']%2 == 0, 'Rotation'] = 'Sudden'\n",
    "single_fits.loc[single_fits['p_id']%2 == 1, 'Rotation'] = 'Gradual'\n",
    "\n",
    "single_fits.loc[single_fits['p_id']%4 == 0, 'Emphasis'] = 'Accuracy'\n",
    "single_fits.loc[single_fits['p_id']%4 == 1, 'Emphasis'] = 'Accuracy'\n",
    "single_fits.loc[single_fits['p_id']%4 == 2, 'Emphasis'] = 'Speed'\n",
    "single_fits.loc[single_fits['p_id']%4 == 3, 'Emphasis'] = 'Speed'\n",
    "\n",
    "\n",
    "dual_fits.loc[dual_fits['p_id']%2 == 0, 'Rotation'] = 'Sudden'\n",
    "dual_fits.loc[dual_fits['p_id']%2 == 1, 'Rotation'] = 'Gradual'\n",
    "\n",
    "dual_fits.loc[dual_fits['p_id']%4 == 0, 'Emphasis'] = 'Accuracy'\n",
    "dual_fits.loc[dual_fits['p_id']%4 == 1, 'Emphasis'] = 'Accuracy'\n",
    "dual_fits.loc[dual_fits['p_id']%4 == 2, 'Emphasis'] = 'Speed'\n",
    "dual_fits.loc[dual_fits['p_id']%4 == 3, 'Emphasis'] = 'Speed'\n",
    "\n",
    "\n",
    "single_fits['Condition'] = single_fits['Rotation'] + ' ' + single_fits['Emphasis']"
   ]
  },
  {
   "cell_type": "code",
   "execution_count": 138,
   "metadata": {},
   "outputs": [],
   "source": [
    "dual_fits['dual win'] = (single_fits['test gof'].values >= dual_fits['test gof'].values).astype(int)"
   ]
  },
  {
   "cell_type": "code",
   "execution_count": 139,
   "metadata": {},
   "outputs": [],
   "source": [
    "def compute_wins(dual_fits):\n",
    "    # Drop column: 'Unnamed: 0'\n",
    "    # dual_fits = dual_fits.drop(columns=['Unnamed: 0'])\n",
    "    # Performed 1 aggregation grouped on columns: 'p_id', 'Rotation' and 2 other columns\n",
    "    dual_fits = dual_fits.groupby(['p_id', 'Rotation', 'Emphasis', 'dual win']).agg(dualwin_count=('dual win', 'count')).reset_index()\n",
    "    # Filter rows based on column: 'dual win'\n",
    "    dual_fits = dual_fits[dual_fits['dual win'] == 1]\n",
    "    return dual_fits\n",
    "\n",
    "dual_fits_wins = compute_wins(dual_fits.copy())\n",
    "dual_fits_wins['Condition'] = dual_fits_wins['Rotation'] + ' ' + dual_fits_wins['Emphasis']"
   ]
  },
  {
   "cell_type": "code",
   "execution_count": 141,
   "metadata": {},
   "outputs": [
    {
     "data": {
      "text/plain": [
       "Gradual Accuracy    16\n",
       "Sudden Speed        15\n",
       "Sudden Accuracy     15\n",
       "Gradual Speed       12\n",
       "Name: Condition, dtype: int64"
      ]
     },
     "execution_count": 141,
     "metadata": {},
     "output_type": "execute_result"
    }
   ],
   "source": [
    "dual_fits_wins.loc[dual_fits_wins['dualwin_count'] > 58, 'Condition'].value_counts()"
   ]
  },
  {
   "cell_type": "code",
   "execution_count": 95,
   "metadata": {},
   "outputs": [
    {
     "data": {
      "text/plain": [
       "(7.169513848495249, 0.06668662927877589)"
      ]
     },
     "execution_count": 95,
     "metadata": {},
     "output_type": "execute_result"
    }
   ],
   "source": [
    "model_comp_pvals(np.array([16, 16, 15, 15]), np.array([15, 16, 15, 12]))"
   ]
  },
  {
   "cell_type": "code",
   "execution_count": 26,
   "metadata": {},
   "outputs": [
    {
     "data": {
      "text/plain": [
       "(array([ 205., 2620., 1758., 1061.,  370.,   84.,   52.,   31.,   16.,\n",
       "           3.]),\n",
       " array([-0.05622616, -0.01540979,  0.02540658,  0.06622296,  0.10703933,\n",
       "         0.1478557 ,  0.18867208,  0.22948845,  0.27030482,  0.3111212 ,\n",
       "         0.35193757]),\n",
       " <BarContainer object of 10 artists>)"
      ]
     },
     "execution_count": 26,
     "metadata": {},
     "output_type": "execute_result"
    },
    {
     "data": {
      "image/png": "[encoded data removed]",
      "text/plain": [
       "<Figure size 640x480 with 1 Axes>"
      ]
     },
     "metadata": {},
     "output_type": "display_data"
    }
   ],
   "source": [
    "plt.hist(single_fits['gof'].values - dual_fits['gof'].values)"
   ]
  },
  {
   "cell_type": "code",
   "execution_count": null,
   "metadata": {},
   "outputs": [],
   "source": []
  },
  {
   "attachments": {},
   "cell_type": "markdown",
   "metadata": {},
   "source": [
    "2/15"
   ]
  },
  {
   "attachments": {},
   "cell_type": "markdown",
   "metadata": {},
   "source": [
    "# Assessing Model fits visually"
   ]
  },
  {
   "cell_type": "code",
   "execution_count": 8,
   "metadata": {},
   "outputs": [
    {
     "data": {
      "text/html": [
       "<div>\n",
       "<style scoped>\n",
       "    .dataframe tbody tr th:only-of-type {\n",
       "        vertical-align: middle;\n",
       "    }\n",
       "\n",
       "    .dataframe tbody tr th {\n",
       "        vertical-align: top;\n",
       "    }\n",
       "\n",
       "    .dataframe thead th {\n",
       "        text-align: right;\n",
       "    }\n",
       "</style>\n",
       "<table border=\"1\" class=\"dataframe\">\n",
       "  <thead>\n",
       "    <tr style=\"text-align: right;\">\n",
       "      <th></th>\n",
       "      <th>target_x</th>\n",
       "      <th>target_y</th>\n",
       "      <th>p_id</th>\n",
       "      <th>avg errors</th>\n",
       "      <th>trial</th>\n",
       "      <th>block</th>\n",
       "      <th>Rotation</th>\n",
       "      <th>Emphasis</th>\n",
       "      <th>init errors</th>\n",
       "      <th>phase</th>\n",
       "      <th>init signed errors</th>\n",
       "      <th>init errors degrees</th>\n",
       "      <th>init signed errors degrees</th>\n",
       "      <th>avg errors degrees</th>\n",
       "      <th>avg signed errors</th>\n",
       "      <th>avg signed errors degrees</th>\n",
       "      <th>avg smooth errors</th>\n",
       "    </tr>\n",
       "  </thead>\n",
       "  <tbody>\n",
       "    <tr>\n",
       "      <th>0</th>\n",
       "      <td>-0.3</td>\n",
       "      <td>-0.3</td>\n",
       "      <td>641</td>\n",
       "      <td>0.276929</td>\n",
       "      <td>64.0</td>\n",
       "      <td>1.0</td>\n",
       "      <td>Gradual</td>\n",
       "      <td>Accuracy</td>\n",
       "      <td>0.188780</td>\n",
       "      <td>Learning</td>\n",
       "      <td>0.188780</td>\n",
       "      <td>10.816272</td>\n",
       "      <td>10.816272</td>\n",
       "      <td>15.866842</td>\n",
       "      <td>0.276929</td>\n",
       "      <td>15.866842</td>\n",
       "      <td>0.260748</td>\n",
       "    </tr>\n",
       "    <tr>\n",
       "      <th>1</th>\n",
       "      <td>-0.3</td>\n",
       "      <td>-0.3</td>\n",
       "      <td>641</td>\n",
       "      <td>0.276929</td>\n",
       "      <td>65.0</td>\n",
       "      <td>1.0</td>\n",
       "      <td>Gradual</td>\n",
       "      <td>Accuracy</td>\n",
       "      <td>0.188780</td>\n",
       "      <td>Learning</td>\n",
       "      <td>0.188780</td>\n",
       "      <td>10.816272</td>\n",
       "      <td>10.816272</td>\n",
       "      <td>15.866842</td>\n",
       "      <td>0.276929</td>\n",
       "      <td>15.866842</td>\n",
       "      <td>0.263516</td>\n",
       "    </tr>\n",
       "    <tr>\n",
       "      <th>2</th>\n",
       "      <td>0.3</td>\n",
       "      <td>0.3</td>\n",
       "      <td>641</td>\n",
       "      <td>0.146259</td>\n",
       "      <td>66.0</td>\n",
       "      <td>1.0</td>\n",
       "      <td>Gradual</td>\n",
       "      <td>Accuracy</td>\n",
       "      <td>0.140401</td>\n",
       "      <td>Learning</td>\n",
       "      <td>0.140401</td>\n",
       "      <td>8.044366</td>\n",
       "      <td>8.044366</td>\n",
       "      <td>8.380007</td>\n",
       "      <td>0.146259</td>\n",
       "      <td>8.380007</td>\n",
       "      <td>0.268064</td>\n",
       "    </tr>\n",
       "    <tr>\n",
       "      <th>3</th>\n",
       "      <td>0.3</td>\n",
       "      <td>-0.3</td>\n",
       "      <td>641</td>\n",
       "      <td>0.272961</td>\n",
       "      <td>67.0</td>\n",
       "      <td>1.0</td>\n",
       "      <td>Gradual</td>\n",
       "      <td>Accuracy</td>\n",
       "      <td>0.291686</td>\n",
       "      <td>Learning</td>\n",
       "      <td>0.291686</td>\n",
       "      <td>16.712401</td>\n",
       "      <td>16.712401</td>\n",
       "      <td>15.639499</td>\n",
       "      <td>0.272961</td>\n",
       "      <td>15.639499</td>\n",
       "      <td>0.267902</td>\n",
       "    </tr>\n",
       "    <tr>\n",
       "      <th>4</th>\n",
       "      <td>-0.3</td>\n",
       "      <td>-0.3</td>\n",
       "      <td>641</td>\n",
       "      <td>0.588735</td>\n",
       "      <td>68.0</td>\n",
       "      <td>1.0</td>\n",
       "      <td>Gradual</td>\n",
       "      <td>Accuracy</td>\n",
       "      <td>0.238112</td>\n",
       "      <td>Learning</td>\n",
       "      <td>0.238112</td>\n",
       "      <td>13.642797</td>\n",
       "      <td>13.642797</td>\n",
       "      <td>33.732025</td>\n",
       "      <td>0.588735</td>\n",
       "      <td>33.732025</td>\n",
       "      <td>0.253358</td>\n",
       "    </tr>\n",
       "    <tr>\n",
       "      <th>...</th>\n",
       "      <td>...</td>\n",
       "      <td>...</td>\n",
       "      <td>...</td>\n",
       "      <td>...</td>\n",
       "      <td>...</td>\n",
       "      <td>...</td>\n",
       "      <td>...</td>\n",
       "      <td>...</td>\n",
       "      <td>...</td>\n",
       "      <td>...</td>\n",
       "      <td>...</td>\n",
       "      <td>...</td>\n",
       "      <td>...</td>\n",
       "      <td>...</td>\n",
       "      <td>...</td>\n",
       "      <td>...</td>\n",
       "      <td>...</td>\n",
       "    </tr>\n",
       "    <tr>\n",
       "      <th>39675</th>\n",
       "      <td>0.3</td>\n",
       "      <td>-0.3</td>\n",
       "      <td>702</td>\n",
       "      <td>0.402465</td>\n",
       "      <td>699.0</td>\n",
       "      <td>10.0</td>\n",
       "      <td>Sudden</td>\n",
       "      <td>Speed</td>\n",
       "      <td>1.203681</td>\n",
       "      <td>Relearning</td>\n",
       "      <td>-1.203681</td>\n",
       "      <td>68.965836</td>\n",
       "      <td>-68.965836</td>\n",
       "      <td>23.059538</td>\n",
       "      <td>-0.402465</td>\n",
       "      <td>-23.059538</td>\n",
       "      <td>0.683453</td>\n",
       "    </tr>\n",
       "    <tr>\n",
       "      <th>39676</th>\n",
       "      <td>0.3</td>\n",
       "      <td>0.3</td>\n",
       "      <td>702</td>\n",
       "      <td>0.827459</td>\n",
       "      <td>700.0</td>\n",
       "      <td>10.0</td>\n",
       "      <td>Sudden</td>\n",
       "      <td>Speed</td>\n",
       "      <td>0.704598</td>\n",
       "      <td>Relearning</td>\n",
       "      <td>0.704598</td>\n",
       "      <td>40.370510</td>\n",
       "      <td>40.370510</td>\n",
       "      <td>47.409898</td>\n",
       "      <td>0.827459</td>\n",
       "      <td>47.409898</td>\n",
       "      <td>0.693965</td>\n",
       "    </tr>\n",
       "    <tr>\n",
       "      <th>39677</th>\n",
       "      <td>0.3</td>\n",
       "      <td>0.3</td>\n",
       "      <td>702</td>\n",
       "      <td>0.827459</td>\n",
       "      <td>701.0</td>\n",
       "      <td>10.0</td>\n",
       "      <td>Sudden</td>\n",
       "      <td>Speed</td>\n",
       "      <td>0.704598</td>\n",
       "      <td>Relearning</td>\n",
       "      <td>0.704598</td>\n",
       "      <td>40.370510</td>\n",
       "      <td>40.370510</td>\n",
       "      <td>47.409898</td>\n",
       "      <td>0.827459</td>\n",
       "      <td>47.409898</td>\n",
       "      <td>0.706188</td>\n",
       "    </tr>\n",
       "    <tr>\n",
       "      <th>39678</th>\n",
       "      <td>-0.3</td>\n",
       "      <td>-0.3</td>\n",
       "      <td>702</td>\n",
       "      <td>0.715479</td>\n",
       "      <td>702.0</td>\n",
       "      <td>10.0</td>\n",
       "      <td>Sudden</td>\n",
       "      <td>Speed</td>\n",
       "      <td>1.933589</td>\n",
       "      <td>Relearning</td>\n",
       "      <td>1.933589</td>\n",
       "      <td>110.786514</td>\n",
       "      <td>110.786514</td>\n",
       "      <td>40.993934</td>\n",
       "      <td>0.715479</td>\n",
       "      <td>40.993934</td>\n",
       "      <td>0.710903</td>\n",
       "    </tr>\n",
       "    <tr>\n",
       "      <th>39679</th>\n",
       "      <td>-0.3</td>\n",
       "      <td>0.3</td>\n",
       "      <td>702</td>\n",
       "      <td>0.649281</td>\n",
       "      <td>703.0</td>\n",
       "      <td>10.0</td>\n",
       "      <td>Sudden</td>\n",
       "      <td>Speed</td>\n",
       "      <td>2.421472</td>\n",
       "      <td>Relearning</td>\n",
       "      <td>2.421472</td>\n",
       "      <td>138.740128</td>\n",
       "      <td>138.740128</td>\n",
       "      <td>37.201082</td>\n",
       "      <td>0.649281</td>\n",
       "      <td>37.201082</td>\n",
       "      <td>0.709937</td>\n",
       "    </tr>\n",
       "  </tbody>\n",
       "</table>\n",
       "<p>39680 rows × 17 columns</p>\n",
       "</div>"
      ],
      "text/plain": [
       "       target_x  target_y  p_id  avg errors  trial  block Rotation  Emphasis  \\\n",
       "0          -0.3      -0.3   641    0.276929   64.0    1.0  Gradual  Accuracy   \n",
       "1          -0.3      -0.3   641    0.276929   65.0    1.0  Gradual  Accuracy   \n",
       "2           0.3       0.3   641    0.146259   66.0    1.0  Gradual  Accuracy   \n",
       "3           0.3      -0.3   641    0.272961   67.0    1.0  Gradual  Accuracy   \n",
       "4          -0.3      -0.3   641    0.588735   68.0    1.0  Gradual  Accuracy   \n",
       "...         ...       ...   ...         ...    ...    ...      ...       ...   \n",
       "39675       0.3      -0.3   702    0.402465  699.0   10.0   Sudden     Speed   \n",
       "39676       0.3       0.3   702    0.827459  700.0   10.0   Sudden     Speed   \n",
       "39677       0.3       0.3   702    0.827459  701.0   10.0   Sudden     Speed   \n",
       "39678      -0.3      -0.3   702    0.715479  702.0   10.0   Sudden     Speed   \n",
       "39679      -0.3       0.3   702    0.649281  703.0   10.0   Sudden     Speed   \n",
       "\n",
       "       init errors       phase  init signed errors  init errors degrees  \\\n",
       "0         0.188780    Learning            0.188780            10.816272   \n",
       "1         0.188780    Learning            0.188780            10.816272   \n",
       "2         0.140401    Learning            0.140401             8.044366   \n",
       "3         0.291686    Learning            0.291686            16.712401   \n",
       "4         0.238112    Learning            0.238112            13.642797   \n",
       "...            ...         ...                 ...                  ...   \n",
       "39675     1.203681  Relearning           -1.203681            68.965836   \n",
       "39676     0.704598  Relearning            0.704598            40.370510   \n",
       "39677     0.704598  Relearning            0.704598            40.370510   \n",
       "39678     1.933589  Relearning            1.933589           110.786514   \n",
       "39679     2.421472  Relearning            2.421472           138.740128   \n",
       "\n",
       "       init signed errors degrees  avg errors degrees  avg signed errors  \\\n",
       "0                       10.816272           15.866842           0.276929   \n",
       "1                       10.816272           15.866842           0.276929   \n",
       "2                        8.044366            8.380007           0.146259   \n",
       "3                       16.712401           15.639499           0.272961   \n",
       "4                       13.642797           33.732025           0.588735   \n",
       "...                           ...                 ...                ...   \n",
       "39675                  -68.965836           23.059538          -0.402465   \n",
       "39676                   40.370510           47.409898           0.827459   \n",
       "39677                   40.370510           47.409898           0.827459   \n",
       "39678                  110.786514           40.993934           0.715479   \n",
       "39679                  138.740128           37.201082           0.649281   \n",
       "\n",
       "       avg signed errors degrees  avg smooth errors  \n",
       "0                      15.866842           0.260748  \n",
       "1                      15.866842           0.263516  \n",
       "2                       8.380007           0.268064  \n",
       "3                      15.639499           0.267902  \n",
       "4                      33.732025           0.253358  \n",
       "...                          ...                ...  \n",
       "39675                 -23.059538           0.683453  \n",
       "39676                  47.409898           0.693965  \n",
       "39677                  47.409898           0.706188  \n",
       "39678                  40.993934           0.710903  \n",
       "39679                  37.201082           0.709937  \n",
       "\n",
       "[39680 rows x 17 columns]"
      ]
     },
     "execution_count": 8,
     "metadata": {},
     "output_type": "execute_result"
    }
   ],
   "source": [
    "# from model_fit_functions import *\n",
    "df = pd.read_csv('df_allphases.csv')\n",
    "df = df.loc[df['block'] >= 1].reset_index().drop('index', axis = 1)\n",
    "df"
   ]
  },
  {
   "cell_type": "code",
   "execution_count": 9,
   "metadata": {},
   "outputs": [
    {
     "data": {
      "text/plain": [
       "[<matplotlib.lines.Line2D at 0x15f75c63890>]"
      ]
     },
     "execution_count": 9,
     "metadata": {},
     "output_type": "execute_result"
    },
    {
     "data": {
      "image/png": "[encoded data removed]",
      "text/plain": [
       "<Figure size 640x480 with 1 Axes>"
      ]
     },
     "metadata": {},
     "output_type": "display_data"
    }
   ],
   "source": [
    "from model_fit_functions import *\n",
    "pid = 668\n",
    "ptype = df.loc[df['p_id'] == pid, 'Rotation'].unique()\n",
    "\n",
    "A = single_fits.loc[single_fits['p_id'] == pid, 'A'].values[0]\n",
    "B = single_fits.loc[single_fits['p_id'] == pid, 'B'].values[0]\n",
    "As = dual_fits.loc[dual_fits['p_id'] == pid, 'As'].values[0]\n",
    "Bs = dual_fits.loc[dual_fits['p_id'] == pid, 'Bs'].values[0]\n",
    "Af = dual_fits.loc[dual_fits['p_id'] == pid, 'Af'].values[0]\n",
    "Bf = dual_fits.loc[dual_fits['p_id'] == pid, 'Bf'].values[0]\n",
    "data = df.loc[df['p_id'] == pid, 'avg errors'].values\n",
    "\n",
    "\n",
    "plt.plot(single_state_model(A, B, len(data), ptype))\n",
    "plt.plot(dual_state_model(As, Bs, Af, Bf, len(data), ptype))\n",
    "plt.plot(data)"
   ]
  },
  {
   "cell_type": "code",
   "execution_count": 51,
   "metadata": {},
   "outputs": [
    {
     "data": {
      "text/plain": [
       "(    p_id       gof    A         B       Eps\n",
       " 26   667  0.657167  1.0  0.001491  0.466815,\n",
       "     p_id       gof   As       Bs   Af        Bf       Eps\n",
       " 26   667  0.646565  1.0  0.00157  0.0  0.001591  0.461917)"
      ]
     },
     "execution_count": 51,
     "metadata": {},
     "output_type": "execute_result"
    }
   ],
   "source": [
    "single_fits[single_fits.p_id == pid], dual_fits[dual_fits.p_id == pid]"
   ]
  },
  {
   "cell_type": "code",
   "execution_count": 38,
   "metadata": {},
   "outputs": [
    {
     "data": {
      "text/plain": [
       "[<matplotlib.lines.Line2D at 0x24bd275c950>]"
      ]
     },
     "execution_count": 38,
     "metadata": {},
     "output_type": "execute_result"
    },
    {
     "data": {
      "image/png": "[encoded data removed]",
      "text/plain": [
       "<Figure size 640x480 with 1 Axes>"
      ]
     },
     "metadata": {},
     "output_type": "display_data"
    }
   ],
   "source": []
  },
  {
   "cell_type": "code",
   "execution_count": 262,
   "metadata": {},
   "outputs": [
    {
     "data": {
      "text/plain": [
       "[<matplotlib.lines.Line2D at 0x2b133001490>]"
      ]
     },
     "execution_count": 262,
     "metadata": {},
     "output_type": "execute_result"
    },
    {
     "data": {
      "image/png": "[encoded data removed]",
      "text/plain": [
       "<Figure size 432x288 with 1 Axes>"
      ]
     },
     "metadata": {
      "needs_background": "light"
     },
     "output_type": "display_data"
    }
   ],
   "source": [
    "plt.plot(single_state_model(A, B, len(data), 'Sudden'))\n"
   ]
  }
 ],
 "metadata": {
  "kernelspec": {
   "display_name": "vma",
   "language": "python",
   "name": "python3"
  },
  "language_info": {
   "codemirror_mode": {
    "name": "ipython",
    "version": 3
   },
   "file_extension": ".py",
   "mimetype": "text/x-python",
   "name": "python",
   "nbconvert_exporter": "python",
   "pygments_lexer": "ipython3",
   "version": "3.11.3"
  },
  "orig_nbformat": 4
 },
 "nbformat": 4,
 "nbformat_minor": 2
}
