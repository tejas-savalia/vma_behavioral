{
 "cells": [
  {
   "cell_type": "code",
   "execution_count": 2,
   "metadata": {},
   "outputs": [],
   "source": [
    "import numpy as np\n",
    "import pandas as pd\n",
    "import matplotlib.pyplot as plt\n",
    "# import seaborn as sns\n",
    "import scipy.stats as stat\n",
    "from model_fit_functions import *\n",
    "import statsmodels.stats.proportion as proportion"
   ]
  },
  {
   "cell_type": "code",
   "execution_count": 36,
   "metadata": {},
   "outputs": [],
   "source": [
    "single_fits = pd.read_csv('model_results/single_fit_initerror_results.csv').drop('Unnamed: 0', axis = 1).reset_index().drop('index', axis = 1)\n",
    "dual_fits = pd.read_csv('model_results/dual_fit_initerror_results.csv').drop('Unnamed: 0', axis = 1).reset_index().drop('index', axis = 1)"
   ]
  },
  {
   "cell_type": "code",
   "execution_count": 37,
   "metadata": {},
   "outputs": [],
   "source": [
    "single_fits['AIC'] = 2*single_fits['gof']*640 + 2*2\n",
    "dual_fits['AIC'] = 2*dual_fits['gof']*640 + 2*4\n",
    "\n",
    "single_fits['BIC'] = 2*single_fits['gof']*640 + np.log(64*7)*2\n",
    "dual_fits['BIC'] = 2*dual_fits['gof']*640 + np.log(64*7)*4\n"
   ]
  },
  {
   "cell_type": "code",
   "execution_count": 38,
   "metadata": {},
   "outputs": [],
   "source": [
    "single_fits.loc[single_fits['p_id']%2 == 0, 'Emphasis'] = 'Speed'\n",
    "single_fits.loc[single_fits['p_id']%2 == 1, 'Emphasis'] = 'Accuracy'\n",
    "\n",
    "single_fits.loc[single_fits['p_id']%4 == 0, 'Rotation'] = 'Sudden'\n",
    "single_fits.loc[single_fits['p_id']%4 == 1, 'Rotation'] = 'Sudden'\n",
    "single_fits.loc[single_fits['p_id']%4 == 2, 'Rotation'] = 'Gradual'\n",
    "single_fits.loc[single_fits['p_id']%4 == 3, 'Rotation'] = 'Gradual'\n",
    "\n",
    "\n",
    "dual_fits.loc[dual_fits['p_id']%2 == 0, 'Emphasis'] = 'Speed'\n",
    "dual_fits.loc[dual_fits['p_id']%2 == 1, 'Emphasis'] = 'Accuracy'\n",
    "\n",
    "dual_fits.loc[dual_fits['p_id']%4 == 0, 'Rotation'] = 'Sudden'\n",
    "dual_fits.loc[dual_fits['p_id']%4 == 1, 'Rotation'] = 'Sudden'\n",
    "dual_fits.loc[dual_fits['p_id']%4 == 2, 'Rotation'] = 'Gradual'\n",
    "dual_fits.loc[dual_fits['p_id']%4 == 3, 'Rotation'] = 'Gradual'\n",
    "\n",
    "\n",
    "single_fits['Condition'] = single_fits['Rotation'] + ' ' + single_fits['Emphasis']"
   ]
  },
  {
   "cell_type": "code",
   "execution_count": 39,
   "metadata": {},
   "outputs": [
    {
     "data": {
      "text/plain": [
       "Sudden Speed        15\n",
       "Sudden Accuracy     15\n",
       "Gradual Speed       15\n",
       "Gradual Accuracy    15\n",
       "Name: Condition, dtype: int64"
      ]
     },
     "execution_count": 39,
     "metadata": {},
     "output_type": "execute_result"
    }
   ],
   "source": [
    "single_fits['Condition'].value_counts()"
   ]
  },
  {
   "cell_type": "code",
   "execution_count": 40,
   "metadata": {},
   "outputs": [
    {
     "data": {
      "text/plain": [
       "Sudden Accuracy     9\n",
       "Gradual Accuracy    4\n",
       "Sudden Speed        3\n",
       "Name: Condition, dtype: int64"
      ]
     },
     "execution_count": 40,
     "metadata": {},
     "output_type": "execute_result"
    }
   ],
   "source": [
    "single_fits.loc[single_fits['AIC'] > dual_fits['AIC'], 'Condition'].value_counts()"
   ]
  },
  {
   "cell_type": "code",
   "execution_count": 41,
   "metadata": {},
   "outputs": [
    {
     "data": {
      "text/plain": [
       "(14.31818181818182,\n",
       " 0.0025025409473838638,\n",
       " (array([[ 9.,  6.],\n",
       "         [ 4., 11.],\n",
       "         [ 3., 12.],\n",
       "         [ 0., 15.]]),\n",
       "  array([[ 4., 11.],\n",
       "         [ 4., 11.],\n",
       "         [ 4., 11.],\n",
       "         [ 4., 11.]])))"
      ]
     },
     "execution_count": 41,
     "metadata": {},
     "output_type": "execute_result"
    }
   ],
   "source": [
    "proportion.proportions_chisquare([9, 4, 3, 0], [15, 15, 15, 15])"
   ]
  },
  {
   "cell_type": "code",
   "execution_count": 42,
   "metadata": {},
   "outputs": [
    {
     "data": {
      "text/plain": [
       "Sudden Accuracy     4\n",
       "Sudden Speed        2\n",
       "Gradual Accuracy    1\n",
       "Name: Condition, dtype: int64"
      ]
     },
     "execution_count": 42,
     "metadata": {},
     "output_type": "execute_result"
    }
   ],
   "source": [
    "single_fits.loc[single_fits['BIC'] > dual_fits['BIC'], 'Condition'].value_counts()"
   ]
  },
  {
   "cell_type": "code",
   "execution_count": 43,
   "metadata": {},
   "outputs": [
    {
     "data": {
      "text/plain": [
       "(5.660377358490566,\n",
       " 0.12935481472812108,\n",
       " (array([[ 4., 11.],\n",
       "         [ 2., 13.],\n",
       "         [ 1., 14.],\n",
       "         [ 0., 15.]]),\n",
       "  array([[ 1.75, 13.25],\n",
       "         [ 1.75, 13.25],\n",
       "         [ 1.75, 13.25],\n",
       "         [ 1.75, 13.25]])))"
      ]
     },
     "execution_count": 43,
     "metadata": {},
     "output_type": "execute_result"
    }
   ],
   "source": [
    "proportion.proportions_chisquare([4, 2, 1, 0], [15, 15, 15, 15])"
   ]
  },
  {
   "cell_type": "code",
   "execution_count": 44,
   "metadata": {},
   "outputs": [],
   "source": [
    "single_fits['LR_ratio'] = 2* (single_fits['gof'].values - dual_fits['gof'].values)*640"
   ]
  },
  {
   "cell_type": "code",
   "execution_count": 45,
   "metadata": {},
   "outputs": [],
   "source": [
    "single_fits['chi2'] = stat.chi2.sf(single_fits['LR_ratio'], 2)"
   ]
  },
  {
   "cell_type": "code",
   "execution_count": 46,
   "metadata": {},
   "outputs": [
    {
     "data": {
      "text/plain": [
       "Sudden Accuracy     7\n",
       "Gradual Accuracy    4\n",
       "Sudden Speed        2\n",
       "Name: Condition, dtype: int64"
      ]
     },
     "execution_count": 46,
     "metadata": {},
     "output_type": "execute_result"
    }
   ],
   "source": [
    "single_fits.loc[single_fits['chi2'] < 0.05, 'Condition'].value_counts()"
   ]
  },
  {
   "cell_type": "code",
   "execution_count": 47,
   "metadata": {},
   "outputs": [
    {
     "data": {
      "text/plain": [
       "(10.50736497545008,\n",
       " 0.014711019413259153,\n",
       " (array([[ 7.,  8.],\n",
       "         [ 2., 13.],\n",
       "         [ 4., 11.],\n",
       "         [ 0., 15.]]),\n",
       "  array([[ 3.25, 11.75],\n",
       "         [ 3.25, 11.75],\n",
       "         [ 3.25, 11.75],\n",
       "         [ 3.25, 11.75]])))"
      ]
     },
     "execution_count": 47,
     "metadata": {},
     "output_type": "execute_result"
    }
   ],
   "source": [
    "proportion.proportions_chisquare([7, 2, 4, 0], [15, 15, 15, 15])"
   ]
  },
  {
   "cell_type": "code",
   "execution_count": 48,
   "metadata": {},
   "outputs": [
    {
     "data": {
      "text/plain": [
       "(array([40.,  7.,  3.,  3.,  1.,  1.,  0.,  1.,  2.,  2.]),\n",
       " array([-7.48993359e-07,  2.15848878e-03,  4.31772655e-03,  6.47696432e-03,\n",
       "         8.63620209e-03,  1.07954399e-02,  1.29546776e-02,  1.51139154e-02,\n",
       "         1.72731532e-02,  1.94323910e-02,  2.15916287e-02]),\n",
       " <BarContainer object of 10 artists>)"
      ]
     },
     "execution_count": 48,
     "metadata": {},
     "output_type": "execute_result"
    },
    {
     "data": {
      "image/png": "[encoded data removed]",
      "text/plain": [
       "<Figure size 640x480 with 1 Axes>"
      ]
     },
     "metadata": {},
     "output_type": "display_data"
    }
   ],
   "source": [
    "plt.hist(single_fits['gof'].values - dual_fits['gof'].values)"
   ]
  },
  {
   "attachments": {},
   "cell_type": "markdown",
   "metadata": {},
   "source": [
    "# Cross Validation Comparisons"
   ]
  },
  {
   "cell_type": "code",
   "execution_count": 65,
   "metadata": {},
   "outputs": [],
   "source": [
    "single_fits = pd.read_csv('model_results/single_fit_initerror_results_cv.csv')\n",
    "dual_fits = pd.read_csv('model_results/dual_fit_initerror_results_cv.csv')\n",
    "\n",
    "single_fits.loc[single_fits['p_id']%2 == 0, 'Emphasis'] = 'Speed'\n",
    "single_fits.loc[single_fits['p_id']%2 == 1, 'Emphasis'] = 'Accuracy'\n",
    "\n",
    "single_fits.loc[single_fits['p_id']%4 == 0, 'Rotation'] = 'Sudden'\n",
    "single_fits.loc[single_fits['p_id']%4 == 1, 'Rotation'] = 'Sudden'\n",
    "single_fits.loc[single_fits['p_id']%4 == 2, 'Rotation'] = 'Gradual'\n",
    "single_fits.loc[single_fits['p_id']%4 == 3, 'Rotation'] = 'Gradual'\n",
    "\n",
    "\n",
    "dual_fits.loc[dual_fits['p_id']%2 == 0, 'Emphasis'] = 'Speed'\n",
    "dual_fits.loc[dual_fits['p_id']%2 == 1, 'Emphasis'] = 'Accuracy'\n",
    "\n",
    "dual_fits.loc[dual_fits['p_id']%4 == 0, 'Rotation'] = 'Sudden'\n",
    "dual_fits.loc[dual_fits['p_id']%4 == 1, 'Rotation'] = 'Sudden'\n",
    "dual_fits.loc[dual_fits['p_id']%4 == 2, 'Rotation'] = 'Gradual'\n",
    "dual_fits.loc[dual_fits['p_id']%4 == 3, 'Rotation'] = 'Gradual'\n",
    "\n",
    "\n",
    "single_fits['Condition'] = single_fits['Rotation'] + ' ' + single_fits['Emphasis']"
   ]
  },
  {
   "cell_type": "code",
   "execution_count": 66,
   "metadata": {},
   "outputs": [],
   "source": [
    "dual_fits['dual win'] = (single_fits['test gof'].values > dual_fits['test gof'].values).astype(int)"
   ]
  },
  {
   "cell_type": "code",
   "execution_count": 67,
   "metadata": {},
   "outputs": [],
   "source": [
    "def compute_wins(dual_fits):\n",
    "    # Drop column: 'Unnamed: 0'\n",
    "    # dual_fits = dual_fits.drop(columns=['Unnamed: 0'])\n",
    "    # Performed 1 aggregation grouped on columns: 'p_id', 'Rotation' and 2 other columns\n",
    "    dual_fits = dual_fits.groupby(['p_id', 'Rotation', 'Emphasis', 'dual win']).agg(dualwin_count=('dual win', 'count')).reset_index()\n",
    "    # Filter rows based on column: 'dual win'\n",
    "    dual_fits = dual_fits[dual_fits['dual win'] == 1]\n",
    "    return dual_fits\n",
    "\n",
    "dual_fits_wins = compute_wins(dual_fits.copy())\n",
    "dual_fits_wins['Condition'] = dual_fits_wins['Rotation'] + ' ' + dual_fits_wins['Emphasis']"
   ]
  },
  {
   "cell_type": "code",
   "execution_count": 83,
   "metadata": {},
   "outputs": [
    {
     "data": {
      "text/plain": [
       "Sudden Accuracy     10\n",
       "Gradual Accuracy     9\n",
       "Gradual Speed        6\n",
       "Sudden Speed         6\n",
       "Name: Condition, dtype: int64"
      ]
     },
     "execution_count": 83,
     "metadata": {},
     "output_type": "execute_result"
    }
   ],
   "source": [
    "dual_fits_wins.loc[dual_fits_wins['dualwin_count'] > 57, 'Condition'].value_counts()"
   ]
  },
  {
   "cell_type": "code",
   "execution_count": 91,
   "metadata": {},
   "outputs": [
    {
     "data": {
      "text/plain": [
       "(3.4037819799777527,\n",
       " 0.3334573490277375,\n",
       " (array([[10.,  5.],\n",
       "         [ 9.,  6.],\n",
       "         [ 6.,  9.],\n",
       "         [ 6.,  9.]]),\n",
       "  array([[7.75, 7.25],\n",
       "         [7.75, 7.25],\n",
       "         [7.75, 7.25],\n",
       "         [7.75, 7.25]])))"
      ]
     },
     "execution_count": 91,
     "metadata": {},
     "output_type": "execute_result"
    }
   ],
   "source": [
    "proportion.proportions_chisquare([10, 9, 6, 6], [15, 15, 15, 15])"
   ]
  },
  {
   "cell_type": "code",
   "execution_count": 103,
   "metadata": {},
   "outputs": [],
   "source": [
    "def model_comp_pvals(N, frequencies):\n",
    "    pNull=sum(frequencies)/(4*N)\n",
    "    pFull=frequencies/N\n",
    "\n",
    "    LikelyNull = np.prod(stat.binom.pmf(frequencies,N,pNull))\n",
    "    LikelyFull = np.prod(stat.binom.pmf(frequencies,N,pFull))\n",
    "\n",
    "    chi_sq = -2 * np.log(LikelyNull/LikelyFull)\n",
    "#     print(chi_sq)\n",
    "    return 1-stat.chi2.cdf(chi_sq, 3, )   #% goodness of fit for Full vs Null (whehter there are differences between conditions)\n",
    "\n",
    "#     pEffect=[.75 .75 .75 .25];  #% power to detect three dual state and one single state (87% power with N=15)\n"
   ]
  },
  {
   "cell_type": "code",
   "execution_count": 102,
   "metadata": {},
   "outputs": [
    {
     "data": {
      "text/plain": [
       "0.08202500440192739"
      ]
     },
     "execution_count": 102,
     "metadata": {},
     "output_type": "execute_result"
    }
   ],
   "source": [
    "model_comp_pvals(15, np.array([4, 2, 1, 0]))"
   ]
  },
  {
   "cell_type": "code",
   "execution_count": 71,
   "metadata": {},
   "outputs": [
    {
     "data": {
      "text/plain": [
       "(array([4.222e+03, 6.970e+02, 4.290e+02, 1.840e+02, 1.490e+02, 2.040e+02,\n",
       "        8.100e+01, 2.700e+01, 3.000e+00, 4.000e+00]),\n",
       " array([-0.00117225,  0.00257393,  0.00632011,  0.01006629,  0.01381247,\n",
       "         0.01755865,  0.02130483,  0.02505101,  0.02879719,  0.03254337,\n",
       "         0.03628955]),\n",
       " <BarContainer object of 10 artists>)"
      ]
     },
     "execution_count": 71,
     "metadata": {},
     "output_type": "execute_result"
    },
    {
     "data": {
      "image/png": "[encoded data removed]",
      "text/plain": [
       "<Figure size 640x480 with 1 Axes>"
      ]
     },
     "metadata": {},
     "output_type": "display_data"
    }
   ],
   "source": [
    "plt.hist(single_fits['gof'].values - dual_fits['gof'].values)"
   ]
  },
  {
   "attachments": {},
   "cell_type": "markdown",
   "metadata": {},
   "source": [
    "# Testing model fits"
   ]
  },
  {
   "cell_type": "code",
   "execution_count": 20,
   "metadata": {},
   "outputs": [],
   "source": [
    "df = pd.read_csv('df_allphases_initerror.csv')"
   ]
  },
  {
   "cell_type": "code",
   "execution_count": null,
   "metadata": {},
   "outputs": [],
   "source": []
  },
  {
   "cell_type": "code",
   "execution_count": 27,
   "metadata": {},
   "outputs": [
    {
     "name": "stdout",
     "output_type": "stream",
     "text": [
      "['Sudden']\n",
      "['Accuracy']\n"
     ]
    },
    {
     "data": {
      "image/png": "[encoded data removed]",
      "text/plain": [
       "<Figure size 640x480 with 1 Axes>"
      ]
     },
     "metadata": {},
     "output_type": "display_data"
    }
   ],
   "source": [
    "pid = 13\n",
    "p_type = 'Sudden'\n",
    "plt.plot(df.loc[df['p_id'] == pid, 'init errors'].values[64:])\n",
    "plt.plot(single_state_model(single_fits.iloc[pid]['A'], single_fits.iloc[pid]['B'], 704, p_type))\n",
    "plt.plot(dual_state_model(dual_fits.iloc[pid]['As'], dual_fits.iloc[pid]['Bs'], dual_fits.iloc[pid]['Bf'], dual_fits.iloc[pid]['Bf'], 704, p_type))\n",
    "print(df.loc[df['p_id'] == pid, 'Rotation'].unique())\n",
    "print(df.loc[df['p_id'] == pid, 'Emphasis'].unique())\n",
    "\n"
   ]
  },
  {
   "cell_type": "code",
   "execution_count": 393,
   "metadata": {},
   "outputs": [
    {
     "data": {
      "text/plain": [
       "[<matplotlib.lines.Line2D at 0x15c8f2fc990>]"
      ]
     },
     "execution_count": 393,
     "metadata": {},
     "output_type": "execute_result"
    },
    {
     "data": {
      "image/png": "[encoded data removed]",
      "text/plain": [
       "<Figure size 432x288 with 1 Axes>"
      ]
     },
     "metadata": {
      "needs_background": "light"
     },
     "output_type": "display_data"
    }
   ],
   "source": [
    "plt.plot(dual_state_model(dual_fits.iloc[pid]['As'], dual_fits.iloc[pid]['Bs'], dual_fits.iloc[pid]['Bf'], dual_fits.iloc[pid]['Bf'], 704, 'Sudden'))\n"
   ]
  },
  {
   "cell_type": "code",
   "execution_count": 394,
   "metadata": {},
   "outputs": [
    {
     "data": {
      "text/plain": [
       "(p_id                    26\n",
       " gof             312.293221\n",
       " A                 0.994508\n",
       " B                 0.033931\n",
       " Eps               0.394173\n",
       " AIC             628.586442\n",
       " BIC             636.796028\n",
       " Emphasis             Speed\n",
       " Rotation           Gradual\n",
       " Condition    Gradual Speed\n",
       " Name: 26, dtype: object,\n",
       " p_id                26\n",
       " gof         311.390472\n",
       " As                 1.0\n",
       " Bs            0.007744\n",
       " Af            0.976238\n",
       " Bf            0.049944\n",
       " Eps           0.393616\n",
       " AIC         630.780943\n",
       " BIC         647.200116\n",
       " Emphasis         Speed\n",
       " Rotation       Gradual\n",
       " Name: 26, dtype: object)"
      ]
     },
     "execution_count": 394,
     "metadata": {},
     "output_type": "execute_result"
    }
   ],
   "source": [
    "single_fits.iloc[pid], dual_fits.iloc[pid]"
   ]
  },
  {
   "cell_type": "code",
   "execution_count": 440,
   "metadata": {},
   "outputs": [
    {
     "data": {
      "text/html": [
       "<div>\n",
       "<style scoped>\n",
       "    .dataframe tbody tr th:only-of-type {\n",
       "        vertical-align: middle;\n",
       "    }\n",
       "\n",
       "    .dataframe tbody tr th {\n",
       "        vertical-align: top;\n",
       "    }\n",
       "\n",
       "    .dataframe thead th {\n",
       "        text-align: right;\n",
       "    }\n",
       "</style>\n",
       "<table border=\"1\" class=\"dataframe\">\n",
       "  <thead>\n",
       "    <tr style=\"text-align: right;\">\n",
       "      <th></th>\n",
       "      <th>p_id</th>\n",
       "      <th>Trial</th>\n",
       "      <th>Block</th>\n",
       "      <th>Rotation</th>\n",
       "      <th>Emphasis</th>\n",
       "      <th>init signed error</th>\n",
       "      <th>init signed error degrees</th>\n",
       "      <th>signed avg errors</th>\n",
       "      <th>signed avg errors degrees</th>\n",
       "      <th>avg errors</th>\n",
       "      <th>avg errors degrees</th>\n",
       "    </tr>\n",
       "  </thead>\n",
       "  <tbody>\n",
       "    <tr>\n",
       "      <th>1920</th>\n",
       "      <td>3</td>\n",
       "      <td>64</td>\n",
       "      <td>1</td>\n",
       "      <td>Gradual</td>\n",
       "      <td>Accuracy</td>\n",
       "      <td>-0.002641</td>\n",
       "      <td>-0.151326</td>\n",
       "      <td>0.075220</td>\n",
       "      <td>4.309810</td>\n",
       "      <td>0.075220</td>\n",
       "      <td>4.309810</td>\n",
       "    </tr>\n",
       "    <tr>\n",
       "      <th>1921</th>\n",
       "      <td>3</td>\n",
       "      <td>65</td>\n",
       "      <td>1</td>\n",
       "      <td>Gradual</td>\n",
       "      <td>Accuracy</td>\n",
       "      <td>-0.188205</td>\n",
       "      <td>-10.783344</td>\n",
       "      <td>0.207854</td>\n",
       "      <td>11.909178</td>\n",
       "      <td>0.207854</td>\n",
       "      <td>11.909178</td>\n",
       "    </tr>\n",
       "    <tr>\n",
       "      <th>1922</th>\n",
       "      <td>3</td>\n",
       "      <td>66</td>\n",
       "      <td>1</td>\n",
       "      <td>Gradual</td>\n",
       "      <td>Accuracy</td>\n",
       "      <td>-0.019172</td>\n",
       "      <td>-1.098468</td>\n",
       "      <td>0.071582</td>\n",
       "      <td>4.101370</td>\n",
       "      <td>0.071582</td>\n",
       "      <td>4.101370</td>\n",
       "    </tr>\n",
       "    <tr>\n",
       "      <th>1923</th>\n",
       "      <td>3</td>\n",
       "      <td>67</td>\n",
       "      <td>1</td>\n",
       "      <td>Gradual</td>\n",
       "      <td>Accuracy</td>\n",
       "      <td>-0.071103</td>\n",
       "      <td>-4.073880</td>\n",
       "      <td>0.073981</td>\n",
       "      <td>4.238798</td>\n",
       "      <td>0.073981</td>\n",
       "      <td>4.238798</td>\n",
       "    </tr>\n",
       "    <tr>\n",
       "      <th>1924</th>\n",
       "      <td>3</td>\n",
       "      <td>68</td>\n",
       "      <td>1</td>\n",
       "      <td>Gradual</td>\n",
       "      <td>Accuracy</td>\n",
       "      <td>0.003519</td>\n",
       "      <td>0.201621</td>\n",
       "      <td>0.043447</td>\n",
       "      <td>2.489347</td>\n",
       "      <td>0.043447</td>\n",
       "      <td>2.489347</td>\n",
       "    </tr>\n",
       "    <tr>\n",
       "      <th>...</th>\n",
       "      <td>...</td>\n",
       "      <td>...</td>\n",
       "      <td>...</td>\n",
       "      <td>...</td>\n",
       "      <td>...</td>\n",
       "      <td>...</td>\n",
       "      <td>...</td>\n",
       "      <td>...</td>\n",
       "      <td>...</td>\n",
       "      <td>...</td>\n",
       "      <td>...</td>\n",
       "    </tr>\n",
       "    <tr>\n",
       "      <th>2555</th>\n",
       "      <td>3</td>\n",
       "      <td>699</td>\n",
       "      <td>10</td>\n",
       "      <td>Gradual</td>\n",
       "      <td>Accuracy</td>\n",
       "      <td>-0.117252</td>\n",
       "      <td>-6.718042</td>\n",
       "      <td>0.214726</td>\n",
       "      <td>12.302881</td>\n",
       "      <td>0.214726</td>\n",
       "      <td>12.302881</td>\n",
       "    </tr>\n",
       "    <tr>\n",
       "      <th>2556</th>\n",
       "      <td>3</td>\n",
       "      <td>700</td>\n",
       "      <td>10</td>\n",
       "      <td>Gradual</td>\n",
       "      <td>Accuracy</td>\n",
       "      <td>-0.059318</td>\n",
       "      <td>-3.398658</td>\n",
       "      <td>0.308339</td>\n",
       "      <td>17.666545</td>\n",
       "      <td>0.308339</td>\n",
       "      <td>17.666545</td>\n",
       "    </tr>\n",
       "    <tr>\n",
       "      <th>2557</th>\n",
       "      <td>3</td>\n",
       "      <td>701</td>\n",
       "      <td>10</td>\n",
       "      <td>Gradual</td>\n",
       "      <td>Accuracy</td>\n",
       "      <td>-0.127496</td>\n",
       "      <td>-7.304993</td>\n",
       "      <td>0.192571</td>\n",
       "      <td>11.033497</td>\n",
       "      <td>0.192571</td>\n",
       "      <td>11.033497</td>\n",
       "    </tr>\n",
       "    <tr>\n",
       "      <th>2558</th>\n",
       "      <td>3</td>\n",
       "      <td>702</td>\n",
       "      <td>10</td>\n",
       "      <td>Gradual</td>\n",
       "      <td>Accuracy</td>\n",
       "      <td>0.031461</td>\n",
       "      <td>1.802606</td>\n",
       "      <td>0.063658</td>\n",
       "      <td>3.647359</td>\n",
       "      <td>0.063658</td>\n",
       "      <td>3.647359</td>\n",
       "    </tr>\n",
       "    <tr>\n",
       "      <th>2559</th>\n",
       "      <td>3</td>\n",
       "      <td>703</td>\n",
       "      <td>10</td>\n",
       "      <td>Gradual</td>\n",
       "      <td>Accuracy</td>\n",
       "      <td>-0.029054</td>\n",
       "      <td>-1.664683</td>\n",
       "      <td>0.253494</td>\n",
       "      <td>14.524127</td>\n",
       "      <td>0.253494</td>\n",
       "      <td>14.524127</td>\n",
       "    </tr>\n",
       "  </tbody>\n",
       "</table>\n",
       "<p>640 rows × 11 columns</p>\n",
       "</div>"
      ],
      "text/plain": [
       "      p_id  Trial  Block Rotation  Emphasis  init signed error  \\\n",
       "1920     3     64      1  Gradual  Accuracy          -0.002641   \n",
       "1921     3     65      1  Gradual  Accuracy          -0.188205   \n",
       "1922     3     66      1  Gradual  Accuracy          -0.019172   \n",
       "1923     3     67      1  Gradual  Accuracy          -0.071103   \n",
       "1924     3     68      1  Gradual  Accuracy           0.003519   \n",
       "...    ...    ...    ...      ...       ...                ...   \n",
       "2555     3    699     10  Gradual  Accuracy          -0.117252   \n",
       "2556     3    700     10  Gradual  Accuracy          -0.059318   \n",
       "2557     3    701     10  Gradual  Accuracy          -0.127496   \n",
       "2558     3    702     10  Gradual  Accuracy           0.031461   \n",
       "2559     3    703     10  Gradual  Accuracy          -0.029054   \n",
       "\n",
       "      init signed error degrees  signed avg errors  signed avg errors degrees  \\\n",
       "1920                  -0.151326           0.075220                   4.309810   \n",
       "1921                 -10.783344           0.207854                  11.909178   \n",
       "1922                  -1.098468           0.071582                   4.101370   \n",
       "1923                  -4.073880           0.073981                   4.238798   \n",
       "1924                   0.201621           0.043447                   2.489347   \n",
       "...                         ...                ...                        ...   \n",
       "2555                  -6.718042           0.214726                  12.302881   \n",
       "2556                  -3.398658           0.308339                  17.666545   \n",
       "2557                  -7.304993           0.192571                  11.033497   \n",
       "2558                   1.802606           0.063658                   3.647359   \n",
       "2559                  -1.664683           0.253494                  14.524127   \n",
       "\n",
       "      avg errors  avg errors degrees  \n",
       "1920    0.075220            4.309810  \n",
       "1921    0.207854           11.909178  \n",
       "1922    0.071582            4.101370  \n",
       "1923    0.073981            4.238798  \n",
       "1924    0.043447            2.489347  \n",
       "...          ...                 ...  \n",
       "2555    0.214726           12.302881  \n",
       "2556    0.308339           17.666545  \n",
       "2557    0.192571           11.033497  \n",
       "2558    0.063658            3.647359  \n",
       "2559    0.253494           14.524127  \n",
       "\n",
       "[640 rows x 11 columns]"
      ]
     },
     "execution_count": 440,
     "metadata": {},
     "output_type": "execute_result"
    }
   ],
   "source": [
    "df[df['p_id'] == 3]"
   ]
  },
  {
   "attachments": {},
   "cell_type": "markdown",
   "metadata": {},
   "source": []
  }
 ],
 "metadata": {
  "kernelspec": {
   "display_name": "vma",
   "language": "python",
   "name": "python3"
  },
  "language_info": {
   "codemirror_mode": {
    "name": "ipython",
    "version": 3
   },
   "file_extension": ".py",
   "mimetype": "text/x-python",
   "name": "python",
   "nbconvert_exporter": "python",
   "pygments_lexer": "ipython3",
   "version": "3.11.4"
  },
  "orig_nbformat": 4
 },
 "nbformat": 4,
 "nbformat_minor": 2
}
