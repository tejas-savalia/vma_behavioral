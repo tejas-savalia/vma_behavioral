{
 "cells": [
  {
   "cell_type": "code",
   "execution_count": 417,
   "metadata": {},
   "outputs": [],
   "source": [
    "import numpy as np\n",
    "import pandas as pd\n",
    "import matplotlib.pyplot as plt\n",
    "# import seaborn as sns\n",
    "import scipy.stats as stat\n",
    "from model_fit_functions import *"
   ]
  },
  {
   "cell_type": "code",
   "execution_count": 418,
   "metadata": {},
   "outputs": [],
   "source": [
    "single_fits = pd.read_csv('model_results/single_fit_signed_initerror_results.csv').drop('Unnamed: 0', axis = 1).reset_index().drop('index', axis = 1)\n",
    "dual_fits = pd.read_csv('model_results/dual_fit_signed_initerror_results.csv').drop('Unnamed: 0', axis = 1).reset_index().drop('index', axis = 1)\n"
   ]
  },
  {
   "cell_type": "code",
   "execution_count": 419,
   "metadata": {},
   "outputs": [],
   "source": [
    "single_fits['AIC'] = 2*single_fits['gof'] + 2*2\n",
    "dual_fits['AIC'] = 2*dual_fits['gof'] + 2*4\n",
    "\n",
    "single_fits['BIC'] = 2*single_fits['gof'] + np.log(64*7)*2\n",
    "dual_fits['BIC'] = 2*dual_fits['gof'] + np.log(64*7)*4\n"
   ]
  },
  {
   "cell_type": "code",
   "execution_count": 420,
   "metadata": {},
   "outputs": [],
   "source": [
    "single_fits.loc[single_fits['p_id']%2 == 0, 'Emphasis'] = 'Speed'\n",
    "single_fits.loc[single_fits['p_id']%2 == 1, 'Emphasis'] = 'Accuracy'\n",
    "\n",
    "single_fits.loc[single_fits['p_id']%4 == 0, 'Rotation'] = 'Sudden'\n",
    "single_fits.loc[single_fits['p_id']%4 == 1, 'Rotation'] = 'Sudden'\n",
    "single_fits.loc[single_fits['p_id']%4 == 2, 'Rotation'] = 'Gradual'\n",
    "single_fits.loc[single_fits['p_id']%4 == 3, 'Rotation'] = 'Gradual'\n",
    "\n",
    "\n",
    "dual_fits.loc[dual_fits['p_id']%2 == 0, 'Emphasis'] = 'Speed'\n",
    "dual_fits.loc[dual_fits['p_id']%2 == 1, 'Emphasis'] = 'Accuracy'\n",
    "\n",
    "dual_fits.loc[dual_fits['p_id']%4 == 0, 'Rotation'] = 'Sudden'\n",
    "dual_fits.loc[dual_fits['p_id']%4 == 1, 'Rotation'] = 'Sudden'\n",
    "dual_fits.loc[dual_fits['p_id']%4 == 2, 'Rotation'] = 'Gradual'\n",
    "dual_fits.loc[dual_fits['p_id']%4 == 3, 'Rotation'] = 'Gradual'\n",
    "\n",
    "\n",
    "single_fits['Condition'] = single_fits['Rotation'] + ' ' + single_fits['Emphasis']"
   ]
  },
  {
   "cell_type": "code",
   "execution_count": 421,
   "metadata": {},
   "outputs": [
    {
     "data": {
      "text/plain": [
       "Sudden Speed        15\n",
       "Sudden Accuracy     15\n",
       "Gradual Speed       15\n",
       "Gradual Accuracy    15\n",
       "Name: Condition, dtype: int64"
      ]
     },
     "execution_count": 421,
     "metadata": {},
     "output_type": "execute_result"
    }
   ],
   "source": [
    "single_fits['Condition'].value_counts()"
   ]
  },
  {
   "cell_type": "code",
   "execution_count": 422,
   "metadata": {},
   "outputs": [
    {
     "data": {
      "text/plain": [
       "Sudden Accuracy     6\n",
       "Sudden Speed        4\n",
       "Gradual Accuracy    1\n",
       "Gradual Speed       1\n",
       "Name: Condition, dtype: int64"
      ]
     },
     "execution_count": 422,
     "metadata": {},
     "output_type": "execute_result"
    }
   ],
   "source": [
    "single_fits.loc[single_fits['AIC'] > dual_fits['AIC'], 'Condition'].value_counts()"
   ]
  },
  {
   "cell_type": "code",
   "execution_count": 454,
   "metadata": {},
   "outputs": [
    {
     "data": {
      "text/plain": [
       "Power_divergenceResult(statistic=9.0, pvalue=0.02929088653488826)"
      ]
     },
     "execution_count": 454,
     "metadata": {},
     "output_type": "execute_result"
    }
   ],
   "source": [
    "stat.chisquare([5, 3, 0, 0])"
   ]
  },
  {
   "cell_type": "code",
   "execution_count": 424,
   "metadata": {},
   "outputs": [
    {
     "data": {
      "text/plain": [
       "Sudden Accuracy    4\n",
       "Sudden Speed       2\n",
       "Name: Condition, dtype: int64"
      ]
     },
     "execution_count": 424,
     "metadata": {},
     "output_type": "execute_result"
    }
   ],
   "source": [
    "single_fits.loc[single_fits['BIC'] > dual_fits['BIC'], 'Condition'].value_counts()"
   ]
  },
  {
   "cell_type": "code",
   "execution_count": null,
   "metadata": {},
   "outputs": [],
   "source": []
  },
  {
   "cell_type": "code",
   "execution_count": 425,
   "metadata": {},
   "outputs": [],
   "source": [
    "single_fits['LR_ratio'] = 2* (single_fits['gof'].values - dual_fits['gof'].values)"
   ]
  },
  {
   "cell_type": "code",
   "execution_count": 426,
   "metadata": {},
   "outputs": [],
   "source": [
    "single_fits['chi2'] = stat.chi2.sf(single_fits['LR_ratio'], 2)"
   ]
  },
  {
   "cell_type": "code",
   "execution_count": 427,
   "metadata": {},
   "outputs": [
    {
     "data": {
      "text/plain": [
       "Sudden Accuracy    5\n",
       "Sudden Speed       3\n",
       "Name: Condition, dtype: int64"
      ]
     },
     "execution_count": 427,
     "metadata": {},
     "output_type": "execute_result"
    }
   ],
   "source": [
    "single_fits.loc[single_fits['chi2'] < 0.05, 'Condition'].value_counts()"
   ]
  },
  {
   "cell_type": "code",
   "execution_count": 428,
   "metadata": {},
   "outputs": [
    {
     "data": {
      "text/plain": [
       "0.6"
      ]
     },
     "execution_count": 428,
     "metadata": {},
     "output_type": "execute_result"
    }
   ],
   "source": [
    "9/15"
   ]
  },
  {
   "attachments": {},
   "cell_type": "markdown",
   "metadata": {},
   "source": [
    "# Cross Validation Comparisons"
   ]
  },
  {
   "cell_type": "code",
   "execution_count": 455,
   "metadata": {},
   "outputs": [],
   "source": [
    "single_fits = pd.read_csv('model_results/single_fit_signed_initerror_results_cv.csv')\n",
    "dual_fits = pd.read_csv('model_results/dual_fit_signed_initerror_results_cv.csv')\n",
    "\n",
    "single_fits.loc[single_fits['p_id']%2 == 0, 'Emphasis'] = 'Speed'\n",
    "single_fits.loc[single_fits['p_id']%2 == 1, 'Emphasis'] = 'Accuracy'\n",
    "\n",
    "single_fits.loc[single_fits['p_id']%4 == 0, 'Rotation'] = 'Sudden'\n",
    "single_fits.loc[single_fits['p_id']%4 == 1, 'Rotation'] = 'Sudden'\n",
    "single_fits.loc[single_fits['p_id']%4 == 2, 'Rotation'] = 'Gradual'\n",
    "single_fits.loc[single_fits['p_id']%4 == 3, 'Rotation'] = 'Gradual'\n",
    "\n",
    "\n",
    "dual_fits.loc[dual_fits['p_id']%2 == 0, 'Emphasis'] = 'Speed'\n",
    "dual_fits.loc[dual_fits['p_id']%2 == 1, 'Emphasis'] = 'Accuracy'\n",
    "\n",
    "dual_fits.loc[dual_fits['p_id']%4 == 0, 'Rotation'] = 'Sudden'\n",
    "dual_fits.loc[dual_fits['p_id']%4 == 1, 'Rotation'] = 'Sudden'\n",
    "dual_fits.loc[dual_fits['p_id']%4 == 2, 'Rotation'] = 'Gradual'\n",
    "dual_fits.loc[dual_fits['p_id']%4 == 3, 'Rotation'] = 'Gradual'\n",
    "\n",
    "\n",
    "single_fits['Condition'] = single_fits['Rotation'] + ' ' + single_fits['Emphasis']"
   ]
  },
  {
   "cell_type": "code",
   "execution_count": 456,
   "metadata": {},
   "outputs": [],
   "source": [
    "dual_fits['dual win'] = (single_fits['test gof'].values > dual_fits['test gof'].values).astype(int)"
   ]
  },
  {
   "cell_type": "code",
   "execution_count": 457,
   "metadata": {},
   "outputs": [],
   "source": [
    "def compute_wins(dual_fits):\n",
    "    # Drop column: 'Unnamed: 0'\n",
    "    # dual_fits = dual_fits.drop(columns=['Unnamed: 0'])\n",
    "    # Performed 1 aggregation grouped on columns: 'p_id', 'Rotation' and 2 other columns\n",
    "    dual_fits = dual_fits.groupby(['p_id', 'Rotation', 'Emphasis', 'dual win']).agg(dualwin_count=('dual win', 'count')).reset_index()\n",
    "    # Filter rows based on column: 'dual win'\n",
    "    dual_fits = dual_fits[dual_fits['dual win'] == 1]\n",
    "    return dual_fits\n",
    "\n",
    "dual_fits_wins = compute_wins(dual_fits.copy())\n",
    "dual_fits_wins['Condition'] = dual_fits_wins['Rotation'] + ' ' + dual_fits_wins['Emphasis']"
   ]
  },
  {
   "cell_type": "code",
   "execution_count": 462,
   "metadata": {},
   "outputs": [
    {
     "data": {
      "text/plain": [
       "Sudden Accuracy     4\n",
       "Sudden Speed        3\n",
       "Gradual Speed       3\n",
       "Gradual Accuracy    1\n",
       "Name: Condition, dtype: int64"
      ]
     },
     "execution_count": 462,
     "metadata": {},
     "output_type": "execute_result"
    }
   ],
   "source": [
    "dual_fits_wins.loc[dual_fits_wins['dualwin_count'] > 60, 'Condition'].value_counts()"
   ]
  },
  {
   "cell_type": "code",
   "execution_count": 412,
   "metadata": {},
   "outputs": [
    {
     "data": {
      "text/plain": [
       "0.13333333333333333"
      ]
     },
     "execution_count": 412,
     "metadata": {},
     "output_type": "execute_result"
    }
   ],
   "source": [
    "2/15"
   ]
  },
  {
   "cell_type": "code",
   "execution_count": 413,
   "metadata": {},
   "outputs": [
    {
     "data": {
      "text/plain": [
       "Gradual Speed       15\n",
       "Sudden Speed        14\n",
       "Gradual Accuracy    14\n",
       "Sudden Accuracy     13\n",
       "Name: Condition, dtype: int64"
      ]
     },
     "execution_count": 413,
     "metadata": {},
     "output_type": "execute_result"
    }
   ],
   "source": [
    "dual_fits_wins.Condition.value_counts()"
   ]
  },
  {
   "attachments": {},
   "cell_type": "markdown",
   "metadata": {},
   "source": [
    "# Testing model fits"
   ]
  },
  {
   "cell_type": "code",
   "execution_count": 441,
   "metadata": {},
   "outputs": [],
   "source": [
    "df = pd.read_csv('df_learn_signed.csv')"
   ]
  },
  {
   "cell_type": "code",
   "execution_count": 451,
   "metadata": {},
   "outputs": [
    {
     "name": "stdout",
     "output_type": "stream",
     "text": [
      "['Sudden']\n",
      "['Accuracy']\n"
     ]
    },
    {
     "data": {
      "image/png": "[encoded data removed]",
      "text/plain": [
       "<Figure size 432x288 with 1 Axes>"
      ]
     },
     "metadata": {
      "needs_background": "light"
     },
     "output_type": "display_data"
    }
   ],
   "source": [
    "pid = 33\n",
    "p_type = 'Sudden'\n",
    "plt.plot(df.loc[df['p_id'] == pid, 'init signed error'].values)\n",
    "plt.plot(single_state_model(single_fits.iloc[pid]['A'], single_fits.iloc[pid]['B'], 640, p_type))\n",
    "plt.plot(dual_state_model(dual_fits.iloc[pid]['As'], dual_fits.iloc[pid]['Bs'], dual_fits.iloc[pid]['Bf'], dual_fits.iloc[pid]['Bf'], 640, p_type))\n",
    "print(df.loc[df['p_id'] == pid, 'Rotation'].unique())\n",
    "print(df.loc[df['p_id'] == pid, 'Emphasis'].unique())\n",
    "\n"
   ]
  },
  {
   "cell_type": "code",
   "execution_count": 393,
   "metadata": {},
   "outputs": [
    {
     "data": {
      "text/plain": [
       "[<matplotlib.lines.Line2D at 0x15c8f2fc990>]"
      ]
     },
     "execution_count": 393,
     "metadata": {},
     "output_type": "execute_result"
    },
    {
     "data": {
      "image/png": "[encoded data removed]",
      "text/plain": [
       "<Figure size 432x288 with 1 Axes>"
      ]
     },
     "metadata": {
      "needs_background": "light"
     },
     "output_type": "display_data"
    }
   ],
   "source": [
    "plt.plot(dual_state_model(dual_fits.iloc[pid]['As'], dual_fits.iloc[pid]['Bs'], dual_fits.iloc[pid]['Bf'], dual_fits.iloc[pid]['Bf'], 704, 'Sudden'))\n"
   ]
  },
  {
   "cell_type": "code",
   "execution_count": 394,
   "metadata": {},
   "outputs": [
    {
     "data": {
      "text/plain": [
       "(p_id                    26\n",
       " gof             312.293221\n",
       " A                 0.994508\n",
       " B                 0.033931\n",
       " Eps               0.394173\n",
       " AIC             628.586442\n",
       " BIC             636.796028\n",
       " Emphasis             Speed\n",
       " Rotation           Gradual\n",
       " Condition    Gradual Speed\n",
       " Name: 26, dtype: object,\n",
       " p_id                26\n",
       " gof         311.390472\n",
       " As                 1.0\n",
       " Bs            0.007744\n",
       " Af            0.976238\n",
       " Bf            0.049944\n",
       " Eps           0.393616\n",
       " AIC         630.780943\n",
       " BIC         647.200116\n",
       " Emphasis         Speed\n",
       " Rotation       Gradual\n",
       " Name: 26, dtype: object)"
      ]
     },
     "execution_count": 394,
     "metadata": {},
     "output_type": "execute_result"
    }
   ],
   "source": [
    "single_fits.iloc[pid], dual_fits.iloc[pid]"
   ]
  },
  {
   "cell_type": "code",
   "execution_count": 440,
   "metadata": {},
   "outputs": [
    {
     "data": {
      "text/html": [
       "<div>\n",
       "<style scoped>\n",
       "    .dataframe tbody tr th:only-of-type {\n",
       "        vertical-align: middle;\n",
       "    }\n",
       "\n",
       "    .dataframe tbody tr th {\n",
       "        vertical-align: top;\n",
       "    }\n",
       "\n",
       "    .dataframe thead th {\n",
       "        text-align: right;\n",
       "    }\n",
       "</style>\n",
       "<table border=\"1\" class=\"dataframe\">\n",
       "  <thead>\n",
       "    <tr style=\"text-align: right;\">\n",
       "      <th></th>\n",
       "      <th>p_id</th>\n",
       "      <th>Trial</th>\n",
       "      <th>Block</th>\n",
       "      <th>Rotation</th>\n",
       "      <th>Emphasis</th>\n",
       "      <th>init signed error</th>\n",
       "      <th>init signed error degrees</th>\n",
       "      <th>signed avg errors</th>\n",
       "      <th>signed avg errors degrees</th>\n",
       "      <th>avg errors</th>\n",
       "      <th>avg errors degrees</th>\n",
       "    </tr>\n",
       "  </thead>\n",
       "  <tbody>\n",
       "    <tr>\n",
       "      <th>1920</th>\n",
       "      <td>3</td>\n",
       "      <td>64</td>\n",
       "      <td>1</td>\n",
       "      <td>Gradual</td>\n",
       "      <td>Accuracy</td>\n",
       "      <td>-0.002641</td>\n",
       "      <td>-0.151326</td>\n",
       "      <td>0.075220</td>\n",
       "      <td>4.309810</td>\n",
       "      <td>0.075220</td>\n",
       "      <td>4.309810</td>\n",
       "    </tr>\n",
       "    <tr>\n",
       "      <th>1921</th>\n",
       "      <td>3</td>\n",
       "      <td>65</td>\n",
       "      <td>1</td>\n",
       "      <td>Gradual</td>\n",
       "      <td>Accuracy</td>\n",
       "      <td>-0.188205</td>\n",
       "      <td>-10.783344</td>\n",
       "      <td>0.207854</td>\n",
       "      <td>11.909178</td>\n",
       "      <td>0.207854</td>\n",
       "      <td>11.909178</td>\n",
       "    </tr>\n",
       "    <tr>\n",
       "      <th>1922</th>\n",
       "      <td>3</td>\n",
       "      <td>66</td>\n",
       "      <td>1</td>\n",
       "      <td>Gradual</td>\n",
       "      <td>Accuracy</td>\n",
       "      <td>-0.019172</td>\n",
       "      <td>-1.098468</td>\n",
       "      <td>0.071582</td>\n",
       "      <td>4.101370</td>\n",
       "      <td>0.071582</td>\n",
       "      <td>4.101370</td>\n",
       "    </tr>\n",
       "    <tr>\n",
       "      <th>1923</th>\n",
       "      <td>3</td>\n",
       "      <td>67</td>\n",
       "      <td>1</td>\n",
       "      <td>Gradual</td>\n",
       "      <td>Accuracy</td>\n",
       "      <td>-0.071103</td>\n",
       "      <td>-4.073880</td>\n",
       "      <td>0.073981</td>\n",
       "      <td>4.238798</td>\n",
       "      <td>0.073981</td>\n",
       "      <td>4.238798</td>\n",
       "    </tr>\n",
       "    <tr>\n",
       "      <th>1924</th>\n",
       "      <td>3</td>\n",
       "      <td>68</td>\n",
       "      <td>1</td>\n",
       "      <td>Gradual</td>\n",
       "      <td>Accuracy</td>\n",
       "      <td>0.003519</td>\n",
       "      <td>0.201621</td>\n",
       "      <td>0.043447</td>\n",
       "      <td>2.489347</td>\n",
       "      <td>0.043447</td>\n",
       "      <td>2.489347</td>\n",
       "    </tr>\n",
       "    <tr>\n",
       "      <th>...</th>\n",
       "      <td>...</td>\n",
       "      <td>...</td>\n",
       "      <td>...</td>\n",
       "      <td>...</td>\n",
       "      <td>...</td>\n",
       "      <td>...</td>\n",
       "      <td>...</td>\n",
       "      <td>...</td>\n",
       "      <td>...</td>\n",
       "      <td>...</td>\n",
       "      <td>...</td>\n",
       "    </tr>\n",
       "    <tr>\n",
       "      <th>2555</th>\n",
       "      <td>3</td>\n",
       "      <td>699</td>\n",
       "      <td>10</td>\n",
       "      <td>Gradual</td>\n",
       "      <td>Accuracy</td>\n",
       "      <td>-0.117252</td>\n",
       "      <td>-6.718042</td>\n",
       "      <td>0.214726</td>\n",
       "      <td>12.302881</td>\n",
       "      <td>0.214726</td>\n",
       "      <td>12.302881</td>\n",
       "    </tr>\n",
       "    <tr>\n",
       "      <th>2556</th>\n",
       "      <td>3</td>\n",
       "      <td>700</td>\n",
       "      <td>10</td>\n",
       "      <td>Gradual</td>\n",
       "      <td>Accuracy</td>\n",
       "      <td>-0.059318</td>\n",
       "      <td>-3.398658</td>\n",
       "      <td>0.308339</td>\n",
       "      <td>17.666545</td>\n",
       "      <td>0.308339</td>\n",
       "      <td>17.666545</td>\n",
       "    </tr>\n",
       "    <tr>\n",
       "      <th>2557</th>\n",
       "      <td>3</td>\n",
       "      <td>701</td>\n",
       "      <td>10</td>\n",
       "      <td>Gradual</td>\n",
       "      <td>Accuracy</td>\n",
       "      <td>-0.127496</td>\n",
       "      <td>-7.304993</td>\n",
       "      <td>0.192571</td>\n",
       "      <td>11.033497</td>\n",
       "      <td>0.192571</td>\n",
       "      <td>11.033497</td>\n",
       "    </tr>\n",
       "    <tr>\n",
       "      <th>2558</th>\n",
       "      <td>3</td>\n",
       "      <td>702</td>\n",
       "      <td>10</td>\n",
       "      <td>Gradual</td>\n",
       "      <td>Accuracy</td>\n",
       "      <td>0.031461</td>\n",
       "      <td>1.802606</td>\n",
       "      <td>0.063658</td>\n",
       "      <td>3.647359</td>\n",
       "      <td>0.063658</td>\n",
       "      <td>3.647359</td>\n",
       "    </tr>\n",
       "    <tr>\n",
       "      <th>2559</th>\n",
       "      <td>3</td>\n",
       "      <td>703</td>\n",
       "      <td>10</td>\n",
       "      <td>Gradual</td>\n",
       "      <td>Accuracy</td>\n",
       "      <td>-0.029054</td>\n",
       "      <td>-1.664683</td>\n",
       "      <td>0.253494</td>\n",
       "      <td>14.524127</td>\n",
       "      <td>0.253494</td>\n",
       "      <td>14.524127</td>\n",
       "    </tr>\n",
       "  </tbody>\n",
       "</table>\n",
       "<p>640 rows × 11 columns</p>\n",
       "</div>"
      ],
      "text/plain": [
       "      p_id  Trial  Block Rotation  Emphasis  init signed error  \\\n",
       "1920     3     64      1  Gradual  Accuracy          -0.002641   \n",
       "1921     3     65      1  Gradual  Accuracy          -0.188205   \n",
       "1922     3     66      1  Gradual  Accuracy          -0.019172   \n",
       "1923     3     67      1  Gradual  Accuracy          -0.071103   \n",
       "1924     3     68      1  Gradual  Accuracy           0.003519   \n",
       "...    ...    ...    ...      ...       ...                ...   \n",
       "2555     3    699     10  Gradual  Accuracy          -0.117252   \n",
       "2556     3    700     10  Gradual  Accuracy          -0.059318   \n",
       "2557     3    701     10  Gradual  Accuracy          -0.127496   \n",
       "2558     3    702     10  Gradual  Accuracy           0.031461   \n",
       "2559     3    703     10  Gradual  Accuracy          -0.029054   \n",
       "\n",
       "      init signed error degrees  signed avg errors  signed avg errors degrees  \\\n",
       "1920                  -0.151326           0.075220                   4.309810   \n",
       "1921                 -10.783344           0.207854                  11.909178   \n",
       "1922                  -1.098468           0.071582                   4.101370   \n",
       "1923                  -4.073880           0.073981                   4.238798   \n",
       "1924                   0.201621           0.043447                   2.489347   \n",
       "...                         ...                ...                        ...   \n",
       "2555                  -6.718042           0.214726                  12.302881   \n",
       "2556                  -3.398658           0.308339                  17.666545   \n",
       "2557                  -7.304993           0.192571                  11.033497   \n",
       "2558                   1.802606           0.063658                   3.647359   \n",
       "2559                  -1.664683           0.253494                  14.524127   \n",
       "\n",
       "      avg errors  avg errors degrees  \n",
       "1920    0.075220            4.309810  \n",
       "1921    0.207854           11.909178  \n",
       "1922    0.071582            4.101370  \n",
       "1923    0.073981            4.238798  \n",
       "1924    0.043447            2.489347  \n",
       "...          ...                 ...  \n",
       "2555    0.214726           12.302881  \n",
       "2556    0.308339           17.666545  \n",
       "2557    0.192571           11.033497  \n",
       "2558    0.063658            3.647359  \n",
       "2559    0.253494           14.524127  \n",
       "\n",
       "[640 rows x 11 columns]"
      ]
     },
     "execution_count": 440,
     "metadata": {},
     "output_type": "execute_result"
    }
   ],
   "source": [
    "df[df['p_id'] == 3]"
   ]
  },
  {
   "attachments": {},
   "cell_type": "markdown",
   "metadata": {},
   "source": []
  }
 ],
 "metadata": {
  "kernelspec": {
   "display_name": "vma",
   "language": "python",
   "name": "python3"
  },
  "language_info": {
   "codemirror_mode": {
    "name": "ipython",
    "version": 3
   },
   "file_extension": ".py",
   "mimetype": "text/x-python",
   "name": "python",
   "nbconvert_exporter": "python",
   "pygments_lexer": "ipython3",
   "version": "3.11.2"
  },
  "orig_nbformat": 4
 },
 "nbformat": 4,
 "nbformat_minor": 2
}
