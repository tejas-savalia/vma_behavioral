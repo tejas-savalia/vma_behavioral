{
 "cells": [
  {
   "cell_type": "code",
   "execution_count": 1,
   "metadata": {},
   "outputs": [],
   "source": [
    "import scipy.io\n",
    "import numpy as np\n",
    "import matplotlib.pyplot as plt\n",
    "from ipywidgets import interact, interactive, fixed, interact_manual\n",
    "import ipywidgets as widgets\n",
    "import scipy.stats as stat\n",
    "from sklearn.linear_model import LinearRegression\n",
    "import statsmodels.api as sm\n",
    "import statsmodels.formula.api as smf\n",
    "from scipy import stats\n",
    "import pickle\n",
    "from sklearn.metrics import *\n",
    "import pandas as pd\n",
    "import seaborn as sns\n",
    "import statsmodels"
   ]
  },
  {
   "cell_type": "code",
   "execution_count": 2,
   "metadata": {},
   "outputs": [],
   "source": [
    "from all_models import *"
   ]
  },
  {
   "cell_type": "code",
   "execution_count": 3,
   "metadata": {},
   "outputs": [],
   "source": [
    "fits_single = pickle.load(open('fit_single_CV_704.pickle', 'rb'))\n",
    "fits_dual = pickle.load(open('fit_dual_CV_704.pickle', 'rb'))\n",
    "curvatures_smooth = pickle.load(open('curvatures_smooth.pickle', 'rb'))\n",
    "curvatures_smooth = curvatures_smooth/(np.pi/2)\n"
   ]
  },
  {
   "cell_type": "code",
   "execution_count": null,
   "metadata": {},
   "outputs": [],
   "source": []
  },
  {
   "cell_type": "code",
   "execution_count": 4,
   "metadata": {},
   "outputs": [],
   "source": [
    "all_A = np.zeros(32*100)\n",
    "all_B = np.zeros(32*100)\n",
    "all_Af = np.zeros(32*100)\n",
    "all_Bf = np.zeros(32*100)\n",
    "all_As = np.zeros(32*100)\n",
    "all_Bs = np.zeros(32*100)\n",
    "\n",
    "\n",
    "for i in range(100):\n",
    "    all_A[i*32:(i+1)*32] = fits_single[i][:, 0]\n",
    "    all_B[i*32:(i+1)*32] = fits_single[i][:, 1]\n",
    "    all_Af[i*32:(i+1)*32] = fits_dual[i][:, 0]\n",
    "    all_Bf[i*32:(i+1)*32] = fits_dual[i][:, 1]\n",
    "    all_As[i*32:(i+1)*32] = fits_dual[i][:, 2]\n",
    "    all_Bs[i*32:(i+1)*32] = fits_dual[i][:, 3]\n"
   ]
  },
  {
   "cell_type": "code",
   "execution_count": 5,
   "metadata": {},
   "outputs": [],
   "source": [
    "parameters_df = pd.DataFrame({'Participant_Id': np.tile(range(32), 100),\n",
    "                              'Rotation': np.tile(['Sudden', 'Gradual'], 16*100), \n",
    "                              'A': all_A,\n",
    "                              'B': all_B,\n",
    "                              'Af': all_Af, \n",
    "                              'Bf': all_As, \n",
    "                              'As': all_As,\n",
    "                              'Bs': all_Bs                              \n",
    "                        })"
   ]
  },
  {
   "cell_type": "code",
   "execution_count": 46,
   "metadata": {},
   "outputs": [],
   "source": [
    "parameter_means = parameters_df.groupby(['Participant_Id', 'Rotation']).mean().reset_index()\n",
    "parameter_means['ratio'] = parameter_means['Bs']/(parameter_means['Bs'] + parameter_means['Bf'])"
   ]
  },
  {
   "cell_type": "code",
   "execution_count": 80,
   "metadata": {},
   "outputs": [
    {
     "data": {
      "text/plain": [
       "Text(0.5, 1.0, 'End Point Feedback')"
      ]
     },
     "execution_count": 80,
     "metadata": {},
     "output_type": "execute_result"
    },
    {
     "data": {
      "image/png": "[encoded data removed]",
      "text/plain": [
       "<Figure size 360x360 with 1 Axes>"
      ]
     },
     "metadata": {
      "needs_background": "light"
     },
     "output_type": "display_data"
    }
   ],
   "source": [
    "sns.catplot(x = 'Rotation', y = 'B', data = parameter_means, kind = 'bar', capsize = 0.2)\n",
    "plt.title('End Point Feedback')"
   ]
  },
  {
   "cell_type": "code",
   "execution_count": 65,
   "metadata": {},
   "outputs": [
    {
     "data": {
      "text/plain": [
       "Ttest_indResult(statistic=1.8316046216931368, pvalue=0.07695705516676128)"
      ]
     },
     "execution_count": 65,
     "metadata": {},
     "output_type": "execute_result"
    }
   ],
   "source": [
    "param = 'Af'\n",
    "stat.ttest_ind(parameter_means[param][parameter_means['Rotation'] == 'Gradual'], parameter_means[param][parameter_means['Rotation'] == 'Sudden'])"
   ]
  },
  {
   "cell_type": "code",
   "execution_count": 5,
   "metadata": {},
   "outputs": [],
   "source": [
    "num_trials = 704\n",
    "num_participants = 32\n",
    "model_errors_fast = np.zeros((100, num_participants, num_trials))\n",
    "model_errors_slow = np.zeros((100, num_participants, num_trials))\n",
    "r_est = np.zeros((100, num_participants, num_trials))\n",
    "e_est = np.zeros((100, num_participants, num_trials))\n",
    "\n",
    "for i in range(100):\n",
    "    for participant in range(num_participants):\n",
    "        if participant%2 == 0:\n",
    "\n",
    "            e_est[i][participant], r_est[i][participant], model_errors_fast[i][participant], model_errors_slow[i][participant]  = dual_model_sudden(704, fits_dual[i][participant][0], fits_dual[i][participant][1], fits_dual[i][participant][2], fits_dual[i][participant][3])\n",
    "        \n",
    "        else:\n",
    "            e_est[i][participant], r_est[i][participant], model_errors_fast[i][participant], model_errors_slow[i][participant] = dual_model_gradual(num_trials, fits_dual[i][participant][0], fits_dual[i][participant][1], fits_dual[i][participant][2], fits_dual[i][participant][3])\n",
    "        "
   ]
  },
  {
   "cell_type": "code",
   "execution_count": 6,
   "metadata": {},
   "outputs": [
    {
     "data": {
      "text/plain": [
       "[<matplotlib.lines.Line2D at 0x1f3645299d0>]"
      ]
     },
     "execution_count": 6,
     "metadata": {},
     "output_type": "execute_result"
    },
    {
     "data": {
      "image/png": "[encoded data removed]",
      "text/plain": [
       "<Figure size 432x288 with 1 Axes>"
      ]
     },
     "metadata": {
      "needs_background": "light"
     },
     "output_type": "display_data"
    }
   ],
   "source": [
    "plt.plot(np.mean(e_est[:, 1], axis = 0))"
   ]
  },
  {
   "cell_type": "code",
   "execution_count": 7,
   "metadata": {},
   "outputs": [],
   "source": [
    "estimates_df = pd.DataFrame({'Participant_Id': np.tile(np.repeat(np.arange(num_participants), 704), 100), \n",
    "                             'Trial': np.tile(np.arange(704), num_participants*100), \n",
    "                             'Block': np.tile(np.repeat(np.arange(1, 12), 64), num_participants*100), \n",
    "                             'E_est': np.ravel(e_est),\n",
    "                             'R_est': np.ravel(r_est),\n",
    "                             'Fast_est': np.ravel(model_errors_fast),\n",
    "                             'Slow_est': np.ravel(model_errors_slow),\n",
    "                             'Condition': np.tile(np.repeat(['Sudden_Accuracy', 'Gradual_Accuracy'], 704), 16*100), \n",
    "                             'slow/(fast+slow)': np.ravel(model_errors_slow)/(np.ravel(r_est) + 0.00001),\n",
    "                             'fast/(fast+slow)': np.ravel(model_errors_fast)/(np.ravel(r_est) + 0.00001), \n",
    "                             'slow/fast': np.ravel(model_errors_slow)/(np.ravel(model_errors_fast) + 0.00001)\n",
    "\n",
    "                            })\n",
    "estimates_df['Slow-Fast'] = estimates_df['Slow_est'] - estimates_df['Fast_est']\n"
   ]
  },
  {
   "cell_type": "code",
   "execution_count": 8,
   "metadata": {},
   "outputs": [],
   "source": [
    "estimate_means = estimates_df.groupby(['Participant_Id', 'Block', 'Condition']).mean().reset_index()\n"
   ]
  },
  {
   "cell_type": "code",
   "execution_count": 9,
   "metadata": {},
   "outputs": [],
   "source": [
    "estimate_means_melted = estimate_means.melt(['Participant_Id', 'Block', 'Condition', 'Trial', 'slow/fast'], var_name='Estimates')"
   ]
  },
  {
   "cell_type": "code",
   "execution_count": null,
   "metadata": {},
   "outputs": [],
   "source": []
  },
  {
   "cell_type": "code",
   "execution_count": 10,
   "metadata": {},
   "outputs": [
    {
     "data": {
      "text/plain": [
       "(0.0, 1.0)"
      ]
     },
     "execution_count": 10,
     "metadata": {},
     "output_type": "execute_result"
    },
    {
     "data": {
      "image/png": "[encoded data removed]",
      "text/plain": [
       "<Figure size 486.5x360 with 1 Axes>"
      ]
     },
     "metadata": {
      "needs_background": "light"
     },
     "output_type": "display_data"
    }
   ],
   "source": [
    "sns.catplot(x = 'Block', y = 'Fast_est', hue = 'Condition',  \n",
    "            data = estimate_means[estimate_means['Block'] < 11], kind = 'point', capsize = 0.2)\n",
    "plt.title('Without Feedback')\n",
    "plt.ylim((0, 1))"
   ]
  },
  {
   "cell_type": "code",
   "execution_count": null,
   "metadata": {},
   "outputs": [],
   "source": []
  }
 ],
 "metadata": {
  "kernelspec": {
   "display_name": "Python 3",
   "language": "python",
   "name": "python3"
  },
  "language_info": {
   "codemirror_mode": {
    "name": "ipython",
    "version": 3
   },
   "file_extension": ".py",
   "mimetype": "text/x-python",
   "name": "python",
   "nbconvert_exporter": "python",
   "pygments_lexer": "ipython3",
   "version": "3.8.5"
  }
 },
 "nbformat": 4,
 "nbformat_minor": 4
}
