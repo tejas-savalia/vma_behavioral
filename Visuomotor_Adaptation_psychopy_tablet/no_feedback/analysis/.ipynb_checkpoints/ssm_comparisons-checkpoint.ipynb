{
 "cells": [
  {
   "cell_type": "code",
   "execution_count": 16,
   "metadata": {},
   "outputs": [],
   "source": [
    "import numpy as np\n",
    "import pandas as pd\n",
    "import matplotlib.pyplot as plt\n",
    "import seaborn as sns\n",
    "import pickle\n",
    "from all_models import dual_model_sudden, dual_model_gradual, model_sudden, model_gradual\n",
    "import scipy.stats as stat"
   ]
  },
  {
   "cell_type": "code",
   "execution_count": 34,
   "metadata": {},
   "outputs": [],
   "source": [
    "fits_dual = pickle.load(open('fit_dual_CV_704.pickle', 'rb'))\n",
    "fits_single = pickle.load(open('fit_single_CV_704.pickle', 'rb'))\n",
    "curvatures_smooth = pickle.load(open('curvatures_smooth.pickle', 'rb'))\n",
    "curvatures_smooth = curvatures_smooth/90"
   ]
  },
  {
   "cell_type": "code",
   "execution_count": 36,
   "metadata": {},
   "outputs": [
    {
     "data": {
      "text/plain": [
       "(14, 12, 64)"
      ]
     },
     "execution_count": 36,
     "metadata": {},
     "output_type": "execute_result"
    }
   ],
   "source": []
  },
  {
   "cell_type": "code",
   "execution_count": 15,
   "metadata": {},
   "outputs": [],
   "source": [
    "dual_errors = np.zeros((100, 14, 704))\n",
    "single_errors = np.zeros((100, 14, 704))\n",
    "for i in range(100):\n",
    "    for participant in range(14):\n",
    "        if participant%2 == 0:\n",
    "            dual_errors[i][participant] = dual_model_sudden(704, fits_dual[i][participant][0], fits_dual[i][participant][1], fits_dual[i][participant][2], fits_dual[i][participant][3])[0]\n",
    "            single_errors[i][participant] = model_sudden(704, fits_single[i][participant][0], fits_single[i][participant][1])[0]\n",
    "        else:\n",
    "            dual_errors[i][participant] = dual_model_gradual(704, fits_dual[i][participant][0], fits_dual[i][participant][1], fits_dual[i][participant][2], fits_dual[i][participant][3])[0]\n",
    "            single_errors[i][participant] = model_gradual(704, fits_single[i][participant][0], fits_single[i][participant][1])[0]"
   ]
  },
  {
   "cell_type": "code",
   "execution_count": 66,
   "metadata": {},
   "outputs": [],
   "source": [
    "ll_single = np.zeros((100, 14, 704))\n",
    "ll_dual = np.zeros((100, 14, 704))\n",
    "for i in range(100):\n",
    "    for participant in range(14):\n",
    "        ll_dual[i][participant] = stat.norm.logpdf(np.ravel(curvatures_smooth[participant][1:]), dual_errors[i][participant], fits_dual[i][participant][5])\n",
    "        ll_single[i][participant] = stat.norm.logpdf(np.ravel(curvatures_smooth[participant][1:]), single_errors[i][participant], fits_single[i][participant][3])"
   ]
  },
  {
   "cell_type": "code",
   "execution_count": 59,
   "metadata": {},
   "outputs": [],
   "source": [
    "def get_lls(fits, ll, rotate):\n",
    "    ll_rotate_train = np.zeros((100, 14))\n",
    "    ll_transfer_train = np.zeros((100, 14))\n",
    "    ll_rotate_test = np.zeros((100, 14))\n",
    "    ll_transfer_test = np.zeros((100, 14))\n",
    "    ll_all_test = np.zeros((100, 14))\n",
    "    ll_all_train = np.zeros((100, 14))\n",
    "\n",
    "    for i in range(100):\n",
    "        for participant in range(14):\n",
    "            rotate_train_indices = fits[i][participant, -1][fits[i][participant, -1] < 640]\n",
    "            transfer_train_indices = fits[i][participant, -1][fits[i][participant, -1] >= 640]\n",
    "            \n",
    "            all_test_indices = np.delete(range(704), fits[i][participant, -1])\n",
    "            rotate_test_indices = all_test_indices[all_test_indices<640]\n",
    "            transfer_test_indices = all_test_indices[all_test_indices>=640]\n",
    "            #if rotate:\n",
    "            ll_rotate_train[i][participant] = sum(ll[i][participant][rotate_train_indices])\n",
    "            ll_rotate_test[i][participant] = sum(ll[i][participant][rotate_test_indices])\n",
    "            #else:\n",
    "            ll_transfer_train[i][participant] = sum(ll[i][participant][transfer_train_indices])\n",
    "            ll_transfer_test[i][participant] = sum(ll[i][participant][transfer_test_indices])\n",
    "            #Uncomment for combined rotate + transfer\n",
    "            ll_all_test[i][participant] = sum(ll[i][participant][all_test_indices])\n",
    "            ll_all_train[i][participant] = sum(ll[i][participant][fits[i][participant, -1]])\n",
    "            \n",
    "    return [ll_rotate_train, ll_rotate_test, ll_transfer_train, ll_transfer_test, ll_all_train, ll_all_test]"
   ]
  },
  {
   "cell_type": "code",
   "execution_count": 69,
   "metadata": {},
   "outputs": [],
   "source": [
    "ll_duals = np.array(get_lls(fits_dual, ll_dual, 0))\n",
    "ll_singles = np.array(get_lls(fits_single, ll_single, 0))"
   ]
  },
  {
   "cell_type": "code",
   "execution_count": 70,
   "metadata": {},
   "outputs": [],
   "source": [
    "def get_train_test_split(ll_selected, ll_compared, model_selected):\n",
    "    d = {'Rotation': np.ravel(np.row_stack((np.repeat('Sudden', 14), np.repeat('Gradual', 14)))),\n",
    "     'Set': np.ravel(np.row_stack((np.repeat('Train', 7), np.repeat('Test', 7), np.repeat('Train', 7), np.repeat('Test', 7))))}\n",
    "    df = pd.DataFrame(d)\n",
    "    df[model_selected] = np.concatenate((\n",
    "    sum(ll_compared[4][:, 0::2] <= ll_selected[4][:, 0::2]), \n",
    "    sum(ll_compared[5][:, 0::2] <= ll_selected[5][:, 0::2]),\n",
    "\n",
    "    sum(ll_compared[4][:, 1::2] <= ll_selected[4][:, 1::2]), \n",
    "    sum(ll_compared[5][:, 1::2] <= ll_selected[5][:, 1::2]),\n",
    "    ))\n",
    "    return df"
   ]
  },
  {
   "cell_type": "code",
   "execution_count": 71,
   "metadata": {},
   "outputs": [],
   "source": [
    "df_train_test = get_train_test_split(ll_duals, ll_singles, \"Dual_Selected\")"
   ]
  },
  {
   "cell_type": "code",
   "execution_count": 72,
   "metadata": {},
   "outputs": [
    {
     "data": {
      "text/plain": [
       "Text(0.5, 0.98, 'Compared to Dual')"
      ]
     },
     "execution_count": 72,
     "metadata": {},
     "output_type": "execute_result"
    },
    {
     "data": {
      "image/png": "[encoded data removed]",
      "text/plain": [
       "<Figure size 648x432 with 2 Axes>"
      ]
     },
     "metadata": {
      "needs_background": "light"
     },
     "output_type": "display_data"
    }
   ],
   "source": [
    "g = sns.catplot(x=\"Rotation\", y=\"Dual_Selected\", col=\"Set\", \n",
    "                capsize=.2, height=6, aspect=.75,ci = 95,\n",
    "                kind = 'bar', data=df_train_test)\n",
    "plt.subplots_adjust(top=0.91)\n",
    "plt.ylim((0, 100))\n",
    "g.fig.suptitle('Compared to Single')\n"
   ]
  }
 ],
 "metadata": {
  "kernelspec": {
   "display_name": "Python 3",
   "language": "python",
   "name": "python3"
  },
  "language_info": {
   "codemirror_mode": {
    "name": "ipython",
    "version": 3
   },
   "file_extension": ".py",
   "mimetype": "text/x-python",
   "name": "python",
   "nbconvert_exporter": "python",
   "pygments_lexer": "ipython3",
   "version": "3.8.5"
  }
 },
 "nbformat": 4,
 "nbformat_minor": 4
}
