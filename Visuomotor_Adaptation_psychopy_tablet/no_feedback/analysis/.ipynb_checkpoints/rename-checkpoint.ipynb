{
 "cells": [
  {
   "cell_type": "code",
   "execution_count": 1,
   "metadata": {},
   "outputs": [],
   "source": [
    "import os\n",
    "import shutil"
   ]
  },
  {
   "cell_type": "code",
   "execution_count": 14,
   "metadata": {},
   "outputs": [],
   "source": [
    "loc = os.getcwd()+'\\\\data'\n",
    "files = os.listdir(loc)\n",
    "count = 0\n",
    "os.chdir(loc)\n",
    "for f in files[5:]:\n",
    "    if(f.startswith('20')):\n",
    "        os.rename(f, f[:4]+'.csv')\n"
   ]
  },
  {
   "cell_type": "code",
   "execution_count": 12,
   "metadata": {},
   "outputs": [
    {
     "data": {
      "text/plain": [
       "['2006.csv',\n",
       " '2007_vm_20xx_2020_Oct_15_1132.csv',\n",
       " '2008_vm_20xx_2020_Oct_19_1537.csv',\n",
       " '2009_vm_20xx_2020_Oct_20_1252.csv',\n",
       " '2010_vm_20xx_2020_Oct_21_1358.csv',\n",
       " '2011_vm_20xx_2020_Oct_21_1546.csv',\n",
       " '2012_vm_20xx_2020_Oct_22_0959.csv',\n",
       " '2013_vm_20xx_2020_Oct_26_1552.csv',\n",
       " '2014_vm_20xx_2020_Oct_27_0932.csv',\n",
       " '2015_vm_20xx_2020_Oct_29_1130.csv',\n",
       " '2016_vm_20xx_2020_Nov_03_1306.csv',\n",
       " '2017_vm_20xx_2020_Nov_09_1445.csv',\n",
       " '2018_vm_20xx_2020_Nov_09_1454.csv',\n",
       " '2019_vm_20xx_2020_Nov_10_0922.csv',\n",
       " 'old']"
      ]
     },
     "execution_count": 12,
     "metadata": {},
     "output_type": "execute_result"
    }
   ],
   "source": []
  }
 ],
 "metadata": {
  "kernelspec": {
   "display_name": "Python 3",
   "language": "python",
   "name": "python3"
  },
  "language_info": {
   "codemirror_mode": {
    "name": "ipython",
    "version": 3
   },
   "file_extension": ".py",
   "mimetype": "text/x-python",
   "name": "python",
   "nbconvert_exporter": "python",
   "pygments_lexer": "ipython3",
   "version": "3.8.3"
  }
 },
 "nbformat": 4,
 "nbformat_minor": 4
}
