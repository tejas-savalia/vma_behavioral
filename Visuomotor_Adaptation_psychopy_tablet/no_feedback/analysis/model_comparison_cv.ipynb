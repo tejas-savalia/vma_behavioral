{
 "cells": [
  {
   "cell_type": "code",
   "execution_count": 1,
   "metadata": {},
   "outputs": [],
   "source": [
    "import scipy.io\n",
    "import numpy as np\n",
    "import matplotlib.pyplot as plt\n",
    "from ipywidgets import interact, interactive, fixed, interact_manual\n",
    "import ipywidgets as widgets\n",
    "import scipy.stats as stat\n",
    "from sklearn.linear_model import LinearRegression\n",
    "import statsmodels.api as sm\n",
    "import statsmodels.formula.api as smf\n",
    "from scipy import stats\n",
    "import pickle\n",
    "from sklearn.metrics import *\n",
    "import pandas as pd\n",
    "import seaborn as sns\n",
    "import statsmodels\n",
    "from all_models import *"
   ]
  },
  {
   "cell_type": "code",
   "execution_count": 2,
   "metadata": {},
   "outputs": [],
   "source": [
    "curvatures_smooth = pickle.load(open('curvatures_smooth_all.pickle', 'rb'))"
   ]
  },
  {
   "cell_type": "code",
   "execution_count": 3,
   "metadata": {},
   "outputs": [],
   "source": [
    "fits_single = pickle.load(open('fit_single_CV_640_bestfit_starting_point.pickle', 'rb'))\n",
    "fits_dual = pickle.load(open('fit_dual_CV_640_bestfit_starting_point.pickle', 'rb'))"
   ]
  },
  {
   "cell_type": "code",
   "execution_count": 4,
   "metadata": {},
   "outputs": [],
   "source": [
    "single_win = np.zeros((100, 64))\n",
    "for i in range(100):\n",
    "    for participant in range(64):\n",
    "        single_win[i][participant] =  np.around(fits_single[i][participant, -3], 0) < np.around(fits_dual[i][participant, -3], 0)"
   ]
  },
  {
   "cell_type": "code",
   "execution_count": 5,
   "metadata": {},
   "outputs": [
    {
     "data": {
      "text/plain": [
       "(array([ 0,  2,  3,  4,  6,  8, 10, 11, 12, 14, 16, 18, 21, 22, 23, 24, 26,\n",
       "        28, 30, 31, 32, 33, 34, 36, 38, 39, 40, 42, 43, 44, 45, 46, 50, 51,\n",
       "        53, 54, 55, 56, 57, 58, 59, 60, 61, 62, 63], dtype=int64),)"
      ]
     },
     "execution_count": 5,
     "metadata": {},
     "output_type": "execute_result"
    }
   ],
   "source": [
    "np.where(np.sum(single_win, axis = 0) < 41)"
   ]
  },
  {
   "cell_type": "code",
   "execution_count": 6,
   "metadata": {},
   "outputs": [],
   "source": [
    "l = list()\n",
    "for j in range (100):\n",
    "    for i in np.where(np.sum(single_win, axis = 0) > 59)[0]:\n",
    "        l.append((fits_single[j][i][-3] - fits_dual[j][i][-3]) / fits_single[j][i][-3])"
   ]
  },
  {
   "cell_type": "code",
   "execution_count": 7,
   "metadata": {},
   "outputs": [
    {
     "data": {
      "text/plain": [
       "0.6833744599249506"
      ]
     },
     "execution_count": 7,
     "metadata": {},
     "output_type": "execute_result"
    }
   ],
   "source": [
    "max(l)"
   ]
  },
  {
   "cell_type": "markdown",
   "metadata": {},
   "source": [
    "# Generating Train-Test splits"
   ]
  },
  {
   "cell_type": "code",
   "execution_count": 8,
   "metadata": {},
   "outputs": [],
   "source": [
    "model_errors_single = np.zeros((100, 64, 640))\n",
    "model_errors_dual = np.zeros((100, 64, 640))\n",
    "\n",
    "for i in range(100):\n",
    "    for participant in range(60):\n",
    "        if participant%2 == 0:\n",
    "            model_errors_single[i][participant] = model_sudden(640, A=fits_single[i][participant][0], B = fits_single[i][participant][1])[0]\n",
    "            model_errors_dual[i][participant] = dual_model_sudden(640, fits_dual[i][participant][0], fits_dual[i][participant][1], fits_dual[i][participant][2], fits_dual[i][participant][3])[0]\n",
    "            \n",
    "        else:\n",
    "            model_errors_single[i][participant] = model_gradual(640, A=fits_single[i][participant][0], B = fits_single[i][participant][1])[0]\n",
    "            model_errors_dual[i][participant] = dual_model_gradual(640, fits_dual[i][participant][0], fits_dual[i][participant][1], fits_dual[i][participant][2], fits_dual[i][participant][3])[0]\n"
   ]
  },
  {
   "cell_type": "code",
   "execution_count": null,
   "metadata": {},
   "outputs": [],
   "source": []
  },
  {
   "cell_type": "code",
   "execution_count": 9,
   "metadata": {},
   "outputs": [],
   "source": [
    "single_train_neg2ll = np.zeros((100, 64))\n",
    "single_test_neg2ll = np.zeros((100, 64))\n",
    "dual_train_neg2ll = np.zeros((100, 64))\n",
    "dual_test_neg2ll = np.zeros((100, 64))\n",
    "\n",
    "for i in range(100):\n",
    "    for participant in range(64):\n",
    "        total_neg2ll = -2*stat.norm.logpdf(np.ravel(curvatures_smooth[participant][1:-1]), model_errors_single[i][participant], fits_single[i][participant][-2])\n",
    "        single_train_neg2ll[i][participant] = sum(np.take(total_neg2ll, fits_single[i][participant][-1][fits_single[i][participant][-1] < 640]))\n",
    "        single_test_neg2ll[i][participant] = sum(total_neg2ll) - single_train_neg2ll[i][participant]\n",
    "\n",
    "        total_neg2ll = -2*stat.norm.logpdf(np.ravel(curvatures_smooth[participant][1:-1]), model_errors_dual[i][participant], fits_dual[i][participant][-2])\n",
    "        dual_train_neg2ll[i][participant] = sum(np.take(total_neg2ll, fits_dual[i][participant][-1][fits_dual[i][participant][-1] < 640]))\n",
    "        dual_test_neg2ll[i][participant] = sum(total_neg2ll) - dual_train_neg2ll[i][participant]\n",
    "        "
   ]
  },
  {
   "cell_type": "code",
   "execution_count": 84,
   "metadata": {},
   "outputs": [],
   "source": [
    "fits_single_c = np.vstack(fits_single).reshape((100, 64, 5))"
   ]
  },
  {
   "cell_type": "code",
   "execution_count": 32,
   "metadata": {},
   "outputs": [
    {
     "data": {
      "text/plain": [
       "(100, 64, 7)"
      ]
     },
     "execution_count": 32,
     "metadata": {},
     "output_type": "execute_result"
    }
   ],
   "source": [
    "fits_dual_c = np.vstack(fits_dual).reshape((100, 64, 7))\n"
   ]
  },
  {
   "cell_type": "code",
   "execution_count": 85,
   "metadata": {},
   "outputs": [],
   "source": [
    "mean_Af = np.mean(fits_dual_c[:, :, 0], axis = 0)\n",
    "mean_Bf = np.mean(fits_dual_c[:, :, 1], axis = 0)\n",
    "mean_As = np.mean(fits_dual_c[:, :, 2], axis = 0)\n",
    "mean_Bs = np.mean(fits_dual_c[:, :, 3], axis = 0)\n",
    "mean_A = np.mean(fits_single_c[:, :, 0], axis = 0)\n",
    "mean_B = np.mean(fits_single_c[:, :, 0], axis = 0)"
   ]
  },
  {
   "cell_type": "code",
   "execution_count": 82,
   "metadata": {},
   "outputs": [],
   "source": [
    "dual_selected = sum(dual_test_neg2ll < single_test_neg2ll) > 59"
   ]
  },
  {
   "cell_type": "code",
   "execution_count": 87,
   "metadata": {},
   "outputs": [],
   "source": [
    "mean_params = pd.DataFrame({'participant_id': np.arange(64),\n",
    "                            'rotation': np.tile(['Sudden', 'Gradual'], 32),\n",
    "                            'emphasis': np.repeat(['Accuracy', 'Speed'], 32),\n",
    "                            'dual_selected': dual_selected,\n",
    "                            'Af': mean_Af,\n",
    "                            'Bf': mean_Bf,\n",
    "                            'As': mean_As,\n",
    "                            'Bs': mean_Bs,   \n",
    "                            'A':  mean_A,\n",
    "                            'B': mean_B\n",
    "                           })"
   ]
  },
  {
   "cell_type": "code",
   "execution_count": 88,
   "metadata": {},
   "outputs": [],
   "source": [
    "mean_params_melt = mean_params.melt(id_vars=['participant_id', 'rotation', 'emphasis','dual_selected'], value_name='param_values', var_name='params')"
   ]
  },
  {
   "cell_type": "code",
   "execution_count": 89,
   "metadata": {},
   "outputs": [
    {
     "data": {
      "text/plain": [
       "<seaborn.axisgrid.FacetGrid at 0x1ac65d83eb0>"
      ]
     },
     "execution_count": 89,
     "metadata": {},
     "output_type": "execute_result"
    },
    {
     "data": {
      "image/png": "[encoded data removed]",
      "text/plain": [
       "<Figure size 437x360 with 1 Axes>"
      ]
     },
     "metadata": {
      "needs_background": "light"
     },
     "output_type": "display_data"
    }
   ],
   "source": [
    "sns.catplot(x = 'params', y = 'param_values', hue = 'dual_selected', \n",
    "            kind = 'bar', capsize = 0.3,            \n",
    "            data = mean_params_melt)"
   ]
  },
  {
   "cell_type": "code",
   "execution_count": 81,
   "metadata": {},
   "outputs": [],
   "source": []
  },
  {
   "cell_type": "code",
   "execution_count": 34,
   "metadata": {},
   "outputs": [
    {
     "data": {
      "text/plain": [
       "11"
      ]
     },
     "execution_count": 34,
     "metadata": {},
     "output_type": "execute_result"
    }
   ],
   "source": [
    "sum(np.sum(dual_test_neg2ll[:, 1:32:2] < single_test_neg2ll[:, 1:32:2], axis = 0) > 59)"
   ]
  },
  {
   "cell_type": "code",
   "execution_count": 220,
   "metadata": {},
   "outputs": [
    {
     "data": {
      "text/plain": [
       "11"
      ]
     },
     "execution_count": 220,
     "metadata": {},
     "output_type": "execute_result"
    }
   ],
   "source": [
    "group = 3\n",
    "sum(sum(dual_train_neg2ll[:, group::4] < single_train_neg2ll[:, group::4]) > 59)"
   ]
  },
  {
   "cell_type": "code",
   "execution_count": 22,
   "metadata": {},
   "outputs": [
    {
     "data": {
      "text/plain": [
       "array([ 1,  3,  4,  5,  6,  8,  9, 10, 13, 14, 17, 18, 19, 21, 22, 23, 24,\n",
       "       25, 26, 29, 30, 33, 34, 35, 36, 37, 38, 40, 41, 42, 44, 45, 46, 49,\n",
       "       50, 53, 54, 55, 56, 57, 58])"
      ]
     },
     "execution_count": 22,
     "metadata": {},
     "output_type": "execute_result"
    }
   ],
   "source": [
    "np.where(np.sum(dual_test_neg2ll < single_test_neg2ll, axis = 0) > 59)[0]"
   ]
  },
  {
   "cell_type": "code",
   "execution_count": 61,
   "metadata": {},
   "outputs": [],
   "source": [
    "dual_test_neg2ll[4]  single_test_neg2ll[4]"
   ]
  },
  {
   "cell_type": "code",
   "execution_count": 263,
   "metadata": {},
   "outputs": [],
   "source": [
    "for i in np.where(np.sum(dual_test_neg2ll < single_test_neg2ll, axis = 0) < 59)[0]:\n",
    "    for j in range(100):\n",
    "        l.append((single_test_neg2ll[j][i] - dual_test_neg2ll[j][i]))"
   ]
  },
  {
   "cell_type": "code",
   "execution_count": 264,
   "metadata": {},
   "outputs": [
    {
     "data": {
      "text/plain": [
       "(array([5.200e+01, 1.110e+03, 3.324e+03, 1.740e+02, 1.080e+02, 2.400e+01,\n",
       "        4.000e+00, 2.000e+00, 0.000e+00, 2.000e+00]),\n",
       " array([-1.00132642, -0.54874609, -0.09616575,  0.35641458,  0.80899492,\n",
       "         1.26157525,  1.71415558,  2.16673592,  2.61931625,  3.07189658,\n",
       "         3.52447692]),\n",
       " <BarContainer object of 10 artists>)"
      ]
     },
     "execution_count": 264,
     "metadata": {},
     "output_type": "execute_result"
    },
    {
     "data": {
      "image/png": "[encoded data removed]",
      "text/plain": [
       "<Figure size 432x288 with 1 Axes>"
      ]
     },
     "metadata": {
      "needs_background": "light"
     },
     "output_type": "display_data"
    }
   ],
   "source": [
    "plt.hist(l)"
   ]
  }
 ],
 "metadata": {
  "kernelspec": {
   "display_name": "Python 3",
   "language": "python",
   "name": "python3"
  },
  "language_info": {
   "codemirror_mode": {
    "name": "ipython",
    "version": 3
   },
   "file_extension": ".py",
   "mimetype": "text/x-python",
   "name": "python",
   "nbconvert_exporter": "python",
   "pygments_lexer": "ipython3",
   "version": "3.8.5"
  }
 },
 "nbformat": 4,
 "nbformat_minor": 4
}
