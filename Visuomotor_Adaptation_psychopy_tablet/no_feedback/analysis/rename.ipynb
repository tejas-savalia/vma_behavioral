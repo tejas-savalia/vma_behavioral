{
 "cells": [
  {
   "cell_type": "code",
   "execution_count": 11,
   "metadata": {},
   "outputs": [],
   "source": [
    "import os\n",
    "import shutil\n",
    "import numpy as np"
   ]
  },
  {
   "cell_type": "code",
   "execution_count": 25,
   "metadata": {},
   "outputs": [
    {
     "data": {
      "text/plain": [
       "\"\\nfor f in files[5:]:\\n    if(('data/'+f).startswith('20')):\\n        os.rename('data/'+f, 'data/'+f[:4]+'.csv')\\n\""
      ]
     },
     "execution_count": 25,
     "metadata": {},
     "output_type": "execute_result"
    }
   ],
   "source": [
    "loc = os.getcwd()\n",
    "data_dir = loc+'/data'\n",
    "files = os.listdir(data_dir)\n",
    "#files = 'data/'+files\n",
    "\"\"\"\n",
    "for f in files[5:]:\n",
    "    if(('data/'+f).startswith('20')):\n",
    "        os.rename('data/'+f, 'data/'+f[:4]+'.csv')\n",
    "\"\"\""
   ]
  },
  {
   "cell_type": "code",
   "execution_count": 28,
   "metadata": {},
   "outputs": [],
   "source": []
  },
  {
   "cell_type": "code",
   "execution_count": 29,
   "metadata": {},
   "outputs": [
    {
     "data": {
      "text/plain": [
       "['0_vm_20xx_2020_Oct_06_1120.csv',\n",
       " '1_vm_20xx_2020_Oct_07_1407.csv',\n",
       " '2006.csv',\n",
       " '2007.csv',\n",
       " '2008.csv',\n",
       " '2009.csv',\n",
       " '2010.csv',\n",
       " '2011.csv',\n",
       " '2012.csv',\n",
       " '2013.csv',\n",
       " '2014.csv',\n",
       " '2015.csv',\n",
       " '2016.csv',\n",
       " '2017.csv',\n",
       " '2018.csv',\n",
       " '2019.csv',\n",
       " '2020.csv',\n",
       " '2021.csv',\n",
       " '2022.csv',\n",
       " '2023.csv',\n",
       " '2024.csv',\n",
       " '2025.csv',\n",
       " '2026.csv',\n",
       " '2027.csv',\n",
       " '2028.csv',\n",
       " '2029.csv',\n",
       " '2030.csv',\n",
       " '2031.csv',\n",
       " '2032.csv',\n",
       " '2033.csv',\n",
       " '2034.csv',\n",
       " '2035.csv',\n",
       " '2036.csv',\n",
       " '2037.csv',\n",
       " '2038.csv',\n",
       " '2039.csv',\n",
       " '2040.csv',\n",
       " '2041.csv',\n",
       " '2042.csv',\n",
       " '2043.csv',\n",
       " '2044.csv',\n",
       " '2045.csv',\n",
       " '2046.csv',\n",
       " '2047.csv',\n",
       " '2048.csv',\n",
       " '2049.csv',\n",
       " '2050.csv',\n",
       " '2051.csv',\n",
       " '2052.csv',\n",
       " '2053.csv',\n",
       " '2060.csv',\n",
       " '2061.csv',\n",
       " '2062.csv',\n",
       " '2063.csv',\n",
       " '2064.csv',\n",
       " '2065.csv',\n",
       " '2066.csv',\n",
       " '2067.csv',\n",
       " '2068.csv',\n",
       " '2069.csv',\n",
       " '2070.csv',\n",
       " '2071.csv',\n",
       " '2072.csv',\n",
       " '2073.csv',\n",
       " '2074.csv',\n",
       " '2075.csv',\n",
       " '2076_vm_20xx_2021_Nov_10_1543.csv',\n",
       " '2077_vm_20xx_2021_Nov_10_1545.csv',\n",
       " '2078_vm_20xx_2021_Nov_10_1605.csv',\n",
       " '2079_vm_20xx_2021_Nov_12_1012.csv',\n",
       " '2080_vm_20xx_2021_Nov_12_1003.csv',\n",
       " '2081_vm_20xx_2021_Nov_12_1137.csv',\n",
       " '2082_vm_20xx_2021_Nov_12_1144.csv',\n",
       " '2083_vm_20xx_2021_Nov_12_1302.csv',\n",
       " '2084_vm_20xx_2021_Nov_12_1308.csv',\n",
       " '2085_vm_20xx_2021_Nov_12_1434.csv',\n",
       " '2086_vm_20xx_2021_Nov_12_1443.csv',\n",
       " '2087_vm_20xx_2021_Dec_07_1151.csv',\n",
       " '2088_vm_20xx_2021_Dec_07_1141.csv',\n",
       " '2089_vm_20xx_2021_Dec_07_1159.csv',\n",
       " '2090_vm_20xx_2021_Dec_07_1258.csv']"
      ]
     },
     "execution_count": 29,
     "metadata": {},
     "output_type": "execute_result"
    }
   ],
   "source": []
  }
 ],
 "metadata": {
  "kernelspec": {
   "display_name": "Python 3",
   "language": "python",
   "name": "python3"
  },
  "language_info": {
   "codemirror_mode": {
    "name": "ipython",
    "version": 3
   },
   "file_extension": ".py",
   "mimetype": "text/x-python",
   "name": "python",
   "nbconvert_exporter": "python",
   "pygments_lexer": "ipython3",
   "version": "3.8.5"
  }
 },
 "nbformat": 4,
 "nbformat_minor": 4
}
