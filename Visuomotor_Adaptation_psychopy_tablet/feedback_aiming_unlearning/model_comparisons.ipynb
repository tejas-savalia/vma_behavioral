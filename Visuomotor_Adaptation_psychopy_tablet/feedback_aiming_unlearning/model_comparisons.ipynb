{
 "cells": [
  {
   "cell_type": "code",
   "execution_count": 1,
   "metadata": {},
   "outputs": [],
   "source": [
    "import numpy as np\n",
    "import pandas as pd\n",
    "import matplotlib.pyplot as plt\n",
    "import seaborn as sns"
   ]
  },
  {
   "cell_type": "code",
   "execution_count": 2,
   "metadata": {},
   "outputs": [],
   "source": [
    "single_fits = pd.read_csv('model_results/single_fit_avgerror_results.csv').drop('Unnamed: 0', axis = 1).reset_index().drop('index', axis = 1)\n",
    "dual_fits = pd.read_csv('model_results/dual_fit_avgerror_results.csv').drop('Unnamed: 0', axis = 1).reset_index().drop('index', axis = 1)\n"
   ]
  },
  {
   "cell_type": "code",
   "execution_count": 3,
   "metadata": {},
   "outputs": [],
   "source": [
    "single_fits['AIC'] = -2*single_fits['gof'] + 2*2\n",
    "dual_fits['AIC'] = -2*dual_fits['gof'] + 2*4\n",
    "\n",
    "single_fits['BIC'] = -2*single_fits['gof'] + np.log(64*7)*2\n",
    "dual_fits['BIC'] = -2*dual_fits['gof'] + np.log(64*7)*4\n"
   ]
  },
  {
   "cell_type": "code",
   "execution_count": 14,
   "metadata": {},
   "outputs": [
    {
     "data": {
      "text/plain": [
       "56"
      ]
     },
     "execution_count": 14,
     "metadata": {},
     "output_type": "execute_result"
    }
   ],
   "source": [
    "sum(single_fits['BIC'] < dual_fits['BIC'])"
   ]
  },
  {
   "cell_type": "code",
   "execution_count": 12,
   "metadata": {},
   "outputs": [
    {
     "data": {
      "text/html": [
       "<div>\n",
       "<style scoped>\n",
       "    .dataframe tbody tr th:only-of-type {\n",
       "        vertical-align: middle;\n",
       "    }\n",
       "\n",
       "    .dataframe tbody tr th {\n",
       "        vertical-align: top;\n",
       "    }\n",
       "\n",
       "    .dataframe thead th {\n",
       "        text-align: right;\n",
       "    }\n",
       "</style>\n",
       "<table border=\"1\" class=\"dataframe\">\n",
       "  <thead>\n",
       "    <tr style=\"text-align: right;\">\n",
       "      <th></th>\n",
       "      <th>p_id</th>\n",
       "      <th>gof</th>\n",
       "      <th>A</th>\n",
       "      <th>B</th>\n",
       "      <th>Eps</th>\n",
       "      <th>AIC</th>\n",
       "      <th>BIC</th>\n",
       "    </tr>\n",
       "  </thead>\n",
       "  <tbody>\n",
       "    <tr>\n",
       "      <th>0</th>\n",
       "      <td>641</td>\n",
       "      <td>-14.778539</td>\n",
       "      <td>0.980423</td>\n",
       "      <td>0.137290</td>\n",
       "      <td>0.236448</td>\n",
       "      <td>33.557077</td>\n",
       "      <td>41.766664</td>\n",
       "    </tr>\n",
       "    <tr>\n",
       "      <th>1</th>\n",
       "      <td>642</td>\n",
       "      <td>65.475655</td>\n",
       "      <td>0.000000</td>\n",
       "      <td>0.583640</td>\n",
       "      <td>0.268040</td>\n",
       "      <td>-126.951310</td>\n",
       "      <td>-118.741724</td>\n",
       "    </tr>\n",
       "    <tr>\n",
       "      <th>2</th>\n",
       "      <td>643</td>\n",
       "      <td>489.716047</td>\n",
       "      <td>0.990430</td>\n",
       "      <td>0.020617</td>\n",
       "      <td>0.520109</td>\n",
       "      <td>-975.432095</td>\n",
       "      <td>-967.222508</td>\n",
       "    </tr>\n",
       "    <tr>\n",
       "      <th>3</th>\n",
       "      <td>644</td>\n",
       "      <td>41.867737</td>\n",
       "      <td>0.448156</td>\n",
       "      <td>0.863320</td>\n",
       "      <td>0.258329</td>\n",
       "      <td>-79.735474</td>\n",
       "      <td>-71.525887</td>\n",
       "    </tr>\n",
       "    <tr>\n",
       "      <th>4</th>\n",
       "      <td>645</td>\n",
       "      <td>46.982912</td>\n",
       "      <td>0.893798</td>\n",
       "      <td>0.385934</td>\n",
       "      <td>0.260402</td>\n",
       "      <td>-89.965823</td>\n",
       "      <td>-81.756237</td>\n",
       "    </tr>\n",
       "    <tr>\n",
       "      <th>...</th>\n",
       "      <td>...</td>\n",
       "      <td>...</td>\n",
       "      <td>...</td>\n",
       "      <td>...</td>\n",
       "      <td>...</td>\n",
       "      <td>...</td>\n",
       "      <td>...</td>\n",
       "    </tr>\n",
       "    <tr>\n",
       "      <th>57</th>\n",
       "      <td>698</td>\n",
       "      <td>202.459737</td>\n",
       "      <td>0.408672</td>\n",
       "      <td>0.825187</td>\n",
       "      <td>0.332009</td>\n",
       "      <td>-400.919473</td>\n",
       "      <td>-392.709887</td>\n",
       "    </tr>\n",
       "    <tr>\n",
       "      <th>58</th>\n",
       "      <td>699</td>\n",
       "      <td>266.565135</td>\n",
       "      <td>0.992815</td>\n",
       "      <td>0.030698</td>\n",
       "      <td>0.366998</td>\n",
       "      <td>-529.130270</td>\n",
       "      <td>-520.920683</td>\n",
       "    </tr>\n",
       "    <tr>\n",
       "      <th>59</th>\n",
       "      <td>700</td>\n",
       "      <td>113.754298</td>\n",
       "      <td>0.982124</td>\n",
       "      <td>0.045833</td>\n",
       "      <td>0.289060</td>\n",
       "      <td>-223.508596</td>\n",
       "      <td>-215.299010</td>\n",
       "    </tr>\n",
       "    <tr>\n",
       "      <th>60</th>\n",
       "      <td>701</td>\n",
       "      <td>90.577575</td>\n",
       "      <td>0.986285</td>\n",
       "      <td>0.064198</td>\n",
       "      <td>0.278745</td>\n",
       "      <td>-177.155149</td>\n",
       "      <td>-168.945563</td>\n",
       "    </tr>\n",
       "    <tr>\n",
       "      <th>61</th>\n",
       "      <td>702</td>\n",
       "      <td>70.546561</td>\n",
       "      <td>0.000000</td>\n",
       "      <td>0.515333</td>\n",
       "      <td>0.270172</td>\n",
       "      <td>-137.093123</td>\n",
       "      <td>-128.883536</td>\n",
       "    </tr>\n",
       "  </tbody>\n",
       "</table>\n",
       "<p>62 rows × 7 columns</p>\n",
       "</div>"
      ],
      "text/plain": [
       "    p_id         gof         A         B       Eps         AIC         BIC\n",
       "0    641  -14.778539  0.980423  0.137290  0.236448   33.557077   41.766664\n",
       "1    642   65.475655  0.000000  0.583640  0.268040 -126.951310 -118.741724\n",
       "2    643  489.716047  0.990430  0.020617  0.520109 -975.432095 -967.222508\n",
       "3    644   41.867737  0.448156  0.863320  0.258329  -79.735474  -71.525887\n",
       "4    645   46.982912  0.893798  0.385934  0.260402  -89.965823  -81.756237\n",
       "..   ...         ...       ...       ...       ...         ...         ...\n",
       "57   698  202.459737  0.408672  0.825187  0.332009 -400.919473 -392.709887\n",
       "58   699  266.565135  0.992815  0.030698  0.366998 -529.130270 -520.920683\n",
       "59   700  113.754298  0.982124  0.045833  0.289060 -223.508596 -215.299010\n",
       "60   701   90.577575  0.986285  0.064198  0.278745 -177.155149 -168.945563\n",
       "61   702   70.546561  0.000000  0.515333  0.270172 -137.093123 -128.883536\n",
       "\n",
       "[62 rows x 7 columns]"
      ]
     },
     "execution_count": 12,
     "metadata": {},
     "output_type": "execute_result"
    }
   ],
   "source": [
    "single_fits"
   ]
  },
  {
   "cell_type": "code",
   "execution_count": 6,
   "metadata": {},
   "outputs": [
    {
     "data": {
      "text/plain": [
       "0     -14.778539\n",
       "1      65.475655\n",
       "2     489.716047\n",
       "3      41.867737\n",
       "4      46.982912\n",
       "         ...    \n",
       "57    202.459737\n",
       "58    266.565135\n",
       "59    113.754298\n",
       "60     90.577575\n",
       "61     70.546561\n",
       "Name: gof, Length: 62, dtype: float64"
      ]
     },
     "execution_count": 6,
     "metadata": {},
     "output_type": "execute_result"
    }
   ],
   "source": [
    "single_fits['gof']"
   ]
  }
 ],
 "metadata": {
  "kernelspec": {
   "display_name": "vma",
   "language": "python",
   "name": "python3"
  },
  "language_info": {
   "codemirror_mode": {
    "name": "ipython",
    "version": 3
   },
   "file_extension": ".py",
   "mimetype": "text/x-python",
   "name": "python",
   "nbconvert_exporter": "python",
   "pygments_lexer": "ipython3",
   "version": "3.11.2"
  },
  "orig_nbformat": 4
 },
 "nbformat": 4,
 "nbformat_minor": 2
}
