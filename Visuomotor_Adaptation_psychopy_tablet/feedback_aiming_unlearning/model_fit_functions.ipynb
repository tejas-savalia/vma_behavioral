{
 "cells": [
  {
   "cell_type": "code",
   "execution_count": 173,
   "id": "f3b6af78",
   "metadata": {},
   "outputs": [],
   "source": [
    "import numpy as np\n",
    "import matplotlib.pyplot as plt\n",
    "import pandas as pd\n",
    "import seaborn as sns\n",
    "import scipy.stats as stat\n",
    "from scipy.optimize import minimize\n",
    "import itertools"
   ]
  },
  {
   "cell_type": "code",
   "execution_count": 138,
   "id": "7807f227",
   "metadata": {},
   "outputs": [],
   "source": [
    "def single_state_model(A, B, num_trials, p_type):\n",
    "    rotation_estimate = np.zeros(num_trials)\n",
    "    error = np.zeros(num_trials)\n",
    "    if p_type == 'Sudden':\n",
    "        rotation = np.pi/3\n",
    "        for trial in range(1, num_trials):\n",
    "            error[trial-1] = rotation - rotation_estimate[trial-1]\n",
    "            rotation_estimate[trial] = A*rotation_estimate[trial-1] + B*error[trial-1]\n",
    "    else:\n",
    "        rotation = np.pi/18\n",
    "        for trial in range(1, num_trials):\n",
    "            error[trial-1] = rotation - rotation_estimate[trial-1]\n",
    "            rotation_estimate[trial] = A*rotation_estimate[trial-1] + B*error[trial-1]\n",
    "            if trial%64 == 0:\n",
    "                if rotation < np.pi/3:\n",
    "                    rotation = rotation + np.pi/18\n",
    "    error[trial] = rotation - rotation_estimate[trial]\n",
    "    return error"
   ]
  },
  {
   "cell_type": "code",
   "execution_count": 139,
   "id": "ef8e12a5",
   "metadata": {},
   "outputs": [],
   "source": [
    "def dual_state_model(Af, Bf, As, Bs, num_trials, p_type):\n",
    "    rotation_estimate = np.zeros(num_trials)\n",
    "    fast_estimate = np.zeros(num_trials)\n",
    "    slow_estimate = np.zeros(num_trials)\n",
    "    \n",
    "    error = np.zeros(num_trials)\n",
    "    if p_type == 'Sudden':\n",
    "        rotation = np.pi/3\n",
    "\n",
    "        for trial in range(1, num_trials):\n",
    "            error[trial-1] = rotation - rotation_estimate[trial-1]\n",
    "            fast_estimate[trial] = Af*fast_estimate[trial-1] + Bf*error[trial-1]\n",
    "            slow_estimate[trial] = As*slow_estimate[trial-1] + Bs*error[trial-1]\n",
    "            rotation_estimate[trial] = fast_estimate[trial] + slow_estimate[trial]\n",
    "            \n",
    "    else:\n",
    "        rotation = np.pi/18\n",
    "        for trial in range(1, num_trials):\n",
    "            error[trial-1] = rotation - rotation_estimate[trial-1]\n",
    "            fast_estimate[trial] = Af*fast_estimate[trial-1] + Bf*error[trial-1]\n",
    "            slow_estimate[trial] = As*slow_estimate[trial-1] + Bs*error[trial-1]\n",
    "            rotation_estimate[trial] = fast_estimate[trial] + slow_estimate[trial]\n",
    "\n",
    "            if trial%64 == 0:\n",
    "                if rotation < np.pi/3:\n",
    "                    rotation = rotation + np.pi/18\n",
    "    error[trial] = rotation - rotation_estimate[trial-1]\n",
    "\n",
    "    return error"
   ]
  },
  {
   "cell_type": "code",
   "execution_count": 153,
   "id": "87719983",
   "metadata": {},
   "outputs": [],
   "source": [
    "def calc_log_likelihood(params, data, model, p_type):\n",
    "    if model == 'single state':\n",
    "        if any(params[:-1]) < 0 or any(params) > 1:\n",
    "            return np.inf\n",
    "        model_pred = single_state_model(params[0], params[1], len(data), p_type)\n",
    "    else:\n",
    "        if any(params[:-1]) < 0 or any(params) > 1 or params[0] > params[2] or params[1] < params[3]:\n",
    "            return np.inf        \n",
    "        model_pred = dual_state_model(params[0], params[1], params[2], params[3], len(data), p_type)\n",
    "    log_lik = sum(stat.norm.logpdf(data, model_pred, params[-1]))\n",
    "    return -log_lik"
   ]
  },
  {
   "cell_type": "code",
   "execution_count": null,
   "id": "3948b963",
   "metadata": {},
   "outputs": [],
   "source": []
  },
  {
   "cell_type": "code",
   "execution_count": null,
   "id": "6caa2802",
   "metadata": {},
   "outputs": [],
   "source": []
  },
  {
   "cell_type": "code",
   "execution_count": null,
   "id": "20422252",
   "metadata": {},
   "outputs": [],
   "source": []
  },
  {
   "cell_type": "code",
   "execution_count": 13,
   "id": "4c4df3e6",
   "metadata": {},
   "outputs": [],
   "source": [
    "data = pd.read_csv('learning_curvature_errors.csv')"
   ]
  },
  {
   "cell_type": "code",
   "execution_count": 185,
   "id": "dfc902c3",
   "metadata": {},
   "outputs": [
    {
     "name": "stderr",
     "output_type": "stream",
     "text": [
      "c:\\Users\\tejas\\Anaconda3\\envs\\vma\\Lib\\site-packages\\scipy\\stats\\_distn_infrastructure.py:2134: RuntimeWarning: divide by zero encountered in divide\n",
      "  x = np.asarray((x - loc)/scale, dtype=dtyp)\n"
     ]
    }
   ],
   "source": [
    "\n",
    "def fit_single(participant):\n",
    "    errors = data.loc[data['p_id'] == participant, 'errors'].values*np.pi/180\n",
    "    p_type = data.loc[data['p_id'] == participant, 'Rotation'].unique()\n",
    "    curr_fitval = np.inf\n",
    "    possible_starting_points = itertools.product(np.linspace(0, 1, 8), np.linspace(0, 1, 8), np.linspace(0, 1, 8))\n",
    "    for i in possible_starting_points:\n",
    "        temp_res = minimize(calc_log_likelihood, x0=i, args=(errors, 'single state', p_type), bounds=((0, 1), (0, 1), (0, 1)), method = 'Nelder-Mead')\n",
    "        if temp_res.fun < curr_fitval:\n",
    "            res = temp_res\n",
    "            curr_fitval = res.fun\n",
    "    return res"
   ]
  },
  {
   "cell_type": "code",
   "execution_count": null,
   "id": "85a72bf7",
   "metadata": {},
   "outputs": [],
   "source": []
  },
  {
   "cell_type": "code",
   "execution_count": null,
   "id": "e71464ce",
   "metadata": {},
   "outputs": [],
   "source": []
  },
  {
   "cell_type": "code",
   "execution_count": null,
   "id": "6d24364f",
   "metadata": {},
   "outputs": [],
   "source": []
  },
  {
   "cell_type": "code",
   "execution_count": 92,
   "id": "c99f8fe6",
   "metadata": {},
   "outputs": [
    {
     "data": {
      "text/plain": [
       "[<matplotlib.lines.Line2D at 0x259261ed6d0>]"
      ]
     },
     "execution_count": 92,
     "metadata": {},
     "output_type": "execute_result"
    },
    {
     "data": {
      "image/png": "[encoded data removed]",
      "text/plain": [
       "<Figure size 432x288 with 1 Axes>"
      ]
     },
     "metadata": {
      "needs_background": "light"
     },
     "output_type": "display_data"
    }
   ],
   "source": []
  }
 ],
 "metadata": {
  "kernelspec": {
   "display_name": "Python 3 (ipykernel)",
   "language": "python",
   "name": "python3"
  },
  "language_info": {
   "codemirror_mode": {
    "name": "ipython",
    "version": 3
   },
   "file_extension": ".py",
   "mimetype": "text/x-python",
   "name": "python",
   "nbconvert_exporter": "python",
   "pygments_lexer": "ipython3",
   "version": "3.11.2"
  }
 },
 "nbformat": 4,
 "nbformat_minor": 5
}
