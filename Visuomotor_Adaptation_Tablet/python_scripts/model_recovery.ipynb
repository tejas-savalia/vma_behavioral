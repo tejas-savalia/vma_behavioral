{
 "cells": [
  {
   "cell_type": "code",
   "execution_count": 1,
   "metadata": {},
   "outputs": [],
   "source": [
    "import numpy as np\n",
    "import scipy.io\n",
    "from multiprocessing import Pool\n",
    "from functools import partial\n",
    "import pickle\n",
    "import scipy\n",
    "import scipy.optimize\n",
    "from sklearn.metrics import *\n",
    "import scipy.stats as stat\n",
    "import matplotlib.pyplot as plt\n",
    "from scipy.ndimage import gaussian_filter1d\n",
    "import pandas as pd"
   ]
  },
  {
   "cell_type": "markdown",
   "metadata": {},
   "source": [
    "## Import fit parameters"
   ]
  },
  {
   "cell_type": "code",
   "execution_count": 56,
   "metadata": {},
   "outputs": [],
   "source": [
    "fits_single = pickle.load(open('fit_single_bound_with_transfer.pickle', 'rb'))\n",
    "fits_dual = pickle.load(open('fit_dual_bound_with_transfer.pickle', 'rb'))"
   ]
  },
  {
   "cell_type": "markdown",
   "metadata": {},
   "source": [
    "## Import single and dual state model functions"
   ]
  },
  {
   "cell_type": "code",
   "execution_count": 2,
   "metadata": {},
   "outputs": [],
   "source": [
    "from dual_model_with_transfer import dual_model_sudden, dual_model_gradual\n",
    "from single_model_with_transfer import model_sudden, model_gradual"
   ]
  },
  {
   "cell_type": "markdown",
   "metadata": {},
   "source": [
    "## Generate Data"
   ]
  },
  {
   "cell_type": "code",
   "execution_count": 3,
   "metadata": {},
   "outputs": [
    {
     "ename": "NameError",
     "evalue": "name 'fits_dual' is not defined",
     "output_type": "error",
     "traceback": [
      "\u001b[1;31m---------------------------------------------------------------------------\u001b[0m",
      "\u001b[1;31mNameError\u001b[0m                                 Traceback (most recent call last)",
      "\u001b[1;32m<ipython-input-3-f9de1408d396>\u001b[0m in \u001b[0;36m<module>\u001b[1;34m\u001b[0m\n\u001b[0;32m      3\u001b[0m \u001b[1;32mfor\u001b[0m \u001b[0mparticipant\u001b[0m \u001b[1;32min\u001b[0m \u001b[0mrange\u001b[0m\u001b[1;33m(\u001b[0m\u001b[1;36m60\u001b[0m\u001b[1;33m)\u001b[0m\u001b[1;33m:\u001b[0m\u001b[1;33m\u001b[0m\u001b[1;33m\u001b[0m\u001b[0m\n\u001b[0;32m      4\u001b[0m     \u001b[1;32mif\u001b[0m \u001b[0mparticipant\u001b[0m\u001b[1;33m%\u001b[0m\u001b[1;36m4\u001b[0m \u001b[1;33m==\u001b[0m \u001b[1;36m0\u001b[0m \u001b[1;32mor\u001b[0m \u001b[0mparticipant\u001b[0m\u001b[1;33m%\u001b[0m\u001b[1;36m4\u001b[0m \u001b[1;33m==\u001b[0m \u001b[1;36m1\u001b[0m\u001b[1;33m:\u001b[0m\u001b[1;33m\u001b[0m\u001b[1;33m\u001b[0m\u001b[0m\n\u001b[1;32m----> 5\u001b[1;33m         \u001b[0mmodel_errors_dual\u001b[0m\u001b[1;33m[\u001b[0m\u001b[0mparticipant\u001b[0m\u001b[1;33m]\u001b[0m \u001b[1;33m=\u001b[0m \u001b[0mdual_model_sudden\u001b[0m\u001b[1;33m(\u001b[0m\u001b[1;36m704\u001b[0m\u001b[1;33m,\u001b[0m \u001b[0mfits_dual\u001b[0m\u001b[1;33m[\u001b[0m\u001b[0mparticipant\u001b[0m\u001b[1;33m]\u001b[0m\u001b[1;33m[\u001b[0m\u001b[1;36m0\u001b[0m\u001b[1;33m]\u001b[0m\u001b[1;33m,\u001b[0m \u001b[0mfits_dual\u001b[0m\u001b[1;33m[\u001b[0m\u001b[0mparticipant\u001b[0m\u001b[1;33m]\u001b[0m\u001b[1;33m[\u001b[0m\u001b[1;36m1\u001b[0m\u001b[1;33m]\u001b[0m\u001b[1;33m,\u001b[0m \u001b[0mfits_dual\u001b[0m\u001b[1;33m[\u001b[0m\u001b[0mparticipant\u001b[0m\u001b[1;33m]\u001b[0m\u001b[1;33m[\u001b[0m\u001b[1;36m2\u001b[0m\u001b[1;33m]\u001b[0m\u001b[1;33m,\u001b[0m \u001b[0mfits_dual\u001b[0m\u001b[1;33m[\u001b[0m\u001b[0mparticipant\u001b[0m\u001b[1;33m]\u001b[0m\u001b[1;33m[\u001b[0m\u001b[1;36m3\u001b[0m\u001b[1;33m]\u001b[0m\u001b[1;33m)\u001b[0m\u001b[1;33m[\u001b[0m\u001b[1;36m0\u001b[0m\u001b[1;33m]\u001b[0m\u001b[1;33m\u001b[0m\u001b[1;33m\u001b[0m\u001b[0m\n\u001b[0m\u001b[0;32m      6\u001b[0m         \u001b[0mmodel_errors_single\u001b[0m\u001b[1;33m[\u001b[0m\u001b[0mparticipant\u001b[0m\u001b[1;33m]\u001b[0m \u001b[1;33m=\u001b[0m \u001b[0mmodel_sudden\u001b[0m\u001b[1;33m(\u001b[0m\u001b[1;36m704\u001b[0m\u001b[1;33m,\u001b[0m \u001b[0mfits_single\u001b[0m\u001b[1;33m[\u001b[0m\u001b[0mparticipant\u001b[0m\u001b[1;33m]\u001b[0m\u001b[1;33m[\u001b[0m\u001b[1;36m0\u001b[0m\u001b[1;33m]\u001b[0m\u001b[1;33m,\u001b[0m \u001b[0mfits_single\u001b[0m\u001b[1;33m[\u001b[0m\u001b[0mparticipant\u001b[0m\u001b[1;33m]\u001b[0m\u001b[1;33m[\u001b[0m\u001b[1;36m1\u001b[0m\u001b[1;33m]\u001b[0m\u001b[1;33m)\u001b[0m\u001b[1;33m[\u001b[0m\u001b[1;36m0\u001b[0m\u001b[1;33m]\u001b[0m\u001b[1;33m\u001b[0m\u001b[1;33m\u001b[0m\u001b[0m\n\u001b[0;32m      7\u001b[0m \u001b[1;33m\u001b[0m\u001b[0m\n",
      "\u001b[1;31mNameError\u001b[0m: name 'fits_dual' is not defined"
     ]
    }
   ],
   "source": [
    "model_errors_dual = np.zeros((60, 704))\n",
    "model_errors_single = np.zeros((60, 704))\n",
    "for participant in range(60):\n",
    "    if participant%4 == 0 or participant%4 == 1:\n",
    "        model_errors_dual[participant] = dual_model_sudden(704, fits_dual[participant][0], fits_dual[participant][1], fits_dual[participant][2], fits_dual[participant][3])[0]\n",
    "        model_errors_single[participant] = model_sudden(704, fits_single[participant][0], fits_single[participant][1])[0]\n",
    "\n",
    "    else:\n",
    "        model_errors_dual[participant] = dual_model_gradual(704, fits_dual[participant][0], fits_dual[participant][1], fits_dual[participant][2], fits_dual[participant][3])[0]\n",
    "        model_errors_single[participant] = model_gradual(704, fits_single[participant][0], fits_single[participant][1])[0]\n",
    "        "
   ]
  },
  {
   "cell_type": "markdown",
   "metadata": {},
   "source": [
    "## Save generated data"
   ]
  },
  {
   "cell_type": "code",
   "execution_count": 59,
   "metadata": {},
   "outputs": [],
   "source": [
    "generated_by_dual = np.zeros((60, 12, 64))\n",
    "generated_by_dual[:, 1:] = np.reshape(model_errors_dual, (60, 11, 64))\n",
    "\n",
    "generated_by_single = np.zeros((60, 12, 64))\n",
    "generated_by_single[:, 1:] = np.reshape(model_errors_single, (60, 11, 64))\n",
    "\n",
    "pickle.dump(generated_by_dual, open('generated_by_dual.pickle', 'wb'))\n",
    "pickle.dump(generated_by_single, open('generated_by_single.pickle', 'wb'))\n"
   ]
  },
  {
   "cell_type": "markdown",
   "metadata": {},
   "source": [
    "# After Model Recovery Fits"
   ]
  },
  {
   "cell_type": "markdown",
   "metadata": {},
   "source": [
    "### Read Recovery fits"
   ]
  },
  {
   "cell_type": "code",
   "execution_count": 4,
   "metadata": {},
   "outputs": [],
   "source": [
    "fits_dual_GBD = pickle.load(open('fit_dual_bound_with_transfer_GBD.pickle', 'rb'))\n",
    "fits_dual_GBS = pickle.load(open('fit_dual_bound_with_transfer_GBS.pickle', 'rb'))\n",
    "fits_single_GBD = pickle.load(open('fit_single_bound_with_transfer_GBD.pickle', 'rb'))\n",
    "fits_single_GBS = pickle.load(open('fit_single_bound_with_transfer_GBS.pickle', 'rb'))\n",
    "\n",
    "fits_single_model_recovery = pickle.load(open('params/fit_single_bound_with_transfer_model_recovery.pickle', 'rb'))\n",
    "fits_dual_model_recovery = pickle.load(open('params/fit_dual_bound_with_transfer_model_recovery.pickle', 'rb'))\n"
   ]
  },
  {
   "cell_type": "code",
   "execution_count": null,
   "metadata": {},
   "outputs": [],
   "source": []
  },
  {
   "cell_type": "code",
   "execution_count": 13,
   "metadata": {},
   "outputs": [],
   "source": [
    "AIC_dual_GBD = 2*4 + np.log(fits_dual_GBD[:, -1])\n",
    "AIC_dual_GBS = 2*4 + np.log(fits_dual_GBS[:, -1])\n",
    "AIC_single_GBD = 2*2 + np.log(fits_single_GBD[:, -1])\n",
    "AIC_single_GBS = 2*2 + np.log(fits_single_GBS[:, -1])\n",
    "\n",
    "BIC_dual_GBD = np.log(704)*4 + np.log(fits_dual_GBD[:, -1])\n",
    "BIC_dual_GBS = np.log(704)*4 + np.log(fits_dual_GBS[:, -1])\n",
    "BIC_single_GBD = np.log(704)*2 + np.log(fits_single_GBD[:, -1])\n",
    "BIC_single_GBS = np.log(704)*2 + np.log(fits_single_GBS[:, -1])\n",
    "\n",
    "\n",
    "AIC_smr = 2*2 + np.log(fits_single_model_recovery[:, -1])\n",
    "AIC_dmr = 2*4 + np.log(fits_dual_model_recovery[:, -1])\n"
   ]
  },
  {
   "cell_type": "code",
   "execution_count": 11,
   "metadata": {},
   "outputs": [],
   "source": [
    "conf_matrix = np.zeros((2, 2))\n",
    "conf_matrix[0, 0] = np.sum(AIC_dual_GBD < AIC_single_GBD)\n",
    "conf_matrix[0, 1] = np.sum(AIC_dual_GBD > AIC_single_GBD)\n",
    "conf_matrix[1, 0] = np.sum(AIC_dual_GBS < AIC_single_GBS)\n",
    "conf_matrix[1, 1] = np.sum(AIC_dual_GBS > AIC_single_GBS)"
   ]
  },
  {
   "cell_type": "code",
   "execution_count": 12,
   "metadata": {},
   "outputs": [
    {
     "data": {
      "text/plain": [
       "array([[53.,  7.],\n",
       "       [ 5., 55.]])"
      ]
     },
     "execution_count": 12,
     "metadata": {},
     "output_type": "execute_result"
    }
   ],
   "source": [
    "conf_matrix"
   ]
  },
  {
   "cell_type": "code",
   "execution_count": 14,
   "metadata": {},
   "outputs": [],
   "source": [
    "conf_matrix = np.zeros((2, 2))\n",
    "conf_matrix[0, 0] = np.sum(BIC_dual_GBD < BIC_single_GBD)\n",
    "conf_matrix[0, 1] = np.sum(BIC_dual_GBD > BIC_single_GBD)\n",
    "conf_matrix[1, 0] = np.sum(BIC_dual_GBS < BIC_single_GBS)\n",
    "conf_matrix[1, 1] = np.sum(BIC_dual_GBS > BIC_single_GBS)"
   ]
  },
  {
   "cell_type": "code",
   "execution_count": 15,
   "metadata": {},
   "outputs": [
    {
     "data": {
      "text/plain": [
       "array([[46., 14.],\n",
       "       [ 0., 60.]])"
      ]
     },
     "execution_count": 15,
     "metadata": {},
     "output_type": "execute_result"
    }
   ],
   "source": [
    "conf_matrix"
   ]
  }
 ],
 "metadata": {
  "kernelspec": {
   "display_name": "Python 3",
   "language": "python",
   "name": "python3"
  },
  "language_info": {
   "codemirror_mode": {
    "name": "ipython",
    "version": 3
   },
   "file_extension": ".py",
   "mimetype": "text/x-python",
   "name": "python",
   "nbconvert_exporter": "python",
   "pygments_lexer": "ipython3",
   "version": "3.8.5"
  }
 },
 "nbformat": 4,
 "nbformat_minor": 4
}
