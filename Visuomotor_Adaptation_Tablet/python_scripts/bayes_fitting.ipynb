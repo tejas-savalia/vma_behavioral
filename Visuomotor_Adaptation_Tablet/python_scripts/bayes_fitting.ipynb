{
 "cells": [
  {
   "cell_type": "code",
   "execution_count": 2,
   "metadata": {},
   "outputs": [],
   "source": [
    "import numpy as np\n",
    "import scipy.stats as stat\n",
    "import pymc3 as pm\n",
    "import arviz as az\n",
    "import pandas as pd\n",
    "import seaborn as sns\n",
    "import matplotlib.pyplot as plt\n",
    "import pickle"
   ]
  },
  {
   "cell_type": "code",
   "execution_count": 3,
   "metadata": {},
   "outputs": [],
   "source": [
    "cv = pickle.load(open('curvatures_smooth.pickle', 'rb'))"
   ]
  },
  {
   "cell_type": "code",
   "execution_count": 6,
   "metadata": {},
   "outputs": [],
   "source": [
    "cv_0 = np.ravel(cv[0][1:-1])"
   ]
  },
  {
   "cell_type": "markdown",
   "metadata": {},
   "source": [
    "Single State: \n",
    "\n",
    "$error(t) = 90 - rotation_{est}(t)$\n",
    "\n",
    "\n",
    "$rotation_{est}(t+1) = A * rotation_{est}(t) + B * error(t)$\n",
    "\n",
    "$error(t) = 90 - A*rotation_{est}(t-1) + B * error(t-1)$"
   ]
  },
  {
   "cell_type": "code",
   "execution_count": null,
   "metadata": {},
   "outputs": [],
   "source": [
    "with pm.Model() as single_state:\n",
    "    bR = pm.Normal('bR', 0, 1)\n",
    "    a = pm.Normal('a', 8, 100)\n",
    "    r_est = A*r_est  + bR*dd_A1['rugged']\n",
    "    sigma = pm.Uniform('sigma', lower = 0, upper = 10)\n",
    "    log_gdp = pm.Normal('log_gdp', mu = mu, sigma = sigma, observed = dd_A1['log_gdp'])\n",
    "    trace = pm.sample(1000, tune = 1000)\n",
    "    "
   ]
  }
 ],
 "metadata": {
  "kernelspec": {
   "display_name": "Python 3",
   "language": "python",
   "name": "python3"
  },
  "language_info": {
   "codemirror_mode": {
    "name": "ipython",
    "version": 3
   },
   "file_extension": ".py",
   "mimetype": "text/x-python",
   "name": "python",
   "nbconvert_exporter": "python",
   "pygments_lexer": "ipython3",
   "version": "3.8.5"
  }
 },
 "nbformat": 4,
 "nbformat_minor": 4
}
