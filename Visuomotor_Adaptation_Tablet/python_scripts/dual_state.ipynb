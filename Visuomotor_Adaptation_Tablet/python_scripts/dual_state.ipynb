{
 "cells": [
  {
   "cell_type": "code",
   "execution_count": 1,
   "metadata": {},
   "outputs": [],
   "source": [
    "#%matplotlib notebook\n",
    "import numpy as np\n",
    "import matplotlib.pyplot as plt\n",
    "import scipy.io\n",
    "import scipy.stats as stat\n",
    "import scipy.optimize\n",
    "import math\n",
    "import pickle"
   ]
  },
  {
   "cell_type": "code",
   "execution_count": 2,
   "metadata": {},
   "outputs": [],
   "source": [
    "def dual_model_sudden(num_trials, Af, Bf, As, Bs):\n",
    "    errors = np.zeros((num_trials))\n",
    "    rotation = 90/90.0\n",
    "    fast_est = np.zeros((num_trials))\n",
    "    slow_est = np.zeros((num_trials))\n",
    "    rotation_est = np.zeros((num_trials))\n",
    "    #rotation_est[0] = est\n",
    "    for trial in range(num_trials - 1):\n",
    "        errors[trial] = rotation - rotation_est[trial]\n",
    "        #print(errors[trial])\n",
    "        fast_est[trial+1] = Af*fast_est[trial] + Bf*errors[trial]\n",
    "        slow_est[trial+1] = As*slow_est[trial] + Bs*errors[trial]\n",
    "        rotation_est[trial+1] = fast_est[trial+1] + slow_est[trial+1]\n",
    "        #print (rotation_est)\n",
    "    errors[num_trials-1] = rotation - rotation_est[num_trials-1]\n",
    "    return errors, rotation_est, fast_est, slow_est\n",
    "\n",
    "def dual_model_gradual(num_trials, Af, Bf, As, Bs):\n",
    "    errors = np.zeros((num_trials))\n",
    "    fast_est = np.zeros((num_trials))\n",
    "    slow_est = np.zeros((num_trials))\n",
    "    rotation_est = np.zeros((num_trials))\n",
    "    rotation = 0\n",
    "    for trial in range(num_trials - 1):\n",
    "        if trial%64 == 0:\n",
    "            rotation = rotation + 10/90.0\n",
    "        if rotation > 90/90:\n",
    "            rotation = 90/90\n",
    "        errors[trial] = rotation - rotation_est[trial]\n",
    "        #print(errors[trial])\n",
    "        fast_est[trial+1] = Af*fast_est[trial] + Bf*errors[trial]\n",
    "        slow_est[trial+1] = As*slow_est[trial] + Bs*errors[trial]\n",
    "        rotation_est[trial+1] = fast_est[trial+1] + slow_est[trial+1]\n",
    "        #print (rotation_est)\n",
    "    errors[num_trials-1] = rotation - rotation_est[num_trials-1]\n",
    "    return errors, rotation_est, fast_est, slow_est"
   ]
  },
  {
   "cell_type": "code",
   "execution_count": 3,
   "metadata": {},
   "outputs": [],
   "source": [
    "def residuals_sudden(params, num_trials, data_errors):\n",
    "    model_errors = dual_model_sudden(num_trials, params[0], params[1], params[2], params[3])[0]\n",
    "    residual_error = np.sum(np.square(model_errors - data_errors))\n",
    "    if params[0] > params[2]:\n",
    "        residual_error = residual_error + 10000000\n",
    "    if params[1] < params[3]:\n",
    "        residual_error = residual_error + 10000000\n",
    "    if params[0] < 0 or params[1] < 0 or params[2] < 0 or params[3] < 0:\n",
    "        residual_error = residual_error + 10000000\n",
    "    return residual_error\n",
    "\n",
    "def residuals_gradual(params, num_trials, data_errors):\n",
    "    model_errors = dual_model_gradual(num_trials, params[0], params[1], params[2], params[3])[0]\n",
    "    residual_error = np.sum(np.square(model_errors - data_errors))\n",
    "    if params[0] > params[2]:\n",
    "        residual_error = residual_error + 10000000\n",
    "    if params[1] < params[3]:\n",
    "        residual_error = residual_error + 10000000\n",
    "    if params[0] < 0 or params[1] < 0 or params[2] < 0 or params[3] < 0:\n",
    "        residual_error = residual_error + 10000000\n",
    "    return residual_error"
   ]
  },
  {
   "cell_type": "code",
   "execution_count": 4,
   "metadata": {},
   "outputs": [],
   "source": [
    "def fit_participant(participant, curvatures, num_fits):\n",
    "\n",
    "    for fit_parts in range(num_fits):\n",
    "\n",
    "        starting_points = np.array([[0.6, 0.5, 0.7, 0.1]])\n",
    "        for initial_point in starting_points:\n",
    "            if participant%4 == 0 or participant%4 == 1:      \n",
    "                #fits = scipy.optimize.minimize(residuals_sudden, x0 = [initial_point[0], initial_point[1], initial_point[2], initial_point[3]], args = (640, np.nan_to_num(np.ravel(curvatures[participant][1:-1]), nan = np.nanmedian(curvatures[participant][1:-1]))), method = 'Nelder-Mead')            \n",
    "                #fits = scipy.optimize.basinhopping(residuals_sudden, x0 = [initial_point[0], initial_point[1], initial_point[2], initial_point[3]], minimizer_kwargs={'args': (640, np.nan_to_num(np.ravel(curvatures[participant][1:-1]), nan = np.nanmedian(curvatures[participant][1:-1]))), 'method': 'Nelder-Mead'})\n",
    "\n",
    "                #if fits.fun < fit_V[participant][fit_parts]:\n",
    "                Af = fits.x[0]#fit_Af[participant][fit_parts] = fits.x[0]\n",
    "                Bf = fits.x[1]#fit_Bf[participant][fit_parts] = fits.x[1]\n",
    "                As = fits.x[2]#fit_As[participant][fit_parts] = fits.x[2]\n",
    "                Bs = fits.x[2]#fit_Bs[participant][fit_parts] = fits.x[3]\n",
    "                V = fits.fun#fit_V[participant][fit_parts] = fits.fun\n",
    "                #fit_success[participant][fit_parts] = fits.success                \n",
    "            else:\n",
    "                #fits = scipy.optimize.minimize(residuals_gradual, x0 = [initial_point[0], initial_point[1], initial_point[2], initial_point[3]], args = (640, np.nan_to_num(np.ravel(curvatures[participant][1:-1]), nan = np.nanmedian(curvatures[participant][1:-1]))), method = 'Nelder-Mead')         \n",
    "                fits = scipy.optimize.basinhopping(residuals_gradual, x0 = [initial_point[0], initial_point[1], initial_point[2], initial_point[3]], minimizer_kwargs={'args': (640, np.nan_to_num(np.ravel(curvatures[participant][1:-1]), nan = np.nanmedian(curvatures[participant][1:-1]))), 'method': 'Nelder-Mead'})\n",
    "                #if fits.fun < fit_V[participant][fit_parts]:\n",
    "                Af = fits.x[0]#fit_Af[participant][fit_parts] = fits.x[0]\n",
    "                Bf = fits.x[1]#fit_Bf[participant][fit_parts] = fits.x[1]\n",
    "                As = fits.x[2]#fit_As[participant][fit_parts] = fits.x[2]\n",
    "                Bs = fits.x[2]#fit_Bs[participant][fit_parts] = fits.x[3]\n",
    "                V = fits.fun#fit_V[participant][fit_parts] = fits.fun\n",
    "                #fit_success[participant][fit_parts] = fits.success\n",
    "    return Af, Bf, As, Bs, V\n"
   ]
  },
  {
   "cell_type": "code",
   "execution_count": 16,
   "metadata": {},
   "outputs": [],
   "source": [
    "#Divide the whole thing into 16 trial blocks and fit them\n",
    "from functools import partial\n",
    "def run_fits_dual(curvatures, num_trials, part_size):\n",
    "    num_fits = int(num_trials/part_size)\n",
    "    fit_As = np.zeros((60, num_fits))\n",
    "    fit_Bs = np.zeros((60, num_fits))\n",
    "    fit_Af = np.zeros((60, num_fits))\n",
    "    fit_Bf = np.zeros((60, num_fits))\n",
    "    fit_V = np.full((60, num_fits), np.inf)\n",
    "    fit_success = np.zeros((60, num_fits))\n",
    "\n",
    "    for participant in range(60):\n",
    "        fit_Af[participant], fit_Bf[participant], fit_As[participant], fit_Bs[participant], fit_V[participant] = fit_participant(participant, curvatures, num_fits) \n",
    "        print (participant, fit_V[participant])\n",
    "    #unc = partial(workers.fit_participant, curvatures = curvatures, num_fits = 1)\n",
    "    #if __name__ == '__main__':\n",
    "    #    pool = Pool()\n",
    "    #res = np.reshape(np.array(pool.map(func, range(60))), (60, 5))\n",
    "    return fit_Af, fit_Bf, fit_As, fit_Bs, fit_V\n",
    "    #return res   "
   ]
  },
  {
   "cell_type": "code",
   "execution_count": 5,
   "metadata": {},
   "outputs": [],
   "source": [
    "def fit_participant_singlestart(participant, curvatures, num_fits, A, B):\n",
    "\n",
    "    for fit_parts in range(num_fits):\n",
    "\n",
    "        starting_points = np.array([[0.6, 0.5, A, B]])\n",
    "        for initial_point in starting_points:\n",
    "            if participant%4 == 0 or participant%4 == 1:      \n",
    "                fits = scipy.optimize.minimize(residuals_sudden, x0 = [initial_point[0], initial_point[1], initial_point[2], initial_point[3]], args = (640, np.nan_to_num(np.ravel(curvatures[participant][1:-1]), nan = np.nanmedian(curvatures[participant][1:-1]))), method = 'Nelder-Mead')            \n",
    "                #fits = scipy.optimize.basinhopping(residuals_sudden, x0 = [initial_point[0], initial_point[1], initial_point[2], initial_point[3]], minimizer_kwargs={'args': (640, np.nan_to_num(np.ravel(curvatures[participant][1:-1]), nan = np.nanmedian(curvatures[participant][1:-1]))), 'method': 'Nelder-Mead'})\n",
    "\n",
    "                #if fits.fun < fit_V[participant][fit_parts]:\n",
    "                Af = fits.x[0]#fit_Af[participant][fit_parts] = fits.x[0]\n",
    "                Bf = fits.x[1]#fit_Bf[participant][fit_parts] = fits.x[1]\n",
    "                As = fits.x[2]#fit_As[participant][fit_parts] = fits.x[2]\n",
    "                Bs = fits.x[3]#fit_Bs[participant][fit_parts] = fits.x[3]\n",
    "                V = fits.fun#fit_V[participant][fit_parts] = fits.fun\n",
    "                #fit_success[participant][fit_parts] = fits.success                \n",
    "            else:\n",
    "                fits = scipy.optimize.minimize(residuals_gradual, x0 = [initial_point[0], initial_point[1], initial_point[2], initial_point[3]], args = (640, np.nan_to_num(np.ravel(curvatures[participant][1:-1]), nan = np.nanmedian(curvatures[participant][1:-1]))), method = 'Nelder-Mead')         \n",
    "                #fits = scipy.optimize.basinhopping(residuals_gradual, x0 = [initial_point[0], initial_point[1], initial_point[2], initial_point[3]], minimizer_kwargs={'args': (640, np.nan_to_num(np.ravel(curvatures[participant][1:-1]), nan = np.nanmedian(curvatures[participant][1:-1]))), 'method': 'Nelder-Mead'})\n",
    "                #if fits.fun < fit_V[participant][fit_parts]:\n",
    "                Af = fits.x[0]#fit_Af[participant][fit_parts] = fits.x[0]\n",
    "                Bf = fits.x[1]#fit_Bf[participant][fit_parts] = fits.x[1]\n",
    "                As = fits.x[2]#fit_As[participant][fit_parts] = fits.x[2]\n",
    "                Bs = fits.x[3]#fit_Bs[participant][fit_parts] = fits.x[3]\n",
    "                V = fits.fun#fit_V[participant][fit_parts] = fits.fun\n",
    "                #fit_success[participant][fit_parts] = fits.success\n",
    "    return Af, Bf, As, Bs, V\n"
   ]
  },
  {
   "cell_type": "code",
   "execution_count": null,
   "metadata": {},
   "outputs": [],
   "source": [
    "#Divide the whole thing into 16 trial blocks and fit them\n",
    "from functools import partial\n",
    "def run_fits_dual_singlestart(curvatures, num_trials, single_params):\n",
    "    num_fits = int(num_trials)\n",
    "    fit_As = np.zeros((60, num_fits))\n",
    "    fit_Bs = np.zeros((60, num_fits))\n",
    "    fit_Af = np.zeros((60, num_fits))\n",
    "    fit_Bf = np.zeros((60, num_fits))\n",
    "    fit_V = np.full((60, num_fits), np.inf)\n",
    "    fit_success = np.zeros((60, num_fits))\n",
    "\n",
    "    for participant in range(60):\n",
    "        fit_Af[participant], fit_Bf[participant], fit_As[participant], fit_Bs[participant], fit_V[participant] = fit_participant(participant, curvatures, num_fits, single_params[participant]) \n",
    "        print (participant, fit_V[participant])\n",
    "    #unc = partial(workers.fit_participant, curvatures = curvatures, num_fits = 1)\n",
    "    #if __name__ == '__main__':\n",
    "    #    pool = Pool()\n",
    "    #res = np.reshape(np.array(pool.map(func, range(60))), (60, 5))\n",
    "    return fit_Af, fit_Bf, fit_As, fit_Bs, fit_V\n",
    "    #return res   "
   ]
  },
  {
   "cell_type": "code",
   "execution_count": 19,
   "metadata": {},
   "outputs": [
    {
     "name": "stdout",
     "output_type": "stream",
     "text": [
      "0 [9.87815647]\n"
     ]
    },
    {
     "name": "stderr",
     "output_type": "stream",
     "text": [
      "C:\\Users\\Tejas\\Anaconda3\\lib\\site-packages\\ipykernel_launcher.py:3: RuntimeWarning: overflow encountered in square\n",
      "  This is separate from the ipykernel package so we can avoid doing imports until\n",
      "C:\\Users\\Tejas\\Anaconda3\\lib\\site-packages\\numpy\\core\\fromnumeric.py:87: RuntimeWarning: overflow encountered in reduce\n",
      "  return ufunc.reduce(obj, axis, dtype, out, **passkwargs)\n",
      "C:\\Users\\Tejas\\Anaconda3\\lib\\site-packages\\scipy\\optimize\\optimize.py:700: RuntimeWarning: invalid value encountered in subtract\n",
      "  np.max(np.abs(fsim[0] - fsim[1:])) <= fatol):\n"
     ]
    },
    {
     "name": "stdout",
     "output_type": "stream",
     "text": [
      "1 [8.81488848]\n"
     ]
    },
    {
     "name": "stderr",
     "output_type": "stream",
     "text": [
      "C:\\Users\\Tejas\\Anaconda3\\lib\\site-packages\\ipykernel_launcher.py:14: RuntimeWarning: overflow encountered in square\n",
      "  \n"
     ]
    },
    {
     "name": "stdout",
     "output_type": "stream",
     "text": [
      "2 [10.23524566]\n",
      "3 [4.46128064]\n",
      "4 [4.77646038]\n",
      "5 [8.65257811]\n",
      "6 [1.25599045]\n"
     ]
    },
    {
     "ename": "KeyboardInterrupt",
     "evalue": "",
     "output_type": "error",
     "traceback": [
      "\u001b[1;31m---------------------------------------------------------------------------\u001b[0m",
      "\u001b[1;31mKeyboardInterrupt\u001b[0m                         Traceback (most recent call last)",
      "\u001b[1;32m<ipython-input-19-141b06526ca7>\u001b[0m in \u001b[0;36m<module>\u001b[1;34m\u001b[0m\n\u001b[0;32m      1\u001b[0m \u001b[0mcurvatures_smooth\u001b[0m \u001b[1;33m=\u001b[0m \u001b[0mpickle\u001b[0m\u001b[1;33m.\u001b[0m\u001b[0mload\u001b[0m\u001b[1;33m(\u001b[0m\u001b[0mopen\u001b[0m\u001b[1;33m(\u001b[0m\u001b[1;34m'curvatures_smooth.pickle'\u001b[0m\u001b[1;33m,\u001b[0m \u001b[1;34m'rb'\u001b[0m\u001b[1;33m)\u001b[0m\u001b[1;33m)\u001b[0m\u001b[1;33m\u001b[0m\u001b[0m\n\u001b[0;32m      2\u001b[0m \u001b[0mcurvatures_smooth\u001b[0m \u001b[1;33m=\u001b[0m \u001b[0mcurvatures_smooth\u001b[0m\u001b[1;33m/\u001b[0m\u001b[1;36m90\u001b[0m\u001b[1;33m\u001b[0m\u001b[0m\n\u001b[1;32m----> 3\u001b[1;33m \u001b[0mAf\u001b[0m\u001b[1;33m,\u001b[0m \u001b[0mBf\u001b[0m\u001b[1;33m,\u001b[0m \u001b[0mAs\u001b[0m\u001b[1;33m,\u001b[0m \u001b[0mBs\u001b[0m\u001b[1;33m,\u001b[0m \u001b[0mfit_V_dual\u001b[0m \u001b[1;33m=\u001b[0m \u001b[0mrun_fits_dual\u001b[0m\u001b[1;33m(\u001b[0m\u001b[0mcurvatures_smooth\u001b[0m\u001b[1;33m,\u001b[0m \u001b[1;36m640\u001b[0m\u001b[1;33m,\u001b[0m \u001b[1;36m640\u001b[0m\u001b[1;33m)\u001b[0m\u001b[1;33m\u001b[0m\u001b[0m\n\u001b[0m\u001b[0;32m      4\u001b[0m \u001b[1;31m#fits = run_fits_dual(curvatures_smooth, 640, 640)\u001b[0m\u001b[1;33m\u001b[0m\u001b[1;33m\u001b[0m\u001b[0m\n",
      "\u001b[1;32m<ipython-input-16-ad06a681d757>\u001b[0m in \u001b[0;36mrun_fits_dual\u001b[1;34m(curvatures, num_trials, part_size)\u001b[0m\n\u001b[0;32m     11\u001b[0m \u001b[1;33m\u001b[0m\u001b[0m\n\u001b[0;32m     12\u001b[0m     \u001b[1;32mfor\u001b[0m \u001b[0mparticipant\u001b[0m \u001b[1;32min\u001b[0m \u001b[0mrange\u001b[0m\u001b[1;33m(\u001b[0m\u001b[1;36m60\u001b[0m\u001b[1;33m)\u001b[0m\u001b[1;33m:\u001b[0m\u001b[1;33m\u001b[0m\u001b[0m\n\u001b[1;32m---> 13\u001b[1;33m         \u001b[0mfit_Af\u001b[0m\u001b[1;33m[\u001b[0m\u001b[0mparticipant\u001b[0m\u001b[1;33m]\u001b[0m\u001b[1;33m,\u001b[0m \u001b[0mfit_Bf\u001b[0m\u001b[1;33m[\u001b[0m\u001b[0mparticipant\u001b[0m\u001b[1;33m]\u001b[0m\u001b[1;33m,\u001b[0m \u001b[0mfit_As\u001b[0m\u001b[1;33m[\u001b[0m\u001b[0mparticipant\u001b[0m\u001b[1;33m]\u001b[0m\u001b[1;33m,\u001b[0m \u001b[0mfit_Bs\u001b[0m\u001b[1;33m[\u001b[0m\u001b[0mparticipant\u001b[0m\u001b[1;33m]\u001b[0m\u001b[1;33m,\u001b[0m \u001b[0mfit_V\u001b[0m\u001b[1;33m[\u001b[0m\u001b[0mparticipant\u001b[0m\u001b[1;33m]\u001b[0m \u001b[1;33m=\u001b[0m \u001b[0mfit_participant\u001b[0m\u001b[1;33m(\u001b[0m\u001b[0mparticipant\u001b[0m\u001b[1;33m,\u001b[0m \u001b[0mcurvatures\u001b[0m\u001b[1;33m,\u001b[0m \u001b[0mnum_fits\u001b[0m\u001b[1;33m)\u001b[0m\u001b[1;33m\u001b[0m\u001b[0m\n\u001b[0m\u001b[0;32m     14\u001b[0m         \u001b[0mprint\u001b[0m \u001b[1;33m(\u001b[0m\u001b[0mparticipant\u001b[0m\u001b[1;33m,\u001b[0m \u001b[0mfit_V\u001b[0m\u001b[1;33m[\u001b[0m\u001b[0mparticipant\u001b[0m\u001b[1;33m]\u001b[0m\u001b[1;33m)\u001b[0m\u001b[1;33m\u001b[0m\u001b[0m\n\u001b[0;32m     15\u001b[0m     \u001b[1;31m#unc = partial(workers.fit_participant, curvatures = curvatures, num_fits = 1)\u001b[0m\u001b[1;33m\u001b[0m\u001b[1;33m\u001b[0m\u001b[0m\n",
      "\u001b[1;32m<ipython-input-18-38553edcb423>\u001b[0m in \u001b[0;36mfit_participant\u001b[1;34m(participant, curvatures, num_fits)\u001b[0m\n\u001b[0;32m     18\u001b[0m             \u001b[1;32melse\u001b[0m\u001b[1;33m:\u001b[0m\u001b[1;33m\u001b[0m\u001b[0m\n\u001b[0;32m     19\u001b[0m                 \u001b[1;31m#fits = scipy.optimize.minimize(residuals_gradual, x0 = [initial_point[0], initial_point[1], initial_point[2], initial_point[3]], args = (640, np.nan_to_num(np.ravel(curvatures[participant][1:-1]), nan = np.nanmedian(curvatures[participant][1:-1]))), method = 'Nelder-Mead')\u001b[0m\u001b[1;33m\u001b[0m\u001b[1;33m\u001b[0m\u001b[0m\n\u001b[1;32m---> 20\u001b[1;33m                 \u001b[0mfits\u001b[0m \u001b[1;33m=\u001b[0m \u001b[0mscipy\u001b[0m\u001b[1;33m.\u001b[0m\u001b[0moptimize\u001b[0m\u001b[1;33m.\u001b[0m\u001b[0mbasinhopping\u001b[0m\u001b[1;33m(\u001b[0m\u001b[0mresiduals_gradual\u001b[0m\u001b[1;33m,\u001b[0m \u001b[0mx0\u001b[0m \u001b[1;33m=\u001b[0m \u001b[1;33m[\u001b[0m\u001b[0minitial_point\u001b[0m\u001b[1;33m[\u001b[0m\u001b[1;36m0\u001b[0m\u001b[1;33m]\u001b[0m\u001b[1;33m,\u001b[0m \u001b[0minitial_point\u001b[0m\u001b[1;33m[\u001b[0m\u001b[1;36m1\u001b[0m\u001b[1;33m]\u001b[0m\u001b[1;33m,\u001b[0m \u001b[0minitial_point\u001b[0m\u001b[1;33m[\u001b[0m\u001b[1;36m2\u001b[0m\u001b[1;33m]\u001b[0m\u001b[1;33m,\u001b[0m \u001b[0minitial_point\u001b[0m\u001b[1;33m[\u001b[0m\u001b[1;36m3\u001b[0m\u001b[1;33m]\u001b[0m\u001b[1;33m]\u001b[0m\u001b[1;33m,\u001b[0m \u001b[0mminimizer_kwargs\u001b[0m\u001b[1;33m=\u001b[0m\u001b[1;33m{\u001b[0m\u001b[1;34m'args'\u001b[0m\u001b[1;33m:\u001b[0m \u001b[1;33m(\u001b[0m\u001b[1;36m640\u001b[0m\u001b[1;33m,\u001b[0m \u001b[0mnp\u001b[0m\u001b[1;33m.\u001b[0m\u001b[0mnan_to_num\u001b[0m\u001b[1;33m(\u001b[0m\u001b[0mnp\u001b[0m\u001b[1;33m.\u001b[0m\u001b[0mravel\u001b[0m\u001b[1;33m(\u001b[0m\u001b[0mcurvatures\u001b[0m\u001b[1;33m[\u001b[0m\u001b[0mparticipant\u001b[0m\u001b[1;33m]\u001b[0m\u001b[1;33m[\u001b[0m\u001b[1;36m1\u001b[0m\u001b[1;33m:\u001b[0m\u001b[1;33m-\u001b[0m\u001b[1;36m1\u001b[0m\u001b[1;33m]\u001b[0m\u001b[1;33m)\u001b[0m\u001b[1;33m,\u001b[0m \u001b[0mnan\u001b[0m \u001b[1;33m=\u001b[0m \u001b[0mnp\u001b[0m\u001b[1;33m.\u001b[0m\u001b[0mnanmedian\u001b[0m\u001b[1;33m(\u001b[0m\u001b[0mcurvatures\u001b[0m\u001b[1;33m[\u001b[0m\u001b[0mparticipant\u001b[0m\u001b[1;33m]\u001b[0m\u001b[1;33m[\u001b[0m\u001b[1;36m1\u001b[0m\u001b[1;33m:\u001b[0m\u001b[1;33m-\u001b[0m\u001b[1;36m1\u001b[0m\u001b[1;33m]\u001b[0m\u001b[1;33m)\u001b[0m\u001b[1;33m)\u001b[0m\u001b[1;33m)\u001b[0m\u001b[1;33m,\u001b[0m \u001b[1;34m'method'\u001b[0m\u001b[1;33m:\u001b[0m \u001b[1;34m'Nelder-Mead'\u001b[0m\u001b[1;33m}\u001b[0m\u001b[1;33m)\u001b[0m\u001b[1;33m\u001b[0m\u001b[0m\n\u001b[0m\u001b[0;32m     21\u001b[0m                 \u001b[1;31m#if fits.fun < fit_V[participant][fit_parts]:\u001b[0m\u001b[1;33m\u001b[0m\u001b[1;33m\u001b[0m\u001b[0m\n\u001b[0;32m     22\u001b[0m                 \u001b[0mAf\u001b[0m \u001b[1;33m=\u001b[0m \u001b[0mfits\u001b[0m\u001b[1;33m.\u001b[0m\u001b[0mx\u001b[0m\u001b[1;33m[\u001b[0m\u001b[1;36m0\u001b[0m\u001b[1;33m]\u001b[0m\u001b[1;31m#fit_Af[participant][fit_parts] = fits.x[0]\u001b[0m\u001b[1;33m\u001b[0m\u001b[0m\n",
      "\u001b[1;32m~\\Anaconda3\\lib\\site-packages\\scipy\\optimize\\_basinhopping.py\u001b[0m in \u001b[0;36mbasinhopping\u001b[1;34m(func, x0, niter, T, stepsize, minimizer_kwargs, take_step, accept_test, callback, interval, disp, niter_success, seed)\u001b[0m\n\u001b[0;32m    684\u001b[0m                \" successfully\"]\n\u001b[0;32m    685\u001b[0m     \u001b[1;32mfor\u001b[0m \u001b[0mi\u001b[0m \u001b[1;32min\u001b[0m \u001b[0mrange\u001b[0m\u001b[1;33m(\u001b[0m\u001b[0mniter\u001b[0m\u001b[1;33m)\u001b[0m\u001b[1;33m:\u001b[0m\u001b[1;33m\u001b[0m\u001b[0m\n\u001b[1;32m--> 686\u001b[1;33m         \u001b[0mnew_global_min\u001b[0m \u001b[1;33m=\u001b[0m \u001b[0mbh\u001b[0m\u001b[1;33m.\u001b[0m\u001b[0mone_cycle\u001b[0m\u001b[1;33m(\u001b[0m\u001b[1;33m)\u001b[0m\u001b[1;33m\u001b[0m\u001b[0m\n\u001b[0m\u001b[0;32m    687\u001b[0m \u001b[1;33m\u001b[0m\u001b[0m\n\u001b[0;32m    688\u001b[0m         \u001b[1;32mif\u001b[0m \u001b[0mcallable\u001b[0m\u001b[1;33m(\u001b[0m\u001b[0mcallback\u001b[0m\u001b[1;33m)\u001b[0m\u001b[1;33m:\u001b[0m\u001b[1;33m\u001b[0m\u001b[0m\n",
      "\u001b[1;32m~\\Anaconda3\\lib\\site-packages\\scipy\\optimize\\_basinhopping.py\u001b[0m in \u001b[0;36mone_cycle\u001b[1;34m(self)\u001b[0m\n\u001b[0;32m    150\u001b[0m         \u001b[0mnew_global_min\u001b[0m \u001b[1;33m=\u001b[0m \u001b[1;32mFalse\u001b[0m\u001b[1;33m\u001b[0m\u001b[0m\n\u001b[0;32m    151\u001b[0m \u001b[1;33m\u001b[0m\u001b[0m\n\u001b[1;32m--> 152\u001b[1;33m         \u001b[0maccept\u001b[0m\u001b[1;33m,\u001b[0m \u001b[0mminres\u001b[0m \u001b[1;33m=\u001b[0m \u001b[0mself\u001b[0m\u001b[1;33m.\u001b[0m\u001b[0m_monte_carlo_step\u001b[0m\u001b[1;33m(\u001b[0m\u001b[1;33m)\u001b[0m\u001b[1;33m\u001b[0m\u001b[0m\n\u001b[0m\u001b[0;32m    153\u001b[0m \u001b[1;33m\u001b[0m\u001b[0m\n\u001b[0;32m    154\u001b[0m         \u001b[1;32mif\u001b[0m \u001b[0maccept\u001b[0m\u001b[1;33m:\u001b[0m\u001b[1;33m\u001b[0m\u001b[0m\n",
      "\u001b[1;32m~\\Anaconda3\\lib\\site-packages\\scipy\\optimize\\_basinhopping.py\u001b[0m in \u001b[0;36m_monte_carlo_step\u001b[1;34m(self)\u001b[0m\n\u001b[0;32m    102\u001b[0m \u001b[1;33m\u001b[0m\u001b[0m\n\u001b[0;32m    103\u001b[0m         \u001b[1;31m# do a local minimization\u001b[0m\u001b[1;33m\u001b[0m\u001b[1;33m\u001b[0m\u001b[0m\n\u001b[1;32m--> 104\u001b[1;33m         \u001b[0mminres\u001b[0m \u001b[1;33m=\u001b[0m \u001b[0mself\u001b[0m\u001b[1;33m.\u001b[0m\u001b[0mminimizer\u001b[0m\u001b[1;33m(\u001b[0m\u001b[0mx_after_step\u001b[0m\u001b[1;33m)\u001b[0m\u001b[1;33m\u001b[0m\u001b[0m\n\u001b[0m\u001b[0;32m    105\u001b[0m         \u001b[0mx_after_quench\u001b[0m \u001b[1;33m=\u001b[0m \u001b[0mminres\u001b[0m\u001b[1;33m.\u001b[0m\u001b[0mx\u001b[0m\u001b[1;33m\u001b[0m\u001b[0m\n\u001b[0;32m    106\u001b[0m         \u001b[0menergy_after_quench\u001b[0m \u001b[1;33m=\u001b[0m \u001b[0mminres\u001b[0m\u001b[1;33m.\u001b[0m\u001b[0mfun\u001b[0m\u001b[1;33m\u001b[0m\u001b[0m\n",
      "\u001b[1;32m~\\Anaconda3\\lib\\site-packages\\scipy\\optimize\\_basinhopping.py\u001b[0m in \u001b[0;36m__call__\u001b[1;34m(self, x0)\u001b[0m\n\u001b[0;32m    282\u001b[0m             \u001b[1;32mreturn\u001b[0m \u001b[0mself\u001b[0m\u001b[1;33m.\u001b[0m\u001b[0mminimizer\u001b[0m\u001b[1;33m(\u001b[0m\u001b[0mx0\u001b[0m\u001b[1;33m,\u001b[0m \u001b[1;33m**\u001b[0m\u001b[0mself\u001b[0m\u001b[1;33m.\u001b[0m\u001b[0mkwargs\u001b[0m\u001b[1;33m)\u001b[0m\u001b[1;33m\u001b[0m\u001b[0m\n\u001b[0;32m    283\u001b[0m         \u001b[1;32melse\u001b[0m\u001b[1;33m:\u001b[0m\u001b[1;33m\u001b[0m\u001b[0m\n\u001b[1;32m--> 284\u001b[1;33m             \u001b[1;32mreturn\u001b[0m \u001b[0mself\u001b[0m\u001b[1;33m.\u001b[0m\u001b[0mminimizer\u001b[0m\u001b[1;33m(\u001b[0m\u001b[0mself\u001b[0m\u001b[1;33m.\u001b[0m\u001b[0mfunc\u001b[0m\u001b[1;33m,\u001b[0m \u001b[0mx0\u001b[0m\u001b[1;33m,\u001b[0m \u001b[1;33m**\u001b[0m\u001b[0mself\u001b[0m\u001b[1;33m.\u001b[0m\u001b[0mkwargs\u001b[0m\u001b[1;33m)\u001b[0m\u001b[1;33m\u001b[0m\u001b[0m\n\u001b[0m\u001b[0;32m    285\u001b[0m \u001b[1;33m\u001b[0m\u001b[0m\n\u001b[0;32m    286\u001b[0m \u001b[1;33m\u001b[0m\u001b[0m\n",
      "\u001b[1;32m~\\Anaconda3\\lib\\site-packages\\scipy\\optimize\\_minimize.py\u001b[0m in \u001b[0;36mminimize\u001b[1;34m(fun, x0, args, method, jac, hess, hessp, bounds, constraints, tol, callback, options)\u001b[0m\n\u001b[0;32m    604\u001b[0m \u001b[1;33m\u001b[0m\u001b[0m\n\u001b[0;32m    605\u001b[0m     \u001b[1;32mif\u001b[0m \u001b[0mmeth\u001b[0m \u001b[1;33m==\u001b[0m \u001b[1;34m'nelder-mead'\u001b[0m\u001b[1;33m:\u001b[0m\u001b[1;33m\u001b[0m\u001b[0m\n\u001b[1;32m--> 606\u001b[1;33m         \u001b[1;32mreturn\u001b[0m \u001b[0m_minimize_neldermead\u001b[0m\u001b[1;33m(\u001b[0m\u001b[0mfun\u001b[0m\u001b[1;33m,\u001b[0m \u001b[0mx0\u001b[0m\u001b[1;33m,\u001b[0m \u001b[0margs\u001b[0m\u001b[1;33m,\u001b[0m \u001b[0mcallback\u001b[0m\u001b[1;33m,\u001b[0m \u001b[1;33m**\u001b[0m\u001b[0moptions\u001b[0m\u001b[1;33m)\u001b[0m\u001b[1;33m\u001b[0m\u001b[0m\n\u001b[0m\u001b[0;32m    607\u001b[0m     \u001b[1;32melif\u001b[0m \u001b[0mmeth\u001b[0m \u001b[1;33m==\u001b[0m \u001b[1;34m'powell'\u001b[0m\u001b[1;33m:\u001b[0m\u001b[1;33m\u001b[0m\u001b[0m\n\u001b[0;32m    608\u001b[0m         \u001b[1;32mreturn\u001b[0m \u001b[0m_minimize_powell\u001b[0m\u001b[1;33m(\u001b[0m\u001b[0mfun\u001b[0m\u001b[1;33m,\u001b[0m \u001b[0mx0\u001b[0m\u001b[1;33m,\u001b[0m \u001b[0margs\u001b[0m\u001b[1;33m,\u001b[0m \u001b[0mcallback\u001b[0m\u001b[1;33m,\u001b[0m \u001b[0mbounds\u001b[0m\u001b[1;33m,\u001b[0m \u001b[1;33m**\u001b[0m\u001b[0moptions\u001b[0m\u001b[1;33m)\u001b[0m\u001b[1;33m\u001b[0m\u001b[0m\n",
      "\u001b[1;32m~\\Anaconda3\\lib\\site-packages\\scipy\\optimize\\optimize.py\u001b[0m in \u001b[0;36m_minimize_neldermead\u001b[1;34m(func, x0, args, callback, maxiter, maxfev, disp, return_all, initial_simplex, xatol, fatol, adaptive, **unknown_options)\u001b[0m\n\u001b[0;32m    703\u001b[0m         \u001b[0mxbar\u001b[0m \u001b[1;33m=\u001b[0m \u001b[0mnp\u001b[0m\u001b[1;33m.\u001b[0m\u001b[0madd\u001b[0m\u001b[1;33m.\u001b[0m\u001b[0mreduce\u001b[0m\u001b[1;33m(\u001b[0m\u001b[0msim\u001b[0m\u001b[1;33m[\u001b[0m\u001b[1;33m:\u001b[0m\u001b[1;33m-\u001b[0m\u001b[1;36m1\u001b[0m\u001b[1;33m]\u001b[0m\u001b[1;33m,\u001b[0m \u001b[1;36m0\u001b[0m\u001b[1;33m)\u001b[0m \u001b[1;33m/\u001b[0m \u001b[0mN\u001b[0m\u001b[1;33m\u001b[0m\u001b[0m\n\u001b[0;32m    704\u001b[0m         \u001b[0mxr\u001b[0m \u001b[1;33m=\u001b[0m \u001b[1;33m(\u001b[0m\u001b[1;36m1\u001b[0m \u001b[1;33m+\u001b[0m \u001b[0mrho\u001b[0m\u001b[1;33m)\u001b[0m \u001b[1;33m*\u001b[0m \u001b[0mxbar\u001b[0m \u001b[1;33m-\u001b[0m \u001b[0mrho\u001b[0m \u001b[1;33m*\u001b[0m \u001b[0msim\u001b[0m\u001b[1;33m[\u001b[0m\u001b[1;33m-\u001b[0m\u001b[1;36m1\u001b[0m\u001b[1;33m]\u001b[0m\u001b[1;33m\u001b[0m\u001b[0m\n\u001b[1;32m--> 705\u001b[1;33m         \u001b[0mfxr\u001b[0m \u001b[1;33m=\u001b[0m \u001b[0mfunc\u001b[0m\u001b[1;33m(\u001b[0m\u001b[0mxr\u001b[0m\u001b[1;33m)\u001b[0m\u001b[1;33m\u001b[0m\u001b[0m\n\u001b[0m\u001b[0;32m    706\u001b[0m         \u001b[0mdoshrink\u001b[0m \u001b[1;33m=\u001b[0m \u001b[1;36m0\u001b[0m\u001b[1;33m\u001b[0m\u001b[0m\n\u001b[0;32m    707\u001b[0m \u001b[1;33m\u001b[0m\u001b[0m\n",
      "\u001b[1;32m~\\Anaconda3\\lib\\site-packages\\scipy\\optimize\\optimize.py\u001b[0m in \u001b[0;36mfunction_wrapper\u001b[1;34m(*wrapper_args)\u001b[0m\n\u001b[0;32m    425\u001b[0m     \u001b[1;32mdef\u001b[0m \u001b[0mfunction_wrapper\u001b[0m\u001b[1;33m(\u001b[0m\u001b[1;33m*\u001b[0m\u001b[0mwrapper_args\u001b[0m\u001b[1;33m)\u001b[0m\u001b[1;33m:\u001b[0m\u001b[1;33m\u001b[0m\u001b[0m\n\u001b[0;32m    426\u001b[0m         \u001b[0mncalls\u001b[0m\u001b[1;33m[\u001b[0m\u001b[1;36m0\u001b[0m\u001b[1;33m]\u001b[0m \u001b[1;33m+=\u001b[0m \u001b[1;36m1\u001b[0m\u001b[1;33m\u001b[0m\u001b[0m\n\u001b[1;32m--> 427\u001b[1;33m         \u001b[1;32mreturn\u001b[0m \u001b[0mfunction\u001b[0m\u001b[1;33m(\u001b[0m\u001b[1;33m*\u001b[0m\u001b[1;33m(\u001b[0m\u001b[0mwrapper_args\u001b[0m \u001b[1;33m+\u001b[0m \u001b[0margs\u001b[0m\u001b[1;33m)\u001b[0m\u001b[1;33m)\u001b[0m\u001b[1;33m\u001b[0m\u001b[0m\n\u001b[0m\u001b[0;32m    428\u001b[0m \u001b[1;33m\u001b[0m\u001b[0m\n\u001b[0;32m    429\u001b[0m     \u001b[1;32mreturn\u001b[0m \u001b[0mncalls\u001b[0m\u001b[1;33m,\u001b[0m \u001b[0mfunction_wrapper\u001b[0m\u001b[1;33m\u001b[0m\u001b[0m\n",
      "\u001b[1;32m<ipython-input-14-e8417ad3d641>\u001b[0m in \u001b[0;36mresiduals_gradual\u001b[1;34m(params, num_trials, data_errors)\u001b[0m\n\u001b[0;32m     12\u001b[0m \u001b[1;32mdef\u001b[0m \u001b[0mresiduals_gradual\u001b[0m\u001b[1;33m(\u001b[0m\u001b[0mparams\u001b[0m\u001b[1;33m,\u001b[0m \u001b[0mnum_trials\u001b[0m\u001b[1;33m,\u001b[0m \u001b[0mdata_errors\u001b[0m\u001b[1;33m)\u001b[0m\u001b[1;33m:\u001b[0m\u001b[1;33m\u001b[0m\u001b[0m\n\u001b[0;32m     13\u001b[0m     \u001b[0mmodel_errors\u001b[0m \u001b[1;33m=\u001b[0m \u001b[0mdual_model_gradual\u001b[0m\u001b[1;33m(\u001b[0m\u001b[0mnum_trials\u001b[0m\u001b[1;33m,\u001b[0m \u001b[0mparams\u001b[0m\u001b[1;33m[\u001b[0m\u001b[1;36m0\u001b[0m\u001b[1;33m]\u001b[0m\u001b[1;33m,\u001b[0m \u001b[0mparams\u001b[0m\u001b[1;33m[\u001b[0m\u001b[1;36m1\u001b[0m\u001b[1;33m]\u001b[0m\u001b[1;33m,\u001b[0m \u001b[0mparams\u001b[0m\u001b[1;33m[\u001b[0m\u001b[1;36m2\u001b[0m\u001b[1;33m]\u001b[0m\u001b[1;33m,\u001b[0m \u001b[0mparams\u001b[0m\u001b[1;33m[\u001b[0m\u001b[1;36m3\u001b[0m\u001b[1;33m]\u001b[0m\u001b[1;33m)\u001b[0m\u001b[1;33m[\u001b[0m\u001b[1;36m0\u001b[0m\u001b[1;33m]\u001b[0m\u001b[1;33m\u001b[0m\u001b[0m\n\u001b[1;32m---> 14\u001b[1;33m     \u001b[0mresidual_error\u001b[0m \u001b[1;33m=\u001b[0m \u001b[0mnp\u001b[0m\u001b[1;33m.\u001b[0m\u001b[0msum\u001b[0m\u001b[1;33m(\u001b[0m\u001b[0mnp\u001b[0m\u001b[1;33m.\u001b[0m\u001b[0msquare\u001b[0m\u001b[1;33m(\u001b[0m\u001b[0mmodel_errors\u001b[0m \u001b[1;33m-\u001b[0m \u001b[0mdata_errors\u001b[0m\u001b[1;33m)\u001b[0m\u001b[1;33m)\u001b[0m\u001b[1;33m\u001b[0m\u001b[0m\n\u001b[0m\u001b[0;32m     15\u001b[0m     \u001b[1;32mif\u001b[0m \u001b[0mparams\u001b[0m\u001b[1;33m[\u001b[0m\u001b[1;36m0\u001b[0m\u001b[1;33m]\u001b[0m \u001b[1;33m>\u001b[0m \u001b[0mparams\u001b[0m\u001b[1;33m[\u001b[0m\u001b[1;36m2\u001b[0m\u001b[1;33m]\u001b[0m\u001b[1;33m:\u001b[0m\u001b[1;33m\u001b[0m\u001b[0m\n\u001b[0;32m     16\u001b[0m         \u001b[0mresidual_error\u001b[0m \u001b[1;33m=\u001b[0m \u001b[0mresidual_error\u001b[0m \u001b[1;33m+\u001b[0m \u001b[1;36m10000000\u001b[0m\u001b[1;33m\u001b[0m\u001b[0m\n",
      "\u001b[1;31mKeyboardInterrupt\u001b[0m: "
     ]
    }
   ],
   "source": [
    "curvatures_smooth = pickle.load(open('curvatures_smooth.pickle', 'rb'))\n",
    "curvatures_smooth = curvatures_smooth/90\n",
    "Af, Bf, As, Bs, fit_V_dual = run_fits_dual(curvatures_smooth, 640, 640)\n",
    "#fits = run_fits_dual(curvatures_smooth, 640, 640)"
   ]
  },
  {
   "cell_type": "code",
   "execution_count": 45,
   "metadata": {},
   "outputs": [
    {
     "data": {
      "image/png": "[encoded data removed]",
      "text/plain": [
       "<Figure size 432x288 with 1 Axes>"
      ]
     },
     "metadata": {
      "needs_background": "light"
     },
     "output_type": "display_data"
    }
   ],
   "source": [
    "e, r, f, s = dual_model_sudden(100, 0.8, 0.3, 0.99, 0.05)\n",
    "plot0, = plt.plot(r)\n",
    "#plot1, = plt.plot(1 - e - s)\n",
    "plot2, = plt.plot(1 - e - f)\n",
    "\n",
    "plt.legend([plot0, plot2], ['Total Fix', 'Implicit Fix'])\n",
    "plt.ylabel('Error            \\n Decreases --------->')\n",
    "plt.xlabel('Time')\n",
    "plt.savefig('dual_theoretical_rot_imp_est.png', dpi = 600)"
   ]
  },
  {
   "cell_type": "code",
   "execution_count": 10,
   "metadata": {},
   "outputs": [
    {
     "data": {
      "text/plain": [
       "[<matplotlib.lines.Line2D at 0x1afcae723a0>]"
      ]
     },
     "execution_count": 10,
     "metadata": {},
     "output_type": "execute_result"
    },
    {
     "data": {
      "image/png": "[encoded data removed]",
      "text/plain": [
       "<Figure size 432x288 with 1 Axes>"
      ]
     },
     "metadata": {
      "needs_background": "light"
     },
     "output_type": "display_data"
    }
   ],
   "source": []
  }
 ],
 "metadata": {
  "kernelspec": {
   "display_name": "Python 3",
   "language": "python",
   "name": "python3"
  },
  "language_info": {
   "codemirror_mode": {
    "name": "ipython",
    "version": 3
   },
   "file_extension": ".py",
   "mimetype": "text/x-python",
   "name": "python",
   "nbconvert_exporter": "python",
   "pygments_lexer": "ipython3",
   "version": "3.8.5"
  }
 },
 "nbformat": 4,
 "nbformat_minor": 4
}
