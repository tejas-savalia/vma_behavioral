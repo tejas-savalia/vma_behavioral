{
 "cells": [
  {
   "cell_type": "code",
   "execution_count": 2,
   "metadata": {},
   "outputs": [],
   "source": [
    "import numpy as np\n",
    "import matplotlib.pyplot as plt\n",
    "import scipy.io\n",
    "import scipy.stats as stat\n",
    "import scipy.optimize\n",
    "import math\n",
    "import pickle\n",
    "import pandas as pd\n",
    "import seaborn as sns"
   ]
  },
  {
   "cell_type": "code",
   "execution_count": 2,
   "metadata": {},
   "outputs": [],
   "source": [
    "def dual_model_sudden(num_trials, Af, Bf, As, Bs):\n",
    "    errors = np.zeros((num_trials))\n",
    "    rotation = 90/90.0\n",
    "    fast_est = np.zeros((num_trials))\n",
    "    slow_est = np.zeros((num_trials))\n",
    "    rotation_est = np.zeros((num_trials))\n",
    "    #rotation_est[0] = est\n",
    "    for trial in range(num_trials - 1):\n",
    "        errors[trial] = rotation - rotation_est[trial]\n",
    "        #print(errors[trial])\n",
    "        fast_est[trial+1] = Af*fast_est[trial] + Bf*errors[trial]\n",
    "        slow_est[trial+1] = As*slow_est[trial] + Bs*errors[trial]\n",
    "        rotation_est[trial+1] = fast_est[trial+1] + slow_est[trial+1]\n",
    "        #print (rotation_est)\n",
    "    errors[num_trials-1] = rotation - rotation_est[num_trials-1]\n",
    "    return errors, rotation_est, fast_est, slow_est\n",
    "\n",
    "def dual_model_gradual(num_trials, Af, Bf, As, Bs):\n",
    "    errors = np.zeros((num_trials))\n",
    "    fast_est = np.zeros((num_trials))\n",
    "    slow_est = np.zeros((num_trials))\n",
    "    rotation_est = np.zeros((num_trials))\n",
    "    rotation = 0\n",
    "    for trial in range(num_trials - 1):\n",
    "        if trial%64 == 0:\n",
    "            rotation = rotation + 10/90.0\n",
    "        if rotation > 90/90:\n",
    "            rotation = 90/90\n",
    "        errors[trial] = rotation - rotation_est[trial]\n",
    "        #print(errors[trial])\n",
    "        fast_est[trial+1] = Af*fast_est[trial] + Bf*errors[trial]\n",
    "        slow_est[trial+1] = As*slow_est[trial] + Bs*errors[trial]\n",
    "        rotation_est[trial+1] = fast_est[trial+1] + slow_est[trial+1]\n",
    "        #print (rotation_est)\n",
    "    errors[num_trials-1] = rotation - rotation_est[num_trials-1]\n",
    "    return errors, rotation_est, fast_est, slow_est\n",
    "\n",
    "def single_model_sudden(num_trials, A, B):\n",
    "    errors = np.zeros((num_trials))\n",
    "    rotation = 90/90.0\n",
    "    rotation_est = np.zeros((num_trials))\n",
    "    #rotation_est[0] = est\n",
    "    for trial in range(num_trials - 1):\n",
    "        errors[trial] = rotation - rotation_est[trial]\n",
    "        #print(errors[trial])\n",
    "        rotation_est[trial+1] = A * rotation_est[trial] + B*errors[trial]\n",
    "        #print (rotation_est)\n",
    "    errors[num_trials-1] = rotation - rotation_est[num_trials-1]\n",
    "    return errors, rotation_est\n",
    "\n",
    "def single_model_gradual(num_trials, A, B):\n",
    "    errors = np.zeros((num_trials))\n",
    "    rotation_est = np.zeros((num_trials))\n",
    "    rotation = 0\n",
    "    for trial in range(num_trials - 1):\n",
    "        if trial%64 == 0:\n",
    "            rotation = rotation + 10/90.0\n",
    "        if rotation > 90/90:\n",
    "            rotation = 90/90\n",
    "        errors[trial] = rotation - rotation_est[trial]\n",
    "        #print(errors[trial])\n",
    "        rotation_est[trial+1] = A*rotation_est[trial] + B*errors[trial]\n",
    "        #print (rotation_est)\n",
    "    errors[num_trials-1] = rotation - rotation_est[num_trials-1]\n",
    "    return errors, rotation_est\n"
   ]
  },
  {
   "cell_type": "code",
   "execution_count": 3,
   "metadata": {},
   "outputs": [],
   "source": [
    "def single_residuals_sudden(params, num_trials, data_errors):\n",
    "    model_errors = single_model_sudden(num_trials, params[0], params[1])[0]\n",
    "    residual_error = -2*sum(stat.norm.logpdf(data_errors, model_errors, params[2]))\n",
    "    #residual_error = np.sum(np.square(model_errors - data_errors))\n",
    "\n",
    "    if params[0] < 0 or params[1] < 0 or params[0] > 1 or params[1] > 1:\n",
    "        residual_error = residual_error + 10000000\n",
    "    return residual_error\n",
    "\n",
    "def single_residuals_gradual(params, num_trials, data_errors):\n",
    "    model_errors = single_model_gradual(num_trials, params[0], params[1])[0]\n",
    "    #residual_error = np.sum(np.square(model_errors - data_errors))\n",
    "    residual_error = -2*sum(stat.norm.logpdf(data_errors, model_errors, params[2]))\n",
    "\n",
    "    if params[0] < 0 or params[1] < 0 or params[0] > 1 or params[1] > 1:\n",
    "        residual_error = residual_error + 10000000\n",
    "    \n",
    "    return residual_error\n",
    "\n",
    "def dual_residuals_sudden(params, num_trials, data_errors):\n",
    "    model_errors = dual_model_sudden(num_trials, params[0], params[1], params[2], params[3])[0]\n",
    "    #residual_error = np.sum(np.square(model_errors - data_errors))\n",
    "    residual_error = -2*sum(stat.norm.logpdf(data_errors, model_errors, params[4]))\n",
    "\n",
    "    if params[0] > params[2]:\n",
    "        residual_error = residual_error + 10000000\n",
    "    if params[1] < params[3]:\n",
    "        residual_error = residual_error + 10000000\n",
    "    if params[0] < 0 or params[1] < 0 or params[2] < 0 or params[3] < 0:\n",
    "        residual_error = residual_error + 10000000\n",
    "    if params[0] > 1 or params[1] > 1 or params[2] > 1 or params[3] > 1:\n",
    "        residual_error = residual_error + 10000000\n",
    "\n",
    "    return residual_error\n",
    "\n",
    "def dual_residuals_gradual(params, num_trials, data_errors):\n",
    "    model_errors = dual_model_gradual(num_trials, params[0], params[1], params[2], params[3])[0]\n",
    "    #residual_error = np.sum(np.square(model_errors - data_errors))\n",
    "    residual_error = -2*sum(stat.norm.logpdf(data_errors, model_errors, params[4]))\n",
    "\n",
    "    if params[0] > params[2]:\n",
    "        residual_error = residual_error + 10000000\n",
    "    if params[1] < params[3]:\n",
    "        residual_error = residual_error + 10000000\n",
    "    if params[0] < 0 or params[1] < 0 or params[2] < 0 or params[3] < 0:\n",
    "        residual_error = residual_error + 10000000\n",
    "    if params[0] > 1 or params[1] > 1 or params[2] > 1 or params[3] > 1:\n",
    "        residual_error = residual_error + 10000000\n",
    "\n",
    "    return residual_error"
   ]
  },
  {
   "cell_type": "code",
   "execution_count": 4,
   "metadata": {},
   "outputs": [],
   "source": [
    "def fit_routine(participant, curvature):\n",
    "    single_neg2ll = 1000000\n",
    "    dual_neg2ll = 1000000\n",
    "    for i in range(100):\n",
    "        if participant%4 == 0 or participant%4 == 1:        \n",
    "            fit = scipy.optimize.minimize(single_residuals_sudden, x0 = [np.random.uniform(0, 1), np.random.uniform(0, 1), np.random.uniform(0, 1)], args = (640, np.nan_to_num(np.ravel(curvature[participant][1:-1]), nan = np.nanmedian(curvature[participant][1:-1]))), method = 'Nelder-Mead')\n",
    "            #fit = scipy.optimize.basinhopping(single_residuals_sudden, x0 = [np.random.uniform(0, 1), np.random.uniform(0, 1), np.random.uniform(0, 1)], minimizer_kwargs={'args':(640, np.nan_to_num(np.ravel(curvature[participant][1:-1]), nan = np.nanmedian(curvature[participant][1:-1]))), 'method' : 'Nelder-Mead'})\n",
    "        else:\n",
    "            fit = scipy.optimize.minimize(single_residuals_gradual, x0 = [np.random.uniform(0, 1), np.random.uniform(0, 1), np.random.uniform(0, 1)], args = (640, np.nan_to_num(np.ravel(curvature[participant][1:-1]), nan = np.nanmedian(curvature[participant][1:-1]))), method = 'Nelder-Mead')            \n",
    "            #fit = scipy.optimize.basinhopping(single_residuals_gradual, x0 = [np.random.uniform(0, 1), np.random.uniform(0, 1), np.random.uniform(0, 1)], minimizer_kwargs={'args':(640, np.nan_to_num(np.ravel(curvature[participant][1:-1]), nan = np.nanmedian(curvature[participant][1:-1]))), 'method' : 'Nelder-Mead'})\n",
    "        if fit.fun < single_neg2ll:            \n",
    "            A = fit.x[0]\n",
    "            B = fit.x[1]\n",
    "            single_sigma = fit.x[2]\n",
    "            single_neg2ll = fit.fun\n",
    "            print(\"Participant, i, Single neg2ll: \", participant, i, single_neg2ll)\n",
    "\n",
    "        if participant%4 == 0 or participant%4 == 1:        \n",
    "            fit = scipy.optimize.minimize(dual_residuals_sudden, x0 = [np.random.uniform(0, 1), np.random.uniform(0, 1), np.random.uniform(0, 1), np.random.uniform(0, 1), np.random.uniform(0, 1)], args = (640, np.nan_to_num(np.ravel(curvature[participant][1:-1]), nan = np.nanmedian(curvature[participant][1:-1]))), method = 'Nelder-Mead')\n",
    "            #fit = scipy.optimize.basinhopping(dual_residuals_sudden, x0 = [np.random.uniform(0, 1), np.random.uniform(0, 1), np.random.uniform(0, 1), np.random.uniform(0, 1), np.random.uniform(0, 1)], minimizer_kwargs={'args' : (640, np.nan_to_num(np.ravel(curvature[participant][1:-1]), nan = np.nanmedian(curvature[participant][1:-1]))), 'method' : 'Nelder-Mead'})\n",
    "        else:\n",
    "            fit = scipy.optimize.minimize(dual_residuals_gradual, x0 = [np.random.uniform(0, 1), np.random.uniform(0, 1), np.random.uniform(0, 1), np.random.uniform(0, 1), np.random.uniform(0, 1)], args = (640, np.nan_to_num(np.ravel(curvature[participant][1:-1]), nan = np.nanmedian(curvature[participant][1:-1]))), method = 'Nelder-Mead')            \n",
    "            #fit = scipy.optimize.basinhopping(dual_residuals_gradual, x0 = [np.random.uniform(0, 1), np.random.uniform(0, 1), np.random.uniform(0, 1), np.random.uniform(0, 1), np.random.uniform(0, 1)], minimizer_kwargs={'args' : (640, np.nan_to_num(np.ravel(curvature[participant][1:-1]), nan = np.nanmedian(curvature[participant][1:-1]))), 'method' : 'Nelder-Mead'})\n",
    "        if fit.fun < dual_neg2ll:\n",
    "            Af = fit.x[0]\n",
    "            Bf = fit.x[1]\n",
    "            As = fit.x[2]\n",
    "            Bs = fit.x[3]\n",
    "\n",
    "            dual_sigma = fit.x[4]\n",
    "            dual_neg2ll = fit.fun\n",
    "            print(\"Participant, i, Dual neg2ll: \", participant, i, dual_neg2ll)\n",
    "    \n",
    "    return [A, B, single_sigma, single_neg2ll], [Af, Bf, As, Bs, dual_sigma, dual_neg2ll] "
   ]
  },
  {
   "cell_type": "code",
   "execution_count": null,
   "metadata": {},
   "outputs": [],
   "source": []
  },
  {
   "cell_type": "code",
   "execution_count": 16,
   "metadata": {},
   "outputs": [
    {
     "data": {
      "text/plain": [
       "array([ 9.93113960e-01,  3.22839645e-02,  2.69776936e-02, -2.80811358e+03])"
      ]
     },
     "execution_count": 16,
     "metadata": {},
     "output_type": "execute_result"
    }
   ],
   "source": [
    "single_fits[3]"
   ]
  },
  {
   "cell_type": "code",
   "execution_count": 29,
   "metadata": {},
   "outputs": [],
   "source": [
    "AIC_single = single_fits[:, -1] + 4\n",
    "AIC_dual = dual_fits[:, -1] + 8"
   ]
  },
  {
   "cell_type": "code",
   "execution_count": 34,
   "metadata": {},
   "outputs": [],
   "source": [
    "df = pd.DataFrame({'Participant_ID': np.arange(60), \n",
    "                   'Rotation': np.tile(['Sudden', 'Sudden', 'Gradual', 'Gradual'], 15),\n",
    "                   'Emphasis': np.tile(['Speed', 'Accuracy'], 30),\n",
    "                   'A': single_fits[:, 0],\n",
    "                   'B': single_fits[:, 1],\n",
    "                   'single_sigma': single_fits[:, 2],\n",
    "                   'single_neg2ll': single_fits[:, 3],\n",
    "                   \n",
    "                   'Af': dual_fits[:, 0],\n",
    "                   'Bf': dual_fits[:, 1],\n",
    "                   'As': dual_fits[:, 2],\n",
    "                   'Bs': dual_fits[:, 3],                   \n",
    "                   'dual_sigma': dual_fits[:, 4],\n",
    "                   'dual_neg2ll': dual_fits[:, 5],\n",
    "                   \n",
    "                   'AIC_single': AIC_single,\n",
    "                   'AIC_dual': AIC_dual\n",
    "                  \n",
    "                  })"
   ]
  },
  {
   "cell_type": "code",
   "execution_count": 37,
   "metadata": {},
   "outputs": [],
   "source": [
    "df_selected = pd.DataFrame({'Participant_ID': np.arange(60), \n",
    "                            'Rotation': np.tile(['Sudden', 'Sudden', 'Gradual', 'Gradual'], 15),\n",
    "                            'Emphasis': np.tile(['Speed', 'Accuracy'], 30),\n",
    "                            'dual_selected_AIC': AIC_dual < AIC_single,\n",
    "                            'dual_selected_negll': df['dual_neg2ll'] < df['single_neg2ll']\n",
    "                           })"
   ]
  },
  {
   "cell_type": "code",
   "execution_count": 46,
   "metadata": {},
   "outputs": [],
   "source": [
    "df.to_csv('simplex_fits_startparam.csv')"
   ]
  },
  {
   "cell_type": "code",
   "execution_count": 23,
   "metadata": {},
   "outputs": [
    {
     "data": {
      "text/plain": [
       "<matplotlib.legend.Legend at 0x28e194c55b0>"
      ]
     },
     "execution_count": 23,
     "metadata": {},
     "output_type": "execute_result"
    },
    {
     "data": {
      "image/png": "[encoded data removed]",
      "text/plain": [
       "<Figure size 432x288 with 1 Axes>"
      ]
     },
     "metadata": {
      "needs_background": "light"
     },
     "output_type": "display_data"
    }
   ],
   "source": [
    "A = 0.99\n",
    "B = 0.01\n",
    "r_est_single = single_model_sudden(640, A, B)[1]\n",
    "r_est_dual = dual_model_sudden(640, A, B, 0.999999, 0.000001)[1]\n",
    "p1, = plt.plot(r_est_single)\n",
    "p2, = plt.plot(r_est_dual)\n",
    "plt.title('A = 0.99, B = 0.01, \\n Af = A, Bf = B, \\n As = 0.9999, Bs = 0.0001')\n",
    "plt.ylabel('Rotation Estimate')\n",
    "plt.xlabel('Trial')\n",
    "plt.legend(('Single State', 'Dual State'))"
   ]
  },
  {
   "cell_type": "code",
   "execution_count": 5,
   "metadata": {},
   "outputs": [],
   "source": [
    "A = [0.001, 0.01, 0.1, 0.5, 0.9]\n",
    "B = [0.001, 0.01, 0.1, 0.5, 0.9]\n",
    "sigma = [1, 0.5, 0.05]\n",
    "starting_points = np.array(np.meshgrid(A, B, sigma)).reshape(3, 5*5*3).T"
   ]
  },
  {
   "cell_type": "code",
   "execution_count": 7,
   "metadata": {},
   "outputs": [
    {
     "data": {
      "text/plain": [
       "array([[0.001, 0.001, 1.   ],\n",
       "       [0.001, 0.001, 0.5  ],\n",
       "       [0.001, 0.001, 0.05 ],\n",
       "       [0.01 , 0.001, 1.   ],\n",
       "       [0.01 , 0.001, 0.5  ],\n",
       "       [0.01 , 0.001, 0.05 ],\n",
       "       [0.1  , 0.001, 1.   ],\n",
       "       [0.1  , 0.001, 0.5  ],\n",
       "       [0.1  , 0.001, 0.05 ],\n",
       "       [0.5  , 0.001, 1.   ],\n",
       "       [0.5  , 0.001, 0.5  ],\n",
       "       [0.5  , 0.001, 0.05 ],\n",
       "       [0.9  , 0.001, 1.   ],\n",
       "       [0.9  , 0.001, 0.5  ],\n",
       "       [0.9  , 0.001, 0.05 ],\n",
       "       [0.001, 0.01 , 1.   ],\n",
       "       [0.001, 0.01 , 0.5  ],\n",
       "       [0.001, 0.01 , 0.05 ],\n",
       "       [0.01 , 0.01 , 1.   ],\n",
       "       [0.01 , 0.01 , 0.5  ],\n",
       "       [0.01 , 0.01 , 0.05 ],\n",
       "       [0.1  , 0.01 , 1.   ],\n",
       "       [0.1  , 0.01 , 0.5  ],\n",
       "       [0.1  , 0.01 , 0.05 ],\n",
       "       [0.5  , 0.01 , 1.   ],\n",
       "       [0.5  , 0.01 , 0.5  ],\n",
       "       [0.5  , 0.01 , 0.05 ],\n",
       "       [0.9  , 0.01 , 1.   ],\n",
       "       [0.9  , 0.01 , 0.5  ],\n",
       "       [0.9  , 0.01 , 0.05 ],\n",
       "       [0.001, 0.1  , 1.   ],\n",
       "       [0.001, 0.1  , 0.5  ],\n",
       "       [0.001, 0.1  , 0.05 ],\n",
       "       [0.01 , 0.1  , 1.   ],\n",
       "       [0.01 , 0.1  , 0.5  ],\n",
       "       [0.01 , 0.1  , 0.05 ],\n",
       "       [0.1  , 0.1  , 1.   ],\n",
       "       [0.1  , 0.1  , 0.5  ],\n",
       "       [0.1  , 0.1  , 0.05 ],\n",
       "       [0.5  , 0.1  , 1.   ],\n",
       "       [0.5  , 0.1  , 0.5  ],\n",
       "       [0.5  , 0.1  , 0.05 ],\n",
       "       [0.9  , 0.1  , 1.   ],\n",
       "       [0.9  , 0.1  , 0.5  ],\n",
       "       [0.9  , 0.1  , 0.05 ],\n",
       "       [0.001, 0.5  , 1.   ],\n",
       "       [0.001, 0.5  , 0.5  ],\n",
       "       [0.001, 0.5  , 0.05 ],\n",
       "       [0.01 , 0.5  , 1.   ],\n",
       "       [0.01 , 0.5  , 0.5  ],\n",
       "       [0.01 , 0.5  , 0.05 ],\n",
       "       [0.1  , 0.5  , 1.   ],\n",
       "       [0.1  , 0.5  , 0.5  ],\n",
       "       [0.1  , 0.5  , 0.05 ],\n",
       "       [0.5  , 0.5  , 1.   ],\n",
       "       [0.5  , 0.5  , 0.5  ],\n",
       "       [0.5  , 0.5  , 0.05 ],\n",
       "       [0.9  , 0.5  , 1.   ],\n",
       "       [0.9  , 0.5  , 0.5  ],\n",
       "       [0.9  , 0.5  , 0.05 ],\n",
       "       [0.001, 0.9  , 1.   ],\n",
       "       [0.001, 0.9  , 0.5  ],\n",
       "       [0.001, 0.9  , 0.05 ],\n",
       "       [0.01 , 0.9  , 1.   ],\n",
       "       [0.01 , 0.9  , 0.5  ],\n",
       "       [0.01 , 0.9  , 0.05 ],\n",
       "       [0.1  , 0.9  , 1.   ],\n",
       "       [0.1  , 0.9  , 0.5  ],\n",
       "       [0.1  , 0.9  , 0.05 ],\n",
       "       [0.5  , 0.9  , 1.   ],\n",
       "       [0.5  , 0.9  , 0.5  ],\n",
       "       [0.5  , 0.9  , 0.05 ],\n",
       "       [0.9  , 0.9  , 1.   ],\n",
       "       [0.9  , 0.9  , 0.5  ],\n",
       "       [0.9  , 0.9  , 0.05 ]])"
      ]
     },
     "execution_count": 7,
     "metadata": {},
     "output_type": "execute_result"
    }
   ],
   "source": [
    "starting_points"
   ]
  },
  {
   "cell_type": "code",
   "execution_count": null,
   "metadata": {},
   "outputs": [],
   "source": []
  }
 ],
 "metadata": {
  "kernelspec": {
   "display_name": "Python 3",
   "language": "python",
   "name": "python3"
  },
  "language_info": {
   "codemirror_mode": {
    "name": "ipython",
    "version": 3
   },
   "file_extension": ".py",
   "mimetype": "text/x-python",
   "name": "python",
   "nbconvert_exporter": "python",
   "pygments_lexer": "ipython3",
   "version": "3.8.5"
  }
 },
 "nbformat": 4,
 "nbformat_minor": 4
}
