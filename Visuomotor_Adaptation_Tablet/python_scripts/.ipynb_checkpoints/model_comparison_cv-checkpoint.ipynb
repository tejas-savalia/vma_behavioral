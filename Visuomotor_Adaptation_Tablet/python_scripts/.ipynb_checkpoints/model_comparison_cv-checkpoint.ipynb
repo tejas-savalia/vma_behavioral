{
 "cells": [
  {
   "cell_type": "code",
   "execution_count": 1,
   "metadata": {},
   "outputs": [],
   "source": [
    "import scipy.io\n",
    "import numpy as np\n",
    "import matplotlib.pyplot as plt\n",
    "from ipywidgets import interact, interactive, fixed, interact_manual\n",
    "import ipywidgets as widgets\n",
    "import scipy.stats as stat\n",
    "from sklearn.linear_model import LinearRegression\n",
    "import statsmodels.api as sm\n",
    "import statsmodels.formula.api as smf\n",
    "from scipy import stats\n",
    "import pickle\n",
    "from sklearn.metrics import *\n",
    "import pandas as pd\n",
    "import seaborn as sns\n",
    "import statsmodels\n",
    "from all_models import *"
   ]
  },
  {
   "cell_type": "code",
   "execution_count": 14,
   "metadata": {},
   "outputs": [],
   "source": [
    "curvatures_smooth = pickle.load(open('curvatures_smooth.pickle', 'rb'))/90.0"
   ]
  },
  {
   "cell_type": "code",
   "execution_count": 18,
   "metadata": {},
   "outputs": [],
   "source": [
    "fits_single = pickle.load(open('fit_single_CV_640.pickle', 'rb'))"
   ]
  },
  {
   "cell_type": "code",
   "execution_count": 19,
   "metadata": {},
   "outputs": [
    {
     "data": {
      "text/plain": [
       "-707.5820070178166"
      ]
     },
     "execution_count": 19,
     "metadata": {},
     "output_type": "execute_result"
    }
   ],
   "source": [
    "fits_single[0][0][-3]"
   ]
  },
  {
   "cell_type": "code",
   "execution_count": 20,
   "metadata": {},
   "outputs": [],
   "source": [
    "num_itr = 100\n",
    "\n",
    "num_trials = 704\n",
    "model_errors_dual = np.zeros((num_itr, 60, num_trials))\n",
    "model_errors_single = np.zeros((num_itr, 60, num_trials))\n",
    "model_errors_hybrid = np.zeros((num_itr, 60, num_trials))\n",
    "neg2ll_single = np.zeros((num_itr, 60))\n",
    "\n",
    "for i in range(num_itr):\n",
    "    for participant in range(60):\n",
    "        if participant%4 == 0 or participant%4 == 1:\n",
    "\n",
    "            #model_errors_dual[i][participant]  = dual_model_sudden(num_trials, fits_dual[i][participant][0], fits_dual[i][participant][1], fits_dual[i][participant][2], fits_dual[i][participant][3])[0]\n",
    "            model_errors_single[i][participant] = model_sudden(num_trials, fits_single[i][participant][0], fits_single[i][participant][1])[0]\n",
    "            train_indices = fits_single[i][participant][-1]\n",
    "            model_errors_single_train = np.take(model_errors_single[i][participant], train_indices[train_indices < 640])\n",
    "            data_errors_train = np.take(np.ravel(curvatures_smooth[participant][1:-1]), train_indices[train_indices < 640])\n",
    "            \n",
    "            neg2ll_single[i][participant] = -2*sum(stat.norm.logpdf(data_errors_train, model_errors_single_train, fits_single[i][participant][-2]))\n",
    "\n",
    "        \n",
    "        else:\n",
    "            \n",
    "            #model_errors_dual[i][participant] = dual_model_gradual(num_trials, fits_dual[i][participant][0], fits_dual[i][participant][1], fits_dual[i][participant][2], fits_dual[i][participant][3])[0]\n",
    "            model_errors_single[i][participant] = model_gradual(num_trials, fits_single[i][participant][0], fits_single[i][participant][1])[0]\n",
    "\n",
    "            #neg2ll_dual[i][participant] = -2*sum(stat.norm.logpdf(data_errors_train, model_errors_dual_train, fits_dual[i][participant][-2]))\n",
    "\n",
    "        "
   ]
  },
  {
   "cell_type": "code",
   "execution_count": 21,
   "metadata": {},
   "outputs": [
    {
     "data": {
      "text/plain": [
       "(-773.0808350832941, -707.5820070178166)"
      ]
     },
     "execution_count": 21,
     "metadata": {},
     "output_type": "execute_result"
    }
   ],
   "source": [
    "neg2ll_single[0][0], fits_single[0][0][-3]"
   ]
  }
 ],
 "metadata": {
  "kernelspec": {
   "display_name": "Python 3",
   "language": "python",
   "name": "python3"
  },
  "language_info": {
   "codemirror_mode": {
    "name": "ipython",
    "version": 3
   },
   "file_extension": ".py",
   "mimetype": "text/x-python",
   "name": "python",
   "nbconvert_exporter": "python",
   "pygments_lexer": "ipython3",
   "version": "3.8.5"
  }
 },
 "nbformat": 4,
 "nbformat_minor": 4
}
