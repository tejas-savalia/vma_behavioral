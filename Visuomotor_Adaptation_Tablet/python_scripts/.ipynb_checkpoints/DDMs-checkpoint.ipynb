{
 "cells": [
  {
   "cell_type": "code",
   "execution_count": 1,
   "metadata": {},
   "outputs": [],
   "source": [
    "import numpy as np\n",
    "import pandas as pd\n",
    "import matplotlib.pyplot as plt\n",
    "from ddm import Model, Sample\n",
    "from ddm import Model\n",
    "from ddm.models import DriftConstant, NoiseConstant, BoundConstant, OverlayNonDecision, ICRange\n",
    "from ddm.functions import fit_adjust_model, display_model\n",
    "from ddm import Fittable\n",
    "from ddm.models import LossRobustBIC, LossRobustLikelihood, LossSquaredError\n",
    "from ddm.functions import fit_adjust_model, fit_model\n",
    "import seaborn as sns\n",
    "import pickle\n",
    "import scipy.io\n"
   ]
  },
  {
   "cell_type": "code",
   "execution_count": 41,
   "metadata": {},
   "outputs": [],
   "source": [
    "df_errors = pd.read_csv('Curvature_Errors.csv')\n",
    "def fit_ddm_participant(participant):\n",
    "    incorrect_thresold = np.array([9/90, 15/90, 20/90, 30/90, 45/90])\n",
    "    model_fits_4param = np.zeros((12, len(incorrect_thresold)), dtype = object)\n",
    "    for block in range(12):\n",
    "        print(\"Participant: \", participant)\n",
    "        print(\"Block: \", block)\n",
    "        for ic in range(len(incorrect_thresold)):\n",
    "            df_rt = pd.read_csv('RTs.csv')            \n",
    "            df_rt['Correct'] = df_errors['Errors'] < incorrect_thresold[ic]            \n",
    "            df_rt = df_rt[df_rt['Participant_Id'] == participant]\n",
    "            df_rt = df_rt[df_rt[\"ITs\"] > .001]\n",
    "            df_rt = df_rt[df_rt[\"ITs\"] < 5]\n",
    "            df_rt = df_rt.drop(['Trial', 'Unnamed: 0', 'Participant_Id', 'Rotation', 'Emphasis', 'MTs'], axis = 1)\n",
    "\n",
    "            samp = Sample.from_pandas_dataframe(df_rt[df_rt['Block'] == block], rt_column_name=\"ITs\", correct_column_name=\"Correct\")\n",
    "            model_fit = Model(name='Simple model (fitted)',\n",
    "                          drift=DriftConstant(drift=Fittable(minval=-20, maxval=20)),\n",
    "                          noise=NoiseConstant(noise=Fittable(minval = 0, maxval = 5)),                      \n",
    "                          bound=BoundConstant(B=Fittable(minval = 0, maxval = 20)),\n",
    "                          overlay=OverlayNonDecision(nondectime=Fittable(minval = 0, maxval = 1)),\n",
    "                          dx=.001, dt=.01, T_dur=5)\n",
    "\n",
    "            try:\n",
    "                fit_adjust_model(samp, model_fit,\n",
    "                             fitting_method=\"differential_evolution\",\n",
    "                             lossfunction=LossRobustLikelihood, verbose=False)\n",
    "            except:\n",
    "                print (\"In except: \")\n",
    "                print (participant, block)\n",
    "            model_fits_4param[participant][block][ic] = model_fit\n",
    "    return model_fits_4param"
   ]
  },
  {
   "cell_type": "code",
   "execution_count": null,
   "metadata": {},
   "outputs": [],
   "source": [
    "res = np.zeros()"
   ]
  }
 ],
 "metadata": {
  "kernelspec": {
   "display_name": "Python 3",
   "language": "python",
   "name": "python3"
  },
  "language_info": {
   "codemirror_mode": {
    "name": "ipython",
    "version": 3
   },
   "file_extension": ".py",
   "mimetype": "text/x-python",
   "name": "python",
   "nbconvert_exporter": "python",
   "pygments_lexer": "ipython3",
   "version": "3.8.5"
  }
 },
 "nbformat": 4,
 "nbformat_minor": 4
}
