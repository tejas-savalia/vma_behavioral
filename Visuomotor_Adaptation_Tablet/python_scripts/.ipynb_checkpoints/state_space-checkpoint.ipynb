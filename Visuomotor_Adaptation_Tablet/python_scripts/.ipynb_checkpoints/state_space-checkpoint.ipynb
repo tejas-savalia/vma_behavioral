{
 "cells": [
  {
   "cell_type": "code",
   "execution_count": 58,
   "metadata": {},
   "outputs": [],
   "source": [
    "#%matplotlib notebook\n",
    "import numpy as np\n",
    "import matplotlib.pyplot as plt\n",
    "import scipy.io\n",
    "from ipywidgets import interact, interactive, fixed, interact_manual\n",
    "import ipywidgets as widgets\n",
    "import scipy.stats as stat\n",
    "from sklearn.linear_model import LinearRegression\n",
    "import statsmodels.api as sm\n",
    "import statsmodels.formula.api as smf\n",
    "from multiprocessing import Pool\n",
    "from scipy import stats\n",
    "import math\n",
    "from scipy.optimize import curve_fit\n",
    "from mpl_toolkits import mplot3d\n",
    "from scipy.ndimage import gaussian_filter1d\n",
    "import statsmodels.api as sm\n",
    "from statsmodels.formula.api import ols\n",
    "import itertools\n",
    "from workers import workers"
   ]
  },
  {
   "cell_type": "code",
   "execution_count": null,
   "metadata": {},
   "outputs": [],
   "source": []
  },
  {
   "cell_type": "markdown",
   "metadata": {},
   "source": [
    "## Base Model\n",
    "$e_n^{target} = (r_n - r_n^{est})$\n",
    "\n",
    "$r_{n+1}^{est} = Ar_n^{est} + Be_n^{target}$"
   ]
  },
  {
   "cell_type": "code",
   "execution_count": 34,
   "metadata": {},
   "outputs": [],
   "source": [
    "num_trials = 640\n",
    "def base_model_sudden(num_trials, A, B):\n",
    " #   A = np.exp(A)/(1 + np.exp(A))\n",
    " #   B = np.exp(B)/(1 + np.exp(B))\n",
    "    \n",
    "    errors = np.zeros((num_trials))\n",
    "    rotation = 90\n",
    "    rotation_est = 0\n",
    "    for trial in range(num_trials):\n",
    "        errors[trial] = rotation - rotation_est\n",
    "        #print(errors[trial])\n",
    "        rotation_est = A*rotation_est + B*errors[trial]\n",
    "        #print (rotation_est)\n",
    "    return errors\n",
    "\n",
    "def base_model_gradual(num_trials, A, B):\n",
    "#    A = np.exp(A)/(1 + np.exp(A))\n",
    "#    B = np.exp(B)/(1 + np.exp(B))\n",
    "    \n",
    "    errors = np.zeros((num_trials))\n",
    "    rotation_est = 0\n",
    "    rotation = 0\n",
    "    for trial in range(num_trials):\n",
    "        if trial%64 == 0:\n",
    "            rotation = rotation + 10\n",
    "        if rotation > 90:\n",
    "            rotation = 90\n",
    "        errors[trial] = rotation - rotation_est\n",
    "        #print(errors[trial])\n",
    "        rotation_est = A*rotation_est + B*errors[trial]\n",
    "        #print (rotation_est)\n",
    "    return errors"
   ]
  },
  {
   "cell_type": "code",
   "execution_count": 35,
   "metadata": {},
   "outputs": [],
   "source": [
    "def base_model_transfer(num_trials, A, B, learned_rotation):\n",
    " #   A = np.exp(A)/(1 + np.exp(A))\n",
    " #   B = np.exp(B)/(1 + np.exp(B))\n",
    "    \n",
    "    errors = np.zeros((num_trials))\n",
    "    rotation = 90 - learned_rotation\n",
    "    rotation_est = 0\n",
    "    for trial in range(num_trials):\n",
    "        errors[trial] = rotation - rotation_est\n",
    "        #print(errors[trial])\n",
    "        rotation_est = A*rotation_est + B*errors[trial]\n",
    "        #print (rotation_est)\n",
    "    return errors\n"
   ]
  },
  {
   "cell_type": "markdown",
   "metadata": {},
   "source": [
    "# Data\n",
    "## Curvatures"
   ]
  },
  {
   "cell_type": "code",
   "execution_count": 351,
   "metadata": {},
   "outputs": [],
   "source": [
    "def calc_angle(current_point, next_point, final_point):\n",
    "    #vec1 = next_point - current_point\n",
    "    vec1 = np.subtract(next_point, current_point)\n",
    "#    vec2 = final_point - current_point\n",
    "    vec2 = np.subtract(final_point, current_point)\n",
    "    vec1 = vec1.astype('float64')\n",
    "    vec2 = vec2.astype('float64')\n",
    "    cos_theta = np.dot(vec1, vec2)/(np.linalg.norm(vec1) * np.linalg.norm(vec2))\n",
    "    theta = np.degrees(np.arccos(cos_theta))\n",
    "    return theta\n",
    "\n",
    "def calc_curvature(data, block, trial, percentage_trajectory):\n",
    "    traj = scipy.io.loadmat('data/data{data}/actual_trajectories/trajectories{block}.mat'.format(block=str(block), data=str(data)))\n",
    "    trajx, trajy = traj['x'][0][trial][0], traj['y'][0][trial][0]\n",
    "    targetx, targety = trajx[-1], trajy[-1]\n",
    "    partial_trajx, partial_trajy = get_partial_traj(data, block, trial, percentage_trajectory)\n",
    "    #print (partial_trajx)\n",
    "    #print (partial_trajy)\n",
    "    angles = list([0])\n",
    "    #for i in range(len(partial_trajx[:-1])):\n",
    "        #print (trajx[i], trajy[i])\n",
    "    #    angles.append(calc_angle(np.array([partial_trajx[i], partial_trajy[i]]), np.array([partial_trajx[i+1], partial_trajy[i+1]]), np.array([trajx[-1], trajy[-1]])))\n",
    "    #return np.nanmedian(angles)\n",
    "    return calc_angle(np.array([partial_trajx[0], partial_trajy[0]]), np.array([partial_trajx[-1], partial_trajy[-1]]), np.array([trajx[-1], trajy[-1]]))\n",
    "\n",
    "def get_traj(data, block, trial):\n",
    "    traj = scipy.io.loadmat('data/data{data}/actual_trajectories/trajectories{block}.mat'.format(block=str(block), data=str(data)))\n",
    "    x_traj = traj['x'][0][trial][0]\n",
    "    y_traj = traj['y'][0][trial][0]\n",
    "    return x_traj, y_traj\n",
    "\n",
    "def get_partial_traj(data, block, trial, percentage_trajectory):\n",
    "    traj = get_traj(data, block, trial)\n",
    "    #dist_cutoff = percentage_trajectory*np.sqrt(traj[0][-1]**2 + traj[0][-1]**2, dtype = float)\n",
    "    #for i in range(len(traj[0])):\n",
    "        #dist_from_start = np.sqrt(traj[0][i]**2 + traj[1][i]**2, dtype = float)\n",
    "        #if dist_from_start > dist_cutoff:\n",
    "        #    break\n",
    "    i = int(len(traj[0])/2)\n",
    "    partial_trajx = traj[0][:i]\n",
    "    partial_trajy = traj[1][:i]\n",
    "        \n",
    "            \n",
    "    return partial_trajx, partial_trajy\n",
    "\n"
   ]
  },
  {
   "cell_type": "code",
   "execution_count": 331,
   "metadata": {},
   "outputs": [],
   "source": [
    "#def calc_curvature_wrapper(params):\n",
    "#    return calc_curvature(params[0], params[1], params[2], params[3])\n",
    "paramlist = list(itertools.product(range(1000, 1060), range(12), range(64), range(1, 2)))\n"
   ]
  },
  {
   "cell_type": "code",
   "execution_count": null,
   "metadata": {},
   "outputs": [],
   "source": []
  },
  {
   "cell_type": "code",
   "execution_count": 39,
   "metadata": {},
   "outputs": [],
   "source": [
    "from workers import workers\n",
    "\n",
    "\n",
    "if __name__ == '__main__':\n",
    "    pool = Pool()\n",
    "    res = np.reshape(np.array(pool.map(workers.calc_curvature_wrapper, paramlist)), (60, 12, 64))"
   ]
  },
  {
   "cell_type": "code",
   "execution_count": 40,
   "metadata": {},
   "outputs": [],
   "source": [
    "curvatures = res"
   ]
  },
  {
   "cell_type": "code",
   "execution_count": 352,
   "metadata": {},
   "outputs": [
    {
     "name": "stderr",
     "output_type": "stream",
     "text": [
      "C:\\Users\\Tejas\\Anaconda3\\lib\\site-packages\\ipykernel_launcher.py:8: RuntimeWarning: invalid value encountered in double_scalars\n",
      "  \n"
     ]
    },
    {
     "name": "stdout",
     "output_type": "stream",
     "text": [
      "0\n"
     ]
    },
    {
     "name": "stderr",
     "output_type": "stream",
     "text": [
      "C:\\Users\\Tejas\\Anaconda3\\lib\\site-packages\\ipykernel_launcher.py:9: RuntimeWarning: invalid value encountered in arccos\n",
      "  if __name__ == '__main__':\n"
     ]
    },
    {
     "name": "stdout",
     "output_type": "stream",
     "text": [
      "10\n",
      "20\n",
      "30\n",
      "40\n",
      "50\n"
     ]
    }
   ],
   "source": [
    "curvatures = np.zeros((60, 12, 64))\n",
    "for data in range(60):\n",
    "    for block in range(12):\n",
    "#        curvatures[data][blocl][trial] = calc_curvature(data+1000, block, range(64), 1)\n",
    "        for trial in range(64):\n",
    "            curvatures[data][block][trial] = calc_curvature(data+1000, block, trial, 0.5)\n",
    "    if data%10 == 0:\n",
    "        print (data)"
   ]
  },
  {
   "cell_type": "code",
   "execution_count": 353,
   "metadata": {},
   "outputs": [
    {
     "data": {
      "text/plain": [
       "array([[[6.53036099e-02, 3.79134430e+00, 1.46327034e+01, ...,\n",
       "         2.36877856e+00, 1.14898948e+00, 6.01371999e-01],\n",
       "        [7.18312723e+00, 8.84226124e+01, 1.73226903e+02, ...,\n",
       "         5.92339309e+01, 5.13147782e+01, 3.86255404e+01],\n",
       "        [9.64576145e+01, 9.77870180e+01, 1.67808156e+01, ...,\n",
       "         9.35480870e+01, 3.29060506e+01, 3.89508280e+01],\n",
       "        ...,\n",
       "        [4.07469846e+01, 1.33502268e+02, 3.16610199e+01, ...,\n",
       "         1.52546206e+01, 3.79924926e+01, 1.23389430e+02],\n",
       "        [4.87121612e+01, 3.18143420e+01, 2.37576868e+01, ...,\n",
       "         1.96231575e+01, 1.49943030e+02, 1.58111869e+02],\n",
       "        [7.40787987e+01, 3.51619776e+01, 1.78244408e+02, ...,\n",
       "         4.53359805e+00, 2.06569352e+00, 3.01721510e+00]],\n",
       "\n",
       "       [[2.79850965e+00, 5.62752004e+00, 2.75910766e+00, ...,\n",
       "         6.23416735e-01, 4.37602807e+00, 9.55376525e-01],\n",
       "        [2.80838987e+01, 5.60912265e+01, 6.56301359e+01, ...,\n",
       "         2.53996944e+01, 2.98065228e+01, 3.18171952e+01],\n",
       "        [4.51185155e+00, 3.31119715e+01, 2.14244996e+01, ...,\n",
       "         2.78334974e+01, 2.13362577e+01, 2.29221282e+01],\n",
       "        ...,\n",
       "        [4.59629872e+00, 2.22678312e+00, 2.68003696e-01, ...,\n",
       "         2.06321538e+01, 6.47582345e+00, 4.29801364e+00],\n",
       "        [1.60983765e+01, 1.43556970e+01, 5.56518750e+00, ...,\n",
       "         6.49061944e+00, 9.97096247e+00, 4.05199303e+01],\n",
       "        [6.71847127e+00, 2.46446682e+01, 4.32888116e+01, ...,\n",
       "         2.61384219e+01, 2.80756853e+01, 3.26931055e+01]],\n",
       "\n",
       "       [[9.94483086e-01, 2.98117594e-01, 2.35950564e+00, ...,\n",
       "         3.52454829e+00, 3.03076967e-01, 3.61838772e+00],\n",
       "        [2.12429547e-01, 1.01697803e+00, 1.11288692e+01, ...,\n",
       "         4.81297130e+00, 2.01459879e+00, 1.78630499e+01],\n",
       "        [2.16413623e+01, 8.67148153e+00, 3.22968549e-01, ...,\n",
       "         4.82427212e+00, 1.39936204e+00, 1.26726114e+00],\n",
       "        ...,\n",
       "        [2.64136019e+01, 1.69245638e+01, 1.68580838e+01, ...,\n",
       "         1.49860183e+01, 1.35698242e+01, 1.41704396e+01],\n",
       "        [1.64074950e+01, 1.68482955e+01, 2.31443585e+01, ...,\n",
       "         1.64109301e+01, 1.10666019e+01, 1.46050298e+01],\n",
       "        [3.22722319e+01, 3.48516488e+01, 5.16562390e+01, ...,\n",
       "         4.16132214e+01, 2.91739366e+01, 3.57913450e+01]],\n",
       "\n",
       "       ...,\n",
       "\n",
       "       [[3.84285331e-01, 3.21527184e+00, 1.02268997e+00, ...,\n",
       "         1.67149215e-01, 9.56075395e-01, 1.91970609e+00],\n",
       "        [9.21724103e+01, 1.74531592e+02, 9.45270182e+01, ...,\n",
       "         6.92640026e-01, 1.52344635e+02, 3.46182225e+00],\n",
       "        [1.57375535e+02, 1.46321723e+02, 1.62722006e+02, ...,\n",
       "         1.74215015e+00, 7.09971689e-01, 9.76395357e-01],\n",
       "        ...,\n",
       "        [7.15931965e-01, 2.96104258e+00, 3.34024741e+00, ...,\n",
       "         2.62606678e+00, 8.77837270e+01, 5.54444325e-01],\n",
       "        [1.17160150e+00, 1.73553155e+00, 4.10112629e+00, ...,\n",
       "         4.84487348e-01, 1.08395851e+00, 1.51370980e+00],\n",
       "        [           nan, 5.58321612e-02, 3.48428137e-01, ...,\n",
       "         4.73445122e-01, 3.12541592e+00, 2.27261157e+00]],\n",
       "\n",
       "       [[1.94943454e+01, 1.69076168e+02, 4.51127556e+01, ...,\n",
       "         1.32883721e+00, 1.09135049e+01, 5.19114680e+00],\n",
       "        [2.10118874e+01, 1.52865613e+01, 7.15578586e+00, ...,\n",
       "         4.21961125e+00, 2.07079430e+00,            nan],\n",
       "        [2.45106157e+01, 5.97027952e+00, 3.71395536e+00, ...,\n",
       "         8.33976274e+00, 4.21475712e-01, 7.26837496e+00],\n",
       "        ...,\n",
       "        [2.44442918e+01, 2.74536639e+01, 1.87858956e+01, ...,\n",
       "         6.04277021e-01, 2.29272589e+01, 6.28006711e+00],\n",
       "        [2.81205284e+01, 1.53394971e+01, 1.54827222e+01, ...,\n",
       "         2.76895304e+00, 1.10970588e+01, 1.00164623e+01],\n",
       "        [3.61893511e+01, 7.62186800e-01, 3.11183626e+01, ...,\n",
       "         2.90691060e+01, 2.17204381e+01, 1.49858088e+01]],\n",
       "\n",
       "       [[6.93835415e-01, 6.98331156e+00, 1.29948966e+00, ...,\n",
       "         1.54537459e+00, 1.69536320e+00, 4.72080748e-01],\n",
       "        [2.32172074e+00, 4.85581318e+00, 4.69252729e+00, ...,\n",
       "         4.44699898e-01, 4.69062966e+00, 2.07232454e+00],\n",
       "        [1.00815278e+01, 2.92682127e+00, 5.64992529e+00, ...,\n",
       "         2.37076433e+00, 5.76725305e+00, 8.74310737e-01],\n",
       "        ...,\n",
       "        [1.33134352e+01, 2.31431093e-01, 1.46411666e+00, ...,\n",
       "         1.05844926e+01, 1.99061108e+00, 1.30938547e+01],\n",
       "        [2.56636536e+01, 2.36420650e+00, 4.27440621e+00, ...,\n",
       "         4.66641680e+00, 5.40510187e-01, 9.26762660e-01],\n",
       "        [1.16033782e+01, 1.55594678e+01, 6.65631287e+00, ...,\n",
       "         2.53916195e+01, 1.57995649e+01, 1.88369477e+01]]])"
      ]
     },
     "execution_count": 353,
     "metadata": {},
     "output_type": "execute_result"
    }
   ],
   "source": [
    "curvatures"
   ]
  },
  {
   "cell_type": "code",
   "execution_count": null,
   "metadata": {},
   "outputs": [],
   "source": []
  },
  {
   "cell_type": "code",
   "execution_count": null,
   "metadata": {},
   "outputs": [],
   "source": []
  },
  {
   "cell_type": "code",
   "execution_count": null,
   "metadata": {},
   "outputs": [],
   "source": [
    "def residuals_base_sudden(params, num_trials, data_errors):\n",
    "#   model_errors = base_model_sudden(num_trials, params[0], params[1])\n",
    "    model_errors = base_model_sudden(num_trials, params[0], params[1])\n",
    "    residual_error = np.sum(np.square(model_errors - data_errors))\n",
    "    #if params[0] > params[2]:\n",
    "    #    residual_error = residual_error + 1000000\n",
    "    #if params[1] < params[3]:\n",
    "    #    residual_error = residual_error + 1000000\n",
    "    if params[0] < 0 or params[1] < 0:# or params[2] < 0 or params[3] < 0:\n",
    "        residual_error = residual_error + 1000000\n",
    "    return residual_error\n",
    "\n",
    "def residuals_base_gradual(params, num_trials, data_errors):\n",
    "#   model_errors = base_model_sudden(num_trials, params[0], params[1])\n",
    "    model_errors = base_model_gradual(num_trials, params[0], params[1])\n",
    "    residual_error = np.sum(np.square(model_errors - data_errors))\n",
    "    #if params[0] > params[2]:\n",
    "    #    residual_error = residual_error + 1000000\n",
    "    #if params[1] < params[3]:\n",
    "    #    residual_error = residual_error + 1000000\n",
    "    if params[0] < 0 or params[1] < 0:# or params[2] < 0 or params[3] < 0:\n",
    "        residual_error = residual_error + 1000000\n",
    "    return residual_error"
   ]
  },
  {
   "cell_type": "code",
   "execution_count": null,
   "metadata": {},
   "outputs": [],
   "source": [
    "def minimize_parallel(args):\n",
    "    f,x,a,stepsize = args\n",
    "    res = scipy.optimize.basinhopping(f, x, minimizer_kwargs=a, stepsize = stepsize)\n",
    "    return res\n"
   ]
  },
  {
   "cell_type": "code",
   "execution_count": null,
   "metadata": {},
   "outputs": [],
   "source": [
    "#Divide the whole thing into 16 trial blocks and fit them\n",
    "def run_fits(curvatures, num_trials, part_size, first):\n",
    "    num_parts = int((num_trials-first)/part_size)\n",
    "    fit_A = np.zeros((60, num_parts))\n",
    "    fit_B = np.zeros((60, num_parts))\n",
    "    fit_V = np.full((60, num_parts), np.inf)\n",
    "    fit_success = np.zeros((60, num_parts))\n",
    "    fit_num = 0\n",
    "    #starting_points = np.array([[0.5, 0.6], [0.4, 0.7], [0.3, 0.8], [0.2, 0.9], [0.1, 0.99], [0.9, 0.2], [0.99, 0.1], [0.8, 0.3], [0.7, 0.4], [0.6, 0.5]])\n",
    "    \n",
    "    #A = np.log(params[0]/(1-params[0]))\n",
    "    #B = np.log(params[1]/(1-params[1]))\n",
    "\n",
    "#    starting_points = np.array([[np.log(0.999/(1 - 0.999)), np.log(0.002/(1 - 0.002))]])\n",
    "    starting_points = np.array([[0.999, 0.002]])\n",
    "\n",
    "    for curr_trial in range(first, num_trials, part_size):\n",
    "        for participant in range(60):\n",
    "            for initial_point in starting_points:\n",
    "                if participant%4 == 0 or participant%4 == 1:\n",
    "                #print (np.nan_to_num(np.ravel(curvatures[participant])[first:first+part_size], nan = np.nanmedian(np.ravel(curvatures[participant])[first:first+part_size])))\n",
    "                #popt, pcov = curve_fit(base_model_sudden, part_size, np.nan_to_num(np.ravel(curvatures[participant])[curr_trial:curr_trial+part_size], nan = np.nanmedian(np.ravel(curvatures[participant])[curr_trial:curr_trial+part_size])), bounds=((0, 0), (1, np.inf)))\n",
    "                    #fits = scipy.optimize.minimize(residuals_base_sudden, x0 = [initial_point[0], initial_point[1]], args = (part_size, np.nan_to_num(np.ravel(curvatures[participant])[curr_trial:curr_trial+part_size], nan = np.nanmedian(np.ravel(curvatures[participant])[curr_trial:curr_trial+part_size]))), method = 'Nelder-Mead')\n",
    "                    fits = minimize_parallel([residuals_base_sudden, [initial_point[0], initial_point[1]], {'args': (part_size, np.nan_to_num(np.ravel(curvatures[participant])[curr_trial:curr_trial+part_size], nan = np.nanmedian(np.ravel(curvatures[participant])[curr_trial:curr_trial+part_size]))), 'method': 'Nelder-Mead'}, 0.05])\n",
    "#                    fits = scipy.optimize.basinhopping(residuals_base_sudden, x0 = [initial_point[0], initial_point[1]], minimizer_kwargs={'args': (part_size, np.nan_to_num(np.ravel(curvatures[participant])[curr_trial:curr_trial+part_size], nan = np.nanmedian(np.ravel(curvatures[participant])[curr_trial:curr_trial+part_size]))), 'method': 'Nelder-Mead'}, stepsize=0.05)\n",
    "                    \n",
    "                    if fits.fun < fit_V[participant][fit_num]:\n",
    "                        fit_A[participant][fit_num] = fits.x[0]\n",
    "                        fit_B[participant][fit_num] = fits.x[1]\n",
    "                        fit_V[participant][fit_num] = fits.fun\n",
    "                        #fit_success[participant][fit_num] = fits.success   \n",
    "                    print (fits.fun)\n",
    "                else:\n",
    "                    #popt, pcov = curve_fit(base_model_gradual, part_size, np.nan_to_num(np.ravel(curvatures[participant])[curr_trial:curr_trial+part_size], nan = np.nanmedian(np.ravel(curvatures[participant])[curr_trial:curr_trial+part_size])), bounds=((0, 0), (1, np.inf)))\n",
    "                    #fits = scipy.optimize.minimize(residuals_base_gradual, x0 = [initial_point[0], initial_point[1]], args = (part_size, np.nan_to_num(np.ravel(curvatures[participant])[curr_trial:curr_trial+part_size], nan = np.nanmedian(np.ravel(curvatures[participant])[curr_trial:curr_trial+part_size]))), method = 'Nelder-Mead')\n",
    "                    fits = scipy.optimize.basinhopping(residuals_base_gradual, x0 = [initial_point[0], initial_point[1]], minimizer_kwargs={'args': (part_size, np.nan_to_num(np.ravel(curvatures[participant])[curr_trial:curr_trial+part_size], nan = np.nanmedian(np.ravel(curvatures[participant])[curr_trial:curr_trial+part_size]))), 'method': 'Nelder-Mead'})\n",
    "                    \n",
    "                    if fits.fun < fit_V[participant][fit_num]:\n",
    "                        fit_A[participant][fit_num] = fits.x[0]\n",
    "                        fit_B[participant][fit_num] = fits.x[1]\n",
    "                        fit_V[participant][fit_num] = fits.fun\n",
    "                        #fit_success[participant][fit_num] = fits.success\n",
    "                    print (fits.fun)\n",
    "\n",
    "        fit_num = fit_num + 1\n",
    "    return fit_A, fit_B, fit_V, fit_success\n",
    "        "
   ]
  },
  {
   "cell_type": "code",
   "execution_count": 355,
   "metadata": {},
   "outputs": [
    {
     "data": {
      "text/plain": [
       "(60, 12, 64)"
      ]
     },
     "execution_count": 355,
     "metadata": {},
     "output_type": "execute_result"
    }
   ],
   "source": [
    "curvatures_smooth = gaussian_filter1d(curvatures, 2)\n",
    "np.shape(curvatures_smooth)"
   ]
  },
  {
   "cell_type": "code",
   "execution_count": null,
   "metadata": {},
   "outputs": [],
   "source": [
    "fit_A, fit_B, fit_V, fit_success = run_fits(curvatures_smooth, 704, 640, 64)"
   ]
  },
  {
   "cell_type": "code",
   "execution_count": null,
   "metadata": {},
   "outputs": [],
   "source": []
  },
  {
   "cell_type": "code",
   "execution_count": null,
   "metadata": {},
   "outputs": [],
   "source": []
  },
  {
   "cell_type": "code",
   "execution_count": null,
   "metadata": {},
   "outputs": [],
   "source": []
  },
  {
   "cell_type": "code",
   "execution_count": null,
   "metadata": {},
   "outputs": [],
   "source": [
    "#Divide the whole thing into 16 trial blocks and fit them\n",
    "def run_fits_transfer(curvatures, num_trials, part_size, first):\n",
    "    num_parts = int((num_trials-first)/part_size)\n",
    "    fit_A = np.zeros((60, num_parts))\n",
    "    fit_B = np.zeros((60, num_parts))\n",
    "    fit_V = np.full((60, num_parts), np.inf)\n",
    "    fit_success = np.zeros((60, num_parts))\n",
    "    fit_num = 0\n",
    "    #starting_points = np.array([[0.5, 0.6], [0.4, 0.7], [0.3, 0.8], [0.2, 0.9], [0.1, 0.99], [0.9, 0.2], [0.99, 0.1], [0.8, 0.3], [0.7, 0.4], [0.6, 0.5]])\n",
    "    \n",
    "    #A = np.log(params[0]/(1-params[0]))\n",
    "    #B = np.log(params[1]/(1-params[1]))\n",
    "\n",
    "#    starting_points = np.array([[np.log(0.999/(1 - 0.999)), np.log(0.002/(1 - 0.002))]])\n",
    "    starting_points = np.array([[0.999, 0.002]])\n",
    "\n",
    "    for curr_trial in range(first, num_trials, part_size):\n",
    "        for participant in range(60):\n",
    "            for initial_point in starting_points:\n",
    "                fits = scipy.optimize.basinhopping(residuals_base_sudden, x0 = [initial_point[0], initial_point[1]], minimizer_kwargs={'args': (part_size, np.nan_to_num(np.ravel(curvatures[participant])[curr_trial:curr_trial+part_size], nan = np.nanmedian(np.ravel(curvatures[participant])[curr_trial:curr_trial+part_size]))), 'method': 'Nelder-Mead'}, stepsize=0.05)\n",
    "                if fits.fun < fit_V[participant][fit_num]:\n",
    "                    fit_A[participant][fit_num] = fits.x[0]\n",
    "                    fit_B[participant][fit_num] = fits.x[1]\n",
    "                    fit_V[participant][fit_num] = fits.fun\n",
    "                    #fit_success[participant][fit_num] = fits.success   \n",
    "                print (fits.fun)\n",
    "                #popt, pcov = curve_fit(base_model_gradual, part_size, np.nan_to_num(np.ravel(curvatures[participant])[curr_trial:curr_trial+part_size], nan = np.nanmedian(np.ravel(curvatures[participant])[curr_trial:curr_trial+part_size])), bounds=((0, 0), (1, np.inf)))\n",
    "                #fits = scipy.optimize.minimize(residuals_base_gradual, x0 = [initial_point[0], initial_point[1]], args = (part_size, np.nan_to_num(np.ravel(curvatures[participant])[curr_trial:curr_trial+part_size], nan = np.nanmedian(np.ravel(curvatures[participant])[curr_trial:curr_trial+part_size]))), method = 'Nelder-Mead')\n",
    "#                fits = scipy.optimize.basinhopping(residuals_base_gradual, x0 = [initial_point[0], initial_point[1]], minimizer_kwargs={'args': (part_size, np.nan_to_num(np.ravel(curvatures[participant])[curr_trial:curr_trial+part_size], nan = np.nanmedian(np.ravel(curvatures[participant])[curr_trial:curr_trial+part_size]))), 'method': 'Nelder-Mead'})#\n",
    "\n",
    "#                if fits.fun < fit_V[participant][fit_num]:\n",
    "#                    fit_A[participant][fit_num] = fits.x[0]\n",
    "#                    fit_B[participant][fit_num] = fits.x[1]\n",
    "#                    fit_V[participant][fit_num] = fits.fun\n",
    "                    #fit_success[participant][fit_num] = fits.success\n",
    "#                print (fits.fun)\n",
    "\n",
    "        fit_num = fit_num + 1\n",
    "    return fit_A, fit_B, fit_V, fit_success\n",
    "        "
   ]
  },
  {
   "cell_type": "code",
   "execution_count": null,
   "metadata": {},
   "outputs": [],
   "source": [
    "fit_transfer_A, fit_transfer_B, fit_transfer_V, fit_transfer_success = run_fits_transfer(curvatures_smooth, 768, 64, 704)"
   ]
  },
  {
   "cell_type": "code",
   "execution_count": null,
   "metadata": {},
   "outputs": [],
   "source": []
  },
  {
   "cell_type": "code",
   "execution_count": null,
   "metadata": {},
   "outputs": [],
   "source": []
  },
  {
   "cell_type": "code",
   "execution_count": null,
   "metadata": {},
   "outputs": [],
   "source": [
    "def plot_fits(fit_A, fit_B, x_label, y_label):\n",
    "    x = np.array([np.nanmean(fit_A[0::4, :], axis = 0), np.nanmean(fit_A[1::4, :], axis = 0), np.nanmean(fit_A[2::4, :], axis = 0), np.nanmean(fit_A[3::4, :], axis = 0)])\n",
    "    y = np.array([np.nanmean(fit_B[0::4, :], axis = 0), np.nanmean(fit_B[1::4, :], axis = 0), np.nanmean(fit_B[2::4, :], axis = 0), np.nanmean(fit_B[3::4, :], axis = 0)])\n",
    "    x_err = np.array([stat.sem(fit_A[0::4, :], axis = 0), stat.sem(fit_A[1::4, :], axis = 0), stat.sem(fit_A[2::4, :], axis = 0), stat.sem(fit_A[3::4, :], axis = 0)])\n",
    "    y_err = np.array([stat.sem(fit_B[0::4, :], axis = 0), stat.sem(fit_B[1::4, :], axis = 0), stat.sem(fit_B[2::4, :], axis = 0), stat.sem(fit_B[3::4, :], axis = 0)])\n",
    "    #x_err = np.array([stat.tstd(fit_A[0::4, :], axis = 0), stat.tstd(fit_A[1::4, :], axis = 0), stat.tstd(fit_A[2::4, :], axis = 0), stat.tstd(fit_A[3::4, :], axis = 0)])\n",
    "    #y_err = np.array([stat.tstd(fit_B[0::4, :], axis = 0), stat.tstd(fit_B[1::4, :], axis = 0), stat.tstd(fit_B[2::4, :], axis = 0), stat.tstd(fit_B[3::4, :], axis = 0)])\n",
    "\n",
    "    #x_conf_interval = np.array(stat.norm.interval(0.83, loc = x, scale = x_err))\n",
    "    #y_conf_interval = np.array(stat.norm.interval(0.83, loc = y, scale = y_err))\n",
    "    x_CI = x - np.array(stat.norm.interval(0.95, loc = x, scale = x_err))[0, :], np.array(stat.norm.interval(0.95, loc = x, scale = x_err))[1, :] - x\n",
    "    y_CI = y - np.array(stat.norm.interval(0.95, loc = y, scale = y_err))[0, :], np.array(stat.norm.interval(0.95, loc = y, scale = y_err))[1, :] - y\n",
    "\n",
    "\n",
    "    #print (x_conf_interval[:, 0])\n",
    "    #plt.errorbar(x, y, xerr = x_err, yerr = y_err, linestyle = 'None', capsize = 3)\n",
    "    plot0 = plt.errorbar(x[0], y[0], xerr = [x_CI[0][0], x_CI[1][0]], yerr = [y_CI[0][0], y_CI[1][0]], capsize = 3)\n",
    "    plot1 = plt.errorbar(x[1], y[1], xerr = [x_CI[0][1], x_CI[1][1]], yerr = [y_CI[0][1], y_CI[1][1]], capsize = 3)\n",
    "    plot2 = plt.errorbar(x[2], y[2], xerr = [x_CI[0][2], x_CI[1][2]], yerr = [y_CI[0][2], y_CI[1][2]], capsize = 3)\n",
    "    plot3 = plt.errorbar(x[3], y[3], xerr = [x_CI[0][3], x_CI[1][3]], yerr = [y_CI[0][3], y_CI[1][3]], capsize = 3)\n",
    "\n",
    "    #plot0 = plt.scatter(fit_A[0::4], fit_B[0::4])\n",
    "    #plot1 = plt.scatter(fit_A[1::4], fit_B[1::4])\n",
    "    #plot2 = plt.scatter(fit_A[2::4], fit_B[2::4])\n",
    "    #plot3 = plt.scatter(fit_A[3::4], fit_B[3::4])\n",
    "\n",
    "    plt.legend((plot0, plot1, plot2, plot3), ('Sudden Speed', 'Sudden Accuracy', 'Gradual Speed', 'Gradual Accuracy'))\n",
    "    plt.xlabel(x_label)\n",
    "    plt.ylabel(y_label)"
   ]
  },
  {
   "cell_type": "code",
   "execution_count": null,
   "metadata": {},
   "outputs": [],
   "source": [
    "plot_fits(Af, Bf, \"A Fast\", \"B Fast\")"
   ]
  },
  {
   "cell_type": "code",
   "execution_count": null,
   "metadata": {},
   "outputs": [],
   "source": [
    "plot_fits(As, Bs, \"A slow\", \"B slow\")"
   ]
  },
  {
   "cell_type": "code",
   "execution_count": null,
   "metadata": {},
   "outputs": [],
   "source": [
    "plot_fits(fit_transfer_A, fit_transfer_B)"
   ]
  },
  {
   "cell_type": "code",
   "execution_count": null,
   "metadata": {},
   "outputs": [],
   "source": [
    "def plot_collapsed_across_rotation_fits(fit_A, fit_B, x_label, y_label):\n",
    "    x = np.array([np.mean(np.concatenate((fit_A[0::4], fit_A[1::4])), axis = 0),np.mean(np.concatenate((fit_A[2::4], fit_A[3::4])), axis = 0)])\n",
    "    y = np.array([np.mean(np.concatenate((fit_B[0::4], fit_B[1::4])), axis = 0),np.mean(np.concatenate((fit_B[2::4], fit_B[3::4])), axis = 0)])\n",
    "    x_err = np.array([stat.sem(np.concatenate((fit_A[0::4], fit_A[1::4])), axis = 0),stat.sem(np.concatenate((fit_A[2::4], fit_A[3::4])), axis = 0)])\n",
    "    y_err = np.array([stat.sem(np.concatenate((fit_B[0::4], fit_B[1::4])), axis = 0), stat.sem(np.concatenate((fit_B[2::4], fit_B[3::4])), axis = 0)])\n",
    "    #x_err = np.array([stat.tstd(np.concatenate((fit_A[0::4], fit_A[1::4])), axis = 0),stat.tstd(np.concatenate((fit_A[2::4], fit_A[3::4])), axis = 0)])\n",
    "    #y_err = np.array([stat.tstd(np.concatenate((fit_B[0::4], fit_B[1::4])), axis = 0), stat.tstd(np.concatenate((fit_B[2::4], fit_B[3::4])), axis = 0)])\n",
    "\n",
    "    x_CI = x - np.array(stat.norm.interval(0.95, loc = x, scale = x_err))[0, :], np.array(stat.norm.interval(0.95, loc = x, scale = x_err))[1, :] - x\n",
    "    y_CI = y - np.array(stat.norm.interval(0.95, loc = y, scale = y_err))[0, :], np.array(stat.norm.interval(0.95, loc = y, scale = y_err))[1, :] - y\n",
    "\n",
    "    #x_conf_interval = np.array(stat.norm.interval(0.95, loc = x, scale = x_err))\n",
    "    #y_conf_interval = np.array(stat.norm.interval(0.95, loc = y, scale = y_err))\n",
    "    #plt.errorbar(x, y, xerr = x_err, yerr = y_err, linestyle = 'None', capsize = 3)\n",
    "    #plot0 = plt.errorbar(x[0], y[0], xerr = x_err[0], yerr = y_err[0], capsize = 3)\n",
    "    #plot0 = plt.scatter(np.concatenate((fit_A[0::4], fit_A[1::4])), np.concatenate((fit_B[0::4], fit_B[1::4])))\n",
    "\n",
    "    #plot1 = plt.errorbar(x[1], y[1], xerr = x_err[1], yerr = y_err[1], capsize = 3)\n",
    "    #plot1 = plt.scatter(np.concatenate((fit_A[2::4], fit_A[3::4])), np.concatenate((fit_B[2::4], fit_B[3::4])))\n",
    "    plot0 = plt.errorbar(x[0], y[0], xerr = [x_CI[0][0], x_CI[1][0]], yerr = [y_CI[0][0], y_CI[1][0]], capsize = 3)\n",
    "    plot1 = plt.errorbar(x[1], y[1], xerr = [x_CI[0][1], x_CI[1][1]], yerr = [y_CI[0][1], y_CI[1][1]], capsize = 3)\n",
    "\n",
    "    #plot0 = plt.errorbar(x[0], y[0], xerr = x_conf_interval[:, 0], yerr = y_conf_interval[:, 0], capsize = 3)\n",
    "    #plot1 = plt.errorbar(x[1], y[1], xerr = x_conf_interval[:, 1], yerr = y_conf_interval[:, 1], capsize = 3)\n",
    "    #plot2 = plt.errorbar(x[2], y[2], xerr = x_conf_interval[:, 2], yerr = y_conf_interval[:, 2], capsize = 3)\n",
    "    #plot3 = plt.errorbar(x[3], y[3], xerr = x_conf_interval[:, 3], yerr = y_conf_interval[:, 3], capsize = 3)\n",
    "\n",
    "    plt.legend((plot0, plot1), ('Sudden', 'Gradual'))\n",
    "    plt.xlabel(x_label)\n",
    "    plt.ylabel(y_label)"
   ]
  },
  {
   "cell_type": "code",
   "execution_count": null,
   "metadata": {},
   "outputs": [],
   "source": [
    "plot_collapsed_across_emphasis_fits(Af, Bf, \"A fast\", \"B fast\")"
   ]
  },
  {
   "cell_type": "code",
   "execution_count": null,
   "metadata": {},
   "outputs": [],
   "source": [
    "plot_collapsed_across_emphasis_fits(fit_transfer_A, fit_transfer_B)"
   ]
  },
  {
   "cell_type": "code",
   "execution_count": null,
   "metadata": {},
   "outputs": [],
   "source": [
    "def plot_collapsed_across_emphasis_fits(fit_A, fit_B, x_label, y_label):\n",
    "    x = np.array([np.nanmean(fit_A[0::2, :], axis = 0), np.nanmean(fit_A[1::2, :], axis = 0)])#, np.nanmean(fit_A[2::4, :], axis = 0), np.nanmean(fit_A[3::4, :], axis = 0)])\n",
    "    y = np.array([np.nanmean(fit_B[0::2, :], axis = 0), np.nanmean(fit_B[1::2, :], axis = 0)])#, np.nanmean(fit_B[2::4, :], axis = 0), np.nanmean(fit_B[3::4, :], axis = 0)])\n",
    "\n",
    "    #x = np.array([np.nanmean(fit_A[0::2, :] - fit_A[1::2, :], axis = 0)])#, np.nanmean(fit_A[1::2, :], axis = 0)])#, np.nanmean(fit_A[2::4, :], axis = 0), np.nanmean(fit_A[3::4, :], axis = 0)])\n",
    "    #y = np.array([np.nanmean(fit_B[0::2, :] - fit_B[1::2, :], axis = 0)])#, np.nanmean(fit_B[1::2, :], axis = 0)])#, np.nanmean(fit_B[2::4, :], axis = 0), np.nanmean(fit_B[3::4, :], axis = 0)])\n",
    "\n",
    "    x_err = np.array([stat.sem(fit_A[0::2, :], axis = 0), stat.sem(fit_A[1::2, :], axis = 0)])#, stat.sem(fit_A[2::4, :], axis = 0), stat.sem(fit_A[3::4, :], axis = 0)])\n",
    "    y_err = np.array([stat.sem(fit_B[0::2, :], axis = 0), stat.sem(fit_B[1::2, :], axis = 0)])#, stat.sem(fit_B[2::4, :], axis = 0), stat.sem(fit_B[3::4, :], axis = 0)])\n",
    "\n",
    "    #x_err = np.array([stat.tstd(fit_A[0::2, :], axis = 0), stat.tstd(fit_A[1::2, :], axis = 0)])#, stat.sem(fit_A[2::4, :], axis = 0), stat.sem(fit_A[3::4, :], axis = 0)])\n",
    "    #y_err = np.array([stat.tstd(fit_B[0::2, :], axis = 0), stat.tstd(fit_B[1::2, :], axis = 0)])#, stat.sem(fit_B[2::4, :], axis = 0), stat.sem(fit_B[3::4, :], axis = 0)])\n",
    "\n",
    "    #x_conf_interval = np.array(stat.norm.interval(0.83, loc = x, scale = x_err))\n",
    "    #y_conf_interval = np.array(stat.norm.interval(0.83, loc = y, scale = y_err))\n",
    "\n",
    "    x_CI = x - np.array(stat.norm.interval(0.95, loc = x, scale = x_err))[0, :], np.array(stat.norm.interval(0.95, loc = x, scale = x_err))[1, :] - x\n",
    "    y_CI = y - np.array(stat.norm.interval(0.95, loc = y, scale = y_err))[0, :], np.array(stat.norm.interval(0.95, loc = y, scale = y_err))[1, :] - y\n",
    "    plot0 = plt.errorbar(x[0], y[0], xerr = [x_CI[0][0], x_CI[1][0]], yerr = [y_CI[0][0], y_CI[1][0]], capsize = 3)\n",
    "    plot1 = plt.errorbar(x[1], y[1], xerr = [x_CI[0][1], x_CI[1][1]], yerr = [y_CI[0][1], y_CI[1][1]], capsize = 3)\n",
    "\n",
    "\n",
    "    #plot0 = plt.errorbar(x[0], y[0], xerr = x_err[0], yerr = y_err[0], capsize = 3)\n",
    "    #plot1 = plt.errorbar(x[1], y[1], xerr = x_err[1], yerr = y_err[1], capsize = 3)\n",
    "    #plot0 = plt.errorbar(x[0], y[0], xerr = x_conf_interval[:, 0], yerr = y_conf_interval[:, 0], capsize = 3)\n",
    "    #plot1 = plt.errorbar(x[1], y[1], xerr = x_conf_interval[:, 1], yerr = y_conf_interval[:, 1], capsize = 3)\n",
    "    #plot2 = plt.errorbar(x[2], y[2], xerr = x_conf_interval[:, 2], yerr = y_conf_interval[:, 2], capsize = 3)\n",
    "    #plot3 = plt.errorbar(x[3], y[3], xerr = x_conf_interval[:, 3], yerr = y_conf_interval[:, 3], capsize = 3)\n",
    "    print (x[0], y[0])\n",
    "    plt.legend((plot0, plot1), ('Speed', 'Accuracy'))#, 'Gradual Speed', 'Gradual Accuracy'))\n",
    "    plt.xlabel(x_label)\n",
    "    plt.ylabel(y_label)"
   ]
  },
  {
   "cell_type": "code",
   "execution_count": null,
   "metadata": {},
   "outputs": [],
   "source": [
    "plot_collapsed_across_rotation_fits(As, Bs)"
   ]
  },
  {
   "cell_type": "code",
   "execution_count": null,
   "metadata": {},
   "outputs": [],
   "source": [
    "plot_collapsed_across_rotation_fits(fit_transfer_A, fit_transfer_B)"
   ]
  },
  {
   "cell_type": "code",
   "execution_count": null,
   "metadata": {},
   "outputs": [],
   "source": []
  },
  {
   "cell_type": "code",
   "execution_count": null,
   "metadata": {},
   "outputs": [],
   "source": []
  },
  {
   "cell_type": "code",
   "execution_count": null,
   "metadata": {},
   "outputs": [],
   "source": []
  },
  {
   "cell_type": "code",
   "execution_count": null,
   "metadata": {},
   "outputs": [],
   "source": [
    "#np.mean(np.mean(error_sum[1::4], axis = 2), axis = 0)\n",
    "#stat.sem(np.mean(error_sum[1::4], axis = 2), axis = 0)\n",
    "def plot_param_fits(fit_A, text):\n",
    "#    quantiles = get_quantile(total_times)\n",
    "    xpos = [0, 1, 2, 3, 4]\n",
    "    y = np.array([np.mean(fit_A[1::4]),\n",
    "                     np.mean(fit_A[0::4]), \n",
    "                     np.mean(fit_A[3::4]),\n",
    "                     np.mean(fit_A[2::4])])# - np.mean(np.median(distances[1::4], axis = 2), axis = 0)[10],\n",
    "    y_sem = np.array([stat.sem(fit_A[2::4]),\n",
    "                             stat.sem(fit_A[2::4]),\n",
    "                             stat.sem(fit_A[2::4]),\n",
    "                             stat.sem(fit_A[2::4])]) \n",
    "    #print (y_sem[0])\n",
    "    #y_sem = np.array([0, 0, 0, 0])\n",
    "    plt.bar(0, y[0], yerr = y_sem[0], capsize = 3, fill = False)\n",
    "    plt.bar(1, y[1], yerr = y_sem[1], capsize = 3, color = [0.5, 0.5, 0.5])\n",
    "    plt.bar(2, y[2], yerr = y_sem[2], capsize = 3, hatch = '\\\\', fill = False)\n",
    "    plt.bar(3, y[3], yerr = y_sem[3], capsize = 3, hatch = '\\\\', color = [0.5, 0.5, 0.5])\n",
    "\n",
    "#    handles = plt.bar(range(4), y, yerr = y_sem, capsize = 3, color = ['Blue', 'Green', 'Blue', 'Green'], alpha = [1, 0.5, 0.5, 1])\n",
    "    plt.xticks([0, 1, 2, 3], ['Sudden \\n Accuracy', 'Sudden \\n Speed', 'Gradual \\n Accuracy', 'Gradual \\nSpeed'], rotation = 'vertical')\n",
    "    plt.ylabel('fit values')\n",
    "    plt.xlabel('Condition')\n",
    "    #plt.legend([handles[0], handles[1]], ['Speed', 'Accuracy'])\n",
    "    plt.title(text)\n",
    "    #plt.ylim(0, 45)\n",
    "    print (y)\n",
    "#np.shape(np.mean(error_sum[1::4], axis = 0))\n"
   ]
  },
  {
   "cell_type": "code",
   "execution_count": null,
   "metadata": {},
   "outputs": [],
   "source": []
  },
  {
   "cell_type": "code",
   "execution_count": null,
   "metadata": {},
   "outputs": [],
   "source": []
  },
  {
   "cell_type": "code",
   "execution_count": null,
   "metadata": {},
   "outputs": [],
   "source": []
  },
  {
   "cell_type": "code",
   "execution_count": null,
   "metadata": {},
   "outputs": [],
   "source": []
  },
  {
   "cell_type": "code",
   "execution_count": null,
   "metadata": {},
   "outputs": [],
   "source": []
  },
  {
   "cell_type": "code",
   "execution_count": null,
   "metadata": {},
   "outputs": [],
   "source": []
  },
  {
   "cell_type": "code",
   "execution_count": null,
   "metadata": {},
   "outputs": [],
   "source": []
  },
  {
   "cell_type": "code",
   "execution_count": null,
   "metadata": {},
   "outputs": [],
   "source": []
  },
  {
   "cell_type": "code",
   "execution_count": null,
   "metadata": {},
   "outputs": [],
   "source": []
  },
  {
   "cell_type": "code",
   "execution_count": null,
   "metadata": {},
   "outputs": [],
   "source": []
  },
  {
   "cell_type": "code",
   "execution_count": null,
   "metadata": {},
   "outputs": [],
   "source": []
  },
  {
   "cell_type": "code",
   "execution_count": null,
   "metadata": {},
   "outputs": [],
   "source": [
    "def plot_errors_trials(num_points, first_trial, last_trial, errors, title_text):\n",
    "    plt.figure(figsize=(20, 5))\n",
    "    plot_0, = plt.plot(np.nanmean(np.split(np.ravel(np.nanmean(errors[0::4], axis = 0)[1:][:, first_trial:last_trial]), num_points), axis = 1), alpha = 0.5)\n",
    "    plot_1, = plt.plot(np.nanmean(np.split(np.ravel(np.nanmean(errors[1::4], axis = 0)[1:][:, first_trial:last_trial]), num_points), axis = 1), alpha = 0.5)\n",
    "    plot_2, = plt.plot(np.nanmean(np.split(np.ravel(np.nanmean(errors[2::4], axis = 0)[1:][:, first_trial:last_trial]), num_points), axis = 1))\n",
    "    plot_3, = plt.plot(np.nanmean(np.split(np.ravel(np.nanmean(errors[3::4], axis = 0)[1:][:, first_trial:last_trial]), num_points), axis = 1))\n",
    "\n",
    "    plt.legend((plot_0, plot_1, plot_2, plot_3), ('Sudden Speed', 'Sudden Accuracy', 'Gradual Speed', 'Gradual Accuracy'))\n",
    "    plt.xlabel('Trials')\n",
    "    plt.ylabel('Angular Errors')\n",
    "    plt.title(title_text)"
   ]
  },
  {
   "cell_type": "code",
   "execution_count": null,
   "metadata": {},
   "outputs": [],
   "source": []
  },
  {
   "cell_type": "code",
   "execution_count": null,
   "metadata": {},
   "outputs": [],
   "source": []
  },
  {
   "cell_type": "code",
   "execution_count": null,
   "metadata": {},
   "outputs": [],
   "source": []
  },
  {
   "cell_type": "markdown",
   "metadata": {},
   "source": [
    "# 2-state model"
   ]
  },
  {
   "cell_type": "code",
   "execution_count": 389,
   "metadata": {},
   "outputs": [],
   "source": [
    "def dual_model_sudden(num_trials, Af, Bf, As, Bs):\n",
    "    errors = np.zeros((num_trials))\n",
    "    rotation = 90\n",
    "    fast_est = np.zeros((num_trials))\n",
    "    slow_est = np.zeros((num_trials))\n",
    "    rotation_est = np.zeros((num_trials))\n",
    "    #rotation_est[0] = est\n",
    "    for trial in range(num_trials - 1):\n",
    "        errors[trial] = rotation - rotation_est[trial]\n",
    "        #print(errors[trial])\n",
    "        fast_est[trial+1] = Af*fast_est[trial] + Bf*errors[trial]\n",
    "        slow_est[trial+1] = As*slow_est[trial] + Bs*errors[trial]\n",
    "        rotation_est[trial+1] = fast_est[trial+1] + slow_est[trial+1]\n",
    "        #print (rotation_est)\n",
    "    errors[num_trials-1] = rotation - rotation_est[num_trials-1]\n",
    "    return errors, rotation_est, fast_est, slow_est\n",
    "\n",
    "def dual_model_gradual(num_trials, Af, Bf, As, Bs):\n",
    "    errors = np.zeros((num_trials))\n",
    "    fast_est = np.zeros((num_trials))\n",
    "    slow_est = np.zeros((num_trials))\n",
    "    rotation_est = np.zeros((num_trials))\n",
    "    rotation = 0\n",
    "    for trial in range(num_trials - 1):\n",
    "        if trial%64 == 0:\n",
    "            rotation = rotation + 10\n",
    "        if rotation > 90:\n",
    "            rotation = 90\n",
    "        errors[trial] = rotation - rotation_est[trial]\n",
    "        #print(errors[trial])\n",
    "        fast_est[trial+1] = Af*fast_est[trial] + Bf*errors[trial]\n",
    "        slow_est[trial+1] = As*slow_est[trial] + Bs*errors[trial]\n",
    "        rotation_est[trial+1] = fast_est[trial+1] + slow_est[trial+1]\n",
    "        #print (rotation_est)\n",
    "    errors[num_trials-1] = rotation - rotation_est[num_trials-1]\n",
    "    return errors, rotation_est, fast_est, slow_est"
   ]
  },
  {
   "cell_type": "code",
   "execution_count": 390,
   "metadata": {},
   "outputs": [],
   "source": [
    "def residuals_sudden(params, num_trials, data_errors):\n",
    "    model_errors = dual_model_sudden(num_trials, params[0], params[1], params[2], params[3])[0]\n",
    "    residual_error = np.sum(np.square(model_errors - data_errors))\n",
    "    if params[0] > params[2]:\n",
    "        residual_error = residual_error + 10000000\n",
    "    if params[1] < params[3]:\n",
    "        residual_error = residual_error + 10000000\n",
    "    if params[0] < 0 or params[1] < 0 or params[2] < 0 or params[3] < 0:\n",
    "        residual_error = residual_error + 10000000\n",
    "    return residual_error\n",
    "\n",
    "def residuals_gradual(params, num_trials, data_errors):\n",
    "    model_errors = dual_model_gradual(num_trials, params[0], params[1], params[2], params[3])[0]\n",
    "    residual_error = np.sum(np.square(model_errors - data_errors))\n",
    "    if params[0] > params[2]:\n",
    "        residual_error = residual_error + 10000000\n",
    "    if params[1] < params[3]:\n",
    "        residual_error = residual_error + 10000000\n",
    "    if params[0] < 0 or params[1] < 0 or params[2] < 0 or params[3] < 0:\n",
    "        residual_error = residual_error + 10000000\n",
    "    return residual_error"
   ]
  },
  {
   "cell_type": "code",
   "execution_count": 391,
   "metadata": {},
   "outputs": [],
   "source": [
    "def dual_model_transfer(num_trials, Af, Bf, As, Bs, est):\n",
    "    errors = np.zeros((num_trials))\n",
    "    rotation = 0\n",
    "    fast_est = np.zeros((num_trials))\n",
    "    slow_est = np.zeros((num_trials))\n",
    "    rotation_est = np.zeros((num_trials))\n",
    "    rotation_est[0] = est\n",
    "    for trial in range(num_trials - 1):\n",
    "        errors[trial] = rotation_est[trial] - rotation\n",
    "        #print(errors[trial])\n",
    "        fast_est[trial+1] = Af*fast_est[trial] + Bf*errors[trial]\n",
    "        slow_est[trial+1] = As*slow_est[trial] + Bs*errors[trial]\n",
    "        rotation_est[trial+1] = fast_est[trial+1] + slow_est[trial+1]\n",
    "        #print (rotation_est)\n",
    "    errors[num_trials-1] = rotation_est[num_trials-1] - rotation\n",
    "    return errors, rotation_est, fast_est, slow_est\n",
    "\n",
    "def residuals_sudden_transfer(params, num_trials, data_errors, est):\n",
    "    model_errors = dual_model_transfer(num_trials, params[0], params[1], params[2], params[3], est)[0]\n",
    "    residual_error = np.sum(np.square(model_errors - data_errors))\n",
    "    if params[0] > params[2]:\n",
    "        residual_error = residual_error + 10000000\n",
    "    if params[1] < params[3]:\n",
    "        residual_error = residual_error + 10000000\n",
    "    if params[0] < 0 or params[1] < 0 or params[2] < 0 or params[3] < 0:\n",
    "        residual_error = residual_error + 10000000\n",
    "    if params[0] > 1 or params[1] > 1 or params[2] > 1 or params[3] > 1:\n",
    "        residual_error = residual_error + 10000000\n",
    "    \n",
    "    return residual_error\n"
   ]
  },
  {
   "cell_type": "code",
   "execution_count": null,
   "metadata": {},
   "outputs": [],
   "source": []
  },
  {
   "cell_type": "code",
   "execution_count": null,
   "metadata": {},
   "outputs": [],
   "source": []
  },
  {
   "cell_type": "code",
   "execution_count": null,
   "metadata": {},
   "outputs": [],
   "source": []
  },
  {
   "cell_type": "code",
   "execution_count": null,
   "metadata": {},
   "outputs": [],
   "source": []
  },
  {
   "cell_type": "code",
   "execution_count": null,
   "metadata": {},
   "outputs": [],
   "source": [
    "def calc_curvature_wrapper(params):\n",
    "    return calc_curvature(params[0], params[1], params[2], params[3])\n",
    "paramlist = list(itertools.product(range(1000, 1060), range(12), range(64), range(1, 2)))\n",
    "\n",
    "if __name__ == '__main__':\n",
    "    pool = Pool()\n",
    "    res = np.reshape(np.array(pool.map(workers.calc_curvature_wrapper, paramlist)), (60, 12, 64))"
   ]
  },
  {
   "cell_type": "code",
   "execution_count": 385,
   "metadata": {},
   "outputs": [],
   "source": [
    "def fit_participant(participant, curvatures, num_fits):\n",
    "\n",
    "    for fit_parts in range(num_fits):\n",
    "\n",
    "        starting_points = np.array([[0.6, 0.5, 0.7, 0.1]])\n",
    "        for initial_point in starting_points:\n",
    "            if participant%4 == 0 or participant%4 == 1:      \n",
    "                #fits = scipy.optimize.minimize(residuals_sudden, x0 = [initial_point[0], initial_point[1], initial_point[2], initial_point[3]], args = (640, np.nan_to_num(np.ravel(curvatures[participant][1:-1]), nan = np.nanmedian(curvatures[participant][1:-1]))), method = 'Nelder-Mead')            \n",
    "                fits = scipy.optimize.basinhopping(residuals_sudden, x0 = [initial_point[0], initial_point[1], initial_point[2], initial_point[3]], minimizer_kwargs={'args': (640, np.nan_to_num(np.ravel(curvatures[participant][1:-1]), nan = np.nanmedian(curvatures[participant][1:-1]))), 'method': 'Nelder-Mead'})\n",
    "\n",
    "                #if fits.fun < fit_V[participant][fit_parts]:\n",
    "                Af = fits.x[0]#fit_Af[participant][fit_parts] = fits.x[0]\n",
    "                Bf = fits.x[1]#fit_Bf[participant][fit_parts] = fits.x[1]\n",
    "                As = fits.x[2]#fit_As[participant][fit_parts] = fits.x[2]\n",
    "                Bs = fits.x[2]#fit_Bs[participant][fit_parts] = fits.x[3]\n",
    "                V = fits.fun#fit_V[participant][fit_parts] = fits.fun\n",
    "                #fit_success[participant][fit_parts] = fits.success                \n",
    "            else:\n",
    "                #fits = scipy.optimize.minimize(residuals_gradual, x0 = [initial_point[0], initial_point[1], initial_point[2], initial_point[3]], args = (640, np.nan_to_num(np.ravel(curvatures[participant][1:-1]), nan = np.nanmedian(curvatures[participant][1:-1]))), method = 'Nelder-Mead')         \n",
    "                fits = scipy.optimize.basinhopping(residuals_gradual, x0 = [initial_point[0], initial_point[1], initial_point[2], initial_point[3]], minimizer_kwargs={'args': (640, np.nan_to_num(np.ravel(curvatures[participant][1:-1]), nan = np.nanmedian(curvatures[participant][1:-1]))), 'method': 'Nelder-Mead'})\n",
    "                #if fits.fun < fit_V[participant][fit_parts]:\n",
    "                Af = fits.x[0]#fit_Af[participant][fit_parts] = fits.x[0]\n",
    "                Bf = fits.x[1]#fit_Bf[participant][fit_parts] = fits.x[1]\n",
    "                As = fits.x[2]#fit_As[participant][fit_parts] = fits.x[2]\n",
    "                Bs = fits.x[2]#fit_Bs[participant][fit_parts] = fits.x[3]\n",
    "                V = fits.fun#fit_V[participant][fit_parts] = fits.fun\n",
    "                #fit_success[participant][fit_parts] = fits.success\n",
    "    return Af, Bf, As, Bs, V\n"
   ]
  },
  {
   "cell_type": "code",
   "execution_count": 387,
   "metadata": {},
   "outputs": [],
   "source": [
    "#Divide the whole thing into 16 trial blocks and fit them\n",
    "from functools import partial\n",
    "def run_fits_dual(curvatures, num_trials, part_size):\n",
    "    num_fits = int(num_trials/part_size)\n",
    "    fit_As = np.zeros((60, num_fits))\n",
    "    fit_Bs = np.zeros((60, num_fits))\n",
    "    fit_Af = np.zeros((60, num_fits))\n",
    "    fit_Bf = np.zeros((60, num_fits))\n",
    "    fit_V = np.full((60, num_fits), np.inf)\n",
    "    fit_success = np.zeros((60, num_fits))\n",
    "\n",
    "    for participant in range(60):\n",
    "        fit_Af[participant], fit_Bf[participant], fit_As[participant], fit_Bs[participant], fit_V[participant] = fit_participant(participant, curvatures, num_fits) \n",
    "        print (participant, fit_V[participant])\n",
    "    #unc = partial(workers.fit_participant, curvatures = curvatures, num_fits = 1)\n",
    "    #if __name__ == '__main__':\n",
    "    #    pool = Pool()\n",
    "    #res = np.reshape(np.array(pool.map(func, range(60))), (60, 5))\n",
    "    return fit_Af, fit_Bf, fit_As, fit_Bs, fit_V\n",
    "    #return res   "
   ]
  },
  {
   "cell_type": "code",
   "execution_count": 392,
   "metadata": {},
   "outputs": [
    {
     "name": "stdout",
     "output_type": "stream",
     "text": [
      "0 [264246.10875862]\n"
     ]
    },
    {
     "name": "stderr",
     "output_type": "stream",
     "text": [
      "C:\\Users\\Tejas\\Anaconda3\\lib\\site-packages\\ipykernel_launcher.py:3: RuntimeWarning: overflow encountered in square\n",
      "  This is separate from the ipykernel package so we can avoid doing imports until\n",
      "C:\\Users\\Tejas\\Anaconda3\\lib\\site-packages\\numpy\\core\\fromnumeric.py:90: RuntimeWarning: overflow encountered in reduce\n",
      "  return ufunc.reduce(obj, axis, dtype, out, **passkwargs)\n",
      "C:\\Users\\Tejas\\Anaconda3\\lib\\site-packages\\scipy\\optimize\\optimize.py:597: RuntimeWarning: invalid value encountered in subtract\n",
      "  numpy.max(numpy.abs(fsim[0] - fsim[1:])) <= fatol):\n"
     ]
    },
    {
     "name": "stdout",
     "output_type": "stream",
     "text": [
      "1 [37224.91420366]\n"
     ]
    },
    {
     "name": "stderr",
     "output_type": "stream",
     "text": [
      "C:\\Users\\Tejas\\Anaconda3\\lib\\site-packages\\ipykernel_launcher.py:14: RuntimeWarning: overflow encountered in square\n",
      "  \n"
     ]
    },
    {
     "name": "stdout",
     "output_type": "stream",
     "text": [
      "2 [22704.35993153]\n",
      "3 [9443.52163004]\n",
      "4 [23579.40611867]\n",
      "5 [44712.48530964]\n",
      "6 [3818.30873533]\n",
      "7 [6071.74864568]\n",
      "8 [26207.25401512]\n",
      "9 [98194.65969296]\n",
      "10 [17425.37964912]\n",
      "11 [9754.5990564]\n",
      "12 [138201.87514138]\n",
      "13 [60234.87948923]\n",
      "14 [54467.67967815]\n",
      "15 [2108.60311216]\n",
      "16 [81384.10615988]\n",
      "17 [16052.01317531]\n",
      "18 [38263.67289991]\n",
      "19 [6824.11845283]\n",
      "20 [38581.46015247]\n",
      "21 [27403.40312595]\n",
      "22 [46062.41610657]\n",
      "23 [8173.05418054]\n",
      "24 [73556.37501824]\n",
      "25 [24296.16223002]\n",
      "26 [27901.61905356]\n",
      "27 [19457.30544236]\n",
      "28 [187736.93405299]\n",
      "29 [100261.37133184]\n",
      "30 [24177.9887573]\n",
      "31 [4790.90089146]\n",
      "32 [45275.44443215]\n",
      "33 [42317.41106094]\n",
      "34 [6471.83778719]\n",
      "35 [3420.92492784]\n",
      "36 [73225.7276722]\n",
      "37 [97557.09952089]\n",
      "38 [22188.69356856]\n",
      "39 [3452.77340786]\n",
      "40 [157498.95217235]\n",
      "41 [6932.25489556]\n",
      "42 [77744.89683311]\n",
      "43 [5190.55896074]\n",
      "44 [50384.95630752]\n",
      "45 [155411.19611524]\n",
      "46 [29511.84937333]\n",
      "47 [6002.34771574]\n",
      "48 [128221.45528481]\n",
      "49 [45496.26368909]\n",
      "50 [34488.37333492]\n",
      "51 [14109.74734179]\n"
     ]
    },
    {
     "ename": "KeyboardInterrupt",
     "evalue": "",
     "output_type": "error",
     "traceback": [
      "\u001b[1;31m---------------------------------------------------------------------------\u001b[0m",
      "\u001b[1;31mKeyboardInterrupt\u001b[0m                         Traceback (most recent call last)",
      "\u001b[1;32m<ipython-input-392-3ef6695c2fc1>\u001b[0m in \u001b[0;36m<module>\u001b[1;34m\u001b[0m\n\u001b[1;32m----> 1\u001b[1;33m \u001b[0mAf\u001b[0m\u001b[1;33m,\u001b[0m \u001b[0mBf\u001b[0m\u001b[1;33m,\u001b[0m \u001b[0mAs\u001b[0m\u001b[1;33m,\u001b[0m \u001b[0mBs\u001b[0m\u001b[1;33m,\u001b[0m \u001b[0mfit_V_dual\u001b[0m \u001b[1;33m=\u001b[0m \u001b[0mrun_fits_dual\u001b[0m\u001b[1;33m(\u001b[0m\u001b[0mcurvatures_smooth\u001b[0m\u001b[1;33m,\u001b[0m \u001b[1;36m640\u001b[0m\u001b[1;33m,\u001b[0m \u001b[1;36m640\u001b[0m\u001b[1;33m)\u001b[0m\u001b[1;33m\u001b[0m\u001b[0m\n\u001b[0m\u001b[0;32m      2\u001b[0m \u001b[1;31m#fits = run_fits_dual(curvatures_smooth, 640, 640)\u001b[0m\u001b[1;33m\u001b[0m\u001b[1;33m\u001b[0m\u001b[0m\n",
      "\u001b[1;32m<ipython-input-387-ad06a681d757>\u001b[0m in \u001b[0;36mrun_fits_dual\u001b[1;34m(curvatures, num_trials, part_size)\u001b[0m\n\u001b[0;32m     11\u001b[0m \u001b[1;33m\u001b[0m\u001b[0m\n\u001b[0;32m     12\u001b[0m     \u001b[1;32mfor\u001b[0m \u001b[0mparticipant\u001b[0m \u001b[1;32min\u001b[0m \u001b[0mrange\u001b[0m\u001b[1;33m(\u001b[0m\u001b[1;36m60\u001b[0m\u001b[1;33m)\u001b[0m\u001b[1;33m:\u001b[0m\u001b[1;33m\u001b[0m\u001b[0m\n\u001b[1;32m---> 13\u001b[1;33m         \u001b[0mfit_Af\u001b[0m\u001b[1;33m[\u001b[0m\u001b[0mparticipant\u001b[0m\u001b[1;33m]\u001b[0m\u001b[1;33m,\u001b[0m \u001b[0mfit_Bf\u001b[0m\u001b[1;33m[\u001b[0m\u001b[0mparticipant\u001b[0m\u001b[1;33m]\u001b[0m\u001b[1;33m,\u001b[0m \u001b[0mfit_As\u001b[0m\u001b[1;33m[\u001b[0m\u001b[0mparticipant\u001b[0m\u001b[1;33m]\u001b[0m\u001b[1;33m,\u001b[0m \u001b[0mfit_Bs\u001b[0m\u001b[1;33m[\u001b[0m\u001b[0mparticipant\u001b[0m\u001b[1;33m]\u001b[0m\u001b[1;33m,\u001b[0m \u001b[0mfit_V\u001b[0m\u001b[1;33m[\u001b[0m\u001b[0mparticipant\u001b[0m\u001b[1;33m]\u001b[0m \u001b[1;33m=\u001b[0m \u001b[0mfit_participant\u001b[0m\u001b[1;33m(\u001b[0m\u001b[0mparticipant\u001b[0m\u001b[1;33m,\u001b[0m \u001b[0mcurvatures\u001b[0m\u001b[1;33m,\u001b[0m \u001b[0mnum_fits\u001b[0m\u001b[1;33m)\u001b[0m\u001b[1;33m\u001b[0m\u001b[0m\n\u001b[0m\u001b[0;32m     14\u001b[0m         \u001b[0mprint\u001b[0m \u001b[1;33m(\u001b[0m\u001b[0mparticipant\u001b[0m\u001b[1;33m,\u001b[0m \u001b[0mfit_V\u001b[0m\u001b[1;33m[\u001b[0m\u001b[0mparticipant\u001b[0m\u001b[1;33m]\u001b[0m\u001b[1;33m)\u001b[0m\u001b[1;33m\u001b[0m\u001b[0m\n\u001b[0;32m     15\u001b[0m     \u001b[1;31m#unc = partial(workers.fit_participant, curvatures = curvatures, num_fits = 1)\u001b[0m\u001b[1;33m\u001b[0m\u001b[1;33m\u001b[0m\u001b[0m\n",
      "\u001b[1;32m<ipython-input-385-38553edcb423>\u001b[0m in \u001b[0;36mfit_participant\u001b[1;34m(participant, curvatures, num_fits)\u001b[0m\n\u001b[0;32m      7\u001b[0m             \u001b[1;32mif\u001b[0m \u001b[0mparticipant\u001b[0m\u001b[1;33m%\u001b[0m\u001b[1;36m4\u001b[0m \u001b[1;33m==\u001b[0m \u001b[1;36m0\u001b[0m \u001b[1;32mor\u001b[0m \u001b[0mparticipant\u001b[0m\u001b[1;33m%\u001b[0m\u001b[1;36m4\u001b[0m \u001b[1;33m==\u001b[0m \u001b[1;36m1\u001b[0m\u001b[1;33m:\u001b[0m\u001b[1;33m\u001b[0m\u001b[0m\n\u001b[0;32m      8\u001b[0m                 \u001b[1;31m#fits = scipy.optimize.minimize(residuals_sudden, x0 = [initial_point[0], initial_point[1], initial_point[2], initial_point[3]], args = (640, np.nan_to_num(np.ravel(curvatures[participant][1:-1]), nan = np.nanmedian(curvatures[participant][1:-1]))), method = 'Nelder-Mead')\u001b[0m\u001b[1;33m\u001b[0m\u001b[1;33m\u001b[0m\u001b[0m\n\u001b[1;32m----> 9\u001b[1;33m                 \u001b[0mfits\u001b[0m \u001b[1;33m=\u001b[0m \u001b[0mscipy\u001b[0m\u001b[1;33m.\u001b[0m\u001b[0moptimize\u001b[0m\u001b[1;33m.\u001b[0m\u001b[0mbasinhopping\u001b[0m\u001b[1;33m(\u001b[0m\u001b[0mresiduals_sudden\u001b[0m\u001b[1;33m,\u001b[0m \u001b[0mx0\u001b[0m \u001b[1;33m=\u001b[0m \u001b[1;33m[\u001b[0m\u001b[0minitial_point\u001b[0m\u001b[1;33m[\u001b[0m\u001b[1;36m0\u001b[0m\u001b[1;33m]\u001b[0m\u001b[1;33m,\u001b[0m \u001b[0minitial_point\u001b[0m\u001b[1;33m[\u001b[0m\u001b[1;36m1\u001b[0m\u001b[1;33m]\u001b[0m\u001b[1;33m,\u001b[0m \u001b[0minitial_point\u001b[0m\u001b[1;33m[\u001b[0m\u001b[1;36m2\u001b[0m\u001b[1;33m]\u001b[0m\u001b[1;33m,\u001b[0m \u001b[0minitial_point\u001b[0m\u001b[1;33m[\u001b[0m\u001b[1;36m3\u001b[0m\u001b[1;33m]\u001b[0m\u001b[1;33m]\u001b[0m\u001b[1;33m,\u001b[0m \u001b[0mminimizer_kwargs\u001b[0m\u001b[1;33m=\u001b[0m\u001b[1;33m{\u001b[0m\u001b[1;34m'args'\u001b[0m\u001b[1;33m:\u001b[0m \u001b[1;33m(\u001b[0m\u001b[1;36m640\u001b[0m\u001b[1;33m,\u001b[0m \u001b[0mnp\u001b[0m\u001b[1;33m.\u001b[0m\u001b[0mnan_to_num\u001b[0m\u001b[1;33m(\u001b[0m\u001b[0mnp\u001b[0m\u001b[1;33m.\u001b[0m\u001b[0mravel\u001b[0m\u001b[1;33m(\u001b[0m\u001b[0mcurvatures\u001b[0m\u001b[1;33m[\u001b[0m\u001b[0mparticipant\u001b[0m\u001b[1;33m]\u001b[0m\u001b[1;33m[\u001b[0m\u001b[1;36m1\u001b[0m\u001b[1;33m:\u001b[0m\u001b[1;33m-\u001b[0m\u001b[1;36m1\u001b[0m\u001b[1;33m]\u001b[0m\u001b[1;33m)\u001b[0m\u001b[1;33m,\u001b[0m \u001b[0mnan\u001b[0m \u001b[1;33m=\u001b[0m \u001b[0mnp\u001b[0m\u001b[1;33m.\u001b[0m\u001b[0mnanmedian\u001b[0m\u001b[1;33m(\u001b[0m\u001b[0mcurvatures\u001b[0m\u001b[1;33m[\u001b[0m\u001b[0mparticipant\u001b[0m\u001b[1;33m]\u001b[0m\u001b[1;33m[\u001b[0m\u001b[1;36m1\u001b[0m\u001b[1;33m:\u001b[0m\u001b[1;33m-\u001b[0m\u001b[1;36m1\u001b[0m\u001b[1;33m]\u001b[0m\u001b[1;33m)\u001b[0m\u001b[1;33m)\u001b[0m\u001b[1;33m)\u001b[0m\u001b[1;33m,\u001b[0m \u001b[1;34m'method'\u001b[0m\u001b[1;33m:\u001b[0m \u001b[1;34m'Nelder-Mead'\u001b[0m\u001b[1;33m}\u001b[0m\u001b[1;33m)\u001b[0m\u001b[1;33m\u001b[0m\u001b[0m\n\u001b[0m\u001b[0;32m     10\u001b[0m \u001b[1;33m\u001b[0m\u001b[0m\n\u001b[0;32m     11\u001b[0m                 \u001b[1;31m#if fits.fun < fit_V[participant][fit_parts]:\u001b[0m\u001b[1;33m\u001b[0m\u001b[1;33m\u001b[0m\u001b[0m\n",
      "\u001b[1;32m~\\Anaconda3\\lib\\site-packages\\scipy\\optimize\\_basinhopping.py\u001b[0m in \u001b[0;36mbasinhopping\u001b[1;34m(func, x0, niter, T, stepsize, minimizer_kwargs, take_step, accept_test, callback, interval, disp, niter_success, seed)\u001b[0m\n\u001b[0;32m    674\u001b[0m                \" successfully\"]\n\u001b[0;32m    675\u001b[0m     \u001b[1;32mfor\u001b[0m \u001b[0mi\u001b[0m \u001b[1;32min\u001b[0m \u001b[0mrange\u001b[0m\u001b[1;33m(\u001b[0m\u001b[0mniter\u001b[0m\u001b[1;33m)\u001b[0m\u001b[1;33m:\u001b[0m\u001b[1;33m\u001b[0m\u001b[0m\n\u001b[1;32m--> 676\u001b[1;33m         \u001b[0mnew_global_min\u001b[0m \u001b[1;33m=\u001b[0m \u001b[0mbh\u001b[0m\u001b[1;33m.\u001b[0m\u001b[0mone_cycle\u001b[0m\u001b[1;33m(\u001b[0m\u001b[1;33m)\u001b[0m\u001b[1;33m\u001b[0m\u001b[0m\n\u001b[0m\u001b[0;32m    677\u001b[0m \u001b[1;33m\u001b[0m\u001b[0m\n\u001b[0;32m    678\u001b[0m         \u001b[1;32mif\u001b[0m \u001b[0mcallable\u001b[0m\u001b[1;33m(\u001b[0m\u001b[0mcallback\u001b[0m\u001b[1;33m)\u001b[0m\u001b[1;33m:\u001b[0m\u001b[1;33m\u001b[0m\u001b[0m\n",
      "\u001b[1;32m~\\Anaconda3\\lib\\site-packages\\scipy\\optimize\\_basinhopping.py\u001b[0m in \u001b[0;36mone_cycle\u001b[1;34m(self)\u001b[0m\n\u001b[0;32m    152\u001b[0m         \u001b[0mnew_global_min\u001b[0m \u001b[1;33m=\u001b[0m \u001b[1;32mFalse\u001b[0m\u001b[1;33m\u001b[0m\u001b[0m\n\u001b[0;32m    153\u001b[0m \u001b[1;33m\u001b[0m\u001b[0m\n\u001b[1;32m--> 154\u001b[1;33m         \u001b[0maccept\u001b[0m\u001b[1;33m,\u001b[0m \u001b[0mminres\u001b[0m \u001b[1;33m=\u001b[0m \u001b[0mself\u001b[0m\u001b[1;33m.\u001b[0m\u001b[0m_monte_carlo_step\u001b[0m\u001b[1;33m(\u001b[0m\u001b[1;33m)\u001b[0m\u001b[1;33m\u001b[0m\u001b[0m\n\u001b[0m\u001b[0;32m    155\u001b[0m \u001b[1;33m\u001b[0m\u001b[0m\n\u001b[0;32m    156\u001b[0m         \u001b[1;32mif\u001b[0m \u001b[0maccept\u001b[0m\u001b[1;33m:\u001b[0m\u001b[1;33m\u001b[0m\u001b[0m\n",
      "\u001b[1;32m~\\Anaconda3\\lib\\site-packages\\scipy\\optimize\\_basinhopping.py\u001b[0m in \u001b[0;36m_monte_carlo_step\u001b[1;34m(self)\u001b[0m\n\u001b[0;32m    104\u001b[0m \u001b[1;33m\u001b[0m\u001b[0m\n\u001b[0;32m    105\u001b[0m         \u001b[1;31m# do a local minimization\u001b[0m\u001b[1;33m\u001b[0m\u001b[1;33m\u001b[0m\u001b[0m\n\u001b[1;32m--> 106\u001b[1;33m         \u001b[0mminres\u001b[0m \u001b[1;33m=\u001b[0m \u001b[0mself\u001b[0m\u001b[1;33m.\u001b[0m\u001b[0mminimizer\u001b[0m\u001b[1;33m(\u001b[0m\u001b[0mx_after_step\u001b[0m\u001b[1;33m)\u001b[0m\u001b[1;33m\u001b[0m\u001b[0m\n\u001b[0m\u001b[0;32m    107\u001b[0m         \u001b[0mx_after_quench\u001b[0m \u001b[1;33m=\u001b[0m \u001b[0mminres\u001b[0m\u001b[1;33m.\u001b[0m\u001b[0mx\u001b[0m\u001b[1;33m\u001b[0m\u001b[0m\n\u001b[0;32m    108\u001b[0m         \u001b[0menergy_after_quench\u001b[0m \u001b[1;33m=\u001b[0m \u001b[0mminres\u001b[0m\u001b[1;33m.\u001b[0m\u001b[0mfun\u001b[0m\u001b[1;33m\u001b[0m\u001b[0m\n",
      "\u001b[1;32m~\\Anaconda3\\lib\\site-packages\\scipy\\optimize\\_basinhopping.py\u001b[0m in \u001b[0;36m__call__\u001b[1;34m(self, x0)\u001b[0m\n\u001b[0;32m    284\u001b[0m             \u001b[1;32mreturn\u001b[0m \u001b[0mself\u001b[0m\u001b[1;33m.\u001b[0m\u001b[0mminimizer\u001b[0m\u001b[1;33m(\u001b[0m\u001b[0mx0\u001b[0m\u001b[1;33m,\u001b[0m \u001b[1;33m**\u001b[0m\u001b[0mself\u001b[0m\u001b[1;33m.\u001b[0m\u001b[0mkwargs\u001b[0m\u001b[1;33m)\u001b[0m\u001b[1;33m\u001b[0m\u001b[0m\n\u001b[0;32m    285\u001b[0m         \u001b[1;32melse\u001b[0m\u001b[1;33m:\u001b[0m\u001b[1;33m\u001b[0m\u001b[0m\n\u001b[1;32m--> 286\u001b[1;33m             \u001b[1;32mreturn\u001b[0m \u001b[0mself\u001b[0m\u001b[1;33m.\u001b[0m\u001b[0mminimizer\u001b[0m\u001b[1;33m(\u001b[0m\u001b[0mself\u001b[0m\u001b[1;33m.\u001b[0m\u001b[0mfunc\u001b[0m\u001b[1;33m,\u001b[0m \u001b[0mx0\u001b[0m\u001b[1;33m,\u001b[0m \u001b[1;33m**\u001b[0m\u001b[0mself\u001b[0m\u001b[1;33m.\u001b[0m\u001b[0mkwargs\u001b[0m\u001b[1;33m)\u001b[0m\u001b[1;33m\u001b[0m\u001b[0m\n\u001b[0m\u001b[0;32m    287\u001b[0m \u001b[1;33m\u001b[0m\u001b[0m\n\u001b[0;32m    288\u001b[0m \u001b[1;33m\u001b[0m\u001b[0m\n",
      "\u001b[1;32m~\\Anaconda3\\lib\\site-packages\\scipy\\optimize\\_minimize.py\u001b[0m in \u001b[0;36mminimize\u001b[1;34m(fun, x0, args, method, jac, hess, hessp, bounds, constraints, tol, callback, options)\u001b[0m\n\u001b[0;32m    596\u001b[0m \u001b[1;33m\u001b[0m\u001b[0m\n\u001b[0;32m    597\u001b[0m     \u001b[1;32mif\u001b[0m \u001b[0mmeth\u001b[0m \u001b[1;33m==\u001b[0m \u001b[1;34m'nelder-mead'\u001b[0m\u001b[1;33m:\u001b[0m\u001b[1;33m\u001b[0m\u001b[0m\n\u001b[1;32m--> 598\u001b[1;33m         \u001b[1;32mreturn\u001b[0m \u001b[0m_minimize_neldermead\u001b[0m\u001b[1;33m(\u001b[0m\u001b[0mfun\u001b[0m\u001b[1;33m,\u001b[0m \u001b[0mx0\u001b[0m\u001b[1;33m,\u001b[0m \u001b[0margs\u001b[0m\u001b[1;33m,\u001b[0m \u001b[0mcallback\u001b[0m\u001b[1;33m,\u001b[0m \u001b[1;33m**\u001b[0m\u001b[0moptions\u001b[0m\u001b[1;33m)\u001b[0m\u001b[1;33m\u001b[0m\u001b[0m\n\u001b[0m\u001b[0;32m    599\u001b[0m     \u001b[1;32melif\u001b[0m \u001b[0mmeth\u001b[0m \u001b[1;33m==\u001b[0m \u001b[1;34m'powell'\u001b[0m\u001b[1;33m:\u001b[0m\u001b[1;33m\u001b[0m\u001b[0m\n\u001b[0;32m    600\u001b[0m         \u001b[1;32mreturn\u001b[0m \u001b[0m_minimize_powell\u001b[0m\u001b[1;33m(\u001b[0m\u001b[0mfun\u001b[0m\u001b[1;33m,\u001b[0m \u001b[0mx0\u001b[0m\u001b[1;33m,\u001b[0m \u001b[0margs\u001b[0m\u001b[1;33m,\u001b[0m \u001b[0mcallback\u001b[0m\u001b[1;33m,\u001b[0m \u001b[1;33m**\u001b[0m\u001b[0moptions\u001b[0m\u001b[1;33m)\u001b[0m\u001b[1;33m\u001b[0m\u001b[0m\n",
      "\u001b[1;32m~\\Anaconda3\\lib\\site-packages\\scipy\\optimize\\optimize.py\u001b[0m in \u001b[0;36m_minimize_neldermead\u001b[1;34m(func, x0, args, callback, maxiter, maxfev, disp, return_all, initial_simplex, xatol, fatol, adaptive, **unknown_options)\u001b[0m\n\u001b[0;32m    644\u001b[0m                         \u001b[0mfsim\u001b[0m\u001b[1;33m[\u001b[0m\u001b[0mj\u001b[0m\u001b[1;33m]\u001b[0m \u001b[1;33m=\u001b[0m \u001b[0mfunc\u001b[0m\u001b[1;33m(\u001b[0m\u001b[0msim\u001b[0m\u001b[1;33m[\u001b[0m\u001b[0mj\u001b[0m\u001b[1;33m]\u001b[0m\u001b[1;33m)\u001b[0m\u001b[1;33m\u001b[0m\u001b[0m\n\u001b[0;32m    645\u001b[0m \u001b[1;33m\u001b[0m\u001b[0m\n\u001b[1;32m--> 646\u001b[1;33m         \u001b[0mind\u001b[0m \u001b[1;33m=\u001b[0m \u001b[0mnumpy\u001b[0m\u001b[1;33m.\u001b[0m\u001b[0margsort\u001b[0m\u001b[1;33m(\u001b[0m\u001b[0mfsim\u001b[0m\u001b[1;33m)\u001b[0m\u001b[1;33m\u001b[0m\u001b[0m\n\u001b[0m\u001b[0;32m    647\u001b[0m         \u001b[0msim\u001b[0m \u001b[1;33m=\u001b[0m \u001b[0mnumpy\u001b[0m\u001b[1;33m.\u001b[0m\u001b[0mtake\u001b[0m\u001b[1;33m(\u001b[0m\u001b[0msim\u001b[0m\u001b[1;33m,\u001b[0m \u001b[0mind\u001b[0m\u001b[1;33m,\u001b[0m \u001b[1;36m0\u001b[0m\u001b[1;33m)\u001b[0m\u001b[1;33m\u001b[0m\u001b[0m\n\u001b[0;32m    648\u001b[0m         \u001b[0mfsim\u001b[0m \u001b[1;33m=\u001b[0m \u001b[0mnumpy\u001b[0m\u001b[1;33m.\u001b[0m\u001b[0mtake\u001b[0m\u001b[1;33m(\u001b[0m\u001b[0mfsim\u001b[0m\u001b[1;33m,\u001b[0m \u001b[0mind\u001b[0m\u001b[1;33m,\u001b[0m \u001b[1;36m0\u001b[0m\u001b[1;33m)\u001b[0m\u001b[1;33m\u001b[0m\u001b[0m\n",
      "\u001b[1;32m<__array_function__ internals>\u001b[0m in \u001b[0;36margsort\u001b[1;34m(*args, **kwargs)\u001b[0m\n",
      "\u001b[1;32m~\\Anaconda3\\lib\\site-packages\\numpy\\core\\fromnumeric.py\u001b[0m in \u001b[0;36margsort\u001b[1;34m(a, axis, kind, order)\u001b[0m\n\u001b[0;32m   1103\u001b[0m \u001b[1;33m\u001b[0m\u001b[0m\n\u001b[0;32m   1104\u001b[0m     \"\"\"\n\u001b[1;32m-> 1105\u001b[1;33m     \u001b[1;32mreturn\u001b[0m \u001b[0m_wrapfunc\u001b[0m\u001b[1;33m(\u001b[0m\u001b[0ma\u001b[0m\u001b[1;33m,\u001b[0m \u001b[1;34m'argsort'\u001b[0m\u001b[1;33m,\u001b[0m \u001b[0maxis\u001b[0m\u001b[1;33m=\u001b[0m\u001b[0maxis\u001b[0m\u001b[1;33m,\u001b[0m \u001b[0mkind\u001b[0m\u001b[1;33m=\u001b[0m\u001b[0mkind\u001b[0m\u001b[1;33m,\u001b[0m \u001b[0morder\u001b[0m\u001b[1;33m=\u001b[0m\u001b[0morder\u001b[0m\u001b[1;33m)\u001b[0m\u001b[1;33m\u001b[0m\u001b[0m\n\u001b[0m\u001b[0;32m   1106\u001b[0m \u001b[1;33m\u001b[0m\u001b[0m\n\u001b[0;32m   1107\u001b[0m \u001b[1;33m\u001b[0m\u001b[0m\n",
      "\u001b[1;32m~\\Anaconda3\\lib\\site-packages\\numpy\\core\\fromnumeric.py\u001b[0m in \u001b[0;36m_wrapfunc\u001b[1;34m(obj, method, *args, **kwds)\u001b[0m\n\u001b[0;32m     59\u001b[0m \u001b[1;33m\u001b[0m\u001b[0m\n\u001b[0;32m     60\u001b[0m     \u001b[1;32mtry\u001b[0m\u001b[1;33m:\u001b[0m\u001b[1;33m\u001b[0m\u001b[0m\n\u001b[1;32m---> 61\u001b[1;33m         \u001b[1;32mreturn\u001b[0m \u001b[0mbound\u001b[0m\u001b[1;33m(\u001b[0m\u001b[1;33m*\u001b[0m\u001b[0margs\u001b[0m\u001b[1;33m,\u001b[0m \u001b[1;33m**\u001b[0m\u001b[0mkwds\u001b[0m\u001b[1;33m)\u001b[0m\u001b[1;33m\u001b[0m\u001b[0m\n\u001b[0m\u001b[0;32m     62\u001b[0m     \u001b[1;32mexcept\u001b[0m \u001b[0mTypeError\u001b[0m\u001b[1;33m:\u001b[0m\u001b[1;33m\u001b[0m\u001b[0m\n\u001b[0;32m     63\u001b[0m         \u001b[1;31m# A TypeError occurs if the object does have such a method in its\u001b[0m\u001b[1;33m\u001b[0m\u001b[1;33m\u001b[0m\u001b[0m\n",
      "\u001b[1;31mKeyboardInterrupt\u001b[0m: "
     ]
    }
   ],
   "source": [
    "Af, Bf, As, Bs, fit_V_dual = run_fits_dual(curvatures_smooth, 640, 640)\n",
    "#fits = run_fits_dual(curvatures_smooth, 640, 640)"
   ]
  },
  {
   "cell_type": "code",
   "execution_count": 228,
   "metadata": {},
   "outputs": [],
   "source": [
    "#Divide the whole thing into 16 trial blocks and fit them\n",
    "from functools import partial\n",
    "def run_fits_dual_transfer(curvatures, num_trials, part_size):\n",
    "    num_fits = int(num_trials/part_size)\n",
    "    fit_As = np.zeros((60, num_fits))\n",
    "    fit_Bs = np.zeros((60, num_fits))\n",
    "    fit_Af = np.zeros((60, num_fits))\n",
    "    fit_Bf = np.zeros((60, num_fits))\n",
    "    fit_V = np.full((60, num_fits), np.inf)\n",
    "    fit_success = np.zeros((60, num_fits))\n",
    "\n",
    "    for participant in range(60):\n",
    "        for fit_parts in range(num_fits):\n",
    "            starting_points = np.array([[0.9, 0.2, 0.99, 0.02]])\n",
    "            for initial_point in starting_points:\n",
    "                #if participant%4 == 0 or participant%4 == 1:      \n",
    "                    #fits = scipy.optimize.minimize(residuals_sudden, x0 = [initial_point[0], initial_point[1], initial_point[2], initial_point[3]], args = (640, np.nan_to_num(np.ravel(curvatures[participant][1:-1]), nan = np.nanmedian(curvatures[participant][1:-1]))), method = 'Nelder-Mead')            \n",
    "                fits = scipy.optimize.basinhopping(residuals_sudden_transfer, x0 = [initial_point[0], initial_point[1], initial_point[2], initial_point[3]], minimizer_kwargs={'args': (64, np.nan_to_num(np.ravel(curvatures[participant][-1:]), nan = np.nanmedian(curvatures[participant][-1:])), curvatures[participant, 10, -1]), 'method': 'Nelder-Mead'})\n",
    "\n",
    "                #if fits.fun < fit_V[participant][fit_parts]:\n",
    "                fit_Af[participant][fit_parts] = fits.x[0]\n",
    "                fit_Bf[participant][fit_parts] = fits.x[1]\n",
    "                fit_As[participant][fit_parts] = fits.x[2]\n",
    "                fit_Bs[participant][fit_parts] = fits.x[3]\n",
    "                fit_V[participant][fit_parts] = fits.fun\n",
    "                #fit_success[participant][fit_parts] = fits.success                \n",
    "                \"\"\"\n",
    "                else:\n",
    "                    #fits = scipy.optimize.minimize(residuals_gradual, x0 = [initial_point[0], initial_point[1], initial_point[2], initial_point[3]], args = (640, np.nan_to_num(np.ravel(curvatures[participant][1:-1]), nan = np.nanmedian(curvatures[participant][1:-1]))), method = 'Nelder-Mead')         \n",
    "                    fits = scipy.optimize.basinhopping(residuals_gradual, x0 = [initial_point[0], initial_point[1], initial_point[2], initial_point[3]], minimizer_kwargs={'args': (640, np.nan_to_num(np.ravel(curvatures[participant][1:-1]), nan = np.nanmedian(curvatures[participant][1:-1]))), 'method': 'Nelder-Mead'})\n",
    "                    #if fits.fun < fit_V[participant][fit_parts]:\n",
    "                    fit_Af[participant][fit_parts] = fits.x[0]\n",
    "                    fit_Bf[participant][fit_parts] = fits.x[1]\n",
    "                    fit_As[participant][fit_parts] = fits.x[2]\n",
    "                    fit_Bs[participant][fit_parts] = fits.x[3]\n",
    "                    fit_V[participant][fit_parts] = fits.fun\n",
    "                    #fit_success[participant][fit_parts] = fits.success\n",
    "                \"\"\"\n",
    "        print (participant, fit_V[participant])\n",
    "\n",
    "    return fit_Af, fit_Bf, fit_As, fit_Bs, fit_V"
   ]
  },
  {
   "cell_type": "code",
   "execution_count": 229,
   "metadata": {},
   "outputs": [
    {
     "name": "stdout",
     "output_type": "stream",
     "text": [
      "0 [17441.33483834]\n",
      "1 [9659.25691382]\n",
      "2 [10142.90009978]\n",
      "3 [12153.73805181]\n",
      "4 [2691.72761301]\n",
      "5 [381.48738569]\n",
      "6 [3772.18389406]\n",
      "7 [25399.01882074]\n",
      "8 [1864.47487678]\n",
      "9 [916.52641432]\n",
      "10 [6327.14300123]\n",
      "11 [7285.74901312]\n",
      "12 [5189.85263546]\n",
      "13 [21416.27696898]\n",
      "14 [1663.25182459]\n",
      "15 [6199.51118377]\n",
      "16 [11841.13717537]\n",
      "17 [507.28180989]\n",
      "18 [7654.26431655]\n",
      "19 [4836.80107998]\n",
      "20 [19790.1758355]\n",
      "21 [325.42013155]\n",
      "22 [21409.02568292]\n",
      "23 [638.33192724]\n",
      "24 [993.18984839]\n",
      "25 [7129.41920381]\n",
      "26 [6717.57122046]\n",
      "27 [31007.87801692]\n",
      "28 [6311.45199182]\n",
      "29 [1886.88720171]\n",
      "30 [2392.04934631]\n",
      "31 [7455.19882008]\n",
      "32 [6412.48664794]\n",
      "33 [10743.68982734]\n",
      "34 [5047.04379072]\n",
      "35 [327.60175181]\n",
      "36 [7974.12207424]\n",
      "37 [1931.4946209]\n",
      "38 [28587.85757122]\n",
      "39 [5264.89605646]\n",
      "40 [1210.75414078]\n",
      "41 [146.00355528]\n",
      "42 [10911.81745223]\n",
      "43 [1921.58612892]\n",
      "44 [1102.02888604]\n",
      "45 [15607.62293428]\n",
      "46 [6871.99112613]\n",
      "47 [5430.20008591]\n",
      "48 [60.03425052]\n",
      "49 [9404.72693159]\n",
      "50 [20803.67607488]\n",
      "51 [6907.91551795]\n",
      "52 [2305.49671547]\n",
      "53 [3300.67809742]\n",
      "54 [6662.23472101]\n",
      "55 [1176.55469103]\n",
      "56 [4287.7730942]\n",
      "57 [24.53757568]\n",
      "58 [8866.35498216]\n",
      "59 [789.96210889]\n"
     ]
    }
   ],
   "source": [
    "Af_transfer, Bf_transfer, As_transfer, Bs_transfer, V_transfer = run_fits_dual_transfer(curvatures_smooth, 64, 64)"
   ]
  },
  {
   "cell_type": "markdown",
   "metadata": {},
   "source": [
    "# Parameter Fits"
   ]
  },
  {
   "cell_type": "code",
   "execution_count": null,
   "metadata": {},
   "outputs": [],
   "source": [
    "plot_fits(Af_rts, m_rts, \"A slow\", \"m\")"
   ]
  },
  {
   "cell_type": "code",
   "execution_count": null,
   "metadata": {},
   "outputs": [],
   "source": []
  },
  {
   "cell_type": "markdown",
   "metadata": {},
   "source": [
    "## Collapse Across Sudden Gradual"
   ]
  },
  {
   "cell_type": "code",
   "execution_count": null,
   "metadata": {},
   "outputs": [],
   "source": [
    "plot_collapsed_across_rotation_fits(m_rts, Af, \"m\", \"Af\")"
   ]
  },
  {
   "cell_type": "code",
   "execution_count": null,
   "metadata": {},
   "outputs": [],
   "source": []
  },
  {
   "cell_type": "markdown",
   "metadata": {},
   "source": [
    "## Collapsing across Speed/Accuracy"
   ]
  },
  {
   "cell_type": "code",
   "execution_count": null,
   "metadata": {},
   "outputs": [],
   "source": [
    "plot_collapsed_across_emphasis_fits (As, alpha_rts, \"As\", \"alpha\")"
   ]
  },
  {
   "cell_type": "code",
   "execution_count": null,
   "metadata": {},
   "outputs": [],
   "source": []
  },
  {
   "cell_type": "code",
   "execution_count": null,
   "metadata": {},
   "outputs": [],
   "source": [
    "fit_V_single_state = fit_V\n"
   ]
  },
  {
   "cell_type": "code",
   "execution_count": null,
   "metadata": {},
   "outputs": [],
   "source": [
    "np.mean(fit_transfer_V)"
   ]
  },
  {
   "cell_type": "code",
   "execution_count": null,
   "metadata": {},
   "outputs": [],
   "source": []
  },
  {
   "cell_type": "code",
   "execution_count": null,
   "metadata": {},
   "outputs": [],
   "source": [
    "np.mean(fit_V)"
   ]
  },
  {
   "cell_type": "code",
   "execution_count": null,
   "metadata": {},
   "outputs": [],
   "source": [
    "np.mean(fit_V_dual)"
   ]
  },
  {
   "cell_type": "markdown",
   "metadata": {},
   "source": [
    "# % Variance accounted for"
   ]
  },
  {
   "cell_type": "code",
   "execution_count": null,
   "metadata": {},
   "outputs": [],
   "source": [
    "1 - np.sum(fit_transfer_V)/np.nansum((np.ravel(curvatures[:, 11, :]) - np.nanmean(curvatures[:, 11, :]))**2)"
   ]
  },
  {
   "cell_type": "code",
   "execution_count": null,
   "metadata": {},
   "outputs": [],
   "source": [
    "import pickle\n",
    "f = open('fit_V_dual.pickle', 'rb')\n",
    "fit_V_dual, Af, Bf, As, Bs, m= pickle.load(f)"
   ]
  },
  {
   "cell_type": "code",
   "execution_count": null,
   "metadata": {},
   "outputs": [],
   "source": [
    "1 - np.sum(fit_V_dual)/np.nansum((np.ravel(curvatures_smooth[:, 1:-1, :]) - np.nanmean(curvatures_smooth[:, 1:-1, :]))**2)"
   ]
  },
  {
   "cell_type": "code",
   "execution_count": null,
   "metadata": {},
   "outputs": [],
   "source": [
    "fpe = ((1+(5/640))/(1 - (5/640)))*np.mean(fit_V_dual)\n",
    "fpe"
   ]
  },
  {
   "cell_type": "code",
   "execution_count": null,
   "metadata": {},
   "outputs": [],
   "source": []
  },
  {
   "cell_type": "code",
   "execution_count": null,
   "metadata": {},
   "outputs": [],
   "source": []
  },
  {
   "cell_type": "code",
   "execution_count": null,
   "metadata": {
    "scrolled": false
   },
   "outputs": [],
   "source": [
    "plt.figure(figsize = (20, 10))\n",
    "errors_predict = np.zeros((60, 704))\n",
    "\n",
    "for participant in range(60):\n",
    "    if participant % 4 == 0 or participant%4 == 1:\n",
    "        errors_predict[participant][:640] = base_model_sudden(640, fit_A[participant], fit_B[participant])\n",
    "#num_trials, Af, Bf, As, Bs\n",
    "#        errors_predict[participant][:640] = dual_model_sudden(640, Af[participant], Bf[participant], As[participant], Bs[participant])\n",
    "\n",
    "    else:    \n",
    "#        errors_predict[participant][:640] = dual_model_gradual(640, Af[participant], Bf[participant], As[participant], Bs[participant])\n",
    "        errors_predict[participant][:640] = base_model_gradual(640, fit_A[participant], fit_B[participant])\n",
    "\n",
    "#    errors_predict[participant][640:] = dual_model_transfer(64, Af[participant], Bf[participant], As[participant], Bs[participant])\n",
    "    errors_predict[participant][640:] = base_model_transfer(64, fit_A[participant], fit_B[participant], np.nanmean(curvatures[participant][10][-16:]))\n",
    "\n",
    "for participant in range(4):\n",
    "    if participant % 4 == 0 or participant%4 == 1:\n",
    "        plt.subplot(4, 1, participant + 1 )\n",
    "        y_err = np.array(stat.norm.interval(0.95, loc = y, scale = y_err))\n",
    "        y_err = np.m\n",
    "        plt.plot(np.mean(errors_predict[participant::4], axis = 0))\n",
    "        plt.plot(np.ravel(np.mean(curvatures_smooth[participant::4], axis = 0)[1:]))\n",
    "    else:\n",
    "        plt.subplot(4, 1, participant + 1 )\n",
    "        plt.plot(np.mean(errors_predict[participant::4], axis = 0))\n",
    "        plt.plot(np.ravel(np.mean(curvatures_smooth[participant::4], axis = 0)[1:]))\n",
    "    plt.ylim((0, 100))\n"
   ]
  },
  {
   "cell_type": "code",
   "execution_count": null,
   "metadata": {},
   "outputs": [],
   "source": []
  },
  {
   "cell_type": "code",
   "execution_count": null,
   "metadata": {},
   "outputs": [],
   "source": [
    "import pandas as pd"
   ]
  },
  {
   "cell_type": "code",
   "execution_count": null,
   "metadata": {},
   "outputs": [],
   "source": [
    "df_A = pd.DataFrame({\"Emphasis\": np.tile([\"Speed\", \"Accuracy\"], 30),\n",
    "                   \"Rotation\": np.tile([\"Sudden\", \"Sudden\", \"Gradual\", \"Gradual\"], 15),\n",
    "                   \"fit_A\": Af[:, 0]})\n",
    "\n",
    "model_A = ols('fit_A ~ C(Emphasis)*C(Rotation)', data = df_A).fit()\n",
    "\n",
    "aov_table_A = sm.stats.anova_lm(model_A)\n",
    "\n",
    "\n",
    "df_B = pd.DataFrame({\"Emphasis\": np.tile([\"Speed\", \"Accuracy\"], 30),\n",
    "                   \"Rotation\": np.tile([\"Sudden\", \"Sudden\", \"Gradual\", \"Gradual\"], 15),\n",
    "                   \"fit_B\": Bf[:, 0]})\n",
    "\n",
    "model_B = ols('fit_B ~ C(Emphasis)*C(Rotation)', data = df_B).fit()\n",
    "aov_table_B = sm.stats.anova_lm(model_B)\n"
   ]
  },
  {
   "cell_type": "code",
   "execution_count": null,
   "metadata": {},
   "outputs": [],
   "source": [
    "aov_table_B"
   ]
  },
  {
   "cell_type": "code",
   "execution_count": null,
   "metadata": {},
   "outputs": [],
   "source": [
    "aov_table_A"
   ]
  },
  {
   "cell_type": "markdown",
   "metadata": {},
   "source": [
    "Effect of emphasis on As\n",
    "\n",
    "Effect of rotation and emphasis on Bf"
   ]
  },
  {
   "cell_type": "markdown",
   "metadata": {},
   "source": [
    "# State Space model for RT data"
   ]
  },
  {
   "cell_type": "code",
   "execution_count": null,
   "metadata": {},
   "outputs": [],
   "source": [
    "num_trials = 640\n",
    "def base_model_sudden(num_trials, RT, A, B, m):\n",
    " #   A = np.exp(A)/(1 + np.exp(A))\n",
    " #   B = np.exp(B)/(1 + np.exp(B))\n",
    "    \n",
    "    errors = np.zeros((num_trials))\n",
    "    rotation = 90\n",
    "    rotation_est = 0\n",
    "    for trial in range(num_trials - 1):\n",
    "        errors[trial] = rotation - rotation_est\n",
    "        #print(errors[trial])\n",
    "        #rotation_est = A*rotation_est + B*(1 - np.exp(-m*RT[trial+1]))*errors[trial]# + m*RT[trial+1]\n",
    "        rotation_est = A*rotation_est + B*errors[trial] + m*RT[trial+1]\n",
    " \n",
    "    #print (rotation_est)\n",
    "    errors[trial+1] = rotation - rotation_est\n",
    "    \n",
    "    return errors\n",
    "\n",
    "def base_model_gradual(num_trials, RT, A, B, m):\n",
    "#    A = np.exp(A)/(1 + np.exp(A))\n",
    "#    B = np.exp(B)/(1 + np.exp(B))\n",
    "    \n",
    "    errors = np.zeros((num_trials))\n",
    "    rotation_est = 0\n",
    "    rotation = 0\n",
    "    for trial in range(num_trials - 1):\n",
    "        if trial%64 == 0:\n",
    "            rotation = rotation + 10\n",
    "        if rotation > 90:\n",
    "            rotation = 90\n",
    "        errors[trial] = rotation - rotation_est\n",
    "        #print(errors[trial])\n",
    "#        rotation_est = A*rotation_est + B*(1 - np.exp(-m*RT[trial+1]))*errors[trial]# + m*RT[trial+1]\n",
    "        rotation_est = A*rotation_est + B*errors[trial] + m*RT[trial+1]\n",
    "\n",
    "        #print (rotation_est)\n",
    "    errors[trial+1] = rotation - rotation_est\n",
    "\n",
    "    return errors\n",
    "\n",
    "def residuals_base_sudden(params, num_trials, data_errors, RTs):\n",
    "#   model_errors = base_model_sudden(num_trials, params[0], params[1])\n",
    "    model_errors = base_model_sudden(num_trials, RTs, params[0], params[1], params[2])\n",
    "    residual_error = np.sum(np.square(model_errors - data_errors))\n",
    "    #if params[0] > params[2]:\n",
    "    #    residual_error = residual_error + 1000000\n",
    "    #if params[1] < params[3]:\n",
    "    #    residual_error = residual_error + 1000000\n",
    "    if params[0] < 0 or params[1] < 0:# or params[2] < 0:# or params[3] < 0:\n",
    "        residual_error = residual_error + 1000000\n",
    "    if params[0] > 1 or params[1] > 1:# or params[2] > 1:# or params[3] < 0:\n",
    "        residual_error = residual_error + 1000000\n",
    "\n",
    "    return residual_error\n",
    "\n",
    "def residuals_base_gradual(params, num_trials, data_errors, RTs):\n",
    "#   model_errors = base_model_sudden(num_trials, params[0], params[1])\n",
    "    model_errors = base_model_gradual(num_trials, RTs, params[0], params[1], params[2])\n",
    "    residual_error = np.sum(np.square(model_errors - data_errors))\n",
    "    #if params[0] > params[2]:\n",
    "    #    residual_error = residual_error + 1000000\n",
    "    #if params[1] < params[3]:\n",
    "    #    residual_error = residual_error + 1000000\n",
    "    if params[0] < 0 or params[1] < 0:# or params[2] < 0:# or params[3] < 0:\n",
    "        residual_error = residual_error + 1000000\n",
    "    if params[0] > 1 or params[1] > 1:# or params[2] > 1:# or params[3] < 0:\n",
    "        residual_error = residual_error + 1000000\n",
    "\n",
    "    return residual_error"
   ]
  },
  {
   "cell_type": "code",
   "execution_count": null,
   "metadata": {},
   "outputs": [],
   "source": []
  },
  {
   "cell_type": "markdown",
   "metadata": {},
   "source": [
    "# Read RT Data"
   ]
  },
  {
   "cell_type": "code",
   "execution_count": null,
   "metadata": {},
   "outputs": [],
   "source": [
    "def times(data, block):\n",
    "    initial_time = scipy.io.loadmat('data/data{data}/initial_time/initial_time{block}.mat'.format(block=str(block), data=str(data)))\n",
    "    movement_time = scipy.io.loadmat('data/data{data}/movement_time/movement_time{block}.mat'.format(block = str(block), data=str(data)))\n",
    "    #squares = scipy.io.loadmat('data/participants/data{data}/squares/coordinates/squares{block}.mat'.format(block=str(block), data=str(data)))\n",
    "    #xdiff = (ideal_traj['idealXs'] - traj['x'])\n",
    "    #ydiff = (ideal_traj['idealYs'] - traj['y'])\n",
    "    initial_time = initial_time['initial_time'][:, 0]\n",
    "    movement_time = movement_time['movement_time'][:, 0]\n",
    "    return initial_time, movement_time\n",
    "def get_times():\n",
    "    initial_times = np.zeros((60, 12, 64))\n",
    "    movement_times = np.zeros((60, 12, 64))\n",
    "    for participant in range(60):\n",
    "        for block in range(12):\n",
    "            it, mt = times(participant+1000, block)\n",
    "            initial_times[participant, block] = it\n",
    "            movement_times[participant, block] = mt\n",
    "    return initial_times, movement_times\n",
    "its, mts = get_times()"
   ]
  },
  {
   "cell_type": "code",
   "execution_count": null,
   "metadata": {},
   "outputs": [],
   "source": [
    "#Divide the whole thing into 16 trial blocks and fit them\n",
    "def run_fits(curvatures, RTs, num_trials, part_size, first):\n",
    "    num_parts = int((num_trials-first)/part_size)\n",
    "    fit_A = np.zeros((60, num_parts))\n",
    "    fit_B = np.zeros((60, num_parts))\n",
    "    fit_m = np.zeros((60, num_parts))\n",
    "    fit_bias = np.zeros((60, num_parts))\n",
    "    fit_V = np.full((60, num_parts), np.inf)\n",
    "    fit_success = np.zeros((60, num_parts))\n",
    "    fit_num = 0\n",
    "    #starting_points = np.array([[0.5, 0.6], [0.4, 0.7], [0.3, 0.8], [0.2, 0.9], [0.1, 0.99], [0.9, 0.2], [0.99, 0.1], [0.8, 0.3], [0.7, 0.4], [0.6, 0.5]])\n",
    "    \n",
    "    #A = np.log(params[0]/(1-params[0]))\n",
    "    #B = np.log(params[1]/(1-params[1]))\n",
    "\n",
    "#    starting_points = np.array([[np.log(0.999/(1 - 0.999)), np.log(0.002/(1 - 0.002))]])\n",
    "    starting_points = np.array([[0.999, 0.002, 0.1]])\n",
    "\n",
    "    for curr_trial in range(first, num_trials, part_size):\n",
    "        for participant in range(60):\n",
    "            for initial_point in starting_points:\n",
    "                if participant%4 == 0 or participant%4 == 1:\n",
    "                #print (np.nan_to_num(np.ravel(curvatures[participant])[first:first+part_size], nan = np.nanmedian(np.ravel(curvatures[participant])[first:first+part_size])))\n",
    "                #popt, pcov = curve_fit(base_model_sudden, part_size, np.nan_to_num(np.ravel(curvatures[participant])[curr_trial:curr_trial+part_size], nan = np.nanmedian(np.ravel(curvatures[participant])[curr_trial:curr_trial+part_size])), bounds=((0, 0), (1, np.inf)))\n",
    "                    #fits = scipy.optimize.minimize(residuals_base_sudden, x0 = [initial_point[0], initial_point[1]], args = (part_size, np.nan_to_num(np.ravel(curvatures[participant])[curr_trial:curr_trial+part_size], nan = np.nanmedian(np.ravel(curvatures[participant])[curr_trial:curr_trial+part_size]))), method = 'Nelder-Mead')\n",
    "                    fits = scipy.optimize.basinhopping(residuals_base_sudden, x0 = [initial_point[0], initial_point[1], initial_point[2]], minimizer_kwargs={'args': (part_size, np.nan_to_num(np.ravel(curvatures[participant])[curr_trial:curr_trial+part_size], nan = np.nanmedian(np.ravel(curvatures[participant])[curr_trial:curr_trial+part_size])), np.nan_to_num(np.ravel(RTs[participant])[curr_trial:curr_trial+part_size], nan = np.nanmedian(np.ravel(RTs[participant])[curr_trial:curr_trial+part_size]))), 'method': 'Nelder-Mead'}, stepsize=0.05)\n",
    "                    \n",
    "                    if fits.fun < fit_V[participant][fit_num]:\n",
    "                        fit_A[participant][fit_num] = fits.x[0]\n",
    "                        fit_B[participant][fit_num] = fits.x[1]\n",
    "                        fit_m[participant][fit_num] = fits.x[2]\n",
    "                        #fit_bias[participant][fit_num] = fits.x[2]\n",
    "                        fit_V[participant][fit_num] = fits.fun\n",
    "                        #fit_success[participant][fit_num] = fits.success   \n",
    "                    \n",
    "                else:\n",
    "                    #popt, pcov = curve_fit(base_model_gradual, part_size, np.nan_to_num(np.ravel(curvatures[participant])[curr_trial:curr_trial+part_size], nan = np.nanmedian(np.ravel(curvatures[participant])[curr_trial:curr_trial+part_size])), bounds=((0, 0), (1, np.inf)))\n",
    "                    #fits = scipy.optimize.minimize(residuals_base_gradual, x0 = [initial_point[0], initial_point[1]], args = (part_size, np.nan_to_num(np.ravel(curvatures[participant])[curr_trial:curr_trial+part_size], nan = np.nanmedian(np.ravel(curvatures[participant])[curr_trial:curr_trial+part_size]))), method = 'Nelder-Mead')\n",
    "                    fits = scipy.optimize.basinhopping(residuals_base_gradual, x0 = [initial_point[0], initial_point[1], initial_point[2]], minimizer_kwargs={'args': (part_size, np.nan_to_num(np.ravel(curvatures[participant])[curr_trial:curr_trial+part_size], nan = np.nanmedian(np.ravel(curvatures[participant])[curr_trial:curr_trial+part_size])), np.nan_to_num(np.ravel(its[participant])[curr_trial:curr_trial+part_size], nan = np.nanmedian(np.ravel(RTs[participant])[curr_trial:curr_trial+part_size]))), 'method': 'Nelder-Mead'}, stepsize = 0.05)\n",
    "                    \n",
    "                    if fits.fun < fit_V[participant][fit_num]:\n",
    "                        fit_A[participant][fit_num] = fits.x[0]\n",
    "                        fit_B[participant][fit_num] = fits.x[1]\n",
    "                        fit_m[participant][fit_num] = fits.x[2]\n",
    "                        #fit_bias[participant][fit_num] = fits.x[2]\n",
    "                        fit_V[participant][fit_num] = fits.fun\n",
    "                        #fit_success[participant][fit_num] = fits.success\n",
    "                print (participant, fits.fun)\n",
    "\n",
    "        fit_num = fit_num + 1\n",
    "    return fit_A, fit_B, fit_m, fit_V\n",
    "        "
   ]
  },
  {
   "cell_type": "code",
   "execution_count": null,
   "metadata": {},
   "outputs": [],
   "source": [
    "fit_A, fit_B, fit_m, fit_V = run_fits(curvatures_smooth, its, 704, 640, 64)"
   ]
  },
  {
   "cell_type": "code",
   "execution_count": null,
   "metadata": {},
   "outputs": [],
   "source": [
    "def plot_data_vs_fits(its, fit_A, fit_B, fit_m):\n",
    "    plt.figure(figsize = (20, 10))\n",
    "    errors_predict = np.zeros((60, 704))\n",
    "\n",
    "    for participant in range(60):\n",
    "        if participant % 4 == 0 or participant%4 == 1:\n",
    "            errors_predict[participant][:640] = base_model_sudden(640,np.ravel(its[participant][1:-1]), fit_A[participant], fit_B[participant], fit_m[participant])\n",
    "\n",
    "        else:    \n",
    "            errors_predict[participant][:640] = base_model_gradual(640, np.ravel(its[participant][1:-1]), fit_A[participant], fit_B[participant], fit_m[participant])\n",
    "\n",
    "        #errors_predict[participant][640:] = base_model_transfer(64, fit_A[participant], fit_B[participant])\n",
    "\n",
    "    for participant in range(4):\n",
    "        if participant % 4 == 0 or participant%4 == 1:\n",
    "            plt.subplot(4, 1, participant + 1 )\n",
    "            plt.plot(np.mean(errors_predict[participant::4], axis = 0))\n",
    "            plt.plot(np.ravel(np.mean(curvatures_smooth[participant::4], axis = 0)[1:]))\n",
    "        else:\n",
    "            plt.subplot(4, 1, participant + 1 )\n",
    "            plt.plot(np.mean(errors_predict[participant::4], axis = 0))\n",
    "            plt.plot(np.ravel(np.mean(curvatures_smooth[participant::4], axis = 0)[1:]))\n",
    "        plt.ylim((0, 100))\n"
   ]
  },
  {
   "cell_type": "code",
   "execution_count": null,
   "metadata": {},
   "outputs": [],
   "source": [
    "plot_data_vs_fits(its, fit_A, fit_B, fit_m)"
   ]
  },
  {
   "cell_type": "code",
   "execution_count": null,
   "metadata": {},
   "outputs": [],
   "source": [
    "def plot_fits(fit_A, fit_B, x_label, y_label):\n",
    "    x = np.array([np.nanmean(fit_A[0::4, :], axis = 0), np.nanmean(fit_A[1::4, :], axis = 0), np.nanmean(fit_A[2::4, :], axis = 0), np.nanmean(fit_A[3::4, :], axis = 0)])\n",
    "    y = np.array([np.nanmean(fit_B[0::4, :], axis = 0), np.nanmean(fit_B[1::4, :], axis = 0), np.nanmean(fit_B[2::4, :], axis = 0), np.nanmean(fit_B[3::4, :], axis = 0)])\n",
    "    x_err = np.array([stat.sem(fit_A[0::4, :], axis = 0), stat.sem(fit_A[1::4, :], axis = 0), stat.sem(fit_A[2::4, :], axis = 0), stat.sem(fit_A[3::4, :], axis = 0)])\n",
    "    y_err = np.array([stat.sem(fit_B[0::4, :], axis = 0), stat.sem(fit_B[1::4, :], axis = 0), stat.sem(fit_B[2::4, :], axis = 0), stat.sem(fit_B[3::4, :], axis = 0)])\n",
    "    #x_err = np.array([stat.tstd(fit_A[0::4, :], axis = 0), stat.tstd(fit_A[1::4, :], axis = 0), stat.tstd(fit_A[2::4, :], axis = 0), stat.tstd(fit_A[3::4, :], axis = 0)])\n",
    "    #y_err = np.array([stat.tstd(fit_B[0::4, :], axis = 0), stat.tstd(fit_B[1::4, :], axis = 0), stat.tstd(fit_B[2::4, :], axis = 0), stat.tstd(fit_B[3::4, :], axis = 0)])\n",
    "\n",
    "    #x_conf_interval = np.array(stat.norm.interval(0.83, loc = x, scale = x_err))\n",
    "    #y_conf_interval = np.array(stat.norm.interval(0.83, loc = y, scale = y_err))\n",
    "    x_CI = x - np.array(stat.norm.interval(0.95, loc = x, scale = x_err))[0, :], np.array(stat.norm.interval(0.95, loc = x, scale = x_err))[1, :] - x\n",
    "    y_CI = y - np.array(stat.norm.interval(0.95, loc = y, scale = y_err))[0, :], np.array(stat.norm.interval(0.95, loc = y, scale = y_err))[1, :] - y\n",
    "\n",
    "\n",
    "    #print (x_conf_interval[:, 0])\n",
    "    #plt.errorbar(x, y, xerr = x_err, yerr = y_err, linestyle = 'None', capsize = 3)\n",
    "    plot0 = plt.errorbar(x[0], y[0], xerr = [x_CI[0][0], x_CI[1][0]], yerr = [y_CI[0][0], y_CI[1][0]], capsize = 3)\n",
    "    plot1 = plt.errorbar(x[1], y[1], xerr = [x_CI[0][1], x_CI[1][1]], yerr = [y_CI[0][1], y_CI[1][1]], capsize = 3)\n",
    "    plot2 = plt.errorbar(x[2], y[2], xerr = [x_CI[0][2], x_CI[1][2]], yerr = [y_CI[0][2], y_CI[1][2]], capsize = 3)\n",
    "    plot3 = plt.errorbar(x[3], y[3], xerr = [x_CI[0][3], x_CI[1][3]], yerr = [y_CI[0][3], y_CI[1][3]], capsize = 3)\n",
    "\n",
    "    #plot0 = plt.scatter(fit_A[0::4], fit_B[0::4])\n",
    "    #plot1 = plt.scatter(fit_A[1::4], fit_B[1::4])\n",
    "    #plot2 = plt.scatter(fit_A[2::4], fit_B[2::4])\n",
    "    #plot3 = plt.scatter(fit_A[3::4], fit_B[3::4])\n",
    "\n",
    "    plt.legend((plot0, plot1, plot2, plot3), ('Sudden Speed', 'Sudden Accuracy', 'Gradual Speed', 'Gradual Accuracy'))\n",
    "    plt.xlabel(x_label)\n",
    "    plt.ylabel(y_label)"
   ]
  },
  {
   "cell_type": "code",
   "execution_count": null,
   "metadata": {},
   "outputs": [],
   "source": [
    "#plot_fits(np.reshape(np.mean(np.nanmedian(its, axis = 2), axis = 1), (60, 1)), fit_m, \"Mean ITs\", \"fit_m\")\n",
    "#with plt.xkcd():\n",
    "plot_fits(Bs, alpha, \"fit_B\", \"alpha\")"
   ]
  },
  {
   "cell_type": "markdown",
   "metadata": {},
   "source": [
    "## Adding RT to dual state model"
   ]
  },
  {
   "cell_type": "code",
   "execution_count": null,
   "metadata": {},
   "outputs": [],
   "source": [
    "def dual_model_sudden_rts(num_trials, rts, Af, Bf, As, Bs, alpha):\n",
    "    errors = np.zeros((num_trials))\n",
    "    rotation = 90\n",
    "    fast_est = 0\n",
    "    slow_est = 0\n",
    "    rotation_est = fast_est + slow_est\n",
    "    for trial in range(num_trials - 1):\n",
    "        errors[trial] = rotation - rotation_est\n",
    "        #print(errors[trial])\n",
    "        fast_est = Af*fast_est + Bf*errors[trial]\n",
    "        slow_est = As*slow_est + Bs*errors[trial]\n",
    "        #Adding alpha to see relative contributions of the fast and the slow systems\n",
    "        rotation_est = alpha*fast_est + (1-alpha)*slow_est# + m*rts[trial+1]\n",
    "        #print (rotation_est)\n",
    "    errors[trial+1] = rotation - rotation_est\n",
    "    return errors\n",
    "\n",
    "def dual_model_gradual_rts(num_trials, rts, Af, Bf, As, Bs, alpha):\n",
    "    errors = np.zeros((num_trials))\n",
    "    fast_est = 0\n",
    "    slow_est = 0\n",
    "    rotation_est = 0\n",
    "    rotation = 0\n",
    "    for trial in range(num_trials-1):\n",
    "        if trial%64 == 0:\n",
    "            rotation = rotation + 10\n",
    "        if rotation > 90:\n",
    "            rotation = 90\n",
    "        errors[trial] = rotation - rotation_est\n",
    "        #print(errors[trial])\n",
    "        #Adding alpha to see relative contributions of the fast and the slow systems\n",
    "        fast_est = Af*fast_est + Bf*errors[trial]\n",
    "        slow_est = As*slow_est + Bs*errors[trial]\n",
    "        rotation_est = alpha*fast_est + (1-alpha)*slow_est# + m*rts[trial+1]\n",
    "        #print (rotation_est)\n",
    "    errors[trial+1] = rotation - rotation_est\n",
    "    return errors\n"
   ]
  },
  {
   "cell_type": "code",
   "execution_count": null,
   "metadata": {},
   "outputs": [],
   "source": [
    "def residuals_sudden_rts(params, num_trials, data_errors, rts):\n",
    "    model_errors = dual_model_sudden_rts(num_trials, rts, params[0], params[1], params[2], params[3], params[4])#, params[5])\n",
    "    residual_error = np.sum(np.square(model_errors - data_errors))\n",
    "    if params[0] > params[2]:\n",
    "        residual_error = residual_error + 10000000\n",
    "    if params[1] < params[3]:\n",
    "        residual_error = residual_error + 10000000\n",
    "    if params[0] < 0 or params[1] < 0 or params[2] < 0 or params[3] < 0:# or params[4] < 0:\n",
    "        residual_error = residual_error + 10000000\n",
    "    if params[0] > 1 or params[1] > 1 or params[2] > 1 or params[3] > 1:# or params[4] < 0:\n",
    "        residual_error = residual_error + 10000000\n",
    "    if params[4] < 0 or params[4] > 1:\n",
    "        residual_error = residual_error+100000000\n",
    "    return residual_error\n",
    "\n",
    "def residuals_gradual_rts(params, num_trials, data_errors, rts):\n",
    "    model_errors = dual_model_gradual_rts(num_trials, rts, params[0], params[1], params[2], params[3], params[4])#, params[5])\n",
    "    residual_error = np.sum(np.square(model_errors - data_errors))\n",
    "    if params[0] > params[2]:\n",
    "        residual_error = residual_error + 10000000\n",
    "    if params[1] < params[3]:\n",
    "        residual_error = residual_error + 10000000\n",
    "    if params[0] < 0 or params[1] < 0 or params[2] < 0 or params[3] < 0:# or params[4] < 0:\n",
    "        residual_error = residual_error + 10000000\n",
    "    if params[0] > 1 or params[1] > 1 or params[2] > 1 or params[3] > 1:# or params[4] < 0:\n",
    "        residual_error = residual_error + 10000000\n",
    "\n",
    "    if params[4] < 0 or params[4] > 1:\n",
    "        residual_error = residual_error+100000000\n",
    "\n",
    "    return residual_error"
   ]
  },
  {
   "cell_type": "code",
   "execution_count": null,
   "metadata": {},
   "outputs": [],
   "source": [
    "#Divide the whole thing into 16 trial blocks and fit them\n",
    "def run_fits_dual_rts(curvatures, rts, num_trials, part_size):\n",
    "    num_fits = int(num_trials/part_size)\n",
    "    fit_As = np.zeros((60, num_fits))\n",
    "    fit_Bs = np.zeros((60, num_fits))\n",
    "    fit_Af = np.zeros((60, num_fits))\n",
    "    fit_Bf = np.zeros((60, num_fits))\n",
    "    fit_V = np.full((60, num_fits), np.inf)\n",
    "    #fit_m = np.zeros((60, num_fits))\n",
    "    fit_alpha = np.zeros((60, num_fits))\n",
    "    fit_success = np.zeros((60, num_fits))\n",
    "\n",
    "    for participant in range(60):\n",
    "        for fit_parts in range(num_fits):\n",
    "            #starting_points = np.array([[fit_A[participant][fit_parts], fit_B[participant][fit_parts], 0.9, 0.2], [fit_A[participant][fit_parts], fit_B[participant][fit_parts], 0.99, 0.1], [fit_A[participant][fit_parts], fit_B[participant][fit_parts], 0.8, 0.3], [fit_A[participant][fit_parts], fit_B[participant][fit_parts], 0.7, 0.4], [fit_A[participant][fit_parts], fit_B[participant][fit_parts], 0.6, 0.5], [fit_A[participant][fit_parts], fit_B[participant][fit_parts], 0.5, 0.6], [fit_A[participant][fit_parts], fit_B[participant][fit_parts], 0.4, 0.7], [fit_A[participant][fit_parts], fit_B[participant][fit_parts], 0.3, 0.8], [fit_A[participant][fit_parts], fit_B[participant][fit_parts], 0.2, 0.9], [fit_A[participant][fit_parts], fit_B[participant][fit_parts], 0.1, 0.99],\n",
    "            #                [0.9, 0.2, fit_A[participant][fit_parts], fit_B[participant][fit_parts]], [0.99, 0.1, fit_A[participant][fit_parts], fit_B[participant][fit_parts]], [0.8, 0.3, fit_A[participant][fit_parts], fit_B[participant][fit_parts]], [0.7, 0.4, fit_A[participant][fit_parts], fit_B[participant][fit_parts]], [0.6, 0.5, fit_A[participant][fit_parts], fit_B[participant][fit_parts]], [0.5, 0.6, fit_A[participant][fit_parts], fit_B[participant][fit_parts]], [0.4, 0.7, fit_A[participant][fit_parts], fit_B[participant][fit_parts]], [0.3, 0.8, fit_A[participant][fit_parts], fit_B[participant][fit_parts]], [0.2, 0.9, fit_A[participant][fit_parts], fit_B[participant][fit_parts]], [0.1, 0.99, fit_A[participant][fit_parts], fit_B[participant][fit_parts]]])\n",
    "            #starting_points = np.array([[0.9, 0.2, 0.99, 0.02], [0.8, 0.3, 0.9, 0.03], [0.7, 0.4, 0.8, 0.04], [0.6, 0.5, 0.7, 0.05]])\n",
    "            starting_points = np.array([[0.9, 0.2, 0.99, 0.02, 0.5]])\n",
    "            for initial_point in starting_points:\n",
    "                if participant%4 == 0 or participant%4 == 1:      \n",
    "                    #fits = scipy.optimize.minimize(residuals_sudden, x0 = [initial_point[0], initial_point[1], initial_point[2], initial_point[3]], args = (640, np.nan_to_num(np.ravel(curvatures[participant][1:-1]), nan = np.nanmedian(curvatures[participant][1:-1]))), method = 'Nelder-Mead')            \n",
    "                    fits = scipy.optimize.basinhopping(residuals_sudden_rts, x0 = [initial_point[0], initial_point[1], initial_point[2], initial_point[3], initial_point[4]], minimizer_kwargs={'args': (640, np.nan_to_num(np.ravel(curvatures[participant][1:-1]), nan = np.nanmedian(curvatures[participant][1:-1])), np.ravel(rts[participant][1:-1])), 'method': 'Nelder-Mead'})\n",
    "                    \n",
    "                    if fits.fun < fit_V[participant][fit_parts]:\n",
    "                        fit_Af[participant][fit_parts] = fits.x[0]\n",
    "                        fit_Bf[participant][fit_parts] = fits.x[1]\n",
    "                        fit_As[participant][fit_parts] = fits.x[2]\n",
    "                        fit_Bs[participant][fit_parts] = fits.x[3]\n",
    "                        #fit_m[participant][fit_parts] = fits.x[4]\n",
    "                        fit_alpha[participant][fit_parts] = fits.x[4]\n",
    "                        fit_V[participant][fit_parts] = fits.fun\n",
    "                        #fit_success[participant][fit_parts] = fits.success                \n",
    "                else:\n",
    "                    #fits = scipy.optimize.minimize(residuals_gradual, x0 = [initial_point[0], initial_point[1], initial_point[2], initial_point[3]], args = (640, np.nan_to_num(np.ravel(curvatures[participant][1:-1]), nan = np.nanmedian(curvatures[participant][1:-1]))), method = 'Nelder-Mead')         \n",
    "                    fits = scipy.optimize.basinhopping(residuals_gradual_rts, x0 = [initial_point[0], initial_point[1], initial_point[2], initial_point[3], initial_point[4]], minimizer_kwargs={'args': (640, np.nan_to_num(np.ravel(curvatures[participant][1:-1]), nan = np.nanmedian(curvatures[participant][1:-1])), np.ravel(rts[participant][1:-1])), 'method': 'Nelder-Mead'})\n",
    "                    if fits.fun < fit_V[participant][fit_parts]:\n",
    "                        fit_Af[participant][fit_parts] = fits.x[0]\n",
    "                        fit_Bf[participant][fit_parts] = fits.x[1]\n",
    "                        fit_As[participant][fit_parts] = fits.x[2]\n",
    "                        fit_Bs[participant][fit_parts] = fits.x[3]\n",
    "                        #fit_m[participant][fit_parts] = fits.x[4]\n",
    "                        fit_alpha[participant][fit_parts] = fits.x[4]\n",
    "                        fit_V[participant][fit_parts] = fits.fun\n",
    "                        #fit_success[participant][fit_parts] = fits.success\n",
    "\n",
    "        print (participant, fits.fun)\n",
    "    return fit_Af, fit_Bf, fit_As, fit_Bs, fit_alpha, fit_V, fit_success\n",
    "        "
   ]
  },
  {
   "cell_type": "code",
   "execution_count": null,
   "metadata": {},
   "outputs": [],
   "source": [
    "Af, Bf, As, Bs, alpha, fit_V_dual, fit_success_dual = run_fits_dual_rts(curvatures_smooth, its, 640, 640)"
   ]
  },
  {
   "cell_type": "code",
   "execution_count": null,
   "metadata": {},
   "outputs": [],
   "source": [
    "df_A = pd.DataFrame({\"Emphasis\": np.tile([\"Speed\", \"Accuracy\"], 30),\n",
    "                   \"Rotation\": np.tile([\"Sudden\", \"Sudden\", \"Gradual\", \"Gradual\"], 15),\n",
    "                   \"fit_A\": Af_rts[:, 0]})\n",
    "\n",
    "model_A = ols('fit_A ~ C(Emphasis)*C(Rotation)', data = df_A).fit()\n",
    "\n",
    "aov_table_A = sm.stats.anova_lm(model_A)\n",
    "\n",
    "\n",
    "df_B = pd.DataFrame({\"Emphasis\": np.tile([\"Speed\", \"Accuracy\"], 30),\n",
    "                   \"Rotation\": np.tile([\"Sudden\", \"Sudden\", \"Gradual\", \"Gradual\"], 15),\n",
    "                   \"fit_B\": Bf_rts[:, 0]})\n",
    "\n",
    "model_B = ols('fit_B ~ C(Emphasis)*C(Rotation)', data = df_B).fit()\n",
    "aov_table_B = sm.stats.anova_lm(model_B)\n"
   ]
  },
  {
   "cell_type": "code",
   "execution_count": null,
   "metadata": {},
   "outputs": [],
   "source": [
    "aov_table_B"
   ]
  },
  {
   "cell_type": "markdown",
   "metadata": {},
   "source": [
    "# Save Params"
   ]
  },
  {
   "cell_type": "code",
   "execution_count": 9,
   "metadata": {},
   "outputs": [],
   "source": [
    "import pickle\n"
   ]
  },
  {
   "cell_type": "code",
   "execution_count": null,
   "metadata": {},
   "outputs": [],
   "source": [
    "with open('fit_dual_additive_unbound_alphaed.pickle', 'wb') as f:\n",
    "    pickle.dump([fit_V_dual_rts, Af_rts, Bf_rts, As_rts, Bs_rts, m_rts, alpha_rts], f)\n",
    "f.close()"
   ]
  },
  {
   "cell_type": "markdown",
   "metadata": {},
   "source": [
    "# Load Params"
   ]
  },
  {
   "cell_type": "code",
   "execution_count": 18,
   "metadata": {},
   "outputs": [],
   "source": [
    "params = pickle.load(open('fit_dual_additive_bound.pickle', 'rb'))"
   ]
  },
  {
   "cell_type": "code",
   "execution_count": 27,
   "metadata": {},
   "outputs": [
    {
     "data": {
      "text/plain": [
       "(60, 1)"
      ]
     },
     "execution_count": 27,
     "metadata": {},
     "output_type": "execute_result"
    }
   ],
   "source": [
    "np.shape(params[1])"
   ]
  },
  {
   "cell_type": "code",
   "execution_count": 379,
   "metadata": {},
   "outputs": [],
   "source": [
    "def plot_data_vs_fits(Af, Bf, As, Bs):\n",
    "    plt.figure(figsize = (20, 10))\n",
    "    errors_predict = np.zeros((60, 704))\n",
    "    fast = np.zeros((60, 704))\n",
    "    slow = np.zeros((60, 704))\n",
    "    rotation_est = np.zeros((60, 704))\n",
    "    for participant in range(60):\n",
    "        if participant % 4 == 0 or participant%4 == 1:\n",
    "            errors_predict[participant][:640], rotation_est[participant][:640], fast[participant][:640], slow[participant][:640] = dual_model_sudden(640, Af[participant], Bf[participant], As[participant], Bs[participant])\n",
    "\n",
    "        else:    \n",
    "            errors_predict[participant][:640], rotation_est[participant][:640], fast[participant][:640], slow[participant][:640] = dual_model_gradual(640, Af[participant], Bf[participant], As[participant], Bs[participant])\n",
    "\n",
    "        errors_predict[participant][640:], rotation_est[participant][640:], fast[participant][640:], slow[participant][640:] = dual_model_transfer(64, Af[participant], Bf[participant], As[participant], Bs[participant], rotation_est[participant][639])\n",
    "        #rotation_est[participant][640:] = -rotation_est[participant][640:]\n",
    "    #print (rotation_est[participant-2][639], rotation_est[participant-2][640])\n",
    "    #print (rotation_est[1][640:])    \n",
    "    for participant in range(4):\n",
    "        if participant % 4 == 0 or participant%4 == 1:\n",
    "            plt.subplot(4, 1, participant + 1 )\n",
    "            #plt.plot(np.nanmean(errors_predict[participant::4], axis = 0))\n",
    "            #plt.plot(np.nanmean(rotation_est[participant::4], axis = 0))\n",
    "            #plt.plot(np.nanmean(fast[participant::4], axis = 0))\n",
    "            #plt.plot(np.nanmean(slow[participant::4], axis = 0))\n",
    "            plt.plot(np.append(np.ravel(np.nanmean(curvatures_smooth[participant::4], axis = 0)[:-1]), np.ravel(np.nanmean(curvatures_smooth[participant::4], axis = 0)[11])))\n",
    "        else:\n",
    "            plt.subplot(4, 1, participant + 1 )\n",
    "            #plt.plot(np.nanmean(errors_predict[participant::4], axis = 0))    \n",
    "            #plt.plot(np.nanmean(rotation_est[participant::4], axis = 0))\n",
    "            #plt.plot(np.nanmean(fast[participant::4], axis = 0))\n",
    "            #plt.plot(np.nanmean(slow[participant::4], axis = 0))\n",
    "            plt.plot(np.ravel(np.nanmean(curvatures_smooth[participant::4], axis = 0)[:]))\n",
    "        plt.ylim((-100, 150))\n"
   ]
  },
  {
   "cell_type": "code",
   "execution_count": 380,
   "metadata": {},
   "outputs": [
    {
     "data": {
      "text/plain": [
       "array([40.23583015, 37.92847018, 34.56502122, 31.68024595, 29.90288821,\n",
       "       29.08774572, 28.56687397, 27.77484008, 26.63694095, 25.51689751,\n",
       "       24.86215972, 24.83344412, 25.17809661, 25.43401219, 25.15013473,\n",
       "       24.55876947, 23.96487786, 23.7284669 , 23.89798112, 24.57186948,\n",
       "       24.75994767, 24.80580831, 24.8471142 , 26.55001979, 26.52548833,\n",
       "       25.97770119, 24.61406681, 22.41665178, 19.78902255, 17.39878147,\n",
       "       16.85666252, 16.60076639, 15.4740755 , 14.5098216 , 13.91926785,\n",
       "       13.70938563, 13.73046168, 13.94328282, 14.38301065, 14.92339027,\n",
       "       15.29030231, 16.34104577, 15.99967211, 15.54198076, 15.08793066,\n",
       "       14.58977724, 13.9530373 , 12.45518059, 12.0002167 , 11.84474234,\n",
       "       11.99367436, 12.31254712, 12.63467286, 12.85140406, 12.93239239,\n",
       "       12.09413022, 12.18488314, 12.44488386, 12.34466356, 12.07478062,\n",
       "       11.0781899 ,  9.57219442,  8.13810365,  7.29931475])"
      ]
     },
     "execution_count": 380,
     "metadata": {},
     "output_type": "execute_result"
    }
   ],
   "source": [
    "np.ravel(np.nanmean(curvatures_smooth[0::4], axis = 0)[11])"
   ]
  },
  {
   "cell_type": "code",
   "execution_count": 381,
   "metadata": {},
   "outputs": [
    {
     "data": {
      "image/png": "[encoded data removed]",
      "text/plain": [
       "<Figure size 1440x720 with 4 Axes>"
      ]
     },
     "metadata": {
      "needs_background": "light"
     },
     "output_type": "display_data"
    }
   ],
   "source": [
    "plot_data_vs_fits(params[1], params[2], params[3], params[4])"
   ]
  },
  {
   "cell_type": "markdown",
   "metadata": {},
   "source": [
    "# Direction-Wise analysis"
   ]
  },
  {
   "cell_type": "code",
   "execution_count": null,
   "metadata": {},
   "outputs": [],
   "source": [
    "def get_targets():\n",
    "    targets = np.zeros((60, 12, 64))\n",
    "    for data in range(1000, 1060):\n",
    "        for block in range(12):\n",
    "            target_load = scipy.io.loadmat('data/data{data}/squares/squares{block}.mat'.format(block=str(block), data=str(data)))\n",
    "            targets[data-1000][block][:]= target_load['squares'][0]\n",
    "    return targets"
   ]
  },
  {
   "cell_type": "code",
   "execution_count": null,
   "metadata": {},
   "outputs": [],
   "source": [
    "targets = get_targets()"
   ]
  },
  {
   "cell_type": "code",
   "execution_count": null,
   "metadata": {},
   "outputs": [],
   "source": [
    "def target_specific_measures(targets, measure):\n",
    "    target_measure = np.zeros((60, 12, 4, 16), dtype = measure.dtype)\n",
    "    for participant in range(60):\n",
    "        for block in range(12):\n",
    "            for target_loc in range(4):\n",
    "                target_measure[participant][block][target_loc] = measure[participant][block][np.where(targets[participant][block] == np.unique(targets[participant][block])[target_loc])]\n",
    "    return target_measure"
   ]
  },
  {
   "cell_type": "code",
   "execution_count": null,
   "metadata": {},
   "outputs": [],
   "source": [
    "target_curvatures = target_specific_measures(targets, curvatures)\n",
    "target_its = target_specific_measures(targets, its)\n",
    "target_mts = target_specific_measures(targets, mts)"
   ]
  },
  {
   "cell_type": "code",
   "execution_count": null,
   "metadata": {},
   "outputs": [],
   "source": []
  },
  {
   "cell_type": "code",
   "execution_count": null,
   "metadata": {},
   "outputs": [],
   "source": [
    "def difference_in_directions(condition, direction_considered, target_measure, title_text, y_label):\n",
    "    permutation = list()\n",
    "    permutation.append(direction_considered)\n",
    "        \n",
    "    for i in range(4):\n",
    "        if i == direction_considered:\n",
    "            continue\n",
    "        else:\n",
    "            permutation.append(i)\n",
    "    print (permutation)\n",
    "    idx = np.empty_like(permutation)\n",
    "    idx[permutation] = np.arange(len(permutation))\n",
    "\n",
    "    plot0, = plt.plot(np.ravel(np.nanmean(target_measure[condition::4, :, direction_considered, :], axis = 0)))\n",
    "    rearanged_measure = target_measure[:, :, idx, :]\n",
    "    plot1, = plt.plot(np.ravel(np.nanmean(np.mean(rearanged_measure[condition::4, :, 1:, :], axis = 0), axis = 1)))\n",
    "    plt.legend((plot0, plot1), ('Direction Considered', 'Mean of other directions'))\n",
    "    plt.title(title_text)\n",
    "    plt.xlabel('trials')\n",
    "    plt.ylabel(y_label)\n"
   ]
  },
  {
   "cell_type": "code",
   "execution_count": null,
   "metadata": {},
   "outputs": [],
   "source": [
    "plot0, = plt.plot(np.ravel(np.mean(target_curvatures[3::4, :, 0, :], axis = 0)))\n",
    "plot1, = plt.plot(np.ravel(np.mean(np.mean(target_curvatures[3::4, :, 1:, :], axis = 0), axis = 1)))\n",
    "plt.legend((plot0, plot1), ('45 Degrees from Abscissa', 'Mean of other directions'))"
   ]
  },
  {
   "cell_type": "code",
   "execution_count": null,
   "metadata": {},
   "outputs": [],
   "source": [
    "difference_in_directions(condition = 0, direction_considered=3, target_measure=target_curvatures, title_text='Direction Considered: 315', y_label='Angular Errors')"
   ]
  },
  {
   "cell_type": "code",
   "execution_count": null,
   "metadata": {},
   "outputs": [],
   "source": [
    "permutation = [1, 0, 2, 3]\n",
    "idx = np.empty_like(permutation)\n",
    "idx[permutation] = np.arange(len(permutation))\n"
   ]
  },
  {
   "cell_type": "code",
   "execution_count": null,
   "metadata": {},
   "outputs": [],
   "source": [
    "np.mean(target_mts[2::4, :, 0, :])"
   ]
  },
  {
   "cell_type": "code",
   "execution_count": null,
   "metadata": {},
   "outputs": [],
   "source": [
    "np.mean(target_mts[2::4, :, 2, :])"
   ]
  },
  {
   "cell_type": "markdown",
   "metadata": {},
   "source": [
    "# Calculating Speed"
   ]
  },
  {
   "cell_type": "code",
   "execution_count": null,
   "metadata": {},
   "outputs": [],
   "source": [
    "def get_dist():\n",
    "    distances = np.zeros((60, 12, 64))\n",
    "    within_distances = np.zeros((60, 12, 64), dtype = object)\n",
    "    for data in range(60):\n",
    "        for block in range(12):\n",
    "            traj = scipy.io.loadmat('data/data{data}/actual_trajectories/trajectories{block}.mat'.format(block=str(block), data=str(data+1000)))\n",
    "            for trial in range(64):\n",
    "                trajx, trajy = traj['x'][0][trial][0], traj['y'][0][trial][0]\n",
    "                trajx = trajx.astype('float64')\n",
    "                trajy = trajy.astype('float64')\n",
    "            \n",
    "                distance_covered = 0\n",
    "                within_distance_covered = list()\n",
    "                for i in range(len(trajx[:-1])):\n",
    "                    #print (trajx[i], trajy[i])\n",
    "                    distance_covered = distance_covered + np.sqrt((trajx[i+1] - trajx[i])**2 + (trajy[i+1] - trajy[i])**2)\n",
    "                    within_distance_covered.append(np.sqrt((trajx[i+1] - trajx[i])**2 + (trajy[i+1] - trajy[i])**2))\n",
    "                distances[data][block][trial] = distance_covered\n",
    "                within_distances[data][block][trial] = within_distance_covered\n",
    "    return distances, within_distances"
   ]
  },
  {
   "cell_type": "code",
   "execution_count": null,
   "metadata": {},
   "outputs": [],
   "source": [
    "distances, within_distances = get_dist()"
   ]
  },
  {
   "cell_type": "code",
   "execution_count": null,
   "metadata": {},
   "outputs": [],
   "source": [
    "dist_error = distances - np.sqrt(212**2 + 212**2)"
   ]
  },
  {
   "cell_type": "code",
   "execution_count": null,
   "metadata": {},
   "outputs": [],
   "source": [
    "target_distances = target_specific_measures(targets, distances)\n",
    "target_dist_error = target_specific_measures(targets, dist_error)\n"
   ]
  },
  {
   "cell_type": "code",
   "execution_count": null,
   "metadata": {},
   "outputs": [],
   "source": [
    "difference_in_directions(condition = 0, direction_considered=3, target_measure=target_dist_error, title_text='Direction Considered: 315', y_label='Distance Covered')"
   ]
  },
  {
   "cell_type": "code",
   "execution_count": null,
   "metadata": {},
   "outputs": [],
   "source": [
    "speed = distances/mts"
   ]
  },
  {
   "cell_type": "code",
   "execution_count": null,
   "metadata": {},
   "outputs": [],
   "source": [
    "target_speed = target_specific_measures(targets, speed)"
   ]
  },
  {
   "cell_type": "code",
   "execution_count": null,
   "metadata": {},
   "outputs": [],
   "source": [
    "difference_in_directions(condition = 0, direction_considered=0, target_measure=target_curvatures, title_text='Direction Considered: 45', y_label='Angular Error')"
   ]
  },
  {
   "cell_type": "code",
   "execution_count": null,
   "metadata": {},
   "outputs": [],
   "source": [
    "data = 1004\n",
    "block = 2\n",
    "trial = 2\n",
    "speeds_list = list()\n",
    "\n",
    "speeds = np.zeros((60, 12, 64), dtype = object)\n",
    "accelerations = np.zeros((60, 12, 64), dtype = object)\n",
    "for data in range(1000, 1060):\n",
    "    for block in range(12):\n",
    "        #traj = scipy.io.loadmat('data/data{data}/actual_trajectories/trajectories{block}.mat'.format(block=str(block), data=str(data)))\n",
    "        for trial in range(64):    \n",
    "            #x_grad = np.gradient(traj['x'][0][trial][0])\n",
    "            #y_grad = np.gradient(traj['y'][0][trial][0])\n",
    "            #x_grad = x_grad.astype('float64')\n",
    "            #y_grad = y_grad.astype('float64')\n",
    "            #x_grad_grad = np.gradient(x_grad)\n",
    "            #y_grad_grad = np.gradient(y_grad)\n",
    "            try:\n",
    "                speed = np.abs(np.gradient(np.cumsum(within_distances[data-1000][block][trial])))\n",
    "                acceleration = np.gradient(speed)\n",
    "            except:\n",
    "                speed = 0\n",
    "                acceleration = 0\n",
    "            #speed = np.sqrt(x_grad**2 + y_grad**2)\n",
    "            #acceleration = np.sqrt(x_grad_grad**2 + y_grad_grad**2)\n",
    "            speeds[data-1000][block][trial] = speed\n",
    "            accelerations[data - 1000][block][trial] = acceleration"
   ]
  },
  {
   "cell_type": "code",
   "execution_count": null,
   "metadata": {},
   "outputs": [],
   "source": []
  },
  {
   "cell_type": "code",
   "execution_count": null,
   "metadata": {},
   "outputs": [],
   "source": [
    "target_specific_speeds = target_specific_measures(targets, speeds)\n",
    "target_specific_accelerations = target_specific_measures(targets, accelerations)"
   ]
  },
  {
   "cell_type": "code",
   "execution_count": null,
   "metadata": {},
   "outputs": [],
   "source": [
    "speed_chunked_means = np.zeros((60, 12, 4, 16, 5))\n",
    "speed_chunked_medians = np.zeros((60, 12, 4, 16, 5))\n",
    "\n",
    "for participant in range(60):\n",
    "    for block in range(12):\n",
    "        for direction in range(4):\n",
    "            for trial in range(16):\n",
    "                chunk_size = int(np.floor(len(target_specific_speeds[participant][block][direction][trial])/5))\n",
    "                for chunks in range(5):\n",
    "                    speed_chunked_means[participant][block][direction][trial][chunks] = np.nanmean(target_specific_speeds[participant][block][direction][trial][chunk_size*chunks:chunk_size*(chunks+1)])\n",
    "                    speed_chunked_medians[participant][block][direction][trial][chunks] = np.nanmedian(target_specific_speeds[participant][block][direction][trial][chunk_size*chunks:chunk_size*(chunks+1)])\n",
    "                                        "
   ]
  },
  {
   "cell_type": "code",
   "execution_count": null,
   "metadata": {},
   "outputs": [],
   "source": [
    "plt.plot(np.nanmedian(speed_chunked_means[5], axis = 2)[0][3])"
   ]
  },
  {
   "cell_type": "code",
   "execution_count": null,
   "metadata": {},
   "outputs": [],
   "source": [
    "data = 3\n",
    "trial = 30\n",
    "\n",
    "block = 11\n",
    "#plt.plot(np.cumsum(within_distances[data][block][trial]))\n",
    "plt.plot(speeds[data][block][trial])\n",
    "plt.plot(accelerations[data][block][trial])\n"
   ]
  },
  {
   "cell_type": "code",
   "execution_count": null,
   "metadata": {},
   "outputs": [],
   "source": [
    "#np.shape(within_distances[2][block][trial])\n",
    "#np.shape(speeds[2][block][trial])\n",
    "np.shape(accelerations[2][block][trial])\n"
   ]
  },
  {
   "cell_type": "markdown",
   "metadata": {},
   "source": [
    "# IT vs MTs"
   ]
  },
  {
   "cell_type": "code",
   "execution_count": null,
   "metadata": {},
   "outputs": [],
   "source": [
    "with plt.xkcd():\n",
    "    plt.scatter(np.mean(np.mean(its, axis = 1), axis = 1), np.mean(np.mean(curvatures, axis = 1), axis = 1))\n",
    "    plt.xlabel(\"Initial times\")\n",
    "    plt.ylabel(\"Curvature errors\")\n",
    "    plt.title(\"Subject Variability\")"
   ]
  },
  {
   "cell_type": "code",
   "execution_count": null,
   "metadata": {},
   "outputs": [],
   "source": [
    "block_start = 1\n",
    "block_end = 11\n",
    "with plt.xkcd():\n",
    "    fig, axs = plt.subplots(2, 2, sharex = 'all', sharey = 'all')\n",
    "\n",
    "    axs[0, 0].scatter(its[0::4, block_start:block_end], 90 - curvatures[0::4, block_start:block_end])\n",
    "    axs[0, 1].scatter(its[1::4, block_start:block_end], 90 - curvatures[1::4, block_start:block_end])\n",
    "    axs[1, 0].scatter(its[2::4, block_start:block_end], 90 - curvatures[2::4, block_start:block_end])\n",
    "    axs[1, 1].scatter(its[3::4, block_start:block_end], 90 - curvatures[3::4, block_start:block_end])\n",
    "    fig.suptitle(\"Trial Variability\")\n",
    "    fig.text(0.5, 0.001, 'Initial Time', ha='center')\n",
    "    fig.text(0.001, 0.35, 'Rotation Estimate', ha='center', rotation = 'vertical')\n",
    "    fig.text(0.3, 0.9, 'Speed', ha = 'center')\n",
    "    fig.text(0.75, 0.9, 'Accuracy', ha = 'center')\n",
    "    fig.text(0.92, 0.65, 'Sudden', ha = 'center', rotation = 270)\n",
    "    fig.text(0.92, 0.23, 'Gradual', ha = 'center', rotation = 270)\n"
   ]
  },
  {
   "cell_type": "code",
   "execution_count": null,
   "metadata": {},
   "outputs": [],
   "source": [
    "np.shape(np.median(its[0::4, block_start:block_end], axis = 0))"
   ]
  }
 ],
 "metadata": {
  "kernelspec": {
   "display_name": "Python 3",
   "language": "python",
   "name": "python3"
  },
  "language_info": {
   "codemirror_mode": {
    "name": "ipython",
    "version": 3
   },
   "file_extension": ".py",
   "mimetype": "text/x-python",
   "name": "python",
   "nbconvert_exporter": "python",
   "pygments_lexer": "ipython3",
   "version": "3.7.0"
  }
 },
 "nbformat": 4,
 "nbformat_minor": 4
}
