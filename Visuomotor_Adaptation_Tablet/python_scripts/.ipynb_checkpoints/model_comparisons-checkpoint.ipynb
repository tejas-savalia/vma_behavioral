{
 "cells": [
  {
   "cell_type": "code",
   "execution_count": 1,
   "metadata": {},
   "outputs": [],
   "source": [
    "import scipy.io\n",
    "import numpy as np\n",
    "import matplotlib.pyplot as plt\n",
    "from ipywidgets import interact, interactive, fixed, interact_manual\n",
    "import ipywidgets as widgets\n",
    "import scipy.stats as stat\n",
    "from sklearn.linear_model import LinearRegression\n",
    "import statsmodels.api as sm\n",
    "import statsmodels.formula.api as smf\n",
    "from scipy import stats\n",
    "import pickle\n",
    "from sklearn.metrics import *\n",
    "import pandas as pd\n",
    "import seaborn as sns\n",
    "import statsmodels"
   ]
  },
  {
   "cell_type": "code",
   "execution_count": 2,
   "metadata": {},
   "outputs": [],
   "source": [
    "from all_models import *\n",
    "#from transfer_models import *"
   ]
  },
  {
   "cell_type": "code",
   "execution_count": 3,
   "metadata": {},
   "outputs": [],
   "source": [
    "# read fit values\n",
    "#fits_single = pickle.load(open('fit_single_CV_704.pickle', 'rb'))\n",
    "#fits_dual = pickle.load(open('fit_dual_CV_704.pickle', 'rb'))\n",
    "#fits_avg = pickle.load(open('fit_dual_fastavg_CV_704.pickle', 'rb'))\n",
    "#fits_eight = pickle.load(open('fit_dual_eight_CV_704.pickle', 'rb'))\n",
    "#fits_alpha = pickle.load(open('fit_dual_2alpha_CV_704.pickle', 'rb'))\n",
    "#fits_six = pickle.load(open('fit_six_CV_704.pickle', 'rb'))\n",
    "#fits_mixed = pickle.load(open('fit_mixed_CV_704.pickle', 'rb'))\n",
    "fits_single = pickle.load(open('fit_single_CV_640.pickle', 'rb'))\n",
    "fits_dual = pickle.load(open('fit_dual_CV_640.pickle', 'rb'))\n",
    "fits_hybrid = pickle.load(open('fit_hybrid_CV_704.pickle', 'rb'))\n",
    "#fits_single_transfer = pickle.load(open('fit_single_CV_transfer.pickle', 'rb'))\n",
    "#fits_dual_transfer = pickle.load(open('fit_dual_CV_transfer.pickle', 'rb'))\n",
    "\n",
    "curvatures_smooth = pickle.load(open('curvatures_smooth.pickle', 'rb'))\n",
    "curvatures_smooth = curvatures_smooth/90\n",
    "curvatures = pickle.load(open('curvatures.pickle', 'rb'))"
   ]
  },
  {
   "cell_type": "code",
   "execution_count": 4,
   "metadata": {},
   "outputs": [],
   "source": [
    "fits = pickle.load(open('fit_nocv_640.pickle', 'rb'))"
   ]
  },
  {
   "cell_type": "code",
   "execution_count": 93,
   "metadata": {},
   "outputs": [],
   "source": [
    "fits_single_nocv = np.vstack(fits[:, 0])\n",
    "fits_dual_nocv = np.vstack(fits[:, 1])"
   ]
  },
  {
   "cell_type": "code",
   "execution_count": 106,
   "metadata": {},
   "outputs": [],
   "source": [
    "for participant in range(60):\n",
    "    if fits_dual_nocv[participant, -1] > fits_single_nocv[participant, -1]:\n",
    "        fits_dual_nocv[participant, -1] = fits_single_nocv[participant, -1]\n",
    "lr = (fits_single_nocv[:, -1]-fits_dual_nocv[:, -1])"
   ]
  },
  {
   "cell_type": "code",
   "execution_count": null,
   "metadata": {},
   "outputs": [],
   "source": []
  },
  {
   "cell_type": "code",
   "execution_count": null,
   "metadata": {},
   "outputs": [],
   "source": []
  },
  {
   "cell_type": "code",
   "execution_count": 107,
   "metadata": {},
   "outputs": [
    {
     "data": {
      "text/plain": [
       "array([ 0,  2,  6, 10, 11, 14, 18, 19, 22, 26, 28, 29, 30, 34, 36, 40, 42,\n",
       "       44, 45, 46, 48, 50, 51, 54, 55, 58], dtype=int64)"
      ]
     },
     "execution_count": 107,
     "metadata": {},
     "output_type": "execute_result"
    }
   ],
   "source": [
    "np.where(fits_single_nocv[:, -1] == fits_dual_nocv[:, -1])[0]"
   ]
  },
  {
   "cell_type": "code",
   "execution_count": 47,
   "metadata": {},
   "outputs": [
    {
     "data": {
      "text/plain": [
       "array([ 9.69150363e-01,  6.29366943e-02,  8.04154150e-02, -1.41001631e+03])"
      ]
     },
     "execution_count": 47,
     "metadata": {},
     "output_type": "execute_result"
    }
   ],
   "source": [
    "fits_single_nocv[np.where(fits_single_nocv[:, -1] == fits_dual_nocv[:, -1])[0][13]]"
   ]
  },
  {
   "cell_type": "code",
   "execution_count": 12,
   "metadata": {},
   "outputs": [],
   "source": [
    "AIC_single = fits_single_nocv[:, -1] + 6\n",
    "AIC_dual = fits_dual_nocv[:, -1] + 10\n",
    "\n",
    "BIC_single = fits_single_nocv[:, -1] + 3*np.log(640)\n",
    "BIC_dual = fits_dual_nocv[:, -1] + 5*np.log(640)"
   ]
  },
  {
   "cell_type": "code",
   "execution_count": 13,
   "metadata": {},
   "outputs": [],
   "source": [
    "p_val = stat.chi2.sf(lr, 2)"
   ]
  },
  {
   "cell_type": "code",
   "execution_count": 64,
   "metadata": {},
   "outputs": [
    {
     "data": {
      "text/plain": [
       "array([ 1,  3,  4,  5,  7,  8, 15, 17, 21, 25, 31, 32, 33, 37, 41, 43, 49,\n",
       "       52, 53, 56, 57, 59], dtype=int64)"
      ]
     },
     "execution_count": 64,
     "metadata": {},
     "output_type": "execute_result"
    }
   ],
   "source": [
    "np.where(BIC_dual < BIC_single)[0]"
   ]
  },
  {
   "cell_type": "code",
   "execution_count": 65,
   "metadata": {},
   "outputs": [],
   "source": [
    "chisq = np.repeat('single_selected', 60)\n",
    "chisq[p_val < 0.05] = 'dual_selected'\n",
    "aic = np.repeat('single_selected', 60)\n",
    "aic[np.where(AIC_dual < AIC_single)[0]] = 'dual_selected'\n",
    "bic = np.repeat('single_selected', 60)\n",
    "bic[np.where(BIC_dual < BIC_single)[0]] = 'dual_selected'\n",
    "\n"
   ]
  },
  {
   "cell_type": "code",
   "execution_count": null,
   "metadata": {},
   "outputs": [],
   "source": []
  },
  {
   "cell_type": "code",
   "execution_count": 15,
   "metadata": {},
   "outputs": [
    {
     "data": {
      "text/plain": [
       "9"
      ]
     },
     "execution_count": 15,
     "metadata": {},
     "output_type": "execute_result"
    }
   ],
   "source": [
    "np.sum(np.where(p_val < 0.05)[0]%4 == 3)"
   ]
  },
  {
   "cell_type": "code",
   "execution_count": 304,
   "metadata": {},
   "outputs": [],
   "source": [
    "#curvatures_smooth = pickle.load(open('avg_smooth.pickle', 'rb'))\n",
    "#curvatures_smooth = curvatures_smooth/90"
   ]
  },
  {
   "cell_type": "code",
   "execution_count": 68,
   "metadata": {},
   "outputs": [],
   "source": [
    "model_comparison_df = pd.DataFrame({'participant_id': np.arange(60),\n",
    "                                    'rotation': np.tile(np.repeat(['Sudden', 'Gradual'], 2), 15),\n",
    "                                    'emphasis': np.tile(['Speed', 'Accuracy'], 30),\n",
    "                                    'AIC': aic,\n",
    "                                    'BIC': bic,\n",
    "                                    'Chisq': chisq,\n",
    "                                    'A': fits_single_nocv[:, 0], \n",
    "                                    'B': fits_single_nocv[:, 1],\n",
    "                                    'Af': fits_dual_nocv[:, 0],\n",
    "                                    'Bf': fits_dual_nocv[:, 1],\n",
    "                                    'As': fits_dual_nocv[:, 2],\n",
    "                                    'Bs': fits_dual_nocv[:, 3],\n",
    "                                   })"
   ]
  },
  {
   "cell_type": "code",
   "execution_count": 71,
   "metadata": {},
   "outputs": [],
   "source": [
    "model_param = pd.melt(model_comparison_df, id_vars=['participant_id', 'rotation', 'emphasis', 'AIC', 'BIC', 'Chisq'], \n",
    "                           value_vars=['A', 'B', 'Af', 'Bf', 'As', 'Bs'], \n",
    "                           value_name=\"param_value\", var_name = \"param\")"
   ]
  },
  {
   "cell_type": "code",
   "execution_count": 170,
   "metadata": {},
   "outputs": [
    {
     "data": {
      "text/plain": [
       "<seaborn.axisgrid.FacetGrid at 0x23c02c01040>"
      ]
     },
     "execution_count": 170,
     "metadata": {},
     "output_type": "execute_result"
    },
    {
     "data": {
      "image/png": "[encoded data removed]",
      "text/plain": [
       "<Figure size 473.125x360 with 1 Axes>"
      ]
     },
     "metadata": {
      "needs_background": "light"
     },
     "output_type": "display_data"
    }
   ],
   "source": [
    "sns.catplot(x = \"param\", y = \"param_value\", hue = 'AIC', data = model_param.query(\"param == 'B' or param == 'Bs' or param == 'Bf'\"), kind = 'bar', capsize = 0.3)"
   ]
  },
  {
   "cell_type": "code",
   "execution_count": 118,
   "metadata": {},
   "outputs": [
    {
     "data": {
      "text/plain": [
       "<seaborn.axisgrid.FacetGrid at 0x23c7e0f7df0>"
      ]
     },
     "execution_count": 118,
     "metadata": {},
     "output_type": "execute_result"
    },
    {
     "data": {
      "image/png": "[encoded data removed]",
      "text/plain": [
       "<Figure size 473.125x360 with 1 Axes>"
      ]
     },
     "metadata": {
      "needs_background": "light"
     },
     "output_type": "display_data"
    }
   ],
   "source": [
    "sns.catplot(x = \"param\", y = \"param_value\", hue = 'AIC', data = model_param.query(\"param == 'B' or param == 'Bf'\"), kind = 'bar', capsize = 0.3)"
   ]
  },
  {
   "cell_type": "code",
   "execution_count": 115,
   "metadata": {},
   "outputs": [
    {
     "data": {
      "text/html": [
       "<div>\n",
       "<style scoped>\n",
       "    .dataframe tbody tr th:only-of-type {\n",
       "        vertical-align: middle;\n",
       "    }\n",
       "\n",
       "    .dataframe tbody tr th {\n",
       "        vertical-align: top;\n",
       "    }\n",
       "\n",
       "    .dataframe thead th {\n",
       "        text-align: right;\n",
       "    }\n",
       "</style>\n",
       "<table border=\"1\" class=\"dataframe\">\n",
       "  <thead>\n",
       "    <tr style=\"text-align: right;\">\n",
       "      <th></th>\n",
       "      <th>df</th>\n",
       "      <th>sum_sq</th>\n",
       "      <th>mean_sq</th>\n",
       "      <th>F</th>\n",
       "      <th>PR(&gt;F)</th>\n",
       "    </tr>\n",
       "  </thead>\n",
       "  <tbody>\n",
       "    <tr>\n",
       "      <th>AIC</th>\n",
       "      <td>1.0</td>\n",
       "      <td>0.063948</td>\n",
       "      <td>0.063948</td>\n",
       "      <td>14.566338</td>\n",
       "      <td>0.000219</td>\n",
       "    </tr>\n",
       "    <tr>\n",
       "      <th>param</th>\n",
       "      <td>1.0</td>\n",
       "      <td>0.099817</td>\n",
       "      <td>0.099817</td>\n",
       "      <td>22.736907</td>\n",
       "      <td>0.000005</td>\n",
       "    </tr>\n",
       "    <tr>\n",
       "      <th>AIC:param</th>\n",
       "      <td>1.0</td>\n",
       "      <td>0.053245</td>\n",
       "      <td>0.053245</td>\n",
       "      <td>12.128404</td>\n",
       "      <td>0.000701</td>\n",
       "    </tr>\n",
       "    <tr>\n",
       "      <th>Residual</th>\n",
       "      <td>116.0</td>\n",
       "      <td>0.509252</td>\n",
       "      <td>0.004390</td>\n",
       "      <td>NaN</td>\n",
       "      <td>NaN</td>\n",
       "    </tr>\n",
       "  </tbody>\n",
       "</table>\n",
       "</div>"
      ],
      "text/plain": [
       "              df    sum_sq   mean_sq          F    PR(>F)\n",
       "AIC          1.0  0.063948  0.063948  14.566338  0.000219\n",
       "param        1.0  0.099817  0.099817  22.736907  0.000005\n",
       "AIC:param    1.0  0.053245  0.053245  12.128404  0.000701\n",
       "Residual   116.0  0.509252  0.004390        NaN       NaN"
      ]
     },
     "execution_count": 115,
     "metadata": {},
     "output_type": "execute_result"
    }
   ],
   "source": [
    "model = smf.ols('param_value ~ AIC*param', data = model_param.query(\"param == 'Bs' or param == 'Bf'\")).fit()\n",
    "sm.stats.anova_lm(model, type = 2)"
   ]
  },
  {
   "cell_type": "code",
   "execution_count": 120,
   "metadata": {},
   "outputs": [],
   "source": [
    "single_model_errors = np.zeros((60, 704))\n",
    "dual_model_errors = np.zeros((60, 704))\n",
    "\n",
    "single_r_est = np.zeros((60, 704))\n",
    "dual_r_est = np.zeros((60, 704))\n",
    "\n",
    "fast_est = np.zeros((60, 704))\n",
    "slow_est = np.zeros((60, 704))\n",
    "\n",
    "for participant in range(60):\n",
    "    if participant%4 == 0 or participant%4 == 1:\n",
    "        single_model_errors[participant], single_r_est[participant] = model_sudden(704, fits_single_nocv[participant][0], fits_single_nocv[participant][1])\n",
    "        dual_model_errors[participant], dual_r_est[participant], fast_est[participant], slow_est[participant] = dual_model_sudden(704, fits_dual_nocv[participant][0], fits_dual_nocv[participant][1], fits_dual_nocv[participant][3], fits_dual_nocv[participant][4])\n",
    "        \n",
    "    else:\n",
    "        single_model_errors[participant], single_r_est[participant] = model_gradual(704, fits_single_nocv[participant][0], fits_single_nocv[participant][1])\n",
    "        dual_model_errors[participant], dual_r_est[participant], fast_est[participant], slow_est[participant] = dual_model_gradual(704, fits_dual_nocv[participant][0], fits_dual_nocv[participant][1], fits_dual_nocv[participant][3], fits_dual_nocv[participant][4])\n"
   ]
  },
  {
   "cell_type": "code",
   "execution_count": 128,
   "metadata": {},
   "outputs": [],
   "source": [
    "dual_selected_fast_est = fast_est[np.unique(model_param.query(\"AIC == 'dual_selected'\")['participant_id'])]\n",
    "dual_selected_slow_est = slow_est[np.unique(model_param.query(\"AIC == 'dual_selected'\")['participant_id'])]\n",
    "\n",
    "dual_selected_single_error = single_model_errors[np.unique(model_param.query(\"AIC == 'dual_selected'\")['participant_id'])]\n",
    "dual_selected_dual_error = dual_model_errors[np.unique(model_param.query(\"AIC == 'dual_selected'\")['participant_id'])]\n",
    "\n",
    "dual_selected_single_r_est = single_r_est[np.unique(model_param.query(\"AIC == 'dual_selected'\")['participant_id'])]\n",
    "dual_selected_dual_r_est = dual_r_est[np.unique(model_param.query(\"AIC == 'dual_selected'\")['participant_id'])]\n"
   ]
  },
  {
   "cell_type": "code",
   "execution_count": 129,
   "metadata": {},
   "outputs": [],
   "source": [
    "curvatures_smooth = pickle.load(open('curvatures_smooth.pickle', 'rb'))/90"
   ]
  },
  {
   "cell_type": "code",
   "execution_count": 162,
   "metadata": {},
   "outputs": [],
   "source": [
    "rel_slow = dual_selected_slow_est/(dual_selected_dual_r_est + 0.0001)\n",
    "rel_fast = dual_selected_fast_est/(dual_selected_dual_r_est + 0.0001)\n"
   ]
  },
  {
   "cell_type": "code",
   "execution_count": 163,
   "metadata": {},
   "outputs": [
    {
     "data": {
      "text/plain": [
       "[<matplotlib.lines.Line2D at 0x23c018fc100>]"
      ]
     },
     "execution_count": 163,
     "metadata": {},
     "output_type": "execute_result"
    },
    {
     "data": {
      "image/png": "[encoded data removed]",
      "text/plain": [
       "<Figure size 432x288 with 1 Axes>"
      ]
     },
     "metadata": {
      "needs_background": "light"
     },
     "output_type": "display_data"
    }
   ],
   "source": [
    "plt.plot(1-rel_slow[0])"
   ]
  },
  {
   "cell_type": "code",
   "execution_count": 164,
   "metadata": {},
   "outputs": [
    {
     "data": {
      "text/plain": [
       "[<matplotlib.lines.Line2D at 0x23c01984ee0>]"
      ]
     },
     "execution_count": 164,
     "metadata": {},
     "output_type": "execute_result"
    },
    {
     "data": {
      "image/png": "[encoded data removed]",
      "text/plain": [
       "<Figure size 432x288 with 1 Axes>"
      ]
     },
     "metadata": {
      "needs_background": "light"
     },
     "output_type": "display_data"
    }
   ],
   "source": [
    "plt.plot(rel_fast[0])"
   ]
  },
  {
   "cell_type": "code",
   "execution_count": 151,
   "metadata": {},
   "outputs": [],
   "source": []
  },
  {
   "cell_type": "code",
   "execution_count": null,
   "metadata": {},
   "outputs": [],
   "source": []
  }
 ],
 "metadata": {
  "kernelspec": {
   "display_name": "Python 3",
   "language": "python",
   "name": "python3"
  },
  "language_info": {
   "codemirror_mode": {
    "name": "ipython",
    "version": 3
   },
   "file_extension": ".py",
   "mimetype": "text/x-python",
   "name": "python",
   "nbconvert_exporter": "python",
   "pygments_lexer": "ipython3",
   "version": "3.8.5"
  }
 },
 "nbformat": 4,
 "nbformat_minor": 4
}
