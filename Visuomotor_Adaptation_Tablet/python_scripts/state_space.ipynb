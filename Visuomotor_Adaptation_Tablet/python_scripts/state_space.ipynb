{
 "cells": [
  {
   "cell_type": "code",
   "execution_count": 1,
   "metadata": {},
   "outputs": [],
   "source": [
    "#%matplotlib notebook\n",
    "import numpy as np\n",
    "import matplotlib.pyplot as plt\n",
    "import scipy.io\n",
    "from ipywidgets import interact, interactive, fixed, interact_manual\n",
    "import ipywidgets as widgets\n",
    "import scipy.stats as stat\n",
    "from sklearn.linear_model import LinearRegression\n",
    "import statsmodels.api as sm\n",
    "import statsmodels.formula.api as smf\n",
    "from multiprocessing import Pool\n",
    "from scipy import stats\n",
    "import math\n",
    "from scipy.optimize import curve_fit\n",
    "from mpl_toolkits import mplot3d\n",
    "from scipy.ndimage import gaussian_filter1d\n",
    "import statsmodels.api as sm\n",
    "from statsmodels.formula.api import ols\n",
    "import itertools\n",
    "from workers import workers\n",
    "import pickle"
   ]
  },
  {
   "cell_type": "code",
   "execution_count": null,
   "metadata": {},
   "outputs": [],
   "source": []
  },
  {
   "cell_type": "markdown",
   "metadata": {},
   "source": [
    "## Base Model\n",
    "$e_n^{target} = (r_n - r_n^{est})$\n",
    "\n",
    "$r_{n+1}^{est} = Ar_n^{est} + Be_n^{target}$"
   ]
  },
  {
   "cell_type": "code",
   "execution_count": 19,
   "metadata": {},
   "outputs": [],
   "source": [
    "num_trials = 640\n",
    "def base_model_sudden(num_trials, A, B):\n",
    " #   A = np.exp(A)/(1 + np.exp(A))\n",
    " #   B = np.exp(B)/(1 + np.exp(B))\n",
    "    \n",
    "    errors = np.zeros((num_trials))\n",
    "    rotation = 90\n",
    "    rotation_est = 0\n",
    "    for trial in range(num_trials):\n",
    "        errors[trial] = rotation - rotation_est\n",
    "        #print(errors[trial])\n",
    "        rotation_est = A*rotation_est + B*errors[trial]\n",
    "        #print (rotation_est)\n",
    "    return errors\n",
    "\n",
    "def base_model_gradual(num_trials, A, B):\n",
    "#    A = np.exp(A)/(1 + np.exp(A))\n",
    "#    B = np.exp(B)/(1 + np.exp(B))\n",
    "    \n",
    "    errors = np.zeros((num_trials))\n",
    "    rotation_est = 0\n",
    "    rotation = 0\n",
    "    for trial in range(num_trials):\n",
    "        if trial%64 == 0:\n",
    "            rotation = rotation + 10\n",
    "        if rotation > 90:\n",
    "            rotation = 90\n",
    "        errors[trial] = rotation - rotation_est\n",
    "        #print(errors[trial])\n",
    "        rotation_est = A*rotation_est + B*errors[trial]\n",
    "        #print (rotation_est)\n",
    "    return errors"
   ]
  },
  {
   "cell_type": "code",
   "execution_count": 20,
   "metadata": {},
   "outputs": [],
   "source": [
    "def base_model_transfer(num_trials, A, B, learned_rotation):\n",
    " #   A = np.exp(A)/(1 + np.exp(A))\n",
    " #   B = np.exp(B)/(1 + np.exp(B))\n",
    "    \n",
    "    errors = np.zeros((num_trials))\n",
    "    rotation = 90 - learned_rotation\n",
    "    rotation_est = 0\n",
    "    for trial in range(num_trials):\n",
    "        errors[trial] = rotation - rotation_est\n",
    "        #print(errors[trial])\n",
    "        rotation_est = A*rotation_est + B*errors[trial]\n",
    "        #print (rotation_est)\n",
    "    return errors\n"
   ]
  },
  {
   "cell_type": "markdown",
   "metadata": {},
   "source": [
    "# Data\n",
    "## Curvatures"
   ]
  },
  {
   "cell_type": "code",
   "execution_count": 2,
   "metadata": {},
   "outputs": [],
   "source": [
    "def calc_angle(current_point, next_point, final_point):\n",
    "    #vec1 = next_point - current_point\n",
    "    vec1 = np.subtract(next_point, current_point)\n",
    "#    vec2 = final_point - current_point\n",
    "    vec2 = np.subtract(final_point, current_point)\n",
    "    vec1 = vec1.astype('float64')\n",
    "    vec2 = vec2.astype('float64')\n",
    "    cos_theta = np.dot(vec1, vec2)/(np.linalg.norm(vec1) * np.linalg.norm(vec2))\n",
    "    theta = np.degrees(np.arccos(cos_theta))\n",
    "    return theta\n",
    "\n",
    "def calc_curvature(data, block, trial, percentage_trajectory):\n",
    "    traj = scipy.io.loadmat('data/data{data}/actual_trajectories/trajectories{block}.mat'.format(block=str(block), data=str(data)))\n",
    "    trajx, trajy = traj['x'][0][trial][0], traj['y'][0][trial][0]\n",
    "    targetx, targety = trajx[-1], trajy[-1]\n",
    "    partial_trajx, partial_trajy = get_partial_traj(data, block, trial, percentage_trajectory)\n",
    "    #print (partial_trajx)\n",
    "    #print (partial_trajy)\n",
    "    angles = list([0])\n",
    "    #for i in range(len(partial_trajx[:-1])):\n",
    "        #print (trajx[i], trajy[i])\n",
    "    #    angles.append(calc_angle(np.array([partial_trajx[i], partial_trajy[i]]), np.array([partial_trajx[i+1], partial_trajy[i+1]]), np.array([trajx[-1], trajy[-1]])))\n",
    "    #return np.nanmedian(angles)\n",
    "    return calc_angle(np.array([partial_trajx[0], partial_trajy[0]]), np.array([partial_trajx[-1], partial_trajy[-1]]), np.array([trajx[-1], trajy[-1]]))\n",
    "\n",
    "def get_traj(data, block, trial):\n",
    "    traj = scipy.io.loadmat('data/data{data}/actual_trajectories/trajectories{block}.mat'.format(block=str(block), data=str(data)))\n",
    "    x_traj = traj['x'][0][trial][0]\n",
    "    y_traj = traj['y'][0][trial][0]\n",
    "    return x_traj, y_traj\n",
    "\n",
    "def get_partial_traj(data, block, trial, percentage_trajectory):\n",
    "    traj = get_traj(data, block, trial)\n",
    "    #dist_cutoff = percentage_trajectory*np.sqrt(traj[0][-1]**2 + traj[0][-1]**2, dtype = float)\n",
    "    #for i in range(len(traj[0])):\n",
    "        #dist_from_start = np.sqrt(traj[0][i]**2 + traj[1][i]**2, dtype = float)\n",
    "        #if dist_from_start > dist_cutoff:\n",
    "        #    break\n",
    "    i = int(len(traj[0])/2)\n",
    "    partial_trajx = traj[0][:i]\n",
    "    partial_trajy = traj[1][:i]\n",
    "        \n",
    "            \n",
    "    return partial_trajx, partial_trajy\n",
    "\n"
   ]
  },
  {
   "cell_type": "code",
   "execution_count": 3,
   "metadata": {},
   "outputs": [],
   "source": [
    "#def calc_curvature_wrapper(params):\n",
    "#    return calc_curvature(params[0], params[1], params[2], params[3])\n",
    "paramlist = list(itertools.product(range(1000, 1060), range(12), range(64), range(1, 2)))\n"
   ]
  },
  {
   "cell_type": "code",
   "execution_count": null,
   "metadata": {},
   "outputs": [],
   "source": []
  },
  {
   "cell_type": "code",
   "execution_count": 4,
   "metadata": {},
   "outputs": [],
   "source": [
    "from workers import workers\n",
    "\n",
    "\n",
    "if __name__ == '__main__':\n",
    "    pool = Pool()\n",
    "    res = np.reshape(np.array(pool.map(workers.calc_curvature_wrapper, paramlist)), (60, 12, 64))"
   ]
  },
  {
   "cell_type": "code",
   "execution_count": 5,
   "metadata": {},
   "outputs": [],
   "source": [
    "curvatures = res"
   ]
  },
  {
   "cell_type": "code",
   "execution_count": 352,
   "metadata": {},
   "outputs": [
    {
     "name": "stderr",
     "output_type": "stream",
     "text": [
      "C:\\Users\\Tejas\\Anaconda3\\lib\\site-packages\\ipykernel_launcher.py:8: RuntimeWarning: invalid value encountered in double_scalars\n",
      "  \n"
     ]
    },
    {
     "name": "stdout",
     "output_type": "stream",
     "text": [
      "0\n"
     ]
    },
    {
     "name": "stderr",
     "output_type": "stream",
     "text": [
      "C:\\Users\\Tejas\\Anaconda3\\lib\\site-packages\\ipykernel_launcher.py:9: RuntimeWarning: invalid value encountered in arccos\n",
      "  if __name__ == '__main__':\n"
     ]
    },
    {
     "name": "stdout",
     "output_type": "stream",
     "text": [
      "10\n",
      "20\n",
      "30\n",
      "40\n",
      "50\n"
     ]
    }
   ],
   "source": [
    "curvatures = np.zeros((60, 12, 64))\n",
    "for data in range(60):\n",
    "    for block in range(12):\n",
    "#        curvatures[data][blocl][trial] = calc_curvature(data+1000, block, range(64), 1)\n",
    "        for trial in range(64):\n",
    "            curvatures[data][block][trial] = calc_curvature(data+1000, block, trial, 0.5)\n",
    "    if data%10 == 0:\n",
    "        print (data)"
   ]
  },
  {
   "cell_type": "code",
   "execution_count": null,
   "metadata": {},
   "outputs": [],
   "source": []
  },
  {
   "cell_type": "code",
   "execution_count": null,
   "metadata": {},
   "outputs": [],
   "source": []
  },
  {
   "cell_type": "code",
   "execution_count": null,
   "metadata": {},
   "outputs": [],
   "source": []
  },
  {
   "cell_type": "code",
   "execution_count": 25,
   "metadata": {},
   "outputs": [],
   "source": [
    "def residuals_base_sudden(params, num_trials, data_errors):\n",
    "#   model_errors = base_model_sudden(num_trials, params[0], params[1])\n",
    "    model_errors = base_model_sudden(num_trials, params[0], params[1])\n",
    "    residual_error = np.sum(np.square(model_errors - data_errors))\n",
    "    #if params[0] > params[2]:\n",
    "    #    residual_error = residual_error + 1000000\n",
    "    #if params[1] < params[3]:\n",
    "    #    residual_error = residual_error + 1000000\n",
    "    if params[0] < 0 or params[1] < 0:# or params[2] < 0 or params[3] < 0:\n",
    "        residual_error = residual_error + 1000000\n",
    "    return residual_error\n",
    "\n",
    "def residuals_base_gradual(params, num_trials, data_errors):\n",
    "#   model_errors = base_model_sudden(num_trials, params[0], params[1])\n",
    "    model_errors = base_model_gradual(num_trials, params[0], params[1])\n",
    "    residual_error = np.sum(np.square(model_errors - data_errors))\n",
    "    #if params[0] > params[2]:\n",
    "    #    residual_error = residual_error + 1000000\n",
    "    #if params[1] < params[3]:\n",
    "    #    residual_error = residual_error + 1000000\n",
    "    if params[0] < 0 or params[1] < 0:# or params[2] < 0 or params[3] < 0:\n",
    "        residual_error = residual_error + 1000000\n",
    "    return residual_error"
   ]
  },
  {
   "cell_type": "code",
   "execution_count": 29,
   "metadata": {},
   "outputs": [],
   "source": [
    "def minimize_parallel(args):\n",
    "    f,x,a,stepsize = args\n",
    "    res = scipy.optimize.basinhopping(f, x, minimizer_kwargs=a, stepsize = stepsize)\n",
    "    return res\n"
   ]
  },
  {
   "cell_type": "code",
   "execution_count": 30,
   "metadata": {},
   "outputs": [],
   "source": [
    "#Divide the whole thing into 16 trial blocks and fit them\n",
    "def run_fits(curvatures, num_trials, part_size, first):\n",
    "    num_parts = int((num_trials-first)/part_size)\n",
    "    fit_A = np.zeros((60, num_parts))\n",
    "    fit_B = np.zeros((60, num_parts))\n",
    "    fit_V = np.full((60, num_parts), np.inf)\n",
    "    fit_success = np.zeros((60, num_parts))\n",
    "    fit_num = 0\n",
    "    #starting_points = np.array([[0.5, 0.6], [0.4, 0.7], [0.3, 0.8], [0.2, 0.9], [0.1, 0.99], [0.9, 0.2], [0.99, 0.1], [0.8, 0.3], [0.7, 0.4], [0.6, 0.5]])\n",
    "    \n",
    "    #A = np.log(params[0]/(1-params[0]))\n",
    "    #B = np.log(params[1]/(1-params[1]))\n",
    "\n",
    "#    starting_points = np.array([[np.log(0.999/(1 - 0.999)), np.log(0.002/(1 - 0.002))]])\n",
    "    starting_points = np.array([[0.999, 0.002]])\n",
    "\n",
    "    for curr_trial in range(first, num_trials, part_size):\n",
    "        for participant in range(60):\n",
    "            for initial_point in starting_points:\n",
    "                if participant%4 == 0 or participant%4 == 1:\n",
    "                #print (np.nan_to_num(np.ravel(curvatures[participant])[first:first+part_size], nan = np.nanmedian(np.ravel(curvatures[participant])[first:first+part_size])))\n",
    "                #popt, pcov = curve_fit(base_model_sudden, part_size, np.nan_to_num(np.ravel(curvatures[participant])[curr_trial:curr_trial+part_size], nan = np.nanmedian(np.ravel(curvatures[participant])[curr_trial:curr_trial+part_size])), bounds=((0, 0), (1, np.inf)))\n",
    "                    #fits = scipy.optimize.minimize(residuals_base_sudden, x0 = [initial_point[0], initial_point[1]], args = (part_size, np.nan_to_num(np.ravel(curvatures[participant])[curr_trial:curr_trial+part_size], nan = np.nanmedian(np.ravel(curvatures[participant])[curr_trial:curr_trial+part_size]))), method = 'Nelder-Mead')\n",
    "                    fits = minimize_parallel([residuals_base_sudden, [initial_point[0], initial_point[1]], {'args': (part_size, np.nan_to_num(np.ravel(curvatures[participant])[curr_trial:curr_trial+part_size], nan = np.nanmedian(np.ravel(curvatures[participant])[curr_trial:curr_trial+part_size]))), 'method': 'Nelder-Mead'}, 0.05])\n",
    "#                    fits = scipy.optimize.basinhopping(residuals_base_sudden, x0 = [initial_point[0], initial_point[1]], minimizer_kwargs={'args': (part_size, np.nan_to_num(np.ravel(curvatures[participant])[curr_trial:curr_trial+part_size], nan = np.nanmedian(np.ravel(curvatures[participant])[curr_trial:curr_trial+part_size]))), 'method': 'Nelder-Mead'}, stepsize=0.05)\n",
    "                    \n",
    "                    if fits.fun < fit_V[participant][fit_num]:\n",
    "                        fit_A[participant][fit_num] = fits.x[0]\n",
    "                        fit_B[participant][fit_num] = fits.x[1]\n",
    "                        fit_V[participant][fit_num] = fits.fun\n",
    "                        #fit_success[participant][fit_num] = fits.success   \n",
    "                    print (fits.fun)\n",
    "                else:\n",
    "                    #popt, pcov = curve_fit(base_model_gradual, part_size, np.nan_to_num(np.ravel(curvatures[participant])[curr_trial:curr_trial+part_size], nan = np.nanmedian(np.ravel(curvatures[participant])[curr_trial:curr_trial+part_size])), bounds=((0, 0), (1, np.inf)))\n",
    "                    #fits = scipy.optimize.minimize(residuals_base_gradual, x0 = [initial_point[0], initial_point[1]], args = (part_size, np.nan_to_num(np.ravel(curvatures[participant])[curr_trial:curr_trial+part_size], nan = np.nanmedian(np.ravel(curvatures[participant])[curr_trial:curr_trial+part_size]))), method = 'Nelder-Mead')\n",
    "                    fits = scipy.optimize.basinhopping(residuals_base_gradual, x0 = [initial_point[0], initial_point[1]], minimizer_kwargs={'args': (part_size, np.nan_to_num(np.ravel(curvatures[participant])[curr_trial:curr_trial+part_size], nan = np.nanmedian(np.ravel(curvatures[participant])[curr_trial:curr_trial+part_size]))), 'method': 'Nelder-Mead'})\n",
    "                    \n",
    "                    if fits.fun < fit_V[participant][fit_num]:\n",
    "                        fit_A[participant][fit_num] = fits.x[0]\n",
    "                        fit_B[participant][fit_num] = fits.x[1]\n",
    "                        fit_V[participant][fit_num] = fits.fun\n",
    "                        #fit_success[participant][fit_num] = fits.success\n",
    "                    print (fits.fun)\n",
    "\n",
    "        fit_num = fit_num + 1\n",
    "    return fit_A, fit_B, fit_V, fit_success\n",
    "        "
   ]
  },
  {
   "cell_type": "code",
   "execution_count": 8,
   "metadata": {},
   "outputs": [
    {
     "data": {
      "text/plain": [
       "(60, 12, 64)"
      ]
     },
     "execution_count": 8,
     "metadata": {},
     "output_type": "execute_result"
    }
   ],
   "source": [
    "curvatures_smooth = gaussian_filter1d(curvatures, 2)\n",
    "np.shape(curvatures_smooth)"
   ]
  },
  {
   "cell_type": "code",
   "execution_count": 32,
   "metadata": {},
   "outputs": [
    {
     "name": "stdout",
     "output_type": "stream",
     "text": [
      "64021.1532355539\n"
     ]
    },
    {
     "name": "stderr",
     "output_type": "stream",
     "text": [
      "C:\\Users\\Tejas\\Anaconda3\\lib\\site-packages\\ipykernel_launcher.py:4: RuntimeWarning: overflow encountered in square\n",
      "  after removing the cwd from sys.path.\n"
     ]
    },
    {
     "name": "stdout",
     "output_type": "stream",
     "text": [
      "51997.750315784615\n"
     ]
    },
    {
     "name": "stderr",
     "output_type": "stream",
     "text": [
      "C:\\Users\\Tejas\\Anaconda3\\lib\\site-packages\\ipykernel_launcher.py:16: RuntimeWarning: overflow encountered in square\n",
      "  app.launch_new_instance()\n",
      "C:\\Users\\Tejas\\Anaconda3\\lib\\site-packages\\numpy\\core\\fromnumeric.py:87: RuntimeWarning: overflow encountered in reduce\n",
      "  return ufunc.reduce(obj, axis, dtype, out, **passkwargs)\n",
      "C:\\Users\\Tejas\\Anaconda3\\lib\\site-packages\\scipy\\optimize\\optimize.py:700: RuntimeWarning: invalid value encountered in subtract\n",
      "  np.max(np.abs(fsim[0] - fsim[1:])) <= fatol):\n"
     ]
    },
    {
     "name": "stdout",
     "output_type": "stream",
     "text": [
      "28738.816324553663\n",
      "16167.869305696824\n",
      "24003.44984081027\n",
      "17546.47670346147\n",
      "6562.357250493953\n",
      "15347.36507770933\n",
      "50012.09730448485\n",
      "69704.79927552247\n",
      "28728.117702552427\n",
      "8726.287447113378\n",
      "62759.27351840204\n",
      "56423.02936485425\n",
      "37086.466615104815\n",
      "4122.174340457452\n",
      "45776.11228702301\n",
      "6747.387311715653\n",
      "24226.085566257563\n",
      "11411.227358626973\n",
      "66864.23336316232\n",
      "38670.09594550828\n",
      "75264.21144803839\n",
      "23612.40928018611\n",
      "66856.68011661089\n",
      "37506.19599787253\n",
      "40681.65930560039\n",
      "30271.39973461033\n",
      "202983.8096176236\n",
      "55295.73421339449\n",
      "29756.525509349063\n",
      "8217.157454242997\n",
      "31842.956826177277\n",
      "44052.137225188126\n",
      "13874.113998630053\n",
      "6656.069262793717\n",
      "195456.1213856298\n",
      "135178.5122427045\n",
      "42286.80352792042\n",
      "5593.90334944069\n",
      "37759.01632656099\n",
      "31046.23051700839\n",
      "90021.50481730752\n",
      "7039.654859324849\n",
      "33807.589621359504\n",
      "92825.24181933212\n",
      "24972.361975559463\n",
      "12772.395770651994\n",
      "123799.11364742035\n",
      "65715.72115133858\n",
      "31565.90568598937\n",
      "16584.584168734335\n",
      "91546.36674888933\n",
      "61395.01247634755\n",
      "50935.896345473186\n",
      "15151.618992561112\n",
      "46086.725539628555\n",
      "14414.40800262311\n",
      "23392.081963384204\n",
      "10343.828366524323\n"
     ]
    }
   ],
   "source": [
    "fit_A, fit_B, fit_V, fit_success = run_fits(curvatures_smooth, 704, 640, 64)"
   ]
  },
  {
   "cell_type": "code",
   "execution_count": null,
   "metadata": {},
   "outputs": [],
   "source": []
  },
  {
   "cell_type": "code",
   "execution_count": null,
   "metadata": {},
   "outputs": [],
   "source": []
  },
  {
   "cell_type": "code",
   "execution_count": null,
   "metadata": {},
   "outputs": [],
   "source": []
  },
  {
   "cell_type": "code",
   "execution_count": null,
   "metadata": {},
   "outputs": [],
   "source": [
    "#Divide the whole thing into 16 trial blocks and fit them\n",
    "def run_fits_transfer(curvatures, num_trials, part_size, first):\n",
    "    num_parts = int((num_trials-first)/part_size)\n",
    "    fit_A = np.zeros((60, num_parts))\n",
    "    fit_B = np.zeros((60, num_parts))\n",
    "    fit_V = np.full((60, num_parts), np.inf)\n",
    "    fit_success = np.zeros((60, num_parts))\n",
    "    fit_num = 0\n",
    "    #starting_points = np.array([[0.5, 0.6], [0.4, 0.7], [0.3, 0.8], [0.2, 0.9], [0.1, 0.99], [0.9, 0.2], [0.99, 0.1], [0.8, 0.3], [0.7, 0.4], [0.6, 0.5]])\n",
    "    \n",
    "    #A = np.log(params[0]/(1-params[0]))\n",
    "    #B = np.log(params[1]/(1-params[1]))\n",
    "\n",
    "#    starting_points = np.array([[np.log(0.999/(1 - 0.999)), np.log(0.002/(1 - 0.002))]])\n",
    "    starting_points = np.array([[0.999, 0.002]])\n",
    "\n",
    "    for curr_trial in range(first, num_trials, part_size):\n",
    "        for participant in range(60):\n",
    "            for initial_point in starting_points:\n",
    "                fits = scipy.optimize.basinhopping(residuals_base_sudden, x0 = [initial_point[0], initial_point[1]], minimizer_kwargs={'args': (part_size, np.nan_to_num(np.ravel(curvatures[participant])[curr_trial:curr_trial+part_size], nan = np.nanmedian(np.ravel(curvatures[participant])[curr_trial:curr_trial+part_size]))), 'method': 'Nelder-Mead'}, stepsize=0.05)\n",
    "                if fits.fun < fit_V[participant][fit_num]:\n",
    "                    fit_A[participant][fit_num] = fits.x[0]\n",
    "                    fit_B[participant][fit_num] = fits.x[1]\n",
    "                    fit_V[participant][fit_num] = fits.fun\n",
    "                    #fit_success[participant][fit_num] = fits.success   \n",
    "                print (fits.fun)\n",
    "                #popt, pcov = curve_fit(base_model_gradual, part_size, np.nan_to_num(np.ravel(curvatures[participant])[curr_trial:curr_trial+part_size], nan = np.nanmedian(np.ravel(curvatures[participant])[curr_trial:curr_trial+part_size])), bounds=((0, 0), (1, np.inf)))\n",
    "                #fits = scipy.optimize.minimize(residuals_base_gradual, x0 = [initial_point[0], initial_point[1]], args = (part_size, np.nan_to_num(np.ravel(curvatures[participant])[curr_trial:curr_trial+part_size], nan = np.nanmedian(np.ravel(curvatures[participant])[curr_trial:curr_trial+part_size]))), method = 'Nelder-Mead')\n",
    "#                fits = scipy.optimize.basinhopping(residuals_base_gradual, x0 = [initial_point[0], initial_point[1]], minimizer_kwargs={'args': (part_size, np.nan_to_num(np.ravel(curvatures[participant])[curr_trial:curr_trial+part_size], nan = np.nanmedian(np.ravel(curvatures[participant])[curr_trial:curr_trial+part_size]))), 'method': 'Nelder-Mead'})#\n",
    "\n",
    "#                if fits.fun < fit_V[participant][fit_num]:\n",
    "#                    fit_A[participant][fit_num] = fits.x[0]\n",
    "#                    fit_B[participant][fit_num] = fits.x[1]\n",
    "#                    fit_V[participant][fit_num] = fits.fun\n",
    "                    #fit_success[participant][fit_num] = fits.success\n",
    "#                print (fits.fun)\n",
    "\n",
    "        fit_num = fit_num + 1\n",
    "    return fit_A, fit_B, fit_V, fit_success\n",
    "        "
   ]
  },
  {
   "cell_type": "code",
   "execution_count": null,
   "metadata": {},
   "outputs": [],
   "source": [
    "fit_transfer_A, fit_transfer_B, fit_transfer_V, fit_transfer_success = run_fits_transfer(curvatures_smooth, 768, 64, 704)"
   ]
  },
  {
   "cell_type": "code",
   "execution_count": 57,
   "metadata": {},
   "outputs": [],
   "source": [
    "fit_Af = np.zeros((60, 1))\n",
    "fit_Bf = np.zeros((60, 1))\n",
    "fit_As = np.zeros((60, 1))\n",
    "fit_Bs = np.zeros((60, 1))\n",
    "fit_alpha = np.zeros((60, 1))\n",
    "fit_V = np.zeros((60, 1))\n",
    "f = open('fit_dual_lowerbound_alphaed.pickle', 'rb')\n",
    "fits = pickle.load(f)\n",
    "fit_Af[:, 0] = fits[:, 0] \n",
    "fit_Bf[:, 0] = fits[:, 1]\n",
    "fit_As[:, 0] = fits[:, 2]\n",
    "fit_Bs[:, 0] = fits[:, 3]\n",
    "fit_alpha[:, 0] = fits[:, 4]\n",
    "fit_V[:, 0] = fits[:, 5]"
   ]
  },
  {
   "cell_type": "code",
   "execution_count": null,
   "metadata": {},
   "outputs": [],
   "source": []
  },
  {
   "cell_type": "code",
   "execution_count": 11,
   "metadata": {},
   "outputs": [],
   "source": [
    "def plot_fits(fit_A, fit_B, x_label, y_label):\n",
    "    x = np.array([np.nanmean(fit_A[0::4, :], axis = 0), np.nanmean(fit_A[1::4, :], axis = 0), np.nanmean(fit_A[2::4, :], axis = 0), np.nanmean(fit_A[3::4, :], axis = 0)])\n",
    "    y = np.array([np.nanmean(fit_B[0::4, :], axis = 0), np.nanmean(fit_B[1::4, :], axis = 0), np.nanmean(fit_B[2::4, :], axis = 0), np.nanmean(fit_B[3::4, :], axis = 0)])\n",
    "    x_err = np.array([stat.sem(fit_A[0::4, :], axis = 0), stat.sem(fit_A[1::4, :], axis = 0), stat.sem(fit_A[2::4, :], axis = 0), stat.sem(fit_A[3::4, :], axis = 0)])\n",
    "    y_err = np.array([stat.sem(fit_B[0::4, :], axis = 0), stat.sem(fit_B[1::4, :], axis = 0), stat.sem(fit_B[2::4, :], axis = 0), stat.sem(fit_B[3::4, :], axis = 0)])\n",
    "    #x_err = np.array([stat.tstd(fit_A[0::4, :], axis = 0), stat.tstd(fit_A[1::4, :], axis = 0), stat.tstd(fit_A[2::4, :], axis = 0), stat.tstd(fit_A[3::4, :], axis = 0)])\n",
    "    #y_err = np.array([stat.tstd(fit_B[0::4, :], axis = 0), stat.tstd(fit_B[1::4, :], axis = 0), stat.tstd(fit_B[2::4, :], axis = 0), stat.tstd(fit_B[3::4, :], axis = 0)])\n",
    "\n",
    "    #x_conf_interval = np.array(stat.norm.interval(0.83, loc = x, scale = x_err))\n",
    "    #y_conf_interval = np.array(stat.norm.interval(0.83, loc = y, scale = y_err))\n",
    "    x_CI = x - np.array(stat.norm.interval(0.95, loc = x, scale = x_err))[0, :], np.array(stat.norm.interval(0.95, loc = x, scale = x_err))[1, :] - x\n",
    "    y_CI = y - np.array(stat.norm.interval(0.95, loc = y, scale = y_err))[0, :], np.array(stat.norm.interval(0.95, loc = y, scale = y_err))[1, :] - y\n",
    "\n",
    "\n",
    "    #print (x_conf_interval[:, 0])\n",
    "    #plt.errorbar(x, y, xerr = x_err, yerr = y_err, linestyle = 'None', capsize = 3)\n",
    "    plot0 = plt.errorbar(x[0], y[0], xerr = [x_CI[0][0], x_CI[1][0]], yerr = [y_CI[0][0], y_CI[1][0]], capsize = 3)\n",
    "    plot1 = plt.errorbar(x[1], y[1], xerr = [x_CI[0][1], x_CI[1][1]], yerr = [y_CI[0][1], y_CI[1][1]], capsize = 3)\n",
    "    plot2 = plt.errorbar(x[2], y[2], xerr = [x_CI[0][2], x_CI[1][2]], yerr = [y_CI[0][2], y_CI[1][2]], capsize = 3)\n",
    "    plot3 = plt.errorbar(x[3], y[3], xerr = [x_CI[0][3], x_CI[1][3]], yerr = [y_CI[0][3], y_CI[1][3]], capsize = 3)\n",
    "\n",
    "    #plot0 = plt.scatter(fit_A[0::4], fit_B[0::4])\n",
    "    #plot1 = plt.scatter(fit_A[1::4], fit_B[1::4])\n",
    "    #plot2 = plt.scatter(fit_A[2::4], fit_B[2::4])\n",
    "    #plot3 = plt.scatter(fit_A[3::4], fit_B[3::4])\n",
    "\n",
    "    plt.legend((plot0, plot1, plot2, plot3), ('Sudden Speed', 'Sudden Accuracy', 'Gradual Speed', 'Gradual Accuracy'))\n",
    "    plt.xlabel(x_label)\n",
    "    plt.ylabel(y_label)"
   ]
  },
  {
   "cell_type": "code",
   "execution_count": 58,
   "metadata": {},
   "outputs": [
    {
     "data": {
      "image/png": "[encoded data removed]",
      "text/plain": [
       "<Figure size 432x288 with 1 Axes>"
      ]
     },
     "metadata": {
      "needs_background": "light"
     },
     "output_type": "display_data"
    }
   ],
   "source": [
    "plot_fits(fit_Af, fit_Bf, \"A Slow\", \"B Slow\")"
   ]
  },
  {
   "cell_type": "code",
   "execution_count": 59,
   "metadata": {},
   "outputs": [
    {
     "data": {
      "image/png": "[encoded data removed]",
      "text/plain": [
       "<Figure size 432x288 with 1 Axes>"
      ]
     },
     "metadata": {
      "needs_background": "light"
     },
     "output_type": "display_data"
    }
   ],
   "source": [
    "plot_fits(fit_As, fit_Bs, \"A slow\", \"B slow\")"
   ]
  },
  {
   "cell_type": "code",
   "execution_count": null,
   "metadata": {},
   "outputs": [],
   "source": [
    "plot_fits(fit_transfer_A, fit_transfer_B)"
   ]
  },
  {
   "cell_type": "code",
   "execution_count": 15,
   "metadata": {},
   "outputs": [],
   "source": [
    "def plot_collapsed_across_rotation_fits(fit_A, fit_B, x_label, y_label):\n",
    "    x = np.array([np.mean(np.concatenate((fit_A[0::4], fit_A[1::4])), axis = 0),np.mean(np.concatenate((fit_A[2::4], fit_A[3::4])), axis = 0)])\n",
    "    y = np.array([np.mean(np.concatenate((fit_B[0::4], fit_B[1::4])), axis = 0),np.mean(np.concatenate((fit_B[2::4], fit_B[3::4])), axis = 0)])\n",
    "    x_err = np.array([stat.sem(np.concatenate((fit_A[0::4], fit_A[1::4])), axis = 0),stat.sem(np.concatenate((fit_A[2::4], fit_A[3::4])), axis = 0)])\n",
    "    y_err = np.array([stat.sem(np.concatenate((fit_B[0::4], fit_B[1::4])), axis = 0), stat.sem(np.concatenate((fit_B[2::4], fit_B[3::4])), axis = 0)])\n",
    "    #x_err = np.array([stat.tstd(np.concatenate((fit_A[0::4], fit_A[1::4])), axis = 0),stat.tstd(np.concatenate((fit_A[2::4], fit_A[3::4])), axis = 0)])\n",
    "    #y_err = np.array([stat.tstd(np.concatenate((fit_B[0::4], fit_B[1::4])), axis = 0), stat.tstd(np.concatenate((fit_B[2::4], fit_B[3::4])), axis = 0)])\n",
    "\n",
    "    x_CI = x - np.array(stat.norm.interval(0.95, loc = x, scale = x_err))[0, :], np.array(stat.norm.interval(0.95, loc = x, scale = x_err))[1, :] - x\n",
    "    y_CI = y - np.array(stat.norm.interval(0.95, loc = y, scale = y_err))[0, :], np.array(stat.norm.interval(0.95, loc = y, scale = y_err))[1, :] - y\n",
    "\n",
    "    #x_conf_interval = np.array(stat.norm.interval(0.95, loc = x, scale = x_err))\n",
    "    #y_conf_interval = np.array(stat.norm.interval(0.95, loc = y, scale = y_err))\n",
    "    #plt.errorbar(x, y, xerr = x_err, yerr = y_err, linestyle = 'None', capsize = 3)\n",
    "    #plot0 = plt.errorbar(x[0], y[0], xerr = x_err[0], yerr = y_err[0], capsize = 3)\n",
    "    #plot0 = plt.scatter(np.concatenate((fit_A[0::4], fit_A[1::4])), np.concatenate((fit_B[0::4], fit_B[1::4])))\n",
    "\n",
    "    #plot1 = plt.errorbar(x[1], y[1], xerr = x_err[1], yerr = y_err[1], capsize = 3)\n",
    "    #plot1 = plt.scatter(np.concatenate((fit_A[2::4], fit_A[3::4])), np.concatenate((fit_B[2::4], fit_B[3::4])))\n",
    "    plot0 = plt.errorbar(x[0], y[0], xerr = [x_CI[0][0], x_CI[1][0]], yerr = [y_CI[0][0], y_CI[1][0]], capsize = 3)\n",
    "    plot1 = plt.errorbar(x[1], y[1], xerr = [x_CI[0][1], x_CI[1][1]], yerr = [y_CI[0][1], y_CI[1][1]], capsize = 3)\n",
    "\n",
    "    #plot0 = plt.errorbar(x[0], y[0], xerr = x_conf_interval[:, 0], yerr = y_conf_interval[:, 0], capsize = 3)\n",
    "    #plot1 = plt.errorbar(x[1], y[1], xerr = x_conf_interval[:, 1], yerr = y_conf_interval[:, 1], capsize = 3)\n",
    "    #plot2 = plt.errorbar(x[2], y[2], xerr = x_conf_interval[:, 2], yerr = y_conf_interval[:, 2], capsize = 3)\n",
    "    #plot3 = plt.errorbar(x[3], y[3], xerr = x_conf_interval[:, 3], yerr = y_conf_interval[:, 3], capsize = 3)\n",
    "\n",
    "    plt.legend((plot0, plot1), ('Sudden', 'Gradual'))\n",
    "    plt.xlabel(x_label)\n",
    "    plt.ylabel(y_label)"
   ]
  },
  {
   "cell_type": "code",
   "execution_count": 53,
   "metadata": {},
   "outputs": [
    {
     "name": "stdout",
     "output_type": "stream",
     "text": [
      "[0.84655613] [0.5007307]\n"
     ]
    },
    {
     "data": {
      "image/png": "[encoded data removed]",
      "text/plain": [
       "<Figure size 432x288 with 1 Axes>"
      ]
     },
     "metadata": {
      "needs_background": "light"
     },
     "output_type": "display_data"
    }
   ],
   "source": [
    "plot_collapsed_across_emphasis_fits(fit_As, fit_alpha, \"A fast\", \"alpha\")"
   ]
  },
  {
   "cell_type": "code",
   "execution_count": null,
   "metadata": {},
   "outputs": [],
   "source": []
  },
  {
   "cell_type": "code",
   "execution_count": 19,
   "metadata": {},
   "outputs": [],
   "source": [
    "def plot_collapsed_across_emphasis_fits(fit_A, fit_B, x_label, y_label):\n",
    "    x = np.array([np.nanmean(fit_A[0::2, :], axis = 0), np.nanmean(fit_A[1::2, :], axis = 0)])#, np.nanmean(fit_A[2::4, :], axis = 0), np.nanmean(fit_A[3::4, :], axis = 0)])\n",
    "    y = np.array([np.nanmean(fit_B[0::2, :], axis = 0), np.nanmean(fit_B[1::2, :], axis = 0)])#, np.nanmean(fit_B[2::4, :], axis = 0), np.nanmean(fit_B[3::4, :], axis = 0)])\n",
    "\n",
    "    #x = np.array([np.nanmean(fit_A[0::2, :] - fit_A[1::2, :], axis = 0)])#, np.nanmean(fit_A[1::2, :], axis = 0)])#, np.nanmean(fit_A[2::4, :], axis = 0), np.nanmean(fit_A[3::4, :], axis = 0)])\n",
    "    #y = np.array([np.nanmean(fit_B[0::2, :] - fit_B[1::2, :], axis = 0)])#, np.nanmean(fit_B[1::2, :], axis = 0)])#, np.nanmean(fit_B[2::4, :], axis = 0), np.nanmean(fit_B[3::4, :], axis = 0)])\n",
    "\n",
    "    x_err = np.array([stat.sem(fit_A[0::2, :], axis = 0), stat.sem(fit_A[1::2, :], axis = 0)])#, stat.sem(fit_A[2::4, :], axis = 0), stat.sem(fit_A[3::4, :], axis = 0)])\n",
    "    y_err = np.array([stat.sem(fit_B[0::2, :], axis = 0), stat.sem(fit_B[1::2, :], axis = 0)])#, stat.sem(fit_B[2::4, :], axis = 0), stat.sem(fit_B[3::4, :], axis = 0)])\n",
    "\n",
    "    #x_err = np.array([stat.tstd(fit_A[0::2, :], axis = 0), stat.tstd(fit_A[1::2, :], axis = 0)])#, stat.sem(fit_A[2::4, :], axis = 0), stat.sem(fit_A[3::4, :], axis = 0)])\n",
    "    #y_err = np.array([stat.tstd(fit_B[0::2, :], axis = 0), stat.tstd(fit_B[1::2, :], axis = 0)])#, stat.sem(fit_B[2::4, :], axis = 0), stat.sem(fit_B[3::4, :], axis = 0)])\n",
    "\n",
    "    #x_conf_interval = np.array(stat.norm.interval(0.83, loc = x, scale = x_err))\n",
    "    #y_conf_interval = np.array(stat.norm.interval(0.83, loc = y, scale = y_err))\n",
    "\n",
    "    x_CI = x - np.array(stat.norm.interval(0.95, loc = x, scale = x_err))[0, :], np.array(stat.norm.interval(0.95, loc = x, scale = x_err))[1, :] - x\n",
    "    y_CI = y - np.array(stat.norm.interval(0.95, loc = y, scale = y_err))[0, :], np.array(stat.norm.interval(0.95, loc = y, scale = y_err))[1, :] - y\n",
    "    plot0 = plt.errorbar(x[0], y[0], xerr = [x_CI[0][0], x_CI[1][0]], yerr = [y_CI[0][0], y_CI[1][0]], capsize = 3)\n",
    "    plot1 = plt.errorbar(x[1], y[1], xerr = [x_CI[0][1], x_CI[1][1]], yerr = [y_CI[0][1], y_CI[1][1]], capsize = 3)\n",
    "\n",
    "\n",
    "    #plot0 = plt.errorbar(x[0], y[0], xerr = x_err[0], yerr = y_err[0], capsize = 3)\n",
    "    #plot1 = plt.errorbar(x[1], y[1], xerr = x_err[1], yerr = y_err[1], capsize = 3)\n",
    "    #plot0 = plt.errorbar(x[0], y[0], xerr = x_conf_interval[:, 0], yerr = y_conf_interval[:, 0], capsize = 3)\n",
    "    #plot1 = plt.errorbar(x[1], y[1], xerr = x_conf_interval[:, 1], yerr = y_conf_interval[:, 1], capsize = 3)\n",
    "    #plot2 = plt.errorbar(x[2], y[2], xerr = x_conf_interval[:, 2], yerr = y_conf_interval[:, 2], capsize = 3)\n",
    "    #plot3 = plt.errorbar(x[3], y[3], xerr = x_conf_interval[:, 3], yerr = y_conf_interval[:, 3], capsize = 3)\n",
    "    print (x[0], y[0])\n",
    "    plt.legend((plot0, plot1), ('Speed', 'Accuracy'))#, 'Gradual Speed', 'Gradual Accuracy'))\n",
    "    plt.xlabel(x_label)\n",
    "    plt.ylabel(y_label)"
   ]
  },
  {
   "cell_type": "code",
   "execution_count": 54,
   "metadata": {},
   "outputs": [
    {
     "data": {
      "image/png": "[encoded data removed]",
      "text/plain": [
       "<Figure size 432x288 with 1 Axes>"
      ]
     },
     "metadata": {
      "needs_background": "light"
     },
     "output_type": "display_data"
    }
   ],
   "source": [
    "plot_collapsed_across_rotation_fits(fit_As, fit_alpha, \"A Slow\", \"alpha\")"
   ]
  },
  {
   "cell_type": "code",
   "execution_count": null,
   "metadata": {},
   "outputs": [],
   "source": [
    "plot_collapsed_across_rotation_fits(fit_transfer_A, fit_transfer_B)"
   ]
  },
  {
   "cell_type": "code",
   "execution_count": null,
   "metadata": {},
   "outputs": [],
   "source": []
  },
  {
   "cell_type": "code",
   "execution_count": null,
   "metadata": {},
   "outputs": [],
   "source": []
  },
  {
   "cell_type": "code",
   "execution_count": null,
   "metadata": {},
   "outputs": [],
   "source": []
  },
  {
   "cell_type": "code",
   "execution_count": null,
   "metadata": {},
   "outputs": [],
   "source": [
    "#np.mean(np.mean(error_sum[1::4], axis = 2), axis = 0)\n",
    "#stat.sem(np.mean(error_sum[1::4], axis = 2), axis = 0)\n",
    "def plot_param_fits(fit_A, text):\n",
    "#    quantiles = get_quantile(total_times)\n",
    "    xpos = [0, 1, 2, 3, 4]\n",
    "    y = np.array([np.mean(fit_A[1::4]),\n",
    "                     np.mean(fit_A[0::4]), \n",
    "                     np.mean(fit_A[3::4]),\n",
    "                     np.mean(fit_A[2::4])])# - np.mean(np.median(distances[1::4], axis = 2), axis = 0)[10],\n",
    "    y_sem = np.array([stat.sem(fit_A[2::4]),\n",
    "                             stat.sem(fit_A[2::4]),\n",
    "                             stat.sem(fit_A[2::4]),\n",
    "                             stat.sem(fit_A[2::4])]) \n",
    "    #print (y_sem[0])\n",
    "    #y_sem = np.array([0, 0, 0, 0])\n",
    "    plt.bar(0, y[0], yerr = y_sem[0], capsize = 3, fill = False)\n",
    "    plt.bar(1, y[1], yerr = y_sem[1], capsize = 3, color = [0.5, 0.5, 0.5])\n",
    "    plt.bar(2, y[2], yerr = y_sem[2], capsize = 3, hatch = '\\\\', fill = False)\n",
    "    plt.bar(3, y[3], yerr = y_sem[3], capsize = 3, hatch = '\\\\', color = [0.5, 0.5, 0.5])\n",
    "\n",
    "#    handles = plt.bar(range(4), y, yerr = y_sem, capsize = 3, color = ['Blue', 'Green', 'Blue', 'Green'], alpha = [1, 0.5, 0.5, 1])\n",
    "    plt.xticks([0, 1, 2, 3], ['Sudden \\n Accuracy', 'Sudden \\n Speed', 'Gradual \\n Accuracy', 'Gradual \\nSpeed'], rotation = 'vertical')\n",
    "    plt.ylabel('fit values')\n",
    "    plt.xlabel('Condition')\n",
    "    #plt.legend([handles[0], handles[1]], ['Speed', 'Accuracy'])\n",
    "    plt.title(text)\n",
    "    #plt.ylim(0, 45)\n",
    "    print (y)\n",
    "#np.shape(np.mean(error_sum[1::4], axis = 0))\n"
   ]
  },
  {
   "cell_type": "code",
   "execution_count": 48,
   "metadata": {},
   "outputs": [
    {
     "name": "stdout",
     "output_type": "stream",
     "text": [
      "[[[ 0.17996485 -0.00501206 -0.02302613 -0.11940731]\n",
      "  [ 0.23885269  0.05387577  0.0358617  -0.06051947]\n",
      "  [ 0.23156109  0.04658417  0.02857011 -0.06781107]\n",
      "  [ 0.29597319  0.11099627  0.09298221 -0.00339897]]\n",
      "\n",
      " [[ 0.53361772  0.3486408   0.33062673  0.23424556]\n",
      "  [ 0.47472988  0.28975296  0.2717389   0.17535772]\n",
      "  [ 0.48202148  0.29704456  0.27903049  0.18264932]\n",
      "  [ 0.41760938  0.23263246  0.21461839  0.11823722]]]\n",
      "[0.35679128 0.17181437 0.1538003  0.05741913]\n",
      "[array([0.17682643, 0.17682643, 0.17682643, 0.17682643]), array([-0.17682643, -0.17682643, -0.17682643, -0.17682643])]\n"
     ]
    },
    {
     "ename": "ValueError",
     "evalue": "The lengths of the data (1) and the error 4 do not match",
     "output_type": "error",
     "traceback": [
      "\u001b[1;31m---------------------------------------------------------------------------\u001b[0m",
      "\u001b[1;31mValueError\u001b[0m                                Traceback (most recent call last)",
      "\u001b[1;32m<ipython-input-48-cef033bb9fd2>\u001b[0m in \u001b[0;36m<module>\u001b[1;34m\u001b[0m\n\u001b[0;32m     37\u001b[0m     \u001b[0mprint\u001b[0m \u001b[1;33m(\u001b[0m\u001b[0my\u001b[0m\u001b[1;33m)\u001b[0m\u001b[1;33m\u001b[0m\u001b[0m\n\u001b[0;32m     38\u001b[0m \u001b[1;31m#np.shape(np.mean(error_sum[1::4], axis = 0))\u001b[0m\u001b[1;33m\u001b[0m\u001b[1;33m\u001b[0m\u001b[0m\n\u001b[1;32m---> 39\u001b[1;33m \u001b[0mplot_bar\u001b[0m\u001b[1;33m(\u001b[0m\u001b[0mfit_alpha\u001b[0m\u001b[1;33m,\u001b[0m \u001b[1;34m'Transfer'\u001b[0m\u001b[1;33m)\u001b[0m\u001b[1;33m\u001b[0m\u001b[0m\n\u001b[0m",
      "\u001b[1;32m<ipython-input-48-cef033bb9fd2>\u001b[0m in \u001b[0;36mplot_bar\u001b[1;34m(distances, text)\u001b[0m\n\u001b[0;32m     23\u001b[0m     \u001b[1;31m#y_sem = np.array([0, 0, 0, 0])\u001b[0m\u001b[1;33m\u001b[0m\u001b[1;33m\u001b[0m\u001b[0m\n\u001b[0;32m     24\u001b[0m     \u001b[0mprint\u001b[0m\u001b[1;33m(\u001b[0m\u001b[1;33m[\u001b[0m\u001b[0my_CI\u001b[0m\u001b[1;33m[\u001b[0m\u001b[1;36m0\u001b[0m\u001b[1;33m]\u001b[0m\u001b[1;33m[\u001b[0m\u001b[1;36m0\u001b[0m\u001b[1;33m]\u001b[0m\u001b[1;33m,\u001b[0m \u001b[0my_CI\u001b[0m\u001b[1;33m[\u001b[0m\u001b[1;36m1\u001b[0m\u001b[1;33m]\u001b[0m\u001b[1;33m[\u001b[0m\u001b[1;36m0\u001b[0m\u001b[1;33m]\u001b[0m\u001b[1;33m]\u001b[0m\u001b[1;33m)\u001b[0m\u001b[1;33m\u001b[0m\u001b[0m\n\u001b[1;32m---> 25\u001b[1;33m     \u001b[0mplt\u001b[0m\u001b[1;33m.\u001b[0m\u001b[0mbar\u001b[0m\u001b[1;33m(\u001b[0m\u001b[1;36m0\u001b[0m\u001b[1;33m,\u001b[0m \u001b[0my\u001b[0m\u001b[1;33m[\u001b[0m\u001b[1;36m0\u001b[0m\u001b[1;33m]\u001b[0m\u001b[1;33m,\u001b[0m \u001b[0myerr\u001b[0m \u001b[1;33m=\u001b[0m \u001b[0my_CI\u001b[0m\u001b[1;33m[\u001b[0m\u001b[1;36m0\u001b[0m\u001b[1;33m]\u001b[0m\u001b[1;33m[\u001b[0m\u001b[1;36m0\u001b[0m\u001b[1;33m]\u001b[0m\u001b[1;33m,\u001b[0m \u001b[0mcapsize\u001b[0m \u001b[1;33m=\u001b[0m \u001b[1;36m3\u001b[0m\u001b[1;33m,\u001b[0m \u001b[0mfill\u001b[0m \u001b[1;33m=\u001b[0m \u001b[1;32mFalse\u001b[0m\u001b[1;33m)\u001b[0m\u001b[1;33m\u001b[0m\u001b[0m\n\u001b[0m\u001b[0;32m     26\u001b[0m     \u001b[0mplt\u001b[0m\u001b[1;33m.\u001b[0m\u001b[0mbar\u001b[0m\u001b[1;33m(\u001b[0m\u001b[1;36m1\u001b[0m\u001b[1;33m,\u001b[0m \u001b[0my\u001b[0m\u001b[1;33m[\u001b[0m\u001b[1;36m1\u001b[0m\u001b[1;33m]\u001b[0m\u001b[1;33m,\u001b[0m \u001b[0myerr\u001b[0m \u001b[1;33m=\u001b[0m \u001b[0my_CI\u001b[0m\u001b[1;33m[\u001b[0m\u001b[1;36m0\u001b[0m\u001b[1;33m]\u001b[0m\u001b[1;33m[\u001b[0m\u001b[1;36m1\u001b[0m\u001b[1;33m]\u001b[0m\u001b[1;33m,\u001b[0m \u001b[0mcapsize\u001b[0m \u001b[1;33m=\u001b[0m \u001b[1;36m3\u001b[0m\u001b[1;33m,\u001b[0m \u001b[0mcolor\u001b[0m \u001b[1;33m=\u001b[0m \u001b[1;33m[\u001b[0m\u001b[1;36m0.5\u001b[0m\u001b[1;33m,\u001b[0m \u001b[1;36m0.5\u001b[0m\u001b[1;33m,\u001b[0m \u001b[1;36m0.5\u001b[0m\u001b[1;33m]\u001b[0m\u001b[1;33m)\u001b[0m\u001b[1;33m\u001b[0m\u001b[0m\n\u001b[0;32m     27\u001b[0m     \u001b[0mplt\u001b[0m\u001b[1;33m.\u001b[0m\u001b[0mbar\u001b[0m\u001b[1;33m(\u001b[0m\u001b[1;36m2\u001b[0m\u001b[1;33m,\u001b[0m \u001b[0my\u001b[0m\u001b[1;33m[\u001b[0m\u001b[1;36m2\u001b[0m\u001b[1;33m]\u001b[0m\u001b[1;33m,\u001b[0m \u001b[0myerr\u001b[0m \u001b[1;33m=\u001b[0m \u001b[0my_CI\u001b[0m\u001b[1;33m[\u001b[0m\u001b[1;36m0\u001b[0m\u001b[1;33m]\u001b[0m\u001b[1;33m[\u001b[0m\u001b[1;36m2\u001b[0m\u001b[1;33m]\u001b[0m\u001b[1;33m,\u001b[0m \u001b[0mcapsize\u001b[0m \u001b[1;33m=\u001b[0m \u001b[1;36m3\u001b[0m\u001b[1;33m,\u001b[0m \u001b[0mhatch\u001b[0m \u001b[1;33m=\u001b[0m \u001b[1;34m'\\\\'\u001b[0m\u001b[1;33m,\u001b[0m \u001b[0mfill\u001b[0m \u001b[1;33m=\u001b[0m \u001b[1;32mFalse\u001b[0m\u001b[1;33m)\u001b[0m\u001b[1;33m\u001b[0m\u001b[0m\n",
      "\u001b[1;32m~\\Anaconda3\\lib\\site-packages\\matplotlib\\pyplot.py\u001b[0m in \u001b[0;36mbar\u001b[1;34m(x, height, width, bottom, align, data, **kwargs)\u001b[0m\n\u001b[0;32m   2407\u001b[0m     return gca().bar(\n\u001b[0;32m   2408\u001b[0m         \u001b[0mx\u001b[0m\u001b[1;33m,\u001b[0m \u001b[0mheight\u001b[0m\u001b[1;33m,\u001b[0m \u001b[0mwidth\u001b[0m\u001b[1;33m=\u001b[0m\u001b[0mwidth\u001b[0m\u001b[1;33m,\u001b[0m \u001b[0mbottom\u001b[0m\u001b[1;33m=\u001b[0m\u001b[0mbottom\u001b[0m\u001b[1;33m,\u001b[0m \u001b[0malign\u001b[0m\u001b[1;33m=\u001b[0m\u001b[0malign\u001b[0m\u001b[1;33m,\u001b[0m\u001b[1;33m\u001b[0m\u001b[0m\n\u001b[1;32m-> 2409\u001b[1;33m         **({\"data\": data} if data is not None else {}), **kwargs)\n\u001b[0m\u001b[0;32m   2410\u001b[0m \u001b[1;33m\u001b[0m\u001b[0m\n\u001b[0;32m   2411\u001b[0m \u001b[1;33m\u001b[0m\u001b[0m\n",
      "\u001b[1;32m~\\Anaconda3\\lib\\site-packages\\matplotlib\\__init__.py\u001b[0m in \u001b[0;36minner\u001b[1;34m(ax, data, *args, **kwargs)\u001b[0m\n\u001b[0;32m   1563\u001b[0m     \u001b[1;32mdef\u001b[0m \u001b[0minner\u001b[0m\u001b[1;33m(\u001b[0m\u001b[0max\u001b[0m\u001b[1;33m,\u001b[0m \u001b[1;33m*\u001b[0m\u001b[0margs\u001b[0m\u001b[1;33m,\u001b[0m \u001b[0mdata\u001b[0m\u001b[1;33m=\u001b[0m\u001b[1;32mNone\u001b[0m\u001b[1;33m,\u001b[0m \u001b[1;33m**\u001b[0m\u001b[0mkwargs\u001b[0m\u001b[1;33m)\u001b[0m\u001b[1;33m:\u001b[0m\u001b[1;33m\u001b[0m\u001b[0m\n\u001b[0;32m   1564\u001b[0m         \u001b[1;32mif\u001b[0m \u001b[0mdata\u001b[0m \u001b[1;32mis\u001b[0m \u001b[1;32mNone\u001b[0m\u001b[1;33m:\u001b[0m\u001b[1;33m\u001b[0m\u001b[0m\n\u001b[1;32m-> 1565\u001b[1;33m             \u001b[1;32mreturn\u001b[0m \u001b[0mfunc\u001b[0m\u001b[1;33m(\u001b[0m\u001b[0max\u001b[0m\u001b[1;33m,\u001b[0m \u001b[1;33m*\u001b[0m\u001b[0mmap\u001b[0m\u001b[1;33m(\u001b[0m\u001b[0msanitize_sequence\u001b[0m\u001b[1;33m,\u001b[0m \u001b[0margs\u001b[0m\u001b[1;33m)\u001b[0m\u001b[1;33m,\u001b[0m \u001b[1;33m**\u001b[0m\u001b[0mkwargs\u001b[0m\u001b[1;33m)\u001b[0m\u001b[1;33m\u001b[0m\u001b[0m\n\u001b[0m\u001b[0;32m   1566\u001b[0m \u001b[1;33m\u001b[0m\u001b[0m\n\u001b[0;32m   1567\u001b[0m         \u001b[0mbound\u001b[0m \u001b[1;33m=\u001b[0m \u001b[0mnew_sig\u001b[0m\u001b[1;33m.\u001b[0m\u001b[0mbind\u001b[0m\u001b[1;33m(\u001b[0m\u001b[0max\u001b[0m\u001b[1;33m,\u001b[0m \u001b[1;33m*\u001b[0m\u001b[0margs\u001b[0m\u001b[1;33m,\u001b[0m \u001b[1;33m**\u001b[0m\u001b[0mkwargs\u001b[0m\u001b[1;33m)\u001b[0m\u001b[1;33m\u001b[0m\u001b[0m\n",
      "\u001b[1;32m~\\Anaconda3\\lib\\site-packages\\matplotlib\\axes\\_axes.py\u001b[0m in \u001b[0;36mbar\u001b[1;34m(self, x, height, width, bottom, align, **kwargs)\u001b[0m\n\u001b[0;32m   2420\u001b[0m             errorbar = self.errorbar(ex, ey,\n\u001b[0;32m   2421\u001b[0m                                      \u001b[0myerr\u001b[0m\u001b[1;33m=\u001b[0m\u001b[0myerr\u001b[0m\u001b[1;33m,\u001b[0m \u001b[0mxerr\u001b[0m\u001b[1;33m=\u001b[0m\u001b[0mxerr\u001b[0m\u001b[1;33m,\u001b[0m\u001b[1;33m\u001b[0m\u001b[0m\n\u001b[1;32m-> 2422\u001b[1;33m                                      fmt='none', **error_kw)\n\u001b[0m\u001b[0;32m   2423\u001b[0m         \u001b[1;32melse\u001b[0m\u001b[1;33m:\u001b[0m\u001b[1;33m\u001b[0m\u001b[0m\n\u001b[0;32m   2424\u001b[0m             \u001b[0merrorbar\u001b[0m \u001b[1;33m=\u001b[0m \u001b[1;32mNone\u001b[0m\u001b[1;33m\u001b[0m\u001b[0m\n",
      "\u001b[1;32m~\\Anaconda3\\lib\\site-packages\\matplotlib\\__init__.py\u001b[0m in \u001b[0;36minner\u001b[1;34m(ax, data, *args, **kwargs)\u001b[0m\n\u001b[0;32m   1563\u001b[0m     \u001b[1;32mdef\u001b[0m \u001b[0minner\u001b[0m\u001b[1;33m(\u001b[0m\u001b[0max\u001b[0m\u001b[1;33m,\u001b[0m \u001b[1;33m*\u001b[0m\u001b[0margs\u001b[0m\u001b[1;33m,\u001b[0m \u001b[0mdata\u001b[0m\u001b[1;33m=\u001b[0m\u001b[1;32mNone\u001b[0m\u001b[1;33m,\u001b[0m \u001b[1;33m**\u001b[0m\u001b[0mkwargs\u001b[0m\u001b[1;33m)\u001b[0m\u001b[1;33m:\u001b[0m\u001b[1;33m\u001b[0m\u001b[0m\n\u001b[0;32m   1564\u001b[0m         \u001b[1;32mif\u001b[0m \u001b[0mdata\u001b[0m \u001b[1;32mis\u001b[0m \u001b[1;32mNone\u001b[0m\u001b[1;33m:\u001b[0m\u001b[1;33m\u001b[0m\u001b[0m\n\u001b[1;32m-> 1565\u001b[1;33m             \u001b[1;32mreturn\u001b[0m \u001b[0mfunc\u001b[0m\u001b[1;33m(\u001b[0m\u001b[0max\u001b[0m\u001b[1;33m,\u001b[0m \u001b[1;33m*\u001b[0m\u001b[0mmap\u001b[0m\u001b[1;33m(\u001b[0m\u001b[0msanitize_sequence\u001b[0m\u001b[1;33m,\u001b[0m \u001b[0margs\u001b[0m\u001b[1;33m)\u001b[0m\u001b[1;33m,\u001b[0m \u001b[1;33m**\u001b[0m\u001b[0mkwargs\u001b[0m\u001b[1;33m)\u001b[0m\u001b[1;33m\u001b[0m\u001b[0m\n\u001b[0m\u001b[0;32m   1566\u001b[0m \u001b[1;33m\u001b[0m\u001b[0m\n\u001b[0;32m   1567\u001b[0m         \u001b[0mbound\u001b[0m \u001b[1;33m=\u001b[0m \u001b[0mnew_sig\u001b[0m\u001b[1;33m.\u001b[0m\u001b[0mbind\u001b[0m\u001b[1;33m(\u001b[0m\u001b[0max\u001b[0m\u001b[1;33m,\u001b[0m \u001b[1;33m*\u001b[0m\u001b[0margs\u001b[0m\u001b[1;33m,\u001b[0m \u001b[1;33m**\u001b[0m\u001b[0mkwargs\u001b[0m\u001b[1;33m)\u001b[0m\u001b[1;33m\u001b[0m\u001b[0m\n",
      "\u001b[1;32m~\\Anaconda3\\lib\\site-packages\\matplotlib\\axes\\_axes.py\u001b[0m in \u001b[0;36merrorbar\u001b[1;34m(self, x, y, yerr, xerr, fmt, ecolor, elinewidth, capsize, barsabove, lolims, uplims, xlolims, xuplims, errorevery, capthick, **kwargs)\u001b[0m\n\u001b[0;32m   3375\u001b[0m \u001b[1;33m\u001b[0m\u001b[0m\n\u001b[0;32m   3376\u001b[0m         \u001b[1;32mif\u001b[0m \u001b[0myerr\u001b[0m \u001b[1;32mis\u001b[0m \u001b[1;32mnot\u001b[0m \u001b[1;32mNone\u001b[0m\u001b[1;33m:\u001b[0m\u001b[1;33m\u001b[0m\u001b[0m\n\u001b[1;32m-> 3377\u001b[1;33m             \u001b[0mlower\u001b[0m\u001b[1;33m,\u001b[0m \u001b[0mupper\u001b[0m \u001b[1;33m=\u001b[0m \u001b[0mextract_err\u001b[0m\u001b[1;33m(\u001b[0m\u001b[0myerr\u001b[0m\u001b[1;33m,\u001b[0m \u001b[0my\u001b[0m\u001b[1;33m)\u001b[0m\u001b[1;33m\u001b[0m\u001b[0m\n\u001b[0m\u001b[0;32m   3378\u001b[0m             \u001b[1;31m# select points without upper/lower limits in y and\u001b[0m\u001b[1;33m\u001b[0m\u001b[1;33m\u001b[0m\u001b[0m\n\u001b[0;32m   3379\u001b[0m             \u001b[1;31m# draw normal errorbars for these points\u001b[0m\u001b[1;33m\u001b[0m\u001b[1;33m\u001b[0m\u001b[0m\n",
      "\u001b[1;32m~\\Anaconda3\\lib\\site-packages\\matplotlib\\axes\\_axes.py\u001b[0m in \u001b[0;36mextract_err\u001b[1;34m(err, data)\u001b[0m\n\u001b[0;32m   3319\u001b[0m                 \u001b[1;32mif\u001b[0m \u001b[0mlen\u001b[0m\u001b[1;33m(\u001b[0m\u001b[0mdata\u001b[0m\u001b[1;33m)\u001b[0m \u001b[1;33m!=\u001b[0m \u001b[0mlen\u001b[0m\u001b[1;33m(\u001b[0m\u001b[0me\u001b[0m\u001b[1;33m)\u001b[0m\u001b[1;33m:\u001b[0m\u001b[1;33m\u001b[0m\u001b[0m\n\u001b[0;32m   3320\u001b[0m                     raise ValueError(\n\u001b[1;32m-> 3321\u001b[1;33m                         \u001b[1;34mf\"The lengths of the data ({len(data)}) and the \"\u001b[0m\u001b[1;33m\u001b[0m\u001b[0m\n\u001b[0m\u001b[0;32m   3322\u001b[0m                         f\"error {len(e)} do not match\")\n\u001b[0;32m   3323\u001b[0m             \u001b[0mlow\u001b[0m \u001b[1;33m=\u001b[0m \u001b[1;33m[\u001b[0m\u001b[0mv\u001b[0m \u001b[1;33m-\u001b[0m \u001b[0me\u001b[0m \u001b[1;32mfor\u001b[0m \u001b[0mv\u001b[0m\u001b[1;33m,\u001b[0m \u001b[0me\u001b[0m \u001b[1;32min\u001b[0m \u001b[0mzip\u001b[0m\u001b[1;33m(\u001b[0m\u001b[0mdata\u001b[0m\u001b[1;33m,\u001b[0m \u001b[0ma\u001b[0m\u001b[1;33m)\u001b[0m\u001b[1;33m]\u001b[0m\u001b[1;33m\u001b[0m\u001b[0m\n",
      "\u001b[1;31mValueError\u001b[0m: The lengths of the data (1) and the error 4 do not match"
     ]
    },
    {
     "data": {
      "image/png": "[encoded data removed]",
      "text/plain": [
       "<Figure size 432x288 with 1 Axes>"
      ]
     },
     "metadata": {
      "needs_background": "light"
     },
     "output_type": "display_data"
    }
   ],
   "source": [
    "#np.mean(np.mean(error_sum[1::4], axis = 2), axis = 0)\n",
    "#stat.sem(np.mean(error_sum[1::4], axis = 2), axis = 0)\n",
    "def plot_bar(distances, text):\n",
    "#    quantiles = get_quantile(total_times)\n",
    "    xpos = [0, 1, 2, 3, 4]\n",
    "    y = np.array([np.mean(distances[1::4]),# - np.mean(np.median(distances[1::4], axis = 2), axis = 0)[10],\n",
    "                  np.mean(distances[0::4]), #- np.mean(np.median(distances[4::4], axis = 2), axis = 0)[10],\n",
    "                  np.mean(distances[3::4]), #- np.mean(np.median(distances[3::4], axis = 2), axis = 0)[10],\n",
    "                  np.mean(distances[2::4]) #- np.mean(np.median(distances[2::4], axis = 2), axis = 0)[10]] \n",
    "                  ])\n",
    "    \n",
    "    y_sem = np.array([stat.sem(distances[1::4]), \n",
    "                    stat.sem(distances[0::4]),\n",
    "                    stat.sem(distances[3::4]),\n",
    "                    stat.sem(distances[2::4])\n",
    "                     ])\n",
    "    print(np.array(stat.norm.interval(0.95, loc = y, scale = y_sem)))\n",
    "    print(y)\n",
    "    #x_CI = x - np.array(stat.norm.interval(0.95, loc = x, scale = x_err))[0, :], np.array(stat.norm.interval(0.95, loc = x, scale = x_err))[1, :] - x\n",
    "    y_CI = y - np.array(stat.norm.interval(0.95, loc = y, scale = y_sem))#[0, :], np.array(stat.norm.interval(0.95, loc = y, scale = y_sem))[1, :]\n",
    "    #print (y_CI)\n",
    "    #print (y_sem[0])\n",
    "    #y_sem = np.array([0, 0, 0, 0])\n",
    "    print([y_CI[0][0], y_CI[1][0]])\n",
    "    plt.bar(0, y[0], yerr = y_CI[0][0], capsize = 3, fill = False)\n",
    "    plt.bar(1, y[1], yerr = y_CI[0][1], capsize = 3, color = [0.5, 0.5, 0.5])\n",
    "    plt.bar(2, y[2], yerr = y_CI[0][2], capsize = 3, hatch = '\\\\', fill = False)\n",
    "    plt.bar(3, y[3], yerr = y_CI[0][3], capsize = 3, hatch = '\\\\', color = [0.5, 0.5, 0.5])\n",
    "\n",
    "#    handles = plt.bar(range(4), y, yerr = y_sem, capsize = 3, color = ['Blue', 'Green', 'Blue', 'Green'], alpha = [1, 0.5, 0.5, 1])\n",
    "    plt.xticks([0, 1, 2, 3], ['Sudden \\n Accuracy', 'Sudden \\n Speed', 'Gradual \\n Accuracy', 'Gradual \\nSpeed'], rotation = 'vertical')\n",
    "    plt.ylabel('Curvatures')\n",
    "    plt.xlabel('Condition')\n",
    "    #plt.legend([handles[0], handles[1]], ['Speed', 'Accuracy'])\n",
    "    plt.title(text)\n",
    "    plt.ylim(0, 45)\n",
    "    print (y)\n",
    "#np.shape(np.mean(error_sum[1::4], axis = 0))\n",
    "plot_bar(fit_alpha, 'Transfer')"
   ]
  },
  {
   "cell_type": "code",
   "execution_count": null,
   "metadata": {},
   "outputs": [],
   "source": []
  },
  {
   "cell_type": "code",
   "execution_count": null,
   "metadata": {},
   "outputs": [],
   "source": []
  },
  {
   "cell_type": "code",
   "execution_count": null,
   "metadata": {},
   "outputs": [],
   "source": []
  },
  {
   "cell_type": "code",
   "execution_count": null,
   "metadata": {},
   "outputs": [],
   "source": []
  },
  {
   "cell_type": "code",
   "execution_count": null,
   "metadata": {},
   "outputs": [],
   "source": []
  },
  {
   "cell_type": "code",
   "execution_count": null,
   "metadata": {},
   "outputs": [],
   "source": []
  },
  {
   "cell_type": "code",
   "execution_count": null,
   "metadata": {},
   "outputs": [],
   "source": []
  },
  {
   "cell_type": "code",
   "execution_count": null,
   "metadata": {},
   "outputs": [],
   "source": []
  },
  {
   "cell_type": "code",
   "execution_count": null,
   "metadata": {},
   "outputs": [],
   "source": []
  },
  {
   "cell_type": "code",
   "execution_count": null,
   "metadata": {},
   "outputs": [],
   "source": []
  },
  {
   "cell_type": "code",
   "execution_count": null,
   "metadata": {},
   "outputs": [],
   "source": [
    "def plot_errors_trials(num_points, first_trial, last_trial, errors, title_text):\n",
    "    plt.figure(figsize=(20, 5))\n",
    "    plot_0, = plt.plot(np.nanmean(np.split(np.ravel(np.nanmean(errors[0::4], axis = 0)[1:][:, first_trial:last_trial]), num_points), axis = 1), alpha = 0.5)\n",
    "    plot_1, = plt.plot(np.nanmean(np.split(np.ravel(np.nanmean(errors[1::4], axis = 0)[1:][:, first_trial:last_trial]), num_points), axis = 1), alpha = 0.5)\n",
    "    plot_2, = plt.plot(np.nanmean(np.split(np.ravel(np.nanmean(errors[2::4], axis = 0)[1:][:, first_trial:last_trial]), num_points), axis = 1))\n",
    "    plot_3, = plt.plot(np.nanmean(np.split(np.ravel(np.nanmean(errors[3::4], axis = 0)[1:][:, first_trial:last_trial]), num_points), axis = 1))\n",
    "\n",
    "    plt.legend((plot_0, plot_1, plot_2, plot_3), ('Sudden Speed', 'Sudden Accuracy', 'Gradual Speed', 'Gradual Accuracy'))\n",
    "    plt.xlabel('Trials')\n",
    "    plt.ylabel('Angular Errors')\n",
    "    plt.title(title_text)"
   ]
  },
  {
   "cell_type": "code",
   "execution_count": null,
   "metadata": {},
   "outputs": [],
   "source": []
  },
  {
   "cell_type": "code",
   "execution_count": null,
   "metadata": {},
   "outputs": [],
   "source": []
  },
  {
   "cell_type": "code",
   "execution_count": null,
   "metadata": {},
   "outputs": [],
   "source": []
  },
  {
   "cell_type": "markdown",
   "metadata": {},
   "source": [
    "# 2-state model"
   ]
  },
  {
   "cell_type": "code",
   "execution_count": 2,
   "metadata": {},
   "outputs": [],
   "source": [
    "def dual_model_sudden(num_trials, Af, Bf, As, Bs):\n",
    "    errors = np.zeros((num_trials))\n",
    "    rotation = 90\n",
    "    fast_est = np.zeros((num_trials))\n",
    "    slow_est = np.zeros((num_trials))\n",
    "    rotation_est = np.zeros((num_trials))\n",
    "    #rotation_est[0] = est\n",
    "    for trial in range(num_trials - 1):\n",
    "        errors[trial] = rotation - rotation_est[trial]\n",
    "        #print(errors[trial])\n",
    "        fast_est[trial+1] = Af*fast_est[trial] + Bf*errors[trial]\n",
    "        slow_est[trial+1] = As*slow_est[trial] + Bs*errors[trial]\n",
    "        rotation_est[trial+1] = fast_est[trial+1] + slow_est[trial+1]\n",
    "        #print (rotation_est)\n",
    "    errors[num_trials-1] = rotation - rotation_est[num_trials-1]\n",
    "    return errors, rotation_est, fast_est, slow_est\n",
    "\n",
    "def dual_model_gradual(num_trials, Af, Bf, As, Bs):\n",
    "    errors = np.zeros((num_trials))\n",
    "    fast_est = np.zeros((num_trials))\n",
    "    slow_est = np.zeros((num_trials))\n",
    "    rotation_est = np.zeros((num_trials))\n",
    "    rotation = 0\n",
    "    for trial in range(num_trials - 1):\n",
    "        if trial%64 == 0:\n",
    "            rotation = rotation + 10\n",
    "        if rotation > 90:\n",
    "            rotation = 90\n",
    "        errors[trial] = rotation - rotation_est[trial]\n",
    "        #print(errors[trial])\n",
    "        fast_est[trial+1] = Af*fast_est[trial] + Bf*errors[trial]\n",
    "        slow_est[trial+1] = As*slow_est[trial] + Bs*errors[trial]\n",
    "        rotation_est[trial+1] = fast_est[trial+1] + slow_est[trial+1]\n",
    "        #print (rotation_est)\n",
    "    errors[num_trials-1] = rotation - rotation_est[num_trials-1]\n",
    "    return errors, rotation_est, fast_est, slow_est"
   ]
  },
  {
   "cell_type": "code",
   "execution_count": 3,
   "metadata": {},
   "outputs": [],
   "source": [
    "def residuals_sudden(params, num_trials, data_errors):\n",
    "    model_errors = dual_model_sudden(num_trials, params[0], params[1], params[2], params[3])[0]\n",
    "    residual_error = np.sum(np.square(model_errors - data_errors))\n",
    "    if params[0] > params[2]:\n",
    "        residual_error = residual_error + 10000000\n",
    "    if params[1] < params[3]:\n",
    "        residual_error = residual_error + 10000000\n",
    "    if params[0] < 0 or params[1] < 0 or params[2] < 0 or params[3] < 0:\n",
    "        residual_error = residual_error + 10000000\n",
    "    return residual_error\n",
    "\n",
    "def residuals_gradual(params, num_trials, data_errors):\n",
    "    model_errors = dual_model_gradual(num_trials, params[0], params[1], params[2], params[3])[0]\n",
    "    residual_error = np.sum(np.square(model_errors - data_errors))\n",
    "    if params[0] > params[2]:\n",
    "        residual_error = residual_error + 10000000\n",
    "    if params[1] < params[3]:\n",
    "        residual_error = residual_error + 10000000\n",
    "    if params[0] < 0 or params[1] < 0 or params[2] < 0 or params[3] < 0:\n",
    "        residual_error = residual_error + 10000000\n",
    "    return residual_error"
   ]
  },
  {
   "cell_type": "code",
   "execution_count": 4,
   "metadata": {},
   "outputs": [],
   "source": [
    "def dual_model_transfer(num_trials, Af, Bf, As, Bs, est):\n",
    "    errors = np.zeros((num_trials))\n",
    "    rotation = 0\n",
    "    fast_est = np.zeros((num_trials))\n",
    "    slow_est = np.zeros((num_trials))\n",
    "    rotation_est = np.zeros((num_trials))\n",
    "    rotation_est[0] = est\n",
    "    for trial in range(num_trials - 1):\n",
    "        errors[trial] = rotation_est[trial] - rotation\n",
    "        #print(errors[trial])\n",
    "        fast_est[trial+1] = Af*fast_est[trial] + Bf*errors[trial]\n",
    "        slow_est[trial+1] = As*slow_est[trial] + Bs*errors[trial]\n",
    "        rotation_est[trial+1] = fast_est[trial+1] + slow_est[trial+1]\n",
    "        #print (rotation_est)\n",
    "    errors[num_trials-1] = rotation_est[num_trials-1] - rotation\n",
    "    return errors, rotation_est, fast_est, slow_est\n",
    "\n",
    "def residuals_sudden_transfer(params, num_trials, data_errors, est):\n",
    "    model_errors = dual_model_transfer(num_trials, params[0], params[1], params[2], params[3], est)[0]\n",
    "    residual_error = np.sum(np.square(model_errors - data_errors))\n",
    "    if params[0] > params[2]:\n",
    "        residual_error = residual_error + 10000000\n",
    "    if params[1] < params[3]:\n",
    "        residual_error = residual_error + 10000000\n",
    "    if params[0] < 0 or params[1] < 0 or params[2] < 0 or params[3] < 0:\n",
    "        residual_error = residual_error + 10000000\n",
    "    if params[0] > 1 or params[1] > 1 or params[2] > 1 or params[3] > 1:\n",
    "        residual_error = residual_error + 10000000\n",
    "    \n",
    "    return residual_error\n"
   ]
  },
  {
   "cell_type": "code",
   "execution_count": null,
   "metadata": {},
   "outputs": [],
   "source": []
  },
  {
   "cell_type": "code",
   "execution_count": null,
   "metadata": {},
   "outputs": [],
   "source": []
  },
  {
   "cell_type": "code",
   "execution_count": null,
   "metadata": {},
   "outputs": [],
   "source": []
  },
  {
   "cell_type": "code",
   "execution_count": 5,
   "metadata": {},
   "outputs": [],
   "source": [
    "curvatures_smooth = pickle.load(open('curvatures_smooth.pickle', 'rb'))\n"
   ]
  },
  {
   "cell_type": "code",
   "execution_count": null,
   "metadata": {},
   "outputs": [],
   "source": [
    "def calc_curvature_wrapper(params):\n",
    "    return calc_curvature(params[0], params[1], params[2], params[3])\n",
    "paramlist = list(itertools.product(range(1000, 1060), range(12), range(64), range(1, 2)))\n",
    "\n",
    "if __name__ == '__main__':\n",
    "    pool = Pool()\n",
    "    res = np.reshape(np.array(pool.map(workers.calc_curvature_wrapper, paramlist)), (60, 12, 64))"
   ]
  },
  {
   "cell_type": "code",
   "execution_count": 11,
   "metadata": {},
   "outputs": [],
   "source": [
    "def fit_participant(participant, curvatures, num_fits):\n",
    "\n",
    "    for fit_parts in range(num_fits):\n",
    "\n",
    "        starting_points = np.array([[0.6, 0.5, 0.7, 0.1]])\n",
    "        for initial_point in starting_points:\n",
    "            if participant%4 == 0 or participant%4 == 1:      \n",
    "                #fits = scipy.optimize.minimize(residuals_sudden, x0 = [initial_point[0], initial_point[1], initial_point[2], initial_point[3]], args = (640, np.nan_to_num(np.ravel(curvatures[participant][1:-1]), nan = np.nanmedian(curvatures[participant][1:-1]))), method = 'Nelder-Mead')            \n",
    "                fits = scipy.optimize.basinhopping(residuals_sudden, x0 = [initial_point[0], initial_point[1], initial_point[2], initial_point[3]], minimizer_kwargs={'args': (640, np.nan_to_num(np.ravel(curvatures[participant][1:-1]), nan = np.nanmedian(curvatures[participant][1:-1]))), 'method': 'L-BFGS-B'})\n",
    "\n",
    "                #if fits.fun < fit_V[participant][fit_parts]:\n",
    "                Af = fits.x[0]#fit_Af[participant][fit_parts] = fits.x[0]\n",
    "                Bf = fits.x[1]#fit_Bf[participant][fit_parts] = fits.x[1]\n",
    "                As = fits.x[2]#fit_As[participant][fit_parts] = fits.x[2]\n",
    "                Bs = fits.x[2]#fit_Bs[participant][fit_parts] = fits.x[3]\n",
    "                V = fits.fun#fit_V[participant][fit_parts] = fits.fun\n",
    "                #fit_success[participant][fit_parts] = fits.success                \n",
    "            else:\n",
    "                #fits = scipy.optimize.minimize(residuals_gradual, x0 = [initial_point[0], initial_point[1], initial_point[2], initial_point[3]], args = (640, np.nan_to_num(np.ravel(curvatures[participant][1:-1]), nan = np.nanmedian(curvatures[participant][1:-1]))), method = 'Nelder-Mead')         \n",
    "                fits = scipy.optimize.basinhopping(residuals_gradual, x0 = [initial_point[0], initial_point[1], initial_point[2], initial_point[3]], minimizer_kwargs={'args': (640, np.nan_to_num(np.ravel(curvatures[participant][1:-1]), nan = np.nanmedian(curvatures[participant][1:-1]))), 'method': 'L-BFGS-B'})\n",
    "                #if fits.fun < fit_V[participant][fit_parts]:\n",
    "                Af = fits.x[0]#fit_Af[participant][fit_parts] = fits.x[0]\n",
    "                Bf = fits.x[1]#fit_Bf[participant][fit_parts] = fits.x[1]\n",
    "                As = fits.x[2]#fit_As[participant][fit_parts] = fits.x[2]\n",
    "                Bs = fits.x[2]#fit_Bs[participant][fit_parts] = fits.x[3]\n",
    "                V = fits.fun#fit_V[participant][fit_parts] = fits.fun\n",
    "                #fit_success[participant][fit_parts] = fits.success\n",
    "    return Af, Bf, As, Bs, V\n"
   ]
  },
  {
   "cell_type": "code",
   "execution_count": 12,
   "metadata": {},
   "outputs": [],
   "source": [
    "#Divide the whole thing into 16 trial blocks and fit them\n",
    "from functools import partial\n",
    "def run_fits_dual(curvatures, num_trials, part_size):\n",
    "    num_fits = int(num_trials/part_size)\n",
    "    fit_As = np.zeros((60, num_fits))\n",
    "    fit_Bs = np.zeros((60, num_fits))\n",
    "    fit_Af = np.zeros((60, num_fits))\n",
    "    fit_Bf = np.zeros((60, num_fits))\n",
    "    fit_V = np.full((60, num_fits), np.inf)\n",
    "    fit_success = np.zeros((60, num_fits))\n",
    "\n",
    "    for participant in range(60):\n",
    "        fit_Af[participant], fit_Bf[participant], fit_As[participant], fit_Bs[participant], fit_V[participant] = fit_participant(participant, curvatures, num_fits) \n",
    "        print (participant, fit_V[participant])\n",
    "    #unc = partial(workers.fit_participant, curvatures = curvatures, num_fits = 1)\n",
    "    #if __name__ == '__main__':\n",
    "    #    pool = Pool()\n",
    "    #res = np.reshape(np.array(pool.map(func, range(60))), (60, 5))\n",
    "    return fit_Af, fit_Bf, fit_As, fit_Bs, fit_V\n",
    "    #return res   "
   ]
  },
  {
   "cell_type": "code",
   "execution_count": null,
   "metadata": {},
   "outputs": [
    {
     "name": "stderr",
     "output_type": "stream",
     "text": [
      "C:\\Users\\Tejas\\Anaconda3\\lib\\site-packages\\ipykernel_launcher.py:11: RuntimeWarning: overflow encountered in double_scalars\n",
      "  # This is added back by InteractiveShellApp.init_path()\n",
      "C:\\Users\\Tejas\\Anaconda3\\lib\\site-packages\\ipykernel_launcher.py:11: RuntimeWarning: invalid value encountered in double_scalars\n",
      "  # This is added back by InteractiveShellApp.init_path()\n",
      "C:\\Users\\Tejas\\Anaconda3\\lib\\site-packages\\ipykernel_launcher.py:12: RuntimeWarning: overflow encountered in double_scalars\n",
      "  if sys.path[0] == '':\n",
      "C:\\Users\\Tejas\\Anaconda3\\lib\\site-packages\\ipykernel_launcher.py:12: RuntimeWarning: invalid value encountered in double_scalars\n",
      "  if sys.path[0] == '':\n",
      "C:\\Users\\Tejas\\Anaconda3\\lib\\site-packages\\ipykernel_launcher.py:3: RuntimeWarning: overflow encountered in square\n",
      "  This is separate from the ipykernel package so we can avoid doing imports until\n",
      "C:\\Users\\Tejas\\Anaconda3\\lib\\site-packages\\ipykernel_launcher.py:13: RuntimeWarning: overflow encountered in double_scalars\n",
      "  del sys.path[0]\n",
      "C:\\Users\\Tejas\\Anaconda3\\lib\\site-packages\\scipy\\optimize\\_numdiff.py:497: RuntimeWarning: invalid value encountered in subtract\n",
      "  df = fun(x) - f0\n",
      "C:\\Users\\Tejas\\Anaconda3\\lib\\site-packages\\ipykernel_launcher.py:13: RuntimeWarning: invalid value encountered in double_scalars\n",
      "  del sys.path[0]\n"
     ]
    },
    {
     "name": "stdout",
     "output_type": "stream",
     "text": [
      "0 [nan]\n"
     ]
    }
   ],
   "source": [
    "Af, Bf, As, Bs, fit_V_dual = run_fits_dual(curvatures_smooth, 640, 640)\n",
    "#fits = run_fits_dual(curvatures_smooth, 640, 640)"
   ]
  },
  {
   "cell_type": "code",
   "execution_count": 228,
   "metadata": {},
   "outputs": [],
   "source": [
    "#Divide the whole thing into 16 trial blocks and fit them\n",
    "from functools import partial\n",
    "def run_fits_dual_transfer(curvatures, num_trials, part_size):\n",
    "    num_fits = int(num_trials/part_size)\n",
    "    fit_As = np.zeros((60, num_fits))\n",
    "    fit_Bs = np.zeros((60, num_fits))\n",
    "    fit_Af = np.zeros((60, num_fits))\n",
    "    fit_Bf = np.zeros((60, num_fits))\n",
    "    fit_V = np.full((60, num_fits), np.inf)\n",
    "    fit_success = np.zeros((60, num_fits))\n",
    "\n",
    "    for participant in range(60):\n",
    "        for fit_parts in range(num_fits):\n",
    "            starting_points = np.array([[0.9, 0.2, 0.99, 0.02]])\n",
    "            for initial_point in starting_points:\n",
    "                #if participant%4 == 0 or participant%4 == 1:      \n",
    "                    #fits = scipy.optimize.minimize(residuals_sudden, x0 = [initial_point[0], initial_point[1], initial_point[2], initial_point[3]], args = (640, np.nan_to_num(np.ravel(curvatures[participant][1:-1]), nan = np.nanmedian(curvatures[participant][1:-1]))), method = 'Nelder-Mead')            \n",
    "                fits = scipy.optimize.basinhopping(residuals_sudden_transfer, x0 = [initial_point[0], initial_point[1], initial_point[2], initial_point[3]], minimizer_kwargs={'args': (64, np.nan_to_num(np.ravel(curvatures[participant][-1:]), nan = np.nanmedian(curvatures[participant][-1:])), curvatures[participant, 10, -1]), 'method': 'Nelder-Mead'})\n",
    "\n",
    "                #if fits.fun < fit_V[participant][fit_parts]:\n",
    "                fit_Af[participant][fit_parts] = fits.x[0]\n",
    "                fit_Bf[participant][fit_parts] = fits.x[1]\n",
    "                fit_As[participant][fit_parts] = fits.x[2]\n",
    "                fit_Bs[participant][fit_parts] = fits.x[3]\n",
    "                fit_V[participant][fit_parts] = fits.fun\n",
    "                #fit_success[participant][fit_parts] = fits.success                \n",
    "                \"\"\"\n",
    "                else:\n",
    "                    #fits = scipy.optimize.minimize(residuals_gradual, x0 = [initial_point[0], initial_point[1], initial_point[2], initial_point[3]], args = (640, np.nan_to_num(np.ravel(curvatures[participant][1:-1]), nan = np.nanmedian(curvatures[participant][1:-1]))), method = 'Nelder-Mead')         \n",
    "                    fits = scipy.optimize.basinhopping(residuals_gradual, x0 = [initial_point[0], initial_point[1], initial_point[2], initial_point[3]], minimizer_kwargs={'args': (640, np.nan_to_num(np.ravel(curvatures[participant][1:-1]), nan = np.nanmedian(curvatures[participant][1:-1]))), 'method': 'Nelder-Mead'})\n",
    "                    #if fits.fun < fit_V[participant][fit_parts]:\n",
    "                    fit_Af[participant][fit_parts] = fits.x[0]\n",
    "                    fit_Bf[participant][fit_parts] = fits.x[1]\n",
    "                    fit_As[participant][fit_parts] = fits.x[2]\n",
    "                    fit_Bs[participant][fit_parts] = fits.x[3]\n",
    "                    fit_V[participant][fit_parts] = fits.fun\n",
    "                    #fit_success[participant][fit_parts] = fits.success\n",
    "                \"\"\"\n",
    "        print (participant, fit_V[participant])\n",
    "\n",
    "    return fit_Af, fit_Bf, fit_As, fit_Bs, fit_V"
   ]
  },
  {
   "cell_type": "code",
   "execution_count": 229,
   "metadata": {},
   "outputs": [
    {
     "name": "stdout",
     "output_type": "stream",
     "text": [
      "0 [17441.33483834]\n",
      "1 [9659.25691382]\n",
      "2 [10142.90009978]\n",
      "3 [12153.73805181]\n",
      "4 [2691.72761301]\n",
      "5 [381.48738569]\n",
      "6 [3772.18389406]\n",
      "7 [25399.01882074]\n",
      "8 [1864.47487678]\n",
      "9 [916.52641432]\n",
      "10 [6327.14300123]\n",
      "11 [7285.74901312]\n",
      "12 [5189.85263546]\n",
      "13 [21416.27696898]\n",
      "14 [1663.25182459]\n",
      "15 [6199.51118377]\n",
      "16 [11841.13717537]\n",
      "17 [507.28180989]\n",
      "18 [7654.26431655]\n",
      "19 [4836.80107998]\n",
      "20 [19790.1758355]\n",
      "21 [325.42013155]\n",
      "22 [21409.02568292]\n",
      "23 [638.33192724]\n",
      "24 [993.18984839]\n",
      "25 [7129.41920381]\n",
      "26 [6717.57122046]\n",
      "27 [31007.87801692]\n",
      "28 [6311.45199182]\n",
      "29 [1886.88720171]\n",
      "30 [2392.04934631]\n",
      "31 [7455.19882008]\n",
      "32 [6412.48664794]\n",
      "33 [10743.68982734]\n",
      "34 [5047.04379072]\n",
      "35 [327.60175181]\n",
      "36 [7974.12207424]\n",
      "37 [1931.4946209]\n",
      "38 [28587.85757122]\n",
      "39 [5264.89605646]\n",
      "40 [1210.75414078]\n",
      "41 [146.00355528]\n",
      "42 [10911.81745223]\n",
      "43 [1921.58612892]\n",
      "44 [1102.02888604]\n",
      "45 [15607.62293428]\n",
      "46 [6871.99112613]\n",
      "47 [5430.20008591]\n",
      "48 [60.03425052]\n",
      "49 [9404.72693159]\n",
      "50 [20803.67607488]\n",
      "51 [6907.91551795]\n",
      "52 [2305.49671547]\n",
      "53 [3300.67809742]\n",
      "54 [6662.23472101]\n",
      "55 [1176.55469103]\n",
      "56 [4287.7730942]\n",
      "57 [24.53757568]\n",
      "58 [8866.35498216]\n",
      "59 [789.96210889]\n"
     ]
    }
   ],
   "source": [
    "Af_transfer, Bf_transfer, As_transfer, Bs_transfer, V_transfer = run_fits_dual_transfer(curvatures_smooth, 64, 64)"
   ]
  },
  {
   "cell_type": "markdown",
   "metadata": {},
   "source": [
    "# Parameter Fits"
   ]
  },
  {
   "cell_type": "code",
   "execution_count": null,
   "metadata": {},
   "outputs": [],
   "source": [
    "plot_fits(Af_rts, m_rts, \"A slow\", \"m\")"
   ]
  },
  {
   "cell_type": "code",
   "execution_count": null,
   "metadata": {},
   "outputs": [],
   "source": []
  },
  {
   "cell_type": "markdown",
   "metadata": {},
   "source": [
    "## Collapse Across Sudden Gradual"
   ]
  },
  {
   "cell_type": "code",
   "execution_count": null,
   "metadata": {},
   "outputs": [],
   "source": [
    "plot_collapsed_across_rotation_fits(m_rts, Af, \"m\", \"Af\")"
   ]
  },
  {
   "cell_type": "code",
   "execution_count": null,
   "metadata": {},
   "outputs": [],
   "source": []
  },
  {
   "cell_type": "markdown",
   "metadata": {},
   "source": [
    "## Collapsing across Speed/Accuracy"
   ]
  },
  {
   "cell_type": "code",
   "execution_count": null,
   "metadata": {},
   "outputs": [],
   "source": [
    "plot_collapsed_across_emphasis_fits (As, alpha_rts, \"As\", \"alpha\")"
   ]
  },
  {
   "cell_type": "code",
   "execution_count": null,
   "metadata": {},
   "outputs": [],
   "source": []
  },
  {
   "cell_type": "code",
   "execution_count": null,
   "metadata": {},
   "outputs": [],
   "source": [
    "fit_V_single_state = fit_V\n"
   ]
  },
  {
   "cell_type": "code",
   "execution_count": null,
   "metadata": {},
   "outputs": [],
   "source": [
    "np.mean(fit_transfer_V)"
   ]
  },
  {
   "cell_type": "code",
   "execution_count": null,
   "metadata": {},
   "outputs": [],
   "source": []
  },
  {
   "cell_type": "code",
   "execution_count": 55,
   "metadata": {},
   "outputs": [
    {
     "data": {
      "text/plain": [
       "97851.52262105554"
      ]
     },
     "execution_count": 55,
     "metadata": {},
     "output_type": "execute_result"
    }
   ],
   "source": [
    "np.mean(fit_V)"
   ]
  },
  {
   "cell_type": "code",
   "execution_count": null,
   "metadata": {},
   "outputs": [],
   "source": [
    "np.mean(fit_V_dual)"
   ]
  },
  {
   "cell_type": "markdown",
   "metadata": {},
   "source": [
    "# % Variance accounted for"
   ]
  },
  {
   "cell_type": "code",
   "execution_count": 93,
   "metadata": {},
   "outputs": [
    {
     "ename": "NameError",
     "evalue": "name 'fit_transfer_V' is not defined",
     "output_type": "error",
     "traceback": [
      "\u001b[1;31m---------------------------------------------------------------------------\u001b[0m",
      "\u001b[1;31mNameError\u001b[0m                                 Traceback (most recent call last)",
      "\u001b[1;32m<ipython-input-93-a86aa32dab13>\u001b[0m in \u001b[0;36m<module>\u001b[1;34m\u001b[0m\n\u001b[1;32m----> 1\u001b[1;33m \u001b[1;36m1\u001b[0m \u001b[1;33m-\u001b[0m \u001b[0mnp\u001b[0m\u001b[1;33m.\u001b[0m\u001b[0msum\u001b[0m\u001b[1;33m(\u001b[0m\u001b[0mfit_transfer_V\u001b[0m\u001b[1;33m)\u001b[0m\u001b[1;33m/\u001b[0m\u001b[0mnp\u001b[0m\u001b[1;33m.\u001b[0m\u001b[0mnansum\u001b[0m\u001b[1;33m(\u001b[0m\u001b[1;33m(\u001b[0m\u001b[0mnp\u001b[0m\u001b[1;33m.\u001b[0m\u001b[0mravel\u001b[0m\u001b[1;33m(\u001b[0m\u001b[0mcurvatures\u001b[0m\u001b[1;33m[\u001b[0m\u001b[1;33m:\u001b[0m\u001b[1;33m,\u001b[0m \u001b[1;36m11\u001b[0m\u001b[1;33m,\u001b[0m \u001b[1;33m:\u001b[0m\u001b[1;33m]\u001b[0m\u001b[1;33m)\u001b[0m \u001b[1;33m-\u001b[0m \u001b[0mnp\u001b[0m\u001b[1;33m.\u001b[0m\u001b[0mnanmean\u001b[0m\u001b[1;33m(\u001b[0m\u001b[0mcurvatures\u001b[0m\u001b[1;33m[\u001b[0m\u001b[1;33m:\u001b[0m\u001b[1;33m,\u001b[0m \u001b[1;36m11\u001b[0m\u001b[1;33m,\u001b[0m \u001b[1;33m:\u001b[0m\u001b[1;33m]\u001b[0m\u001b[1;33m)\u001b[0m\u001b[1;33m)\u001b[0m\u001b[1;33m**\u001b[0m\u001b[1;36m2\u001b[0m\u001b[1;33m)\u001b[0m\u001b[1;33m\u001b[0m\u001b[0m\n\u001b[0m",
      "\u001b[1;31mNameError\u001b[0m: name 'fit_transfer_V' is not defined"
     ]
    }
   ],
   "source": [
    "1 - np.sum(fit_transfer_V)/np.nansum((np.ravel(curvatures[:, 11, :]) - np.nanmean(curvatures[:, 11, :]))**2)"
   ]
  },
  {
   "cell_type": "code",
   "execution_count": null,
   "metadata": {},
   "outputs": [],
   "source": [
    "import pickle\n",
    "f = open('fit_V_dual.pickle', 'rb')\n",
    "fit_V_dual, Af, Bf, As, Bs, m= pickle.load(f)"
   ]
  },
  {
   "cell_type": "code",
   "execution_count": 56,
   "metadata": {},
   "outputs": [
    {
     "data": {
      "text/plain": [
       "0.5295996378936266"
      ]
     },
     "execution_count": 56,
     "metadata": {},
     "output_type": "execute_result"
    }
   ],
   "source": [
    "1 - np.sum(fit_V)/np.nansum((np.ravel(curvatures_smooth[:, 1:-1, :]) - np.nanmean(curvatures_smooth[:, 1:-1, :]))**2)"
   ]
  },
  {
   "cell_type": "code",
   "execution_count": 10,
   "metadata": {},
   "outputs": [
    {
     "data": {
      "text/plain": [
       "74598.5156813702"
      ]
     },
     "execution_count": 10,
     "metadata": {},
     "output_type": "execute_result"
    }
   ],
   "source": [
    "fpe = ((1+(5/640))/(1 - (5/640)))*np.mean(fit_V)\n",
    "fpe"
   ]
  },
  {
   "cell_type": "code",
   "execution_count": null,
   "metadata": {},
   "outputs": [],
   "source": []
  },
  {
   "cell_type": "code",
   "execution_count": null,
   "metadata": {},
   "outputs": [],
   "source": []
  },
  {
   "cell_type": "code",
   "execution_count": null,
   "metadata": {
    "scrolled": false
   },
   "outputs": [],
   "source": [
    "plt.figure(figsize = (20, 10))\n",
    "errors_predict = np.zeros((60, 704))\n",
    "\n",
    "for participant in range(60):\n",
    "    if participant % 4 == 0 or participant%4 == 1:\n",
    "        errors_predict[participant][:640] = base_model_sudden(640, fit_A[participant], fit_B[participant])\n",
    "#num_trials, Af, Bf, As, Bs\n",
    "#        errors_predict[participant][:640] = dual_model_sudden(640, Af[participant], Bf[participant], As[participant], Bs[participant])\n",
    "\n",
    "    else:    \n",
    "#        errors_predict[participant][:640] = dual_model_gradual(640, Af[participant], Bf[participant], As[participant], Bs[participant])\n",
    "        errors_predict[participant][:640] = base_model_gradual(640, fit_A[participant], fit_B[participant])\n",
    "\n",
    "#    errors_predict[participant][640:] = dual_model_transfer(64, Af[participant], Bf[participant], As[participant], Bs[participant])\n",
    "    errors_predict[participant][640:] = base_model_transfer(64, fit_A[participant], fit_B[participant], np.nanmean(curvatures[participant][10][-16:]))\n",
    "\n",
    "for participant in range(4):\n",
    "    if participant % 4 == 0 or participant%4 == 1:\n",
    "        plt.subplot(4, 1, participant + 1 )\n",
    "        y_err = np.array(stat.norm.interval(0.95, loc = y, scale = y_err))\n",
    "        y_err = np.m\n",
    "        plt.plot(np.mean(errors_predict[participant::4], axis = 0))\n",
    "        plt.plot(np.ravel(np.mean(curvatures_smooth[participant::4], axis = 0)[1:]))\n",
    "    else:\n",
    "        plt.subplot(4, 1, participant + 1 )\n",
    "        plt.plot(np.mean(errors_predict[participant::4], axis = 0))\n",
    "        plt.plot(np.ravel(np.mean(curvatures_smooth[participant::4], axis = 0)[1:]))\n",
    "    plt.ylim((0, 100))\n"
   ]
  },
  {
   "cell_type": "code",
   "execution_count": null,
   "metadata": {},
   "outputs": [],
   "source": []
  },
  {
   "cell_type": "code",
   "execution_count": 26,
   "metadata": {},
   "outputs": [],
   "source": [
    "import pandas as pd"
   ]
  },
  {
   "cell_type": "code",
   "execution_count": 35,
   "metadata": {},
   "outputs": [],
   "source": [
    "df_A = pd.DataFrame({\"Emphasis\": np.tile([\"Speed\", \"Accuracy\"], 30),\n",
    "                   \"Rotation\": np.tile([\"Sudden\", \"Sudden\", \"Gradual\", \"Gradual\"], 15),\n",
    "                   \"fit_A\": fit_Af[:, 0]})\n",
    "\n",
    "model_A = ols('fit_A ~ C(Emphasis)*C(Rotation)', data = df_A).fit()\n",
    "\n",
    "aov_table_A = sm.stats.anova_lm(model_A)\n",
    "\n",
    "\n",
    "df_B = pd.DataFrame({\"Emphasis\": np.tile([\"Speed\", \"Accuracy\"], 30),\n",
    "                   \"Rotation\": np.tile([\"Sudden\", \"Sudden\", \"Gradual\", \"Gradual\"], 15),\n",
    "                   \"fit_B\": fit_Bf[:, 0]})\n",
    "\n",
    "model_B = ols('fit_B ~ C(Emphasis)*C(Rotation)', data = df_B).fit()\n",
    "aov_table_B = sm.stats.anova_lm(model_B)\n",
    "\n",
    "df_alpha = pd.DataFrame({\"Emphasis\": np.tile([\"Speed\", \"Accuracy\"], 30),\n",
    "                   \"Rotation\": np.tile([\"Sudden\", \"Sudden\", \"Gradual\", \"Gradual\"], 15),\n",
    "                   \"fit_alpha\": fit_alpha[:, 0]})\n",
    "\n",
    "model_alpha = ols('fit_alpha ~ C(Emphasis)*C(Rotation)', data = df_alpha).fit()\n",
    "aov_table_alpha = sm.stats.anova_lm(model_alpha)\n",
    "\n"
   ]
  },
  {
   "cell_type": "code",
   "execution_count": 36,
   "metadata": {},
   "outputs": [
    {
     "data": {
      "text/html": [
       "<div>\n",
       "<style scoped>\n",
       "    .dataframe tbody tr th:only-of-type {\n",
       "        vertical-align: middle;\n",
       "    }\n",
       "\n",
       "    .dataframe tbody tr th {\n",
       "        vertical-align: top;\n",
       "    }\n",
       "\n",
       "    .dataframe thead th {\n",
       "        text-align: right;\n",
       "    }\n",
       "</style>\n",
       "<table border=\"1\" class=\"dataframe\">\n",
       "  <thead>\n",
       "    <tr style=\"text-align: right;\">\n",
       "      <th></th>\n",
       "      <th>df</th>\n",
       "      <th>sum_sq</th>\n",
       "      <th>mean_sq</th>\n",
       "      <th>F</th>\n",
       "      <th>PR(&gt;F)</th>\n",
       "    </tr>\n",
       "  </thead>\n",
       "  <tbody>\n",
       "    <tr>\n",
       "      <th>C(Emphasis)</th>\n",
       "      <td>1.0</td>\n",
       "      <td>3.135053</td>\n",
       "      <td>3.135053</td>\n",
       "      <td>0.425746</td>\n",
       "      <td>0.516753</td>\n",
       "    </tr>\n",
       "    <tr>\n",
       "      <th>C(Rotation)</th>\n",
       "      <td>1.0</td>\n",
       "      <td>0.876162</td>\n",
       "      <td>0.876162</td>\n",
       "      <td>0.118985</td>\n",
       "      <td>0.731431</td>\n",
       "    </tr>\n",
       "    <tr>\n",
       "      <th>C(Emphasis):C(Rotation)</th>\n",
       "      <td>1.0</td>\n",
       "      <td>2.342454</td>\n",
       "      <td>2.342454</td>\n",
       "      <td>0.318110</td>\n",
       "      <td>0.574998</td>\n",
       "    </tr>\n",
       "    <tr>\n",
       "      <th>Residual</th>\n",
       "      <td>56.0</td>\n",
       "      <td>412.365193</td>\n",
       "      <td>7.363664</td>\n",
       "      <td>NaN</td>\n",
       "      <td>NaN</td>\n",
       "    </tr>\n",
       "  </tbody>\n",
       "</table>\n",
       "</div>"
      ],
      "text/plain": [
       "                           df      sum_sq   mean_sq         F    PR(>F)\n",
       "C(Emphasis)               1.0    3.135053  3.135053  0.425746  0.516753\n",
       "C(Rotation)               1.0    0.876162  0.876162  0.118985  0.731431\n",
       "C(Emphasis):C(Rotation)   1.0    2.342454  2.342454  0.318110  0.574998\n",
       "Residual                 56.0  412.365193  7.363664       NaN       NaN"
      ]
     },
     "execution_count": 36,
     "metadata": {},
     "output_type": "execute_result"
    }
   ],
   "source": [
    "aov_table_B"
   ]
  },
  {
   "cell_type": "code",
   "execution_count": 37,
   "metadata": {},
   "outputs": [
    {
     "data": {
      "text/html": [
       "<div>\n",
       "<style scoped>\n",
       "    .dataframe tbody tr th:only-of-type {\n",
       "        vertical-align: middle;\n",
       "    }\n",
       "\n",
       "    .dataframe tbody tr th {\n",
       "        vertical-align: top;\n",
       "    }\n",
       "\n",
       "    .dataframe thead th {\n",
       "        text-align: right;\n",
       "    }\n",
       "</style>\n",
       "<table border=\"1\" class=\"dataframe\">\n",
       "  <thead>\n",
       "    <tr style=\"text-align: right;\">\n",
       "      <th></th>\n",
       "      <th>df</th>\n",
       "      <th>sum_sq</th>\n",
       "      <th>mean_sq</th>\n",
       "      <th>F</th>\n",
       "      <th>PR(&gt;F)</th>\n",
       "    </tr>\n",
       "  </thead>\n",
       "  <tbody>\n",
       "    <tr>\n",
       "      <th>C(Emphasis)</th>\n",
       "      <td>1.0</td>\n",
       "      <td>0.968045</td>\n",
       "      <td>0.968045</td>\n",
       "      <td>9.521726</td>\n",
       "      <td>0.003153</td>\n",
       "    </tr>\n",
       "    <tr>\n",
       "      <th>C(Rotation)</th>\n",
       "      <td>1.0</td>\n",
       "      <td>0.007099</td>\n",
       "      <td>0.007099</td>\n",
       "      <td>0.069827</td>\n",
       "      <td>0.792558</td>\n",
       "    </tr>\n",
       "    <tr>\n",
       "      <th>C(Emphasis):C(Rotation)</th>\n",
       "      <td>1.0</td>\n",
       "      <td>0.132414</td>\n",
       "      <td>0.132414</td>\n",
       "      <td>1.302431</td>\n",
       "      <td>0.258626</td>\n",
       "    </tr>\n",
       "    <tr>\n",
       "      <th>Residual</th>\n",
       "      <td>56.0</td>\n",
       "      <td>5.693352</td>\n",
       "      <td>0.101667</td>\n",
       "      <td>NaN</td>\n",
       "      <td>NaN</td>\n",
       "    </tr>\n",
       "  </tbody>\n",
       "</table>\n",
       "</div>"
      ],
      "text/plain": [
       "                           df    sum_sq   mean_sq         F    PR(>F)\n",
       "C(Emphasis)               1.0  0.968045  0.968045  9.521726  0.003153\n",
       "C(Rotation)               1.0  0.007099  0.007099  0.069827  0.792558\n",
       "C(Emphasis):C(Rotation)   1.0  0.132414  0.132414  1.302431  0.258626\n",
       "Residual                 56.0  5.693352  0.101667       NaN       NaN"
      ]
     },
     "execution_count": 37,
     "metadata": {},
     "output_type": "execute_result"
    }
   ],
   "source": [
    "aov_table_A"
   ]
  },
  {
   "cell_type": "code",
   "execution_count": 38,
   "metadata": {},
   "outputs": [
    {
     "data": {
      "text/html": [
       "<div>\n",
       "<style scoped>\n",
       "    .dataframe tbody tr th:only-of-type {\n",
       "        vertical-align: middle;\n",
       "    }\n",
       "\n",
       "    .dataframe tbody tr th {\n",
       "        vertical-align: top;\n",
       "    }\n",
       "\n",
       "    .dataframe thead th {\n",
       "        text-align: right;\n",
       "    }\n",
       "</style>\n",
       "<table border=\"1\" class=\"dataframe\">\n",
       "  <thead>\n",
       "    <tr style=\"text-align: right;\">\n",
       "      <th></th>\n",
       "      <th>df</th>\n",
       "      <th>sum_sq</th>\n",
       "      <th>mean_sq</th>\n",
       "      <th>F</th>\n",
       "      <th>PR(&gt;F)</th>\n",
       "    </tr>\n",
       "  </thead>\n",
       "  <tbody>\n",
       "    <tr>\n",
       "      <th>C(Emphasis)</th>\n",
       "      <td>1.0</td>\n",
       "      <td>0.296859</td>\n",
       "      <td>0.296859</td>\n",
       "      <td>4.710438</td>\n",
       "      <td>0.034237</td>\n",
       "    </tr>\n",
       "    <tr>\n",
       "      <th>C(Rotation)</th>\n",
       "      <td>1.0</td>\n",
       "      <td>0.377753</td>\n",
       "      <td>0.377753</td>\n",
       "      <td>5.994026</td>\n",
       "      <td>0.017513</td>\n",
       "    </tr>\n",
       "    <tr>\n",
       "      <th>C(Emphasis):C(Rotation)</th>\n",
       "      <td>1.0</td>\n",
       "      <td>0.029435</td>\n",
       "      <td>0.029435</td>\n",
       "      <td>0.467055</td>\n",
       "      <td>0.497163</td>\n",
       "    </tr>\n",
       "    <tr>\n",
       "      <th>Residual</th>\n",
       "      <td>56.0</td>\n",
       "      <td>3.529204</td>\n",
       "      <td>0.063022</td>\n",
       "      <td>NaN</td>\n",
       "      <td>NaN</td>\n",
       "    </tr>\n",
       "  </tbody>\n",
       "</table>\n",
       "</div>"
      ],
      "text/plain": [
       "                           df    sum_sq   mean_sq         F    PR(>F)\n",
       "C(Emphasis)               1.0  0.296859  0.296859  4.710438  0.034237\n",
       "C(Rotation)               1.0  0.377753  0.377753  5.994026  0.017513\n",
       "C(Emphasis):C(Rotation)   1.0  0.029435  0.029435  0.467055  0.497163\n",
       "Residual                 56.0  3.529204  0.063022       NaN       NaN"
      ]
     },
     "execution_count": 38,
     "metadata": {},
     "output_type": "execute_result"
    }
   ],
   "source": [
    "aov_table_alpha"
   ]
  },
  {
   "cell_type": "markdown",
   "metadata": {},
   "source": [
    "Effect of emphasis on As\n",
    "\n",
    "Effect of rotation and emphasis on Bf"
   ]
  },
  {
   "cell_type": "markdown",
   "metadata": {},
   "source": [
    "# State Space model for RT data"
   ]
  },
  {
   "cell_type": "code",
   "execution_count": null,
   "metadata": {},
   "outputs": [],
   "source": [
    "num_trials = 640\n",
    "def base_model_sudden(num_trials, RT, A, B, m):\n",
    " #   A = np.exp(A)/(1 + np.exp(A))\n",
    " #   B = np.exp(B)/(1 + np.exp(B))\n",
    "    \n",
    "    errors = np.zeros((num_trials))\n",
    "    rotation = 90\n",
    "    rotation_est = 0\n",
    "    for trial in range(num_trials - 1):\n",
    "        errors[trial] = rotation - rotation_est\n",
    "        #print(errors[trial])\n",
    "        #rotation_est = A*rotation_est + B*(1 - np.exp(-m*RT[trial+1]))*errors[trial]# + m*RT[trial+1]\n",
    "        rotation_est = A*rotation_est + B*errors[trial] + m*RT[trial+1]\n",
    " \n",
    "    #print (rotation_est)\n",
    "    errors[trial+1] = rotation - rotation_est\n",
    "    \n",
    "    return errors\n",
    "\n",
    "def base_model_gradual(num_trials, RT, A, B, m):\n",
    "#    A = np.exp(A)/(1 + np.exp(A))\n",
    "#    B = np.exp(B)/(1 + np.exp(B))\n",
    "    \n",
    "    errors = np.zeros((num_trials))\n",
    "    rotation_est = 0\n",
    "    rotation = 0\n",
    "    for trial in range(num_trials - 1):\n",
    "        if trial%64 == 0:\n",
    "            rotation = rotation + 10\n",
    "        if rotation > 90:\n",
    "            rotation = 90\n",
    "        errors[trial] = rotation - rotation_est\n",
    "        #print(errors[trial])\n",
    "#        rotation_est = A*rotation_est + B*(1 - np.exp(-m*RT[trial+1]))*errors[trial]# + m*RT[trial+1]\n",
    "        rotation_est = A*rotation_est + B*errors[trial] + m*RT[trial+1]\n",
    "\n",
    "        #print (rotation_est)\n",
    "    errors[trial+1] = rotation - rotation_est\n",
    "\n",
    "    return errors\n",
    "\n",
    "def residuals_base_sudden(params, num_trials, data_errors, RTs):\n",
    "#   model_errors = base_model_sudden(num_trials, params[0], params[1])\n",
    "    model_errors = base_model_sudden(num_trials, RTs, params[0], params[1], params[2])\n",
    "    residual_error = np.sum(np.square(model_errors - data_errors))\n",
    "    #if params[0] > params[2]:\n",
    "    #    residual_error = residual_error + 1000000\n",
    "    #if params[1] < params[3]:\n",
    "    #    residual_error = residual_error + 1000000\n",
    "    if params[0] < 0 or params[1] < 0:# or params[2] < 0:# or params[3] < 0:\n",
    "        residual_error = residual_error + 1000000\n",
    "    if params[0] > 1 or params[1] > 1:# or params[2] > 1:# or params[3] < 0:\n",
    "        residual_error = residual_error + 1000000\n",
    "\n",
    "    return residual_error\n",
    "\n",
    "def residuals_base_gradual(params, num_trials, data_errors, RTs):\n",
    "#   model_errors = base_model_sudden(num_trials, params[0], params[1])\n",
    "    model_errors = base_model_gradual(num_trials, RTs, params[0], params[1], params[2])\n",
    "    residual_error = np.sum(np.square(model_errors - data_errors))\n",
    "    #if params[0] > params[2]:\n",
    "    #    residual_error = residual_error + 1000000\n",
    "    #if params[1] < params[3]:\n",
    "    #    residual_error = residual_error + 1000000\n",
    "    if params[0] < 0 or params[1] < 0:# or params[2] < 0:# or params[3] < 0:\n",
    "        residual_error = residual_error + 1000000\n",
    "    if params[0] > 1 or params[1] > 1:# or params[2] > 1:# or params[3] < 0:\n",
    "        residual_error = residual_error + 1000000\n",
    "\n",
    "    return residual_error"
   ]
  },
  {
   "cell_type": "code",
   "execution_count": null,
   "metadata": {},
   "outputs": [],
   "source": []
  },
  {
   "cell_type": "markdown",
   "metadata": {},
   "source": [
    "# Read RT Data"
   ]
  },
  {
   "cell_type": "code",
   "execution_count": null,
   "metadata": {},
   "outputs": [],
   "source": [
    "def times(data, block):\n",
    "    initial_time = scipy.io.loadmat('data/data{data}/initial_time/initial_time{block}.mat'.format(block=str(block), data=str(data)))\n",
    "    movement_time = scipy.io.loadmat('data/data{data}/movement_time/movement_time{block}.mat'.format(block = str(block), data=str(data)))\n",
    "    #squares = scipy.io.loadmat('data/participants/data{data}/squares/coordinates/squares{block}.mat'.format(block=str(block), data=str(data)))\n",
    "    #xdiff = (ideal_traj['idealXs'] - traj['x'])\n",
    "    #ydiff = (ideal_traj['idealYs'] - traj['y'])\n",
    "    initial_time = initial_time['initial_time'][:, 0]\n",
    "    movement_time = movement_time['movement_time'][:, 0]\n",
    "    return initial_time, movement_time\n",
    "def get_times():\n",
    "    initial_times = np.zeros((60, 12, 64))\n",
    "    movement_times = np.zeros((60, 12, 64))\n",
    "    for participant in range(60):\n",
    "        for block in range(12):\n",
    "            it, mt = times(participant+1000, block)\n",
    "            initial_times[participant, block] = it\n",
    "            movement_times[participant, block] = mt\n",
    "    return initial_times, movement_times\n",
    "its, mts = get_times()"
   ]
  },
  {
   "cell_type": "code",
   "execution_count": null,
   "metadata": {},
   "outputs": [],
   "source": [
    "#Divide the whole thing into 16 trial blocks and fit them\n",
    "def run_fits(curvatures, RTs, num_trials, part_size, first):\n",
    "    num_parts = int((num_trials-first)/part_size)\n",
    "    fit_A = np.zeros((60, num_parts))\n",
    "    fit_B = np.zeros((60, num_parts))\n",
    "    fit_m = np.zeros((60, num_parts))\n",
    "    fit_bias = np.zeros((60, num_parts))\n",
    "    fit_V = np.full((60, num_parts), np.inf)\n",
    "    fit_success = np.zeros((60, num_parts))\n",
    "    fit_num = 0\n",
    "    #starting_points = np.array([[0.5, 0.6], [0.4, 0.7], [0.3, 0.8], [0.2, 0.9], [0.1, 0.99], [0.9, 0.2], [0.99, 0.1], [0.8, 0.3], [0.7, 0.4], [0.6, 0.5]])\n",
    "    \n",
    "    #A = np.log(params[0]/(1-params[0]))\n",
    "    #B = np.log(params[1]/(1-params[1]))\n",
    "\n",
    "#    starting_points = np.array([[np.log(0.999/(1 - 0.999)), np.log(0.002/(1 - 0.002))]])\n",
    "    starting_points = np.array([[0.999, 0.002, 0.1]])\n",
    "\n",
    "    for curr_trial in range(first, num_trials, part_size):\n",
    "        for participant in range(60):\n",
    "            for initial_point in starting_points:\n",
    "                if participant%4 == 0 or participant%4 == 1:\n",
    "                #print (np.nan_to_num(np.ravel(curvatures[participant])[first:first+part_size], nan = np.nanmedian(np.ravel(curvatures[participant])[first:first+part_size])))\n",
    "                #popt, pcov = curve_fit(base_model_sudden, part_size, np.nan_to_num(np.ravel(curvatures[participant])[curr_trial:curr_trial+part_size], nan = np.nanmedian(np.ravel(curvatures[participant])[curr_trial:curr_trial+part_size])), bounds=((0, 0), (1, np.inf)))\n",
    "                    #fits = scipy.optimize.minimize(residuals_base_sudden, x0 = [initial_point[0], initial_point[1]], args = (part_size, np.nan_to_num(np.ravel(curvatures[participant])[curr_trial:curr_trial+part_size], nan = np.nanmedian(np.ravel(curvatures[participant])[curr_trial:curr_trial+part_size]))), method = 'Nelder-Mead')\n",
    "                    fits = scipy.optimize.basinhopping(residuals_base_sudden, x0 = [initial_point[0], initial_point[1], initial_point[2]], minimizer_kwargs={'args': (part_size, np.nan_to_num(np.ravel(curvatures[participant])[curr_trial:curr_trial+part_size], nan = np.nanmedian(np.ravel(curvatures[participant])[curr_trial:curr_trial+part_size])), np.nan_to_num(np.ravel(RTs[participant])[curr_trial:curr_trial+part_size], nan = np.nanmedian(np.ravel(RTs[participant])[curr_trial:curr_trial+part_size]))), 'method': 'Nelder-Mead'}, stepsize=0.05)\n",
    "                    \n",
    "                    if fits.fun < fit_V[participant][fit_num]:\n",
    "                        fit_A[participant][fit_num] = fits.x[0]\n",
    "                        fit_B[participant][fit_num] = fits.x[1]\n",
    "                        fit_m[participant][fit_num] = fits.x[2]\n",
    "                        #fit_bias[participant][fit_num] = fits.x[2]\n",
    "                        fit_V[participant][fit_num] = fits.fun\n",
    "                        #fit_success[participant][fit_num] = fits.success   \n",
    "                    \n",
    "                else:\n",
    "                    #popt, pcov = curve_fit(base_model_gradual, part_size, np.nan_to_num(np.ravel(curvatures[participant])[curr_trial:curr_trial+part_size], nan = np.nanmedian(np.ravel(curvatures[participant])[curr_trial:curr_trial+part_size])), bounds=((0, 0), (1, np.inf)))\n",
    "                    #fits = scipy.optimize.minimize(residuals_base_gradual, x0 = [initial_point[0], initial_point[1]], args = (part_size, np.nan_to_num(np.ravel(curvatures[participant])[curr_trial:curr_trial+part_size], nan = np.nanmedian(np.ravel(curvatures[participant])[curr_trial:curr_trial+part_size]))), method = 'Nelder-Mead')\n",
    "                    fits = scipy.optimize.basinhopping(residuals_base_gradual, x0 = [initial_point[0], initial_point[1], initial_point[2]], minimizer_kwargs={'args': (part_size, np.nan_to_num(np.ravel(curvatures[participant])[curr_trial:curr_trial+part_size], nan = np.nanmedian(np.ravel(curvatures[participant])[curr_trial:curr_trial+part_size])), np.nan_to_num(np.ravel(its[participant])[curr_trial:curr_trial+part_size], nan = np.nanmedian(np.ravel(RTs[participant])[curr_trial:curr_trial+part_size]))), 'method': 'Nelder-Mead'}, stepsize = 0.05)\n",
    "                    \n",
    "                    if fits.fun < fit_V[participant][fit_num]:\n",
    "                        fit_A[participant][fit_num] = fits.x[0]\n",
    "                        fit_B[participant][fit_num] = fits.x[1]\n",
    "                        fit_m[participant][fit_num] = fits.x[2]\n",
    "                        #fit_bias[participant][fit_num] = fits.x[2]\n",
    "                        fit_V[participant][fit_num] = fits.fun\n",
    "                        #fit_success[participant][fit_num] = fits.success\n",
    "                print (participant, fits.fun)\n",
    "\n",
    "        fit_num = fit_num + 1\n",
    "    return fit_A, fit_B, fit_m, fit_V\n",
    "        "
   ]
  },
  {
   "cell_type": "code",
   "execution_count": null,
   "metadata": {},
   "outputs": [],
   "source": [
    "fit_A, fit_B, fit_m, fit_V = run_fits(curvatures_smooth, its, 704, 640, 64)"
   ]
  },
  {
   "cell_type": "code",
   "execution_count": null,
   "metadata": {},
   "outputs": [],
   "source": [
    "def plot_data_vs_fits(its, fit_A, fit_B, fit_m):\n",
    "    plt.figure(figsize = (20, 10))\n",
    "    errors_predict = np.zeros((60, 704))\n",
    "\n",
    "    for participant in range(60):\n",
    "        if participant % 4 == 0 or participant%4 == 1:\n",
    "            errors_predict[participant][:640] = base_model_sudden(640,np.ravel(its[participant][1:-1]), fit_A[participant], fit_B[participant], fit_m[participant])\n",
    "\n",
    "        else:    \n",
    "            errors_predict[participant][:640] = base_model_gradual(640, np.ravel(its[participant][1:-1]), fit_A[participant], fit_B[participant], fit_m[participant])\n",
    "\n",
    "        #errors_predict[participant][640:] = base_model_transfer(64, fit_A[participant], fit_B[participant])\n",
    "\n",
    "    for participant in range(4):\n",
    "        if participant % 4 == 0 or participant%4 == 1:\n",
    "            plt.subplot(4, 1, participant + 1 )\n",
    "            plt.plot(np.mean(errors_predict[participant::4], axis = 0))\n",
    "            plt.plot(np.ravel(np.mean(curvatures_smooth[participant::4], axis = 0)[1:]))\n",
    "        else:\n",
    "            plt.subplot(4, 1, participant + 1 )\n",
    "            plt.plot(np.mean(errors_predict[participant::4], axis = 0))\n",
    "            plt.plot(np.ravel(np.mean(curvatures_smooth[participant::4], axis = 0)[1:]))\n",
    "        plt.ylim((0, 100))\n"
   ]
  },
  {
   "cell_type": "code",
   "execution_count": null,
   "metadata": {},
   "outputs": [],
   "source": [
    "plot_data_vs_fits(its, fit_A, fit_B, fit_m)"
   ]
  },
  {
   "cell_type": "code",
   "execution_count": null,
   "metadata": {},
   "outputs": [],
   "source": [
    "def plot_fits(fit_A, fit_B, x_label, y_label):\n",
    "    x = np.array([np.nanmean(fit_A[0::4, :], axis = 0), np.nanmean(fit_A[1::4, :], axis = 0), np.nanmean(fit_A[2::4, :], axis = 0), np.nanmean(fit_A[3::4, :], axis = 0)])\n",
    "    y = np.array([np.nanmean(fit_B[0::4, :], axis = 0), np.nanmean(fit_B[1::4, :], axis = 0), np.nanmean(fit_B[2::4, :], axis = 0), np.nanmean(fit_B[3::4, :], axis = 0)])\n",
    "    x_err = np.array([stat.sem(fit_A[0::4, :], axis = 0), stat.sem(fit_A[1::4, :], axis = 0), stat.sem(fit_A[2::4, :], axis = 0), stat.sem(fit_A[3::4, :], axis = 0)])\n",
    "    y_err = np.array([stat.sem(fit_B[0::4, :], axis = 0), stat.sem(fit_B[1::4, :], axis = 0), stat.sem(fit_B[2::4, :], axis = 0), stat.sem(fit_B[3::4, :], axis = 0)])\n",
    "    #x_err = np.array([stat.tstd(fit_A[0::4, :], axis = 0), stat.tstd(fit_A[1::4, :], axis = 0), stat.tstd(fit_A[2::4, :], axis = 0), stat.tstd(fit_A[3::4, :], axis = 0)])\n",
    "    #y_err = np.array([stat.tstd(fit_B[0::4, :], axis = 0), stat.tstd(fit_B[1::4, :], axis = 0), stat.tstd(fit_B[2::4, :], axis = 0), stat.tstd(fit_B[3::4, :], axis = 0)])\n",
    "\n",
    "    #x_conf_interval = np.array(stat.norm.interval(0.83, loc = x, scale = x_err))\n",
    "    #y_conf_interval = np.array(stat.norm.interval(0.83, loc = y, scale = y_err))\n",
    "    x_CI = x - np.array(stat.norm.interval(0.95, loc = x, scale = x_err))[0, :], np.array(stat.norm.interval(0.95, loc = x, scale = x_err))[1, :] - x\n",
    "    y_CI = y - np.array(stat.norm.interval(0.95, loc = y, scale = y_err))[0, :], np.array(stat.norm.interval(0.95, loc = y, scale = y_err))[1, :] - y\n",
    "\n",
    "\n",
    "    #print (x_conf_interval[:, 0])\n",
    "    #plt.errorbar(x, y, xerr = x_err, yerr = y_err, linestyle = 'None', capsize = 3)\n",
    "    plot0 = plt.errorbar(x[0], y[0], xerr = [x_CI[0][0], x_CI[1][0]], yerr = [y_CI[0][0], y_CI[1][0]], capsize = 3)\n",
    "    plot1 = plt.errorbar(x[1], y[1], xerr = [x_CI[0][1], x_CI[1][1]], yerr = [y_CI[0][1], y_CI[1][1]], capsize = 3)\n",
    "    plot2 = plt.errorbar(x[2], y[2], xerr = [x_CI[0][2], x_CI[1][2]], yerr = [y_CI[0][2], y_CI[1][2]], capsize = 3)\n",
    "    plot3 = plt.errorbar(x[3], y[3], xerr = [x_CI[0][3], x_CI[1][3]], yerr = [y_CI[0][3], y_CI[1][3]], capsize = 3)\n",
    "\n",
    "    #plot0 = plt.scatter(fit_A[0::4], fit_B[0::4])\n",
    "    #plot1 = plt.scatter(fit_A[1::4], fit_B[1::4])\n",
    "    #plot2 = plt.scatter(fit_A[2::4], fit_B[2::4])\n",
    "    #plot3 = plt.scatter(fit_A[3::4], fit_B[3::4])\n",
    "\n",
    "    plt.legend((plot0, plot1, plot2, plot3), ('Sudden Speed', 'Sudden Accuracy', 'Gradual Speed', 'Gradual Accuracy'))\n",
    "    plt.xlabel(x_label)\n",
    "    plt.ylabel(y_label)"
   ]
  },
  {
   "cell_type": "code",
   "execution_count": null,
   "metadata": {},
   "outputs": [],
   "source": [
    "#plot_fits(np.reshape(np.mean(np.nanmedian(its, axis = 2), axis = 1), (60, 1)), fit_m, \"Mean ITs\", \"fit_m\")\n",
    "#with plt.xkcd():\n",
    "plot_fits(Bs, alpha, \"fit_B\", \"alpha\")"
   ]
  },
  {
   "cell_type": "markdown",
   "metadata": {},
   "source": [
    "## Adding RT to dual state model"
   ]
  },
  {
   "cell_type": "code",
   "execution_count": null,
   "metadata": {},
   "outputs": [],
   "source": [
    "def dual_model_sudden_rts(num_trials, rts, Af, Bf, As, Bs, alpha):\n",
    "    errors = np.zeros((num_trials))\n",
    "    rotation = 90\n",
    "    fast_est = 0\n",
    "    slow_est = 0\n",
    "    rotation_est = fast_est + slow_est\n",
    "    for trial in range(num_trials - 1):\n",
    "        errors[trial] = rotation - rotation_est\n",
    "        #print(errors[trial])\n",
    "        fast_est = Af*fast_est + Bf*errors[trial]\n",
    "        slow_est = As*slow_est + Bs*errors[trial]\n",
    "        #Adding alpha to see relative contributions of the fast and the slow systems\n",
    "        rotation_est = alpha*fast_est + (1-alpha)*slow_est# + m*rts[trial+1]\n",
    "        #print (rotation_est)\n",
    "    errors[trial+1] = rotation - rotation_est\n",
    "    return errors\n",
    "\n",
    "def dual_model_gradual_rts(num_trials, rts, Af, Bf, As, Bs, alpha):\n",
    "    errors = np.zeros((num_trials))\n",
    "    fast_est = 0\n",
    "    slow_est = 0\n",
    "    rotation_est = 0\n",
    "    rotation = 0\n",
    "    for trial in range(num_trials-1):\n",
    "        if trial%64 == 0:\n",
    "            rotation = rotation + 10\n",
    "        if rotation > 90:\n",
    "            rotation = 90\n",
    "        errors[trial] = rotation - rotation_est\n",
    "        #print(errors[trial])\n",
    "        #Adding alpha to see relative contributions of the fast and the slow systems\n",
    "        fast_est = Af*fast_est + Bf*errors[trial]\n",
    "        slow_est = As*slow_est + Bs*errors[trial]\n",
    "        rotation_est = alpha*fast_est + (1-alpha)*slow_est# + m*rts[trial+1]\n",
    "        #print (rotation_est)\n",
    "    errors[trial+1] = rotation - rotation_est\n",
    "    return errors\n"
   ]
  },
  {
   "cell_type": "code",
   "execution_count": null,
   "metadata": {},
   "outputs": [],
   "source": [
    "def residuals_sudden_rts(params, num_trials, data_errors, rts):\n",
    "    model_errors = dual_model_sudden_rts(num_trials, rts, params[0], params[1], params[2], params[3], params[4])#, params[5])\n",
    "    residual_error = np.sum(np.square(model_errors - data_errors))\n",
    "    if params[0] > params[2]:\n",
    "        residual_error = residual_error + 10000000\n",
    "    if params[1] < params[3]:\n",
    "        residual_error = residual_error + 10000000\n",
    "    if params[0] < 0 or params[1] < 0 or params[2] < 0 or params[3] < 0:# or params[4] < 0:\n",
    "        residual_error = residual_error + 10000000\n",
    "    if params[0] > 1 or params[1] > 1 or params[2] > 1 or params[3] > 1:# or params[4] < 0:\n",
    "        residual_error = residual_error + 10000000\n",
    "    if params[4] < 0 or params[4] > 1:\n",
    "        residual_error = residual_error+100000000\n",
    "    return residual_error\n",
    "\n",
    "def residuals_gradual_rts(params, num_trials, data_errors, rts):\n",
    "    model_errors = dual_model_gradual_rts(num_trials, rts, params[0], params[1], params[2], params[3], params[4])#, params[5])\n",
    "    residual_error = np.sum(np.square(model_errors - data_errors))\n",
    "    if params[0] > params[2]:\n",
    "        residual_error = residual_error + 10000000\n",
    "    if params[1] < params[3]:\n",
    "        residual_error = residual_error + 10000000\n",
    "    if params[0] < 0 or params[1] < 0 or params[2] < 0 or params[3] < 0:# or params[4] < 0:\n",
    "        residual_error = residual_error + 10000000\n",
    "    if params[0] > 1 or params[1] > 1 or params[2] > 1 or params[3] > 1:# or params[4] < 0:\n",
    "        residual_error = residual_error + 10000000\n",
    "\n",
    "    if params[4] < 0 or params[4] > 1:\n",
    "        residual_error = residual_error+100000000\n",
    "\n",
    "    return residual_error"
   ]
  },
  {
   "cell_type": "code",
   "execution_count": null,
   "metadata": {},
   "outputs": [],
   "source": [
    "#Divide the whole thing into 16 trial blocks and fit them\n",
    "def run_fits_dual_rts(curvatures, rts, num_trials, part_size):\n",
    "    num_fits = int(num_trials/part_size)\n",
    "    fit_As = np.zeros((60, num_fits))\n",
    "    fit_Bs = np.zeros((60, num_fits))\n",
    "    fit_Af = np.zeros((60, num_fits))\n",
    "    fit_Bf = np.zeros((60, num_fits))\n",
    "    fit_V = np.full((60, num_fits), np.inf)\n",
    "    #fit_m = np.zeros((60, num_fits))\n",
    "    fit_alpha = np.zeros((60, num_fits))\n",
    "    fit_success = np.zeros((60, num_fits))\n",
    "\n",
    "    for participant in range(60):\n",
    "        for fit_parts in range(num_fits):\n",
    "            #starting_points = np.array([[fit_A[participant][fit_parts], fit_B[participant][fit_parts], 0.9, 0.2], [fit_A[participant][fit_parts], fit_B[participant][fit_parts], 0.99, 0.1], [fit_A[participant][fit_parts], fit_B[participant][fit_parts], 0.8, 0.3], [fit_A[participant][fit_parts], fit_B[participant][fit_parts], 0.7, 0.4], [fit_A[participant][fit_parts], fit_B[participant][fit_parts], 0.6, 0.5], [fit_A[participant][fit_parts], fit_B[participant][fit_parts], 0.5, 0.6], [fit_A[participant][fit_parts], fit_B[participant][fit_parts], 0.4, 0.7], [fit_A[participant][fit_parts], fit_B[participant][fit_parts], 0.3, 0.8], [fit_A[participant][fit_parts], fit_B[participant][fit_parts], 0.2, 0.9], [fit_A[participant][fit_parts], fit_B[participant][fit_parts], 0.1, 0.99],\n",
    "            #                [0.9, 0.2, fit_A[participant][fit_parts], fit_B[participant][fit_parts]], [0.99, 0.1, fit_A[participant][fit_parts], fit_B[participant][fit_parts]], [0.8, 0.3, fit_A[participant][fit_parts], fit_B[participant][fit_parts]], [0.7, 0.4, fit_A[participant][fit_parts], fit_B[participant][fit_parts]], [0.6, 0.5, fit_A[participant][fit_parts], fit_B[participant][fit_parts]], [0.5, 0.6, fit_A[participant][fit_parts], fit_B[participant][fit_parts]], [0.4, 0.7, fit_A[participant][fit_parts], fit_B[participant][fit_parts]], [0.3, 0.8, fit_A[participant][fit_parts], fit_B[participant][fit_parts]], [0.2, 0.9, fit_A[participant][fit_parts], fit_B[participant][fit_parts]], [0.1, 0.99, fit_A[participant][fit_parts], fit_B[participant][fit_parts]]])\n",
    "            #starting_points = np.array([[0.9, 0.2, 0.99, 0.02], [0.8, 0.3, 0.9, 0.03], [0.7, 0.4, 0.8, 0.04], [0.6, 0.5, 0.7, 0.05]])\n",
    "            starting_points = np.array([[0.9, 0.2, 0.99, 0.02, 0.5]])\n",
    "            for initial_point in starting_points:\n",
    "                if participant%4 == 0 or participant%4 == 1:      \n",
    "                    #fits = scipy.optimize.minimize(residuals_sudden, x0 = [initial_point[0], initial_point[1], initial_point[2], initial_point[3]], args = (640, np.nan_to_num(np.ravel(curvatures[participant][1:-1]), nan = np.nanmedian(curvatures[participant][1:-1]))), method = 'Nelder-Mead')            \n",
    "                    fits = scipy.optimize.basinhopping(residuals_sudden_rts, x0 = [initial_point[0], initial_point[1], initial_point[2], initial_point[3], initial_point[4]], minimizer_kwargs={'args': (640, np.nan_to_num(np.ravel(curvatures[participant][1:-1]), nan = np.nanmedian(curvatures[participant][1:-1])), np.ravel(rts[participant][1:-1])), 'method': 'Nelder-Mead'})\n",
    "                    \n",
    "                    if fits.fun < fit_V[participant][fit_parts]:\n",
    "                        fit_Af[participant][fit_parts] = fits.x[0]\n",
    "                        fit_Bf[participant][fit_parts] = fits.x[1]\n",
    "                        fit_As[participant][fit_parts] = fits.x[2]\n",
    "                        fit_Bs[participant][fit_parts] = fits.x[3]\n",
    "                        #fit_m[participant][fit_parts] = fits.x[4]\n",
    "                        fit_alpha[participant][fit_parts] = fits.x[4]\n",
    "                        fit_V[participant][fit_parts] = fits.fun\n",
    "                        #fit_success[participant][fit_parts] = fits.success                \n",
    "                else:\n",
    "                    #fits = scipy.optimize.minimize(residuals_gradual, x0 = [initial_point[0], initial_point[1], initial_point[2], initial_point[3]], args = (640, np.nan_to_num(np.ravel(curvatures[participant][1:-1]), nan = np.nanmedian(curvatures[participant][1:-1]))), method = 'Nelder-Mead')         \n",
    "                    fits = scipy.optimize.basinhopping(residuals_gradual_rts, x0 = [initial_point[0], initial_point[1], initial_point[2], initial_point[3], initial_point[4]], minimizer_kwargs={'args': (640, np.nan_to_num(np.ravel(curvatures[participant][1:-1]), nan = np.nanmedian(curvatures[participant][1:-1])), np.ravel(rts[participant][1:-1])), 'method': 'Nelder-Mead'})\n",
    "                    if fits.fun < fit_V[participant][fit_parts]:\n",
    "                        fit_Af[participant][fit_parts] = fits.x[0]\n",
    "                        fit_Bf[participant][fit_parts] = fits.x[1]\n",
    "                        fit_As[participant][fit_parts] = fits.x[2]\n",
    "                        fit_Bs[participant][fit_parts] = fits.x[3]\n",
    "                        #fit_m[participant][fit_parts] = fits.x[4]\n",
    "                        fit_alpha[participant][fit_parts] = fits.x[4]\n",
    "                        fit_V[participant][fit_parts] = fits.fun\n",
    "                        #fit_success[participant][fit_parts] = fits.success\n",
    "\n",
    "        print (participant, fits.fun)\n",
    "    return fit_Af, fit_Bf, fit_As, fit_Bs, fit_alpha, fit_V, fit_success\n",
    "        "
   ]
  },
  {
   "cell_type": "code",
   "execution_count": null,
   "metadata": {},
   "outputs": [],
   "source": [
    "Af, Bf, As, Bs, alpha, fit_V_dual, fit_success_dual = run_fits_dual_rts(curvatures_smooth, its, 640, 640)"
   ]
  },
  {
   "cell_type": "code",
   "execution_count": null,
   "metadata": {},
   "outputs": [],
   "source": [
    "df_A = pd.DataFrame({\"Emphasis\": np.tile([\"Speed\", \"Accuracy\"], 30),\n",
    "                   \"Rotation\": np.tile([\"Sudden\", \"Sudden\", \"Gradual\", \"Gradual\"], 15),\n",
    "                   \"fit_A\": Af_rts[:, 0]})\n",
    "\n",
    "model_A = ols('fit_A ~ C(Emphasis)*C(Rotation)', data = df_A).fit()\n",
    "\n",
    "aov_table_A = sm.stats.anova_lm(model_A)\n",
    "\n",
    "\n",
    "df_B = pd.DataFrame({\"Emphasis\": np.tile([\"Speed\", \"Accuracy\"], 30),\n",
    "                   \"Rotation\": np.tile([\"Sudden\", \"Sudden\", \"Gradual\", \"Gradual\"], 15),\n",
    "                   \"fit_B\": Bf_rts[:, 0]})\n",
    "\n",
    "model_B = ols('fit_B ~ C(Emphasis)*C(Rotation)', data = df_B).fit()\n",
    "aov_table_B = sm.stats.anova_lm(model_B)\n"
   ]
  },
  {
   "cell_type": "code",
   "execution_count": null,
   "metadata": {},
   "outputs": [],
   "source": [
    "aov_table_B"
   ]
  },
  {
   "cell_type": "markdown",
   "metadata": {},
   "source": [
    "# Save Params"
   ]
  },
  {
   "cell_type": "code",
   "execution_count": 9,
   "metadata": {},
   "outputs": [],
   "source": [
    "import pickle\n"
   ]
  },
  {
   "cell_type": "code",
   "execution_count": null,
   "metadata": {},
   "outputs": [],
   "source": [
    "with open('fit_dual_additive_unbound_alphaed.pickle', 'wb') as f:\n",
    "    pickle.dump([fit_V_dual_rts, Af_rts, Bf_rts, As_rts, Bs_rts, m_rts, alpha_rts], f)\n",
    "f.close()"
   ]
  },
  {
   "cell_type": "markdown",
   "metadata": {},
   "source": [
    "# Load Params"
   ]
  },
  {
   "cell_type": "code",
   "execution_count": 18,
   "metadata": {},
   "outputs": [],
   "source": [
    "params = pickle.load(open('fit_dual_additive_bound.pickle', 'rb'))"
   ]
  },
  {
   "cell_type": "code",
   "execution_count": 27,
   "metadata": {},
   "outputs": [
    {
     "data": {
      "text/plain": [
       "(60, 1)"
      ]
     },
     "execution_count": 27,
     "metadata": {},
     "output_type": "execute_result"
    }
   ],
   "source": [
    "np.shape(params[1])"
   ]
  },
  {
   "cell_type": "code",
   "execution_count": 379,
   "metadata": {},
   "outputs": [],
   "source": [
    "def plot_data_vs_fits(Af, Bf, As, Bs):\n",
    "    plt.figure(figsize = (20, 10))\n",
    "    errors_predict = np.zeros((60, 704))\n",
    "    fast = np.zeros((60, 704))\n",
    "    slow = np.zeros((60, 704))\n",
    "    rotation_est = np.zeros((60, 704))\n",
    "    for participant in range(60):\n",
    "        if participant % 4 == 0 or participant%4 == 1:\n",
    "            errors_predict[participant][:640], rotation_est[participant][:640], fast[participant][:640], slow[participant][:640] = dual_model_sudden(640, Af[participant], Bf[participant], As[participant], Bs[participant])\n",
    "\n",
    "        else:    \n",
    "            errors_predict[participant][:640], rotation_est[participant][:640], fast[participant][:640], slow[participant][:640] = dual_model_gradual(640, Af[participant], Bf[participant], As[participant], Bs[participant])\n",
    "\n",
    "        errors_predict[participant][640:], rotation_est[participant][640:], fast[participant][640:], slow[participant][640:] = dual_model_transfer(64, Af[participant], Bf[participant], As[participant], Bs[participant], rotation_est[participant][639])\n",
    "        #rotation_est[participant][640:] = -rotation_est[participant][640:]\n",
    "    #print (rotation_est[participant-2][639], rotation_est[participant-2][640])\n",
    "    #print (rotation_est[1][640:])    \n",
    "    for participant in range(4):\n",
    "        if participant % 4 == 0 or participant%4 == 1:\n",
    "            plt.subplot(4, 1, participant + 1 )\n",
    "            #plt.plot(np.nanmean(errors_predict[participant::4], axis = 0))\n",
    "            #plt.plot(np.nanmean(rotation_est[participant::4], axis = 0))\n",
    "            #plt.plot(np.nanmean(fast[participant::4], axis = 0))\n",
    "            #plt.plot(np.nanmean(slow[participant::4], axis = 0))\n",
    "            plt.plot(np.append(np.ravel(np.nanmean(curvatures_smooth[participant::4], axis = 0)[:-1]), np.ravel(np.nanmean(curvatures_smooth[participant::4], axis = 0)[11])))\n",
    "        else:\n",
    "            plt.subplot(4, 1, participant + 1 )\n",
    "            #plt.plot(np.nanmean(errors_predict[participant::4], axis = 0))    \n",
    "            #plt.plot(np.nanmean(rotation_est[participant::4], axis = 0))\n",
    "            #plt.plot(np.nanmean(fast[participant::4], axis = 0))\n",
    "            #plt.plot(np.nanmean(slow[participant::4], axis = 0))\n",
    "            plt.plot(np.ravel(np.nanmean(curvatures_smooth[participant::4], axis = 0)[:]))\n",
    "        plt.ylim((-100, 150))\n"
   ]
  },
  {
   "cell_type": "code",
   "execution_count": 380,
   "metadata": {},
   "outputs": [
    {
     "data": {
      "text/plain": [
       "array([40.23583015, 37.92847018, 34.56502122, 31.68024595, 29.90288821,\n",
       "       29.08774572, 28.56687397, 27.77484008, 26.63694095, 25.51689751,\n",
       "       24.86215972, 24.83344412, 25.17809661, 25.43401219, 25.15013473,\n",
       "       24.55876947, 23.96487786, 23.7284669 , 23.89798112, 24.57186948,\n",
       "       24.75994767, 24.80580831, 24.8471142 , 26.55001979, 26.52548833,\n",
       "       25.97770119, 24.61406681, 22.41665178, 19.78902255, 17.39878147,\n",
       "       16.85666252, 16.60076639, 15.4740755 , 14.5098216 , 13.91926785,\n",
       "       13.70938563, 13.73046168, 13.94328282, 14.38301065, 14.92339027,\n",
       "       15.29030231, 16.34104577, 15.99967211, 15.54198076, 15.08793066,\n",
       "       14.58977724, 13.9530373 , 12.45518059, 12.0002167 , 11.84474234,\n",
       "       11.99367436, 12.31254712, 12.63467286, 12.85140406, 12.93239239,\n",
       "       12.09413022, 12.18488314, 12.44488386, 12.34466356, 12.07478062,\n",
       "       11.0781899 ,  9.57219442,  8.13810365,  7.29931475])"
      ]
     },
     "execution_count": 380,
     "metadata": {},
     "output_type": "execute_result"
    }
   ],
   "source": [
    "np.ravel(np.nanmean(curvatures_smooth[0::4], axis = 0)[11])"
   ]
  },
  {
   "cell_type": "code",
   "execution_count": 381,
   "metadata": {},
   "outputs": [
    {
     "data": {
      "image/png": "[encoded data removed]",
      "text/plain": [
       "<Figure size 1440x720 with 4 Axes>"
      ]
     },
     "metadata": {
      "needs_background": "light"
     },
     "output_type": "display_data"
    }
   ],
   "source": [
    "plot_data_vs_fits(params[1], params[2], params[3], params[4])"
   ]
  },
  {
   "cell_type": "markdown",
   "metadata": {},
   "source": [
    "# Direction-Wise analysis"
   ]
  },
  {
   "cell_type": "code",
   "execution_count": null,
   "metadata": {},
   "outputs": [],
   "source": [
    "def get_targets():\n",
    "    targets = np.zeros((60, 12, 64))\n",
    "    for data in range(1000, 1060):\n",
    "        for block in range(12):\n",
    "            target_load = scipy.io.loadmat('data/data{data}/squares/squares{block}.mat'.format(block=str(block), data=str(data)))\n",
    "            targets[data-1000][block][:]= target_load['squares'][0]\n",
    "    return targets"
   ]
  },
  {
   "cell_type": "code",
   "execution_count": null,
   "metadata": {},
   "outputs": [],
   "source": [
    "targets = get_targets()"
   ]
  },
  {
   "cell_type": "code",
   "execution_count": null,
   "metadata": {},
   "outputs": [],
   "source": [
    "def target_specific_measures(targets, measure):\n",
    "    target_measure = np.zeros((60, 12, 4, 16), dtype = measure.dtype)\n",
    "    for participant in range(60):\n",
    "        for block in range(12):\n",
    "            for target_loc in range(4):\n",
    "                target_measure[participant][block][target_loc] = measure[participant][block][np.where(targets[participant][block] == np.unique(targets[participant][block])[target_loc])]\n",
    "    return target_measure"
   ]
  },
  {
   "cell_type": "code",
   "execution_count": null,
   "metadata": {},
   "outputs": [],
   "source": [
    "target_curvatures = target_specific_measures(targets, curvatures)\n",
    "target_its = target_specific_measures(targets, its)\n",
    "target_mts = target_specific_measures(targets, mts)"
   ]
  },
  {
   "cell_type": "code",
   "execution_count": null,
   "metadata": {},
   "outputs": [],
   "source": []
  },
  {
   "cell_type": "code",
   "execution_count": null,
   "metadata": {},
   "outputs": [],
   "source": [
    "def difference_in_directions(condition, direction_considered, target_measure, title_text, y_label):\n",
    "    permutation = list()\n",
    "    permutation.append(direction_considered)\n",
    "        \n",
    "    for i in range(4):\n",
    "        if i == direction_considered:\n",
    "            continue\n",
    "        else:\n",
    "            permutation.append(i)\n",
    "    print (permutation)\n",
    "    idx = np.empty_like(permutation)\n",
    "    idx[permutation] = np.arange(len(permutation))\n",
    "\n",
    "    plot0, = plt.plot(np.ravel(np.nanmean(target_measure[condition::4, :, direction_considered, :], axis = 0)))\n",
    "    rearanged_measure = target_measure[:, :, idx, :]\n",
    "    plot1, = plt.plot(np.ravel(np.nanmean(np.mean(rearanged_measure[condition::4, :, 1:, :], axis = 0), axis = 1)))\n",
    "    plt.legend((plot0, plot1), ('Direction Considered', 'Mean of other directions'))\n",
    "    plt.title(title_text)\n",
    "    plt.xlabel('trials')\n",
    "    plt.ylabel(y_label)\n"
   ]
  },
  {
   "cell_type": "code",
   "execution_count": null,
   "metadata": {},
   "outputs": [],
   "source": [
    "plot0, = plt.plot(np.ravel(np.mean(target_curvatures[3::4, :, 0, :], axis = 0)))\n",
    "plot1, = plt.plot(np.ravel(np.mean(np.mean(target_curvatures[3::4, :, 1:, :], axis = 0), axis = 1)))\n",
    "plt.legend((plot0, plot1), ('45 Degrees from Abscissa', 'Mean of other directions'))"
   ]
  },
  {
   "cell_type": "code",
   "execution_count": null,
   "metadata": {},
   "outputs": [],
   "source": [
    "difference_in_directions(condition = 0, direction_considered=3, target_measure=target_curvatures, title_text='Direction Considered: 315', y_label='Angular Errors')"
   ]
  },
  {
   "cell_type": "code",
   "execution_count": null,
   "metadata": {},
   "outputs": [],
   "source": [
    "permutation = [1, 0, 2, 3]\n",
    "idx = np.empty_like(permutation)\n",
    "idx[permutation] = np.arange(len(permutation))\n"
   ]
  },
  {
   "cell_type": "code",
   "execution_count": null,
   "metadata": {},
   "outputs": [],
   "source": [
    "np.mean(target_mts[2::4, :, 0, :])"
   ]
  },
  {
   "cell_type": "code",
   "execution_count": null,
   "metadata": {},
   "outputs": [],
   "source": [
    "np.mean(target_mts[2::4, :, 2, :])"
   ]
  },
  {
   "cell_type": "markdown",
   "metadata": {},
   "source": [
    "# Calculating Speed"
   ]
  },
  {
   "cell_type": "code",
   "execution_count": null,
   "metadata": {},
   "outputs": [],
   "source": [
    "def get_dist():\n",
    "    distances = np.zeros((60, 12, 64))\n",
    "    within_distances = np.zeros((60, 12, 64), dtype = object)\n",
    "    for data in range(60):\n",
    "        for block in range(12):\n",
    "            traj = scipy.io.loadmat('data/data{data}/actual_trajectories/trajectories{block}.mat'.format(block=str(block), data=str(data+1000)))\n",
    "            for trial in range(64):\n",
    "                trajx, trajy = traj['x'][0][trial][0], traj['y'][0][trial][0]\n",
    "                trajx = trajx.astype('float64')\n",
    "                trajy = trajy.astype('float64')\n",
    "            \n",
    "                distance_covered = 0\n",
    "                within_distance_covered = list()\n",
    "                for i in range(len(trajx[:-1])):\n",
    "                    #print (trajx[i], trajy[i])\n",
    "                    distance_covered = distance_covered + np.sqrt((trajx[i+1] - trajx[i])**2 + (trajy[i+1] - trajy[i])**2)\n",
    "                    within_distance_covered.append(np.sqrt((trajx[i+1] - trajx[i])**2 + (trajy[i+1] - trajy[i])**2))\n",
    "                distances[data][block][trial] = distance_covered\n",
    "                within_distances[data][block][trial] = within_distance_covered\n",
    "    return distances, within_distances"
   ]
  },
  {
   "cell_type": "code",
   "execution_count": null,
   "metadata": {},
   "outputs": [],
   "source": [
    "distances, within_distances = get_dist()"
   ]
  },
  {
   "cell_type": "code",
   "execution_count": null,
   "metadata": {},
   "outputs": [],
   "source": [
    "dist_error = distances - np.sqrt(212**2 + 212**2)"
   ]
  },
  {
   "cell_type": "code",
   "execution_count": null,
   "metadata": {},
   "outputs": [],
   "source": [
    "target_distances = target_specific_measures(targets, distances)\n",
    "target_dist_error = target_specific_measures(targets, dist_error)\n"
   ]
  },
  {
   "cell_type": "code",
   "execution_count": null,
   "metadata": {},
   "outputs": [],
   "source": [
    "difference_in_directions(condition = 0, direction_considered=3, target_measure=target_dist_error, title_text='Direction Considered: 315', y_label='Distance Covered')"
   ]
  },
  {
   "cell_type": "code",
   "execution_count": null,
   "metadata": {},
   "outputs": [],
   "source": [
    "speed = distances/mts"
   ]
  },
  {
   "cell_type": "code",
   "execution_count": null,
   "metadata": {},
   "outputs": [],
   "source": [
    "target_speed = target_specific_measures(targets, speed)"
   ]
  },
  {
   "cell_type": "code",
   "execution_count": null,
   "metadata": {},
   "outputs": [],
   "source": [
    "difference_in_directions(condition = 0, direction_considered=0, target_measure=target_curvatures, title_text='Direction Considered: 45', y_label='Angular Error')"
   ]
  },
  {
   "cell_type": "code",
   "execution_count": null,
   "metadata": {},
   "outputs": [],
   "source": [
    "data = 1004\n",
    "block = 2\n",
    "trial = 2\n",
    "speeds_list = list()\n",
    "\n",
    "speeds = np.zeros((60, 12, 64), dtype = object)\n",
    "accelerations = np.zeros((60, 12, 64), dtype = object)\n",
    "for data in range(1000, 1060):\n",
    "    for block in range(12):\n",
    "        #traj = scipy.io.loadmat('data/data{data}/actual_trajectories/trajectories{block}.mat'.format(block=str(block), data=str(data)))\n",
    "        for trial in range(64):    \n",
    "            #x_grad = np.gradient(traj['x'][0][trial][0])\n",
    "            #y_grad = np.gradient(traj['y'][0][trial][0])\n",
    "            #x_grad = x_grad.astype('float64')\n",
    "            #y_grad = y_grad.astype('float64')\n",
    "            #x_grad_grad = np.gradient(x_grad)\n",
    "            #y_grad_grad = np.gradient(y_grad)\n",
    "            try:\n",
    "                speed = np.abs(np.gradient(np.cumsum(within_distances[data-1000][block][trial])))\n",
    "                acceleration = np.gradient(speed)\n",
    "            except:\n",
    "                speed = 0\n",
    "                acceleration = 0\n",
    "            #speed = np.sqrt(x_grad**2 + y_grad**2)\n",
    "            #acceleration = np.sqrt(x_grad_grad**2 + y_grad_grad**2)\n",
    "            speeds[data-1000][block][trial] = speed\n",
    "            accelerations[data - 1000][block][trial] = acceleration"
   ]
  },
  {
   "cell_type": "code",
   "execution_count": null,
   "metadata": {},
   "outputs": [],
   "source": []
  },
  {
   "cell_type": "code",
   "execution_count": null,
   "metadata": {},
   "outputs": [],
   "source": [
    "target_specific_speeds = target_specific_measures(targets, speeds)\n",
    "target_specific_accelerations = target_specific_measures(targets, accelerations)"
   ]
  },
  {
   "cell_type": "code",
   "execution_count": null,
   "metadata": {},
   "outputs": [],
   "source": [
    "speed_chunked_means = np.zeros((60, 12, 4, 16, 5))\n",
    "speed_chunked_medians = np.zeros((60, 12, 4, 16, 5))\n",
    "\n",
    "for participant in range(60):\n",
    "    for block in range(12):\n",
    "        for direction in range(4):\n",
    "            for trial in range(16):\n",
    "                chunk_size = int(np.floor(len(target_specific_speeds[participant][block][direction][trial])/5))\n",
    "                for chunks in range(5):\n",
    "                    speed_chunked_means[participant][block][direction][trial][chunks] = np.nanmean(target_specific_speeds[participant][block][direction][trial][chunk_size*chunks:chunk_size*(chunks+1)])\n",
    "                    speed_chunked_medians[participant][block][direction][trial][chunks] = np.nanmedian(target_specific_speeds[participant][block][direction][trial][chunk_size*chunks:chunk_size*(chunks+1)])\n",
    "                                        "
   ]
  },
  {
   "cell_type": "code",
   "execution_count": null,
   "metadata": {},
   "outputs": [],
   "source": [
    "plt.plot(np.nanmedian(speed_chunked_means[5], axis = 2)[0][3])"
   ]
  },
  {
   "cell_type": "code",
   "execution_count": null,
   "metadata": {},
   "outputs": [],
   "source": [
    "data = 3\n",
    "trial = 30\n",
    "\n",
    "block = 11\n",
    "#plt.plot(np.cumsum(within_distances[data][block][trial]))\n",
    "plt.plot(speeds[data][block][trial])\n",
    "plt.plot(accelerations[data][block][trial])\n"
   ]
  },
  {
   "cell_type": "code",
   "execution_count": null,
   "metadata": {},
   "outputs": [],
   "source": [
    "#np.shape(within_distances[2][block][trial])\n",
    "#np.shape(speeds[2][block][trial])\n",
    "np.shape(accelerations[2][block][trial])\n"
   ]
  },
  {
   "cell_type": "markdown",
   "metadata": {},
   "source": [
    "# IT vs MTs"
   ]
  },
  {
   "cell_type": "code",
   "execution_count": null,
   "metadata": {},
   "outputs": [],
   "source": [
    "with plt.xkcd():\n",
    "    plt.scatter(np.mean(np.mean(its, axis = 1), axis = 1), np.mean(np.mean(curvatures, axis = 1), axis = 1))\n",
    "    plt.xlabel(\"Initial times\")\n",
    "    plt.ylabel(\"Curvature errors\")\n",
    "    plt.title(\"Subject Variability\")"
   ]
  },
  {
   "cell_type": "code",
   "execution_count": null,
   "metadata": {},
   "outputs": [],
   "source": [
    "block_start = 1\n",
    "block_end = 11\n",
    "with plt.xkcd():\n",
    "    fig, axs = plt.subplots(2, 2, sharex = 'all', sharey = 'all')\n",
    "\n",
    "    axs[0, 0].scatter(its[0::4, block_start:block_end], 90 - curvatures[0::4, block_start:block_end])\n",
    "    axs[0, 1].scatter(its[1::4, block_start:block_end], 90 - curvatures[1::4, block_start:block_end])\n",
    "    axs[1, 0].scatter(its[2::4, block_start:block_end], 90 - curvatures[2::4, block_start:block_end])\n",
    "    axs[1, 1].scatter(its[3::4, block_start:block_end], 90 - curvatures[3::4, block_start:block_end])\n",
    "    fig.suptitle(\"Trial Variability\")\n",
    "    fig.text(0.5, 0.001, 'Initial Time', ha='center')\n",
    "    fig.text(0.001, 0.35, 'Rotation Estimate', ha='center', rotation = 'vertical')\n",
    "    fig.text(0.3, 0.9, 'Speed', ha = 'center')\n",
    "    fig.text(0.75, 0.9, 'Accuracy', ha = 'center')\n",
    "    fig.text(0.92, 0.65, 'Sudden', ha = 'center', rotation = 270)\n",
    "    fig.text(0.92, 0.23, 'Gradual', ha = 'center', rotation = 270)\n"
   ]
  },
  {
   "cell_type": "code",
   "execution_count": null,
   "metadata": {},
   "outputs": [],
   "source": [
    "np.shape(np.median(its[0::4, block_start:block_end], axis = 0))"
   ]
  }
 ],
 "metadata": {
  "kernelspec": {
   "display_name": "Python 3",
   "language": "python",
   "name": "python3"
  },
  "language_info": {
   "codemirror_mode": {
    "name": "ipython",
    "version": 3
   },
   "file_extension": ".py",
   "mimetype": "text/x-python",
   "name": "python",
   "nbconvert_exporter": "python",
   "pygments_lexer": "ipython3",
   "version": "3.7.0"
  }
 },
 "nbformat": 4,
 "nbformat_minor": 4
}
