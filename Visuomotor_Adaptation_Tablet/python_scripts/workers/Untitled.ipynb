{
 "cells": [
  {
   "cell_type": "code",
   "execution_count": 1,
   "metadata": {},
   "outputs": [],
   "source": [
    "import numpy as np"
   ]
  },
  {
   "cell_type": "code",
   "execution_count": 2,
   "metadata": {},
   "outputs": [],
   "source": [
    "def calc_angle(current_point, next_point, final_point):\n",
    "    #vec1 = next_point - current_point\n",
    "    vec1 = np.subtract(next_point, current_point)\n",
    "#    vec2 = final_point - current_point\n",
    "    vec2 = np.subtract(final_point, current_point)\n",
    "    vec1 = vec1.astype('float64')\n",
    "    vec2 = vec2.astype('float64')\n",
    "    cos_theta = np.dot(vec1, vec2)/(np.linalg.norm(vec1) * np.linalg.norm(vec2))\n",
    "    theta = np.degrees(np.arccos(cos_theta))\n",
    "    return theta\n",
    "\n",
    "def calc_curvature(data, block, trial, percentage_trajectory):\n",
    "    traj = scipy.io.loadmat('data/data{data}/actual_trajectories/trajectories{block}.mat'.format(block=str(block), data=str(data)))\n",
    "    trajx, trajy = traj['x'][0][trial][0], traj['y'][0][trial][0]\n",
    "    targetx, targety = trajx[-1], trajy[-1]\n",
    "    partial_trajx, partial_trajy = get_partial_traj(data, block, trial, percentage_trajectory)\n",
    "    #print (trajx)\n",
    "    #print (trajy)\n",
    "    angles = list([0])\n",
    "    for i in range(len(partial_trajx[:-1])):\n",
    "        #print (trajx[i], trajy[i])\n",
    "        angles.append(calc_angle(np.array([partial_trajx[i], partial_trajy[i]]), np.array([partial_trajx[i+1], partial_trajy[i+1]]), np.array([trajx[-1], trajy[-1]])))\n",
    "    return np.nanmedian(angles)\n",
    "\n",
    "def get_traj(data, block, trial):\n",
    "    traj = scipy.io.loadmat('data/data{data}/actual_trajectories/trajectories{block}.mat'.format(block=str(block), data=str(data)))\n",
    "    x_traj = traj['x'][0][trial][0]\n",
    "    y_traj = traj['y'][0][trial][0]\n",
    "    return x_traj, y_traj\n",
    "\n",
    "def get_partial_traj(data, block, trial, percentage_trajectory):\n",
    "    traj = get_traj(data, block, trial)\n",
    "    dist_cutoff = percentage_trajectory*np.sqrt(traj[0][-1]**2 + traj[0][-1]**2, dtype = float)\n",
    "    for i in range(len(traj[0])):\n",
    "        dist_from_start = np.sqrt(traj[0][i]**2 + traj[1][i]**2, dtype = float)\n",
    "        if dist_from_start > dist_cutoff:\n",
    "            break\n",
    "    partial_trajx = traj[0]#[:i]\n",
    "    partial_trajy = traj[1]#[:i]\n",
    "        \n",
    "            \n",
    "    return partial_trajx, partial_trajy\n",
    "\n",
    "def calc_curvature_wrapper(params):\n",
    "    return calc_curvature(params[0], params[1], params[2], params[3])\n"
   ]
  },
  {
   "cell_type": "code",
   "execution_count": null,
   "metadata": {},
   "outputs": [],
   "source": []
  }
 ],
 "metadata": {
  "kernelspec": {
   "display_name": "Python 3",
   "language": "python",
   "name": "python3"
  },
  "language_info": {
   "codemirror_mode": {
    "name": "ipython",
    "version": 3
   },
   "file_extension": ".py",
   "mimetype": "text/x-python",
   "name": "python",
   "nbconvert_exporter": "python",
   "pygments_lexer": "ipython3",
   "version": "3.7.0"
  }
 },
 "nbformat": 4,
 "nbformat_minor": 4
}
