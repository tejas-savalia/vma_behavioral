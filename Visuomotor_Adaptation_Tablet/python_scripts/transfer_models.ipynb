{
 "cells": [
  {
   "cell_type": "code",
   "execution_count": 1,
   "metadata": {},
   "outputs": [],
   "source": [
    "import scipy.io\n",
    "import numpy as np\n",
    "import matplotlib.pyplot as plt\n",
    "import ipywidgets as widgets\n",
    "import scipy.stats as stat\n",
    "from scipy import stats\n",
    "import pickle\n",
    "from sklearn.metrics import *\n",
    "import pandas as pd\n",
    "import seaborn as sns\n",
    "sns.set_theme()\n",
    "import statsmodels\n",
    "from all_models import *"
   ]
  },
  {
   "cell_type": "code",
   "execution_count": 2,
   "metadata": {},
   "outputs": [],
   "source": [
    "curvatures_smooth = pickle.load(open('curvatures_smooth.pickle', 'rb'))/90\n",
    "fits_single = pickle.load(open('fit_single_CV_640.pickle', 'rb'))\n",
    "fits_dual = pickle.load(open('fit_dual_CV_640.pickle', 'rb'))\n",
    "fast_est = pickle.load(open('fast_est.pickle', 'rb'))\n",
    "slow_est = pickle.load(open('slow_est.pickle', 'rb'))\n",
    "training_indices = pickle.load(open('train_indices_704.pickle', 'rb'))"
   ]
  },
  {
   "cell_type": "code",
   "execution_count": 3,
   "metadata": {},
   "outputs": [],
   "source": [
    "def single_transfer(num_trials, A, B, prev_est):\n",
    "    error = np.zeros(num_trials)\n",
    "    rotation_est = np.zeros(num_trials)\n",
    "    rotation_est[0] = prev_est\n",
    "    for trial in range(num_trials-1):\n",
    "        error[trial] = rotation_est[trial]\n",
    "        rotation_est[trial+1] = A*rotation_est[trial] - B*error[trial]\n",
    "    error[trial+1] = rotation_est[trial+1]\n",
    "    return error"
   ]
  },
  {
   "cell_type": "code",
   "execution_count": 4,
   "metadata": {},
   "outputs": [],
   "source": [
    "#prev_est is a list [fast_est, slow_est]\n",
    "def dual_transfer(num_trials, Af, Bf, As, Bs, prev_est):\n",
    "    error = np.zeros(num_trials)\n",
    "    rotation_est = np.zeros(num_trials)\n",
    "    fast_est = prev_est[0]\n",
    "    slow_est = prev_est[1]\n",
    "    rotation_est[0] = fast_est+slow_est\n",
    "    for trial in range(num_trials-1):\n",
    "        error[trial] = rotation_est[trial]\n",
    "        fast_est = Af*fast_est - Bf*error[trial]\n",
    "        slow_est = As*slow_est - Bs*error[trial]\n",
    "        rotation_est[trial+1] = fast_est + slow_est\n",
    "    error[trial+1] = rotation_est[trial+1]\n",
    "    return error"
   ]
  },
  {
   "cell_type": "code",
   "execution_count": 5,
   "metadata": {},
   "outputs": [],
   "source": [
    "def single_transfer_residuals(params, num_trials, data_errors, prev_est, train_indices):\n",
    "    A = params[0]\n",
    "    B = params[1]\n",
    "    epsilon = params[2]\n",
    "    model_errors = single_transfer(num_trials, A, B, prev_est)\n",
    "    model_errors_train = model_errors[np.sort(train_indices)]\n",
    "    data_errors_train = data_errors[np.sort(train_indices)]\n",
    "    residuals = -2*np.sum(stats.norm.logpdf(data_errors_train, model_errors_train, epsilon))\n",
    "    if A < 0 or B < 0 or A > 1 or B > 1:\n",
    "        residuals = residuals + 100000000\n",
    "    return residuals"
   ]
  },
  {
   "cell_type": "code",
   "execution_count": 6,
   "metadata": {},
   "outputs": [],
   "source": [
    "def dual_transfer_residuals(params, num_trials, data_errors, prev_est, train_indices):\n",
    "    Af = params[0]\n",
    "    Bf = params[1]\n",
    "    As = params[2]\n",
    "    Bs = params[3]\n",
    "    epsilon = params[4]\n",
    "    model_errors = dual_transfer(num_trials, Af, Bf, As, Bs, prev_est)\n",
    "    model_errors_train = model_errors[np.sort(train_indices)]\n",
    "    data_errors_train = data_errors[np.sort(train_indices)]\n",
    "    residuals = -2*np.sum(stats.norm.logpdf(data_errors_train, model_errors_train, epsilon))\n",
    "    if Af < 0 or Bf < 0 or Af > 1 or Bf > 1 or As < 0 or Bs < 0 or As > 1 or Bs > 1:\n",
    "        residuals = residuals + 100000000\n",
    "    if Bf < Bs or Af > As:\n",
    "        residuals = residuals + 100000000\n",
    "\n",
    "    return residuals"
   ]
  },
  {
   "cell_type": "code",
   "execution_count": 7,
   "metadata": {},
   "outputs": [],
   "source": [
    "def fit_single_transfer(participant, curvatures, training_indices):\n",
    "    ti = training_indices[participant][training_indices[participant] > 640] - 640\n",
    "    fits = scipy.optimize.basinhopping(single_transfer_residuals, x0 = [0.8, 0.1, 0.1], \n",
    "                                       minimizer_kwargs={'args': (64, \n",
    "                                                             curvatures[participant][-1], \n",
    "                                                             1 - np.nanmean(curvatures[participant][10][-16:]), \n",
    "                                                             ti),\n",
    "                                                         'method': 'Nelder-Mead'})\n",
    "    A = fits.x[0]\n",
    "    B = fits.x[1]\n",
    "    epsilon = fits.x[2]\n",
    "    V = fits.fun\n",
    "    print (participant, V)\n",
    "    return A, B, V, epsilon\n",
    "\n",
    "def fit_dual_transfer(participant, curvatures, training_indices, fast_est, slow_est):\n",
    "    ti = training_indices[participant][training_indices[participant] > 640] - 640\n",
    "    fits = scipy.optimize.basinhopping(dual_transfer_residuals, x0 = [0.8, 0.2, 0.9, 0.1, 0.1], \n",
    "                                  minimizer_kwargs={'args': (64, \n",
    "                                                             curvatures_smooth[participant][-1], \n",
    "                                                             [fast_est[participant], slow_est[participant]], \n",
    "                                                             ti),\n",
    "                                                   'method': 'Nelder-Mead'} )    \n",
    "    Af = fits.x[0]\n",
    "    Bf = fits.x[1]\n",
    "    As = fits.x[2]\n",
    "    Bs = fits.x[3]\n",
    "    epsilon = fits.x[4]\n",
    "    V = fits.fun\n",
    "    print (participant, V)\n",
    "    return Af, Bf, As, Bs, V, epsilon\n"
   ]
  },
  {
   "cell_type": "code",
   "execution_count": 15,
   "metadata": {},
   "outputs": [],
   "source": [
    "def run_fits_single_transfer(curvatures, num_fit_trials, num_fits):\n",
    "    train_indices = pickle.load(open('train_indices_704.pickle', 'rb'))\n",
    "    print(train_indices[0].shape)\n",
    "    pool = Pool()\n",
    "    res = np.zeros(num_fits, dtype = object)\n",
    "    for i in range(num_fits):\n",
    "        c_obj = np.zeros(60, dtype = object)\n",
    "        for participant in range(60):\n",
    "            c_obj[participant] = curvatures\n",
    "        participant_args = [x for x in zip(range(60), c_obj[range(60)], train_indices[i])]\n",
    "        res[i] = np.reshape(np.array(pool.starmap(single_test_fit, participant_args)), (60, 5))\n",
    "        print (\"Mean Res in Single Transfer: \", i, np.mean(res[i][:, -3]))\n",
    "    return res   \n",
    "\n",
    "def run_fits_dual_transfer(curvatures, num_fit_trials, num_fits):\n",
    "    train_indices = pickle.load(open('train_indices_704.pickle', 'rb'))\n",
    "    fast_est = pickle.load(open('fast_est.pickle', 'rb'))\n",
    "    slow_est = pickle.load(open('slow_est.pickle', 'rb'))\n",
    "    pool = Pool()\n",
    "    res = np.zeros(num_fits, dtype = object)\n",
    "    for i in range(num_fits):\n",
    "        c_obj = np.zeros(60, dtype = object)\n",
    "        for participant in range(60):\n",
    "            c_obj[participant] = curvatures\n",
    "        participant_args = [x for x in zip(range(60), c_obj[range(60)],  train_indices[i], fast_est[i], slow_est[i])]\n",
    "        res[i] = np.reshape(np.array(pool.starmap(dual_transfer_test_fit, participant_args)), (60, 7))\n",
    "        print (\"Mean Res in dual transfer: \", i, np.mean(res[i][:, -3]))\n",
    "\n",
    "    return res   \n"
   ]
  },
  {
   "cell_type": "code",
   "execution_count": 8,
   "metadata": {},
   "outputs": [
    {
     "name": "stdout",
     "output_type": "stream",
     "text": [
      "12 26.208003418794497\n"
     ]
    },
    {
     "data": {
      "text/plain": [
       "(0.9999998883799561,\n",
       " 2.9283298269733216e-05,\n",
       " 26.208003418794497,\n",
       " 0.3059405361813202)"
      ]
     },
     "execution_count": 8,
     "metadata": {},
     "output_type": "execute_result"
    }
   ],
   "source": [
    "fit_single_transfer(12, curvatures_smooth, training_indices[0])"
   ]
  },
  {
   "cell_type": "code",
   "execution_count": 9,
   "metadata": {},
   "outputs": [],
   "source": [
    "fits_single_transfer = pickle.load(open('fit_single_CV_transfer.pickle', 'rb'))\n",
    "fits_dual_transfer = pickle.load(open('fit_dual_CV_transfer.pickle', 'rb'))\n"
   ]
  },
  {
   "cell_type": "code",
   "execution_count": 12,
   "metadata": {},
   "outputs": [
    {
     "data": {
      "text/plain": [
       "array([0.9998494873844044, 0.004126354036441387, -79.86502797754929,\n",
       "       0.12154041347825872,\n",
       "       array([31, 19, 47, 60, 30, 58, 54, 59, 63, 26, 13, 10, 46, 56, 53, 55, 34,\n",
       "       16, 45, 17, 40, 18, 52, 15,  5, 51,  2, 62,  8, 29, 35, 21, 49, 50,\n",
       "       38,  3, 48, 57, 37, 44, 39, 42, 36, 20,  4, 32, 23,  6, 14, 25,  1,\n",
       "       41, 22, 24, 33, 61, 43, 27])], dtype=object)"
      ]
     },
     "execution_count": 12,
     "metadata": {},
     "output_type": "execute_result"
    }
   ],
   "source": [
    "fits_single_transfer[0][10][0],fits_single_transfer[0][10][0],fits_single_transfer[0][10][0],fits_single_transfer[0][10][0] "
   ]
  },
  {
   "cell_type": "code",
   "execution_count": null,
   "metadata": {},
   "outputs": [],
   "source": []
  },
  {
   "cell_type": "code",
   "execution_count": null,
   "metadata": {},
   "outputs": [],
   "source": []
  },
  {
   "cell_type": "code",
   "execution_count": null,
   "metadata": {},
   "outputs": [],
   "source": []
  },
  {
   "cell_type": "code",
   "execution_count": null,
   "metadata": {},
   "outputs": [],
   "source": []
  },
  {
   "cell_type": "code",
   "execution_count": null,
   "metadata": {},
   "outputs": [],
   "source": []
  }
 ],
 "metadata": {
  "kernelspec": {
   "display_name": "Python 3",
   "language": "python",
   "name": "python3"
  },
  "language_info": {
   "codemirror_mode": {
    "name": "ipython",
    "version": 3
   },
   "file_extension": ".py",
   "mimetype": "text/x-python",
   "name": "python",
   "nbconvert_exporter": "python",
   "pygments_lexer": "ipython3",
   "version": "3.8.5"
  }
 },
 "nbformat": 4,
 "nbformat_minor": 4
}
