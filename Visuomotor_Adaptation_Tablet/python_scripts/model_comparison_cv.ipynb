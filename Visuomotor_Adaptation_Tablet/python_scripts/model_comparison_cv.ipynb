{
 "cells": [
  {
   "cell_type": "code",
   "execution_count": 1,
   "metadata": {},
   "outputs": [],
   "source": [
    "import scipy.io\n",
    "import numpy as np\n",
    "import matplotlib.pyplot as plt\n",
    "from ipywidgets import interact, interactive, fixed, interact_manual\n",
    "import ipywidgets as widgets\n",
    "import scipy.stats as stat\n",
    "from sklearn.linear_model import LinearRegression\n",
    "import statsmodels.api as sm\n",
    "import statsmodels.formula.api as smf\n",
    "from scipy import stats\n",
    "import pickle\n",
    "from sklearn.metrics import *\n",
    "import pandas as pd\n",
    "import seaborn as sns\n",
    "import statsmodels\n",
    "from all_models import *"
   ]
  },
  {
   "cell_type": "code",
   "execution_count": 2,
   "metadata": {},
   "outputs": [],
   "source": [
    "curvatures_smooth = pickle.load(open('curvatures_smooth.pickle', 'rb'))/90.0"
   ]
  },
  {
   "cell_type": "code",
   "execution_count": 3,
   "metadata": {},
   "outputs": [],
   "source": [
    "fits_single = pickle.load(open('fit_single_CV_640_bestfit_starting_point.pickle', 'rb'))\n",
    "fits_dual = pickle.load(open('fit_dual_CV_640_bestfit_starting_point.pickle', 'rb'))"
   ]
  },
  {
   "cell_type": "code",
   "execution_count": 176,
   "metadata": {},
   "outputs": [],
   "source": [
    "single_win = np.zeros((100, 60))\n",
    "for i in range(100):\n",
    "    for participant in range(60):\n",
    "        single_win[i][participant] =  np.around(fits_single[i][participant, -3], 0) < np.around(fits_dual[i][participant, -3], 0)"
   ]
  },
  {
   "cell_type": "code",
   "execution_count": 178,
   "metadata": {},
   "outputs": [
    {
     "data": {
      "text/plain": [
       "(array([18, 22, 26, 29, 44, 45, 48, 50, 51, 54, 58], dtype=int64),)"
      ]
     },
     "execution_count": 178,
     "metadata": {},
     "output_type": "execute_result"
    }
   ],
   "source": [
    "np.where(np.sum(single_win, axis = 0) > 59)"
   ]
  },
  {
   "cell_type": "code",
   "execution_count": 198,
   "metadata": {},
   "outputs": [],
   "source": [
    "l = list()\n",
    "for j in range (100):\n",
    "    for i in np.where(np.sum(single_win, axis = 0) > 59)[0]:\n",
    "        l.append((fits_single[j][i][-3] - fits_dual[j][i][-3]) / fits_single[j][i][-3])"
   ]
  },
  {
   "cell_type": "code",
   "execution_count": 200,
   "metadata": {},
   "outputs": [
    {
     "data": {
      "text/plain": [
       "0.022925786146839426"
      ]
     },
     "execution_count": 200,
     "metadata": {},
     "output_type": "execute_result"
    }
   ],
   "source": [
    "max(l)"
   ]
  },
  {
   "cell_type": "markdown",
   "metadata": {},
   "source": [
    "# Generating Train-Test splits"
   ]
  },
  {
   "cell_type": "code",
   "execution_count": 72,
   "metadata": {},
   "outputs": [],
   "source": [
    "model_errors_single = np.zeros((100, 60, 640))\n",
    "model_errors_dual = np.zeros((100, 60, 640))\n",
    "\n",
    "for i in range(100):\n",
    "    for participant in range(60):\n",
    "        if participant%4 == 0  or participant%4 == 1:\n",
    "            model_errors_single[i][participant] = model_sudden(640, A=fits_single[i][participant][0], B = fits_single[i][participant][1])[0]\n",
    "            model_errors_dual[i][participant] = dual_model_sudden(640, fits_dual[i][participant][0], fits_dual[i][participant][1], fits_dual[i][participant][2], fits_dual[i][participant][3])[0]\n",
    "            \n",
    "        else:\n",
    "            model_errors_single[i][participant] = model_gradual(640, A=fits_single[i][participant][0], B = fits_single[i][participant][1])[0]\n",
    "            model_errors_dual[i][participant] = dual_model_gradual(640, fits_dual[i][participant][0], fits_dual[i][participant][1], fits_dual[i][participant][2], fits_dual[i][participant][3])[0]\n"
   ]
  },
  {
   "cell_type": "code",
   "execution_count": 98,
   "metadata": {},
   "outputs": [],
   "source": [
    "single_train_neg2ll = np.zeros((100, 60))\n",
    "single_test_neg2ll = np.zeros((100, 60))\n",
    "dual_train_neg2ll = np.zeros((100, 60))\n",
    "dual_test_neg2ll = np.zeros((100, 60))\n",
    "\n",
    "for i in range(100):\n",
    "    for participant in range(60):\n",
    "        total_neg2ll = -2*stat.norm.logpdf(np.ravel(curvatures_smooth[participant][1:-1]), model_errors_single[i][participant], fits_single[i][participant][-2])\n",
    "        single_train_neg2ll[i][participant] = sum(np.take(total_neg2ll, fits_single[i][participant][-1][fits_single[i][participant][-1] < 640]))\n",
    "        single_test_neg2ll[i][participant] = sum(total_neg2ll) - single_train_neg2ll[i][participant]\n",
    "\n",
    "        total_neg2ll = -2*stat.norm.logpdf(np.ravel(curvatures_smooth[participant][1:-1]), model_errors_dual[i][participant], fits_dual[i][participant][-2])\n",
    "        dual_train_neg2ll[i][participant] = sum(np.take(total_neg2ll, fits_dual[i][participant][-1][fits_dual[i][participant][-1] < 640]))\n",
    "        dual_test_neg2ll[i][participant] = sum(total_neg2ll) - dual_train_neg2ll[i][participant]\n",
    "        "
   ]
  },
  {
   "cell_type": "code",
   "execution_count": 232,
   "metadata": {},
   "outputs": [
    {
     "data": {
      "text/plain": [
       "3"
      ]
     },
     "execution_count": 232,
     "metadata": {},
     "output_type": "execute_result"
    }
   ],
   "source": [
    "group = 2\n",
    "sum(sum(dual_test_neg2ll[:, group::4] < single_test_neg2ll[:, group::4]) > 59)"
   ]
  },
  {
   "cell_type": "code",
   "execution_count": 220,
   "metadata": {},
   "outputs": [
    {
     "data": {
      "text/plain": [
       "11"
      ]
     },
     "execution_count": 220,
     "metadata": {},
     "output_type": "execute_result"
    }
   ],
   "source": [
    "group = 3\n",
    "sum(sum(dual_train_neg2ll[:, group::4] < single_train_neg2ll[:, group::4]) > 59)"
   ]
  },
  {
   "cell_type": "code",
   "execution_count": 238,
   "metadata": {},
   "outputs": [
    {
     "data": {
      "text/plain": [
       "(array([ 1,  3,  4,  5,  7,  8,  9, 12, 13, 15, 16, 17, 20, 21, 23, 25, 28,\n",
       "        31, 32, 33, 35, 37, 38, 39, 41, 42, 43, 46, 47, 49, 52, 53, 56, 57,\n",
       "        59], dtype=int64),)"
      ]
     },
     "execution_count": 238,
     "metadata": {},
     "output_type": "execute_result"
    }
   ],
   "source": [
    "np.where(np.sum(dual_test_neg2ll < single_test_neg2ll, axis = 0) > 59)[0]"
   ]
  },
  {
   "cell_type": "code",
   "execution_count": 263,
   "metadata": {},
   "outputs": [],
   "source": [
    "for i in np.where(np.sum(dual_test_neg2ll < single_test_neg2ll, axis = 0) < 59)[0]:\n",
    "    for j in range(100):\n",
    "        l.append((single_test_neg2ll[j][i] - dual_test_neg2ll[j][i]))"
   ]
  },
  {
   "cell_type": "code",
   "execution_count": 264,
   "metadata": {},
   "outputs": [
    {
     "data": {
      "text/plain": [
       "(array([5.200e+01, 1.110e+03, 3.324e+03, 1.740e+02, 1.080e+02, 2.400e+01,\n",
       "        4.000e+00, 2.000e+00, 0.000e+00, 2.000e+00]),\n",
       " array([-1.00132642, -0.54874609, -0.09616575,  0.35641458,  0.80899492,\n",
       "         1.26157525,  1.71415558,  2.16673592,  2.61931625,  3.07189658,\n",
       "         3.52447692]),\n",
       " <BarContainer object of 10 artists>)"
      ]
     },
     "execution_count": 264,
     "metadata": {},
     "output_type": "execute_result"
    },
    {
     "data": {
      "image/png": "[encoded data removed]",
      "text/plain": [
       "<Figure size 432x288 with 1 Axes>"
      ]
     },
     "metadata": {
      "needs_background": "light"
     },
     "output_type": "display_data"
    }
   ],
   "source": [
    "plt.hist(l)"
   ]
  }
 ],
 "metadata": {
  "kernelspec": {
   "display_name": "Python 3",
   "language": "python",
   "name": "python3"
  },
  "language_info": {
   "codemirror_mode": {
    "name": "ipython",
    "version": 3
   },
   "file_extension": ".py",
   "mimetype": "text/x-python",
   "name": "python",
   "nbconvert_exporter": "python",
   "pygments_lexer": "ipython3",
   "version": "3.8.5"
  }
 },
 "nbformat": 4,
 "nbformat_minor": 4
}
